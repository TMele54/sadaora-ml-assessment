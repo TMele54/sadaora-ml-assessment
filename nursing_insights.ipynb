{
 "cells": [
  {
   "cell_type": "code",
   "id": "initial_id",
   "metadata": {
    "collapsed": true
   },
   "source": [
    "# This notebook will leverage nursing data from CMS to draw on several insights\n",
    "\n",
    "# Data Methodology\n",
    "# https://data.cms.gov/resources/payroll-based-journal-methodology-0\n",
    "\n",
    "# Data Dictionaries / Glossaries / indexes\n",
    "# https://data.cms.gov/resources/payroll-based-journal-daily-non-nurse-staffing-data-dictionary\n",
    "# https://data.cms.gov/resources/payroll-based-journal-daily-nurse-staffing-data-dictionary\n",
    "# https://www.kaggle.com/datasets/miadul/overstimulation-behavior-and-lifestyle-dataset\n",
    "# https://www.kaggle.com/datasets/manuelcamachor/level-of-anxiety-in-nursing-during-covid-pandemic\n",
    "\n",
    "# Datasets\n",
    "# https://data.cms.gov/quality-of-care/payroll-based-journal-daily-non-nurse-staffing/data\n",
    "# https://data.cms.gov/quality-of-care/payroll-based-journal-daily-nurse-staffing/data\n",
    "# https://www.kaggle.com/datasets/miadul/overstimulation-behavior-and-lifestyle-dataset\n",
    "# https://www.kaggle.com/datasets/manuelcamachor/level-of-anxiety-in-nursing-during-covid-pandemic"
   ],
   "outputs": [],
   "execution_count": null
  },
  {
   "metadata": {},
   "cell_type": "code",
   "source": [
    "from pandas.conftest import compression\n",
    "# Setup\n",
    "!pip install polars"
   ],
   "id": "880a86c4cf4520ef",
   "outputs": [],
   "execution_count": null
  },
  {
   "metadata": {},
   "cell_type": "markdown",
   "source": "## Download Data - (You will not need to run this)\n",
   "id": "7eb166f8afec20ca"
  },
  {
   "metadata": {
    "ExecuteTime": {
     "end_time": "2025-04-16T18:44:51.690697Z",
     "start_time": "2025-04-16T18:44:51.083139Z"
    }
   },
   "cell_type": "code",
   "source": [
    "################################################## Inspect/Prepare Data ##################################################\n",
    "# 1. download files from api\n",
    "# 2. adjust table layouts\n",
    "# 3. write csv files to parquet (smaller)\n",
    "################################################## Inspect/Prepare Data ##################################################\n",
    "import polars as pl\n",
    "import seaborn as sns\n",
    "import matplotlib.pyplot as plt\n",
    "import plotly.express as px\n",
    "import plotly.graph_objects as go\n",
    "import polars as pl\n",
    "import requests\n",
    "import os\n",
    "import time\n",
    "import requests\n",
    "import polars as pl\n",
    "import os\n",
    "\n",
    "api_download=False\n",
    "change_layout=False\n",
    "build_parquet=False\n",
    "\n",
    "if api_download:\n",
    "    # define datasets for api acquisition\n",
    "    non_nursing_data = [\n",
    "        {\n",
    "            \"type\": \"Non-Nursing Staffing\",\n",
    "            \"quarter\": \"Q3\",\n",
    "            \"year\": \"2024\",\n",
    "            \"id\": \"293788f3-20a9-4ebd-ab4a-9989325ce3e7\"\n",
    "        },\n",
    "        {\n",
    "            \"type\": \"Non-Nursing Staffing\",\n",
    "            \"quarter\": \"Q2\",\n",
    "            \"year\": \"2024\",\n",
    "            \"id\": \"c06ad548-5cb2-4f29-8075-66efc2d195b6\"\n",
    "        },\n",
    "        {\n",
    "            \"type\": \"Non-Nursing Staffing\",\n",
    "            \"quarter\": \"Q1\",\n",
    "            \"year\": \"2024\",\n",
    "            \"id\": \"86603f7e-6ed8-4005-a5d3-b13d2ebcf3d4\"\n",
    "        }\n",
    "    ]\n",
    "    non_nursing_data = [non_nursing_data[2]]\n",
    "    nursing_data = [\n",
    "        {\n",
    "            \"type\": \"Nursing Staffing\",\n",
    "            \"quarter\": \"Q3\",\n",
    "            \"year\": \"2024\",\n",
    "            \"id\": \"989fbc78-1655-487d-9f24-d68e9a0ab3af\"\n",
    "        },\n",
    "        {\n",
    "            \"type\": \"Nursing Staffing\",\n",
    "            \"quarter\": \"Q2\",\n",
    "            \"year\": \"2024\",\n",
    "            \"id\": \"dcc467d8-5792-4e5d-95be-04bf9fc930a1\"\n",
    "        },\n",
    "        {\n",
    "            \"type\": \"Nursing Staffing\",\n",
    "            \"quarter\": \"Q1\",\n",
    "            \"year\": \"2024\",\n",
    "            \"id\": \"5b84bdf2-b246-4b3c-be1b-cf7c2bcb3391\"\n",
    "        }\n",
    "    ]\n",
    "    nursing_data = [nursing_data[2]]\n",
    "    \n",
    "    data_sets = nursing_data #+ non_nursing_data\n",
    "    \n",
    "    # optional\n",
    "    data_frames = []\n",
    "    \n",
    "    # directory of where this notebook will be run\n",
    "    base_dir = os.getcwd()+\"\\\\data\\\\\"\n",
    "    \n",
    "    # avoid extra api calls\n",
    "    for item in data_sets:\n",
    "        file = [str(val) for val in item.values()]\n",
    "        file = \"-\".join(file)+\".tsv\"\n",
    "        this_file = base_dir+file\n",
    "        \n",
    "        if os.path.exists(this_file):\n",
    "            pass # df = pl.read_csv(this_file, separator='\\t')\n",
    "            # data_frames.append(df)\n",
    "        else:\n",
    "            _id = item['id']\n",
    "            \n",
    "            # get the base url\n",
    "            api_url = \"https://data.cms.gov/data-api/v1/dataset/\"+_id+\"/data\"\n",
    "            \n",
    "            # places to store data\n",
    "            _data = []\n",
    "            \n",
    "            # get number of rows\n",
    "            response = requests.get(api_url+\"/stats\")\n",
    "            rows = response.json()\n",
    "            total_rows = rows.get(\"total_rows\")\n",
    "            i = 0 \n",
    "            \n",
    "            # api docs stated they can provide 5k per call but only 1k is in the response\n",
    "            print(f\"obtaining {total_rows} rows 1000 at a time\")\n",
    "            while i < total_rows: \n",
    "                size = 1000\n",
    "                offset_url = f\"{api_url}?/size={size}&offset={i}\"\n",
    "                offset = i\n",
    "                offset_response = requests.get(offset_url)\n",
    "                print(f\"Made request for {size} results at offset {i}\")\n",
    "                items = offset_response.json()\n",
    "                for item in items:\n",
    "                    _data.append(item)\n",
    "                i = i+size\n",
    "                print([\"Size is now:\",len(_data)])\n",
    "                time.sleep(0.5)     \n",
    "                \n",
    "            df = pl.DataFrame(_data)\n",
    "            df.write_csv(this_file,include_header=True,separator=\"\\t\",line_terminator=\"\\n\",quote_char='\"',null_value=\"NA\")\n",
    "            time.sleep(120)\n",
    "\n",
    "if change_layout:\n",
    "    pl.Config.set_tbl_width_chars(100)\n",
    "    pl.Config.set_fmt_str_lengths(100)\n",
    "    \n",
    "if build_parquet:\n",
    "    \n",
    "    base_dir = os.getcwd()+\"\\\\data\\\\\"\n",
    "\n",
    "    nurses = pl.read_csv(base_dir+\"Nursing Staffing-Q1-2024-5b84bdf2-b246-4b3c-be1b-cf7c2bcb3391.tsv\", separator=\"\\t\", infer_schema_length=10000,ignore_errors=True)\n",
    "    \n",
    "    non_nurses = pl.read_csv(base_dir+\"Non-Nursing Staffing-Q2-2024-86603f7e-6ed8-4005-a5d3-b13d2ebcf3d4.tsv\", separator=\"\\t\", infer_schema_length=10000,ignore_errors=True)\n",
    "    \n",
    "    provider_infoJan = pl.read_csv(base_dir+\"NH_ProviderInfo_Feb2024.csv\", infer_schema_length=10000,ignore_errors=True)\n",
    "    provider_infoFeb = pl.read_csv(base_dir+\"NH_ProviderInfo_Mar2024.csv\", infer_schema_length=10000,ignore_errors=True)\n",
    "    provider_infoMar = pl.read_csv(base_dir+\"NH_ProviderInfo_Apr2024.csv\", infer_schema_length=10000,ignore_errors=True)\n",
    "\n",
    "    provider_info = provider_infoJan.vstack(provider_infoFeb)\n",
    "    provider_info = provider_info.vstack(provider_infoMar)\n",
    "\n",
    "    print(\"Saving Parquet\")\n",
    "    # the data is prepared on the first of the month, for the month, so jan file is dec data of prev yr\n",
    "    # i havent validated but i have both set of options\n",
    "    provider_info.write_csv(\"data/Provider_Info_Jan_Feb_Mar.tsv\", separator='\\t')\n",
    "    \n",
    "    # Save the DataFrame to a Parquet file with compression\n",
    "    provider_info.write_parquet(\"parquet/Providers.parquet\", compression=\"zstd\")\n",
    "    nurses.write_parquet(\"parquet/Nurses.parquet\", compression=\"zstd\")\n",
    "    non_nurses.write_parquet(\"parquet/Non-Nurses.parquet\", compression=\"zstd\")\n",
    "    \n",
    "    print(\"Saved Parquet\")\n"
   ],
   "id": "7c445f60d2d90181",
   "outputs": [
    {
     "name": "stdout",
     "output_type": "stream",
     "text": [
      "Total Hours: 45625.189999999995\n",
      "Employee Hours: 35137.75000000001\n",
      "Contract Hours: 10487.44\n",
      "Employee and contract hours equal total hours\n",
      "the % of mistakes in the Admin field is: 0.6361856823266219\n",
      "Hrs_RNDON_emp is in nurses\n"
     ]
    }
   ],
   "execution_count": 349
  },
  {
   "metadata": {},
   "cell_type": "markdown",
   "source": "# Read data, cleanse it, explore it, verify fields etc",
   "id": "e80446181170fb5"
  },
  {
   "metadata": {},
   "cell_type": "code",
   "outputs": [],
   "execution_count": null,
   "source": [
    "################################################## Inspect/Prepare Data ##################################################\n",
    "## Task:\n",
    "#1. Data Familiarity & Exploration  \n",
    "# • Load and explore the dataset (can be any public dataset or one provided by you – e.g., UCI, Kaggle). \n",
    "\n",
    "# 1. Load data from parquet files\n",
    "# 2. cleanse data \n",
    "#    • remove null keys\n",
    "#    • format date fields\n",
    "#    • verify employee hours + contract hours == total hours \n",
    "#    • inspect footnote and impact on data\n",
    "# 3. verify data dictionary integrity\n",
    "################################################## Inspect/Prepare Data ##################################################\n",
    "################################################################################################################### 1\n",
    "# load data\n",
    "nurses = pl.read_parquet(\"parquet/Nurses.parquet\")\n",
    "non_nurses = pl.read_parquet(\"parquet/Non-Nurses.parquet\")\n",
    "provider_info = pl.read_parquet(\"parquet/Providers.parquet\")\n",
    "\n",
    "################################################################################################################### 2\n",
    "# let's work with identifiable facilities\n",
    "nurses = nurses.filter(pl.col(\"PROVNUM\").is_not_null())\n",
    "non_nurses = non_nurses.filter(pl.col(\"PROVNUM\").is_not_null())\n",
    "\n",
    "# I noticed the WorkDate and date processed col is not a date, string with date\n",
    "nurses = nurses.with_columns(pl.col(\"WorkDate\").cast(pl.Utf8).alias(\"WorkDate\"))\n",
    "non_nurses = non_nurses.with_columns(pl.col(\"WorkDate\").cast(pl.Utf8).alias(\"WorkDate\"))\n",
    "# date\n",
    "nurses = nurses.with_columns(pl.col(\"WorkDate\").str.strptime(pl.Date, \"%Y%m%d\").alias(\"WorkDate\"))\n",
    "non_nurses = non_nurses.with_columns(pl.col(\"WorkDate\").str.strptime(pl.Date, \"%Y%m%d\").alias(\"WorkDate\"))\n",
    "provider_info = provider_info.with_columns(pl.col(\"Processing Date\").str.strptime(pl.Date, \"%Y-%m-%d\").alias(\"Processing Date\"))\n",
    "\n",
    "# the max provnum is for prov 335232, the data dict does not explicitly state the emp and ctr fields add to total\n",
    "# this could be assumed but, check first to ensure understanding is clear. these three expression yield this is true\n",
    "# and our thinking was correct. Every role in the data follows this format so that clears up basically all the fields\n",
    "# I used the max, for not particular reason other than I was curious about it, and it was a key i had handy\n",
    "_nurses = nurses.group_by(\"PROVNUM\").agg(pl.sum('Hrs_RN').alias('Registered Nurses')).sort('Registered Nurses', descending=True)\n",
    "print(\"Total Hours:\",_nurses[0][\"Registered Nurses\"][0])\n",
    "\n",
    "__nurses = nurses.group_by(\"PROVNUM\").agg(pl.sum('Hrs_RN_emp').alias('Registered Nurses emp')).filter(pl.col('PROVNUM') == 335232)\n",
    "print(\"Employee Hours:\",__nurses[0][\"Registered Nurses emp\"][0])\n",
    "\n",
    "___nurses = nurses.group_by(\"PROVNUM\").agg(pl.sum('Hrs_RN_ctr').alias('Registered Nurses ctr')).filter(pl.col('PROVNUM') == 335232)\n",
    "print(\"Contract Hours:\",___nurses[0][\"Registered Nurses ctr\"][0])\n",
    "\n",
    "# is the difference small because of rounding only\n",
    "if _nurses[0][\"Registered Nurses\"][0] - __nurses[0][\"Registered Nurses emp\"][0] - ___nurses[0][\"Registered Nurses ctr\"][0] < 1:\n",
    "    print(\"Employee and contract hours equal total hours\")\n",
    "else:\n",
    "    print(False)\n",
    "\n",
    "# this field from non nurses is different   \n",
    "#    \"Hrs_Admin fn\": \"Footnote for Administrator Hours worked: 1 = Provider submitted invalid administrator hours\",\n",
    "# what do they mean by this, how often are there mistakse, inspect \n",
    "_non_nurses = non_nurses.filter(pl.col(\"Hrs_Admin_fn\") != \"1\")['Hrs_Admin_fn']\n",
    "no_mistake = len(_non_nurses)\n",
    "_non_nurses = non_nurses.filter(pl.col(\"Hrs_Admin_fn\") == \"1\")['Hrs_Admin_fn']\n",
    "mistake = len(_non_nurses)\n",
    "\n",
    "print(\"the % of mistakes in the Admin field is:\", mistake/no_mistake*100) # <1% is basically irrelevant, but could have been\n",
    "\n",
    "################################################################################################################### 3\n",
    "# I don't see a \"Hrs_RNDON_emp\" in my data dictionary above - lets check if I missed copying it or if it is not there\n",
    "if \"Hrs_RNDON_emp\" in nurses.columns:\n",
    "    print(\"Hrs_RNDON_emp is in nurses\")\n",
    "# it is in the columns, I made a copy/paste error in making my data dict - I will add it back and note it"
   ],
   "id": "7f6172447f93a2e4"
  },
  {
   "metadata": {},
   "cell_type": "markdown",
   "source": [
    "# Explore data for insights about nurses, and visualize the results\n",
    "I also use this pattern to setup data for the ML model - numbers 4 through 6 below\n",
    "Yes, I probably could have done these calculations straight away without repeating the code, but I had something that worked in milliseconds, and it is fine for my needs at this time.. \n"
   ],
   "id": "4ab7a513ef0e2421"
  },
  {
   "metadata": {
    "ExecuteTime": {
     "end_time": "2025-04-16T20:46:23.757970Z",
     "start_time": "2025-04-16T20:46:15.952939Z"
    }
   },
   "cell_type": "code",
   "source": [
    "################################################## Data Insights ##################################################\n",
    "## Task:\n",
    "#1. Data Familiarity & Exploration  \n",
    "# • Identify key trends and what the data might say about the user. \n",
    "\n",
    "# 1. dynamically load keys to perform operations with\n",
    "# 2. perform an exploration and become familiar with the data\n",
    "# 3. perform several visualizations to become familiar with the different types of nurses and the hours they work\n",
    "## Show Visualizations\n",
    "show=True\n",
    "# 4. I noticed 3 nurses do most of the work, so for the three month period, I am using computing if most work came\n",
    "#    from contracts or employees and labeling the data in this manner for the ML aspect of the assignment \n",
    "# 5. nurses data is 3 months in one file, break into 3 separate sets of data for Jan Feb March\n",
    "# 6. store output data as one parquet file\n",
    "################################################## Data Insights ##################################################\n",
    "################################################################################################################### 1\n",
    "from datetime import datetime\n",
    "\n",
    "# this exists for validation as much as a way to label things and for validation. It is useful.\n",
    "data_definitions = {\n",
    "    \"PROVNUM\": \"Medicare provider number\",\n",
    "    \"PROVNAME\": \"Provider name\",\n",
    "    \"CITY\": \"Provider City\",\n",
    "    \"STATE\": \"Postal abbreviation for State\",\n",
    "    \"COUNTY_NAME\": \"Name of Provider County, unique within state\",\n",
    "    \"COUNTY_FIPS\": \"FIPS Code for Provider County, unique within state\",\n",
    "    \"CY_Qtr\": \"Calendar Quarter (yyyyQq, e.g. 2018Q4)\",\n",
    "    \"WorkDate\": \"Day for Reported Hours (yyyymmdd)\",\n",
    "    \"MDScensus\": \"Resident Census from MDS\",\n",
    "    \"Hrs_RNDON\": \"Total Hours for RN Director of Nursing\", # no EMP?\n",
    "    \"Hrs_RNDON_emp\": \"Employee Hours for RN Director of Nursing\", # this was missing and confirmed below\n",
    "    \"Hrs_RNDON_ctr\": \"Contract Hours for RN Director of Nursing\",\n",
    "    \"Hrs_RNadmin\": \"Hours for RN with administrative duties\",\n",
    "    \"Hrs_RNadmin_emp\": \"Employee Hours for RN with administrative duties\",\n",
    "    \"Hrs_RNadmin_ctr\": \"Contract Hours for RN with administrative duties\",\n",
    "    \"Hrs_RN\": \"Total Hours for RN\",\n",
    "    \"Hrs_RN_emp\": \"Employee Hours for RN\",\n",
    "    \"Hrs_RN_ctr\": \"Contract Hours for RN\",\n",
    "    \"Hrs_LPNadmin\": \"Total Hours for LPN w/ admin duties\",\n",
    "    \"Hrs_LPNadmin_emp\": \"Employee Hours for LPN w/ admin duties\",\n",
    "    \"Hrs_LPNadmin_ctr\": \"Contract Hours for LPN w/ admin duties\",\n",
    "    \"Hrs_LPN\": \"Total Hours for LPN\",\n",
    "    \"Hrs_LPN_emp\": \"Employee Hours for LPN\",\n",
    "    \"Hrs_LPN_ctr\": \"Contract Hours for LPN\",\n",
    "    \"Hrs_CNA\": \"Total Hours for CNA\",\n",
    "    \"Hrs_CNA_emp\": \"Employee Hours for CNA\",\n",
    "    \"Hrs_CNA_ctr\": \"Contract Hours for CNA\",\n",
    "    \"Hrs_NAtrn\": \"Total Hours for Nurse aide in training\",\n",
    "    \"Hrs_NAtrn_emp\": \"Employee Hours for Nurse aide in training\",\n",
    "    \"Hrs_NAtrn_ctr\": \"Contract Hours for Nurse aide in training\",\n",
    "    \"Hrs_MedAide\": \"Total Hours for Med Aide/Technician\",\n",
    "    \"Hrs_MedAide_emp\": \"Employee Hours for Med Aide/Technician\",\n",
    "    \"Hrs_MedAide_ctr\": \"Contract Hours for Med Aide/Technician\",\n",
    "    #\n",
    "    \"Hrs_Admin\": \"Total Hours for Administrator\",\n",
    "    \"Hrs_Admin_emp\": \"Employee Hours for Administrator\",\n",
    "    \"Hrs_Admin_ctr\": \"Contract Hours for Administrator\",\n",
    "    \"Hrs_Admin fn\": \"Footnote for Administrator Hours worked: 1 = Provider submitted invalid administrator hours\",\n",
    "    \"Hrs_MedDir\": \"Total Hours for Medical Director\",\n",
    "    \"Hrs_MedDir_emp\": \"Employee Hours for Medical Director\",\n",
    "    \"Hrs_MedDir_ctr\": \"Contract Hours for Medical Director\",\n",
    "    \"Hrs_OthMD\": \"Total Hours for Other Physician\",\n",
    "    \"Hrs_OthMD_emp\": \"Employee Hours for Other Physician\",\n",
    "    \"Hrs_OthMD_ctr\": \"Contract Hours for Other Physician\",\n",
    "    \"Hrs_PA\": \"Total Hours for Physician Assistant\",\n",
    "    \"Hrs_PA_emp\": \"Employee Hours for Physician Assistant\",\n",
    "    \"Hrs_PA_ctr\": \"Contract Hours for Physician Assistant\",\n",
    "    \"Hrs_NP\": \"Total Hours for Nurse Practitioner\",\n",
    "    \"Hrs_NP_emp\": \"Employee Hours for Nurse Practitioner\",\n",
    "    \"Hrs_NP_ctr\": \"Contract Hours for Nurse Practitioner\",\n",
    "    \"Hrs_ClinNrsSpec\": \"Total Hours for Clinical Nurse Specialist\",\n",
    "    \"Hrs_ClinNrsSpec_emp\": \"Employee Hours for Clinical Nurse Specialist\",\n",
    "    \"Hrs_ClinNrsSpec_ctr\": \"Contract Hours for Clinical Nurse Specialist\",\n",
    "    \"Hrs_Pharmacist\": \"Total Hours for Pharmacist\",\n",
    "    \"Hrs_Pharmacist_emp\": \"Employee Hours for Pharmacist\",\n",
    "    \"Hrs_Pharmacist_ctr\": \"Contract Hours for Pharmacist\",\n",
    "    \"Hrs_Dietician\": \"Total Hours for Dietician\",\n",
    "    \"Hrs_Dietician_emp\": \"Employee Hours for Dietician\",\n",
    "    \"Hrs_Dietician_ctr\": \"Contract Hours for Dietician\",\n",
    "    \"Hrs_FeedAsst\": \"Total Hours for Feeding Assistant\",\n",
    "    \"Hrs_FeedAsst_emp\": \"Employee Hours for Feeding Assistant\",\n",
    "    \"Hrs_FeedAsst_ctr\": \"Contract Hours for Feeding Assistant\",\n",
    "    \"Hrs_OT\": \"Total Hours for Occupational Therapist\",\n",
    "    \"Hrs_OT_emp\": \"Employee Hours for Occupational Therapist\",\n",
    "    \"Hrs_OT_ctr\": \"Contract Hours for Occupational Therapist\",\n",
    "    \"Hrs_OTasst\": \"Total Hours for Occupational Therapy Assistant\",\n",
    "    \"Hrs_OTasst_emp\": \"Employee Hours for Occupational Therapy Assistant\",\n",
    "    \"Hrs_OTasst_ctr\": \"Contract Hours for Occupational Therapy Assistant\",\n",
    "    \"Hrs_OTaide\": \"Total Hours for Occupational Therapy Aide\",\n",
    "    \"Hrs_OTaide_emp\": \"Employee Hours for Occupational Therapy Aide\",\n",
    "    \"Hrs_OTaide_ctr\": \"Contract Hours for Occupational Therapy Aide\",\n",
    "    \"Hrs_PT\": \"Total Hours for Physical Therapist\",\n",
    "    \"Hrs_PT_emp\": \"Employee Hours for Physical Therapist\",\n",
    "    \"Hrs_PT_ctr\": \"Contract Hours for Physical Therapist\",\n",
    "    \"Hrs_PTasst\": \"Total Hours for Physical Therapy Assistant\",\n",
    "    \"Hrs_PTasst_emp\": \"Employee Hours for Physical Therapy Assistant\",\n",
    "    \"Hrs_PTasst_ctr\": \"Contract Hours for Physical Therapy Assistant\",\n",
    "    \"Hrs_PTaide\": \"Total Hours for Physical Therapy Aide\",\n",
    "    \"Hrs_PTaide_emp\": \"Employee Hours for Physical Therapy Aide\",\n",
    "    \"Hrs_PTaide_ctr\": \"Contract Hours for Physical Therapy Aide\",\n",
    "    \"Hrs_RespTher\": \"Total Hours for Respiratory Therapist\",\n",
    "    \"Hrs_RespTher_emp\": \"Employee Hours for Respiratory Therapist\",\n",
    "    \"Hrs_RespTher_ctr\": \"Contract Hours for Respiratory Therapist\",\n",
    "    \"Hrs_RespTech\": \"Total Hours for Respiratory Therapy Technician\",\n",
    "    \"Hrs_RespTech_emp\": \"Employee Hours for Respiratory Therapy Technician\",\n",
    "    \"Hrs_RespTech_ctr\": \"Contract Hours for Respiratory Therapy Technician\",\n",
    "    \"Hrs_SpcLangPath\": \"Total Hours for Speech/Language Pathologist\",\n",
    "    \"Hrs_SpcLangPath_emp\": \"Employee Hours for Speech/Language Pathologist\",\n",
    "    \"Hrs_SpcLangPath_ctr\": \"Contract Hours for Speech/Language Pathologist\",\n",
    "    \"Hrs_TherRecSpec\": \"Total Hours for Therapeutic Recreation Specialist\",\n",
    "    \"Hrs_TherRecSpec_emp\": \"Employee Hours for Therapeutic Recreation Specialist\",\n",
    "    \"Hrs_TherRecSpec_ctr\": \"Contract Hours for Therapeutic Recreation Specialist\",\n",
    "    \"Hrs_QualActvProf\": \"Total Hours for Qualified Activities Professional\",\n",
    "    \"Hrs_QualActvProf_emp\": \"Employee Hours for Qualified Activities Professional\",\n",
    "    \"Hrs_QualActvProf_ctr\": \"Contract Hours for Qualified Activities Professional\",\n",
    "    \"Hrs_OthActv\": \"Total Hours for Other Activities Staff\",\n",
    "    \"Hrs_OthActv_emp\": \"Employee Hours for Other Activities Staff\",\n",
    "    \"Hrs_OthActv_ctr\": \"Contract Hours for Other Activities Staff\",\n",
    "    \"Hrs_QualSocWrk\": \"Total Hours for Qualified Social Worker\",\n",
    "    \"Hrs_QualSocWrk_emp\": \"Employee Hours for Qualified Social Worker\",\n",
    "    \"Hrs_QualSocWrk_ctr\": \"Contract Hours for Qualified Social Worker\",\n",
    "    \"Hrs_OthSocWrk\": \"Total Hours for Other Social Worker\",\n",
    "    \"Hrs_OthSocWrk_emp\": \"Employee Hours for Other Social Worker\",\n",
    "    \"Hrs_OthSocWrk_ctr\": \"Contract Hours for Other Social Worker\",\n",
    "    \"Hrs_MHSvc\": \"Total Hours for Mental Health Service Worker\",\n",
    "    \"Hrs_MHSvc_emp\": \"Employee Hours for Mental Health Service Worker\",\n",
    "    \"Hrs_MHSvc_ctr\": \"Contract Hours for Mental Health Service Worker\"\n",
    "}\n",
    "\n",
    "# These functions use the data dictionary and it's values to get unique fields for total, employee, and contract workers \n",
    "def total_hours():\n",
    "    # make two collections of workers, one for nurses one for non nurses\n",
    "    _nurse_workers = []\n",
    "    _non_nurse_workers = []\n",
    "    \n",
    "    f=0# this flag flips when I stop seeing unique worker fields from nurses dataset\n",
    "    for k,v in data_definitions.items():\n",
    "        if f == 0:\n",
    "            if 'Hrs' in k and 'emp' not in k and 'ctr' not in k and 'fn' not in k and \"DON\" not in k and \"admin\" not in k and 'NAtrn' not in k and 'MedAide' not in k:\n",
    "                _nurse_workers.append(k)\n",
    "        else:\n",
    "            if 'Hrs' in k and 'emp' not in k and 'ctr' not in k and 'fn' not in k and 'NAtrn' not in k and 'MedAide' not in k:\n",
    "                _non_nurse_workers.append(k)\n",
    "        if 'MedAide' in k and 'ctr' in k:\n",
    "            f=1\n",
    "    return _nurse_workers, _non_nurse_workers\n",
    "def employee_hours():\n",
    "    # make two collections of workers, one for nurses one for non nurses\n",
    "    _nurse_workers = []\n",
    "    _non_nurse_workers = []\n",
    "    \n",
    "    f=0# this flag flips when I stop seeing unique worker fields from nurses dataset\n",
    "    for k,v in data_definitions.items():\n",
    "        if f == 0:\n",
    "            if 'Hrs' in k and 'emp' in k and 'ctr' not in k and 'fn' not in k and \"DON\" not in k and \"admin\" not in k and 'NAtrn' not in k and 'MedAide' not in k:\n",
    "                _nurse_workers.append(k)\n",
    "        else:\n",
    "            if 'Hrs' in k and 'emp' in k and 'ctr' not in k and 'fn' not in k and 'NAtrn' not in k and 'MedAide' not in k:\n",
    "                _non_nurse_workers.append(k)\n",
    "        if 'MedAide' in k and 'ctr' in k:\n",
    "            f=1\n",
    "    return _nurse_workers, _non_nurse_workers\n",
    "def contract_hours():\n",
    "    # make two collections of workers, one for nurses one for non nurses\n",
    "    _nurse_workers = []\n",
    "    _non_nurse_workers = []\n",
    "    \n",
    "    f=0# this flag flips when I stop seeing unique worker fields from nurses dataset\n",
    "    for k,v in data_definitions.items():\n",
    "        if f == 0:\n",
    "            if 'Hrs' in k and 'emp' not in k and 'ctr' in k and 'fn' not in k and \"DON\" not in k and \"admin\" not in k and 'NAtrn' not in k and 'MedAide' not in k:\n",
    "                _nurse_workers.append(k)\n",
    "        else:\n",
    "            if 'Hrs' in k and 'emp' not in k and 'ctr' in k and 'fn' not in k and 'NAtrn' not in k and 'MedAide' not in k:\n",
    "                _non_nurse_workers.append(k)\n",
    "        if 'MedAide' in k and 'ctr' in k:\n",
    "            f=1\n",
    "    return _nurse_workers, _non_nurse_workers\n",
    "\n",
    "# fields, first is for nurses, second for non nurses\n",
    "tot_n, tot_nn = total_hours()\n",
    "emp_n, emp_nn = employee_hours()\n",
    "ctr_n, ctr_nn = contract_hours()\n",
    "\n",
    "################################################################################################################### 2\n",
    "# This was useful at one point\n",
    "X = 150000\n",
    "\n",
    "# Total work of nurses\n",
    "total_work = nurses.group_by(\"PROVNAME\").agg(pl.mean(tot_n)).with_columns(total_work=pl.sum_horizontal(tot_n)).sort('total_work', descending=True)\n",
    "\n",
    "print(total_work.head(5))\n",
    "\n",
    "# top X facilities with the highest total nursing hours\n",
    "top_X_n = list(nurses.group_by(\"PROVNAME\").agg(pl.mean(tot_n)).with_columns(total_work=pl.sum_horizontal(tot_n)).sort('total_work', descending=True).head(X)[\"PROVNAME\"])\n",
    "\n",
    "# of those ten, what is the % of employee to contract workers\n",
    "top_X_nurses = nurses.filter(pl.col(\"PROVNAME\").is_in(top_X_n))\n",
    "\n",
    "top_X_emp_ctr = top_X_nurses.with_columns(\n",
    "    (pl.col(emp_n[0]) / pl.col(tot_n[0]) * 100).round(2).alias('%emp'+emp_n[0]).fill_nan(None),\n",
    "    (pl.col(emp_n[1]) / pl.col(tot_n[1]) * 100).round(2).alias('%emp'+emp_n[1]).fill_nan(None),\n",
    "    (pl.col(emp_n[2]) / pl.col(tot_n[2]) * 100).round(2).alias('%emp'+emp_n[2]).fill_nan(None),\n",
    "    (pl.col(ctr_n[0]) / pl.col(tot_n[0]) * 100).round(2).alias('%ctr'+ctr_n[0]).fill_nan(None),\n",
    "    (pl.col(ctr_n[1]) / pl.col(tot_n[1]) * 100).round(2).alias('%ctr'+ctr_n[1]).fill_nan(None),\n",
    "    (pl.col(ctr_n[2]) / pl.col(tot_n[2]) * 100).round(2).alias('%ctr'+ctr_n[2]).fill_nan(None),\n",
    ").select(\n",
    "    [\"PROVNAME\", \"PROVNUM\"]+\n",
    "    [\"%emp\"+val for val in emp_n]+\n",
    "    [\"%ctr\"+val for val in ctr_n]\n",
    ").group_by([\"PROVNAME\", \"PROVNUM\"]).agg(pl.mean([\"%emp\"+val for val in emp_n]+[\"%ctr\"+val for val in ctr_n]))\n",
    "\n",
    "print(top_X_emp_ctr.head(5))\n",
    "\n",
    "## ALL\n",
    "labeled_facilities = top_X_emp_ctr.group_by([\"PROVNAME\", \"PROVNUM\"]).agg(\n",
    "    [\n",
    "        #pl.mean(tot_n),\n",
    "        pl.mean([\"%emp\"+val for val in emp_n]),\n",
    "        pl.mean([\"%ctr\"+val for val in ctr_n]),\n",
    "    ]\n",
    ").with_columns(\n",
    "    #total_work=pl.sum_horizontal(tot_n),\n",
    "    emp_work=pl.mean_horizontal([\"%emp\"+val for val in emp_n]),\n",
    "    ctr_work=pl.mean_horizontal([\"%ctr\"+val for val in ctr_n])\n",
    ").sort(\n",
    "    'ctr_work', \n",
    "    descending=True\n",
    ")\n",
    "\n",
    "print(labeled_facilities.head(5))\n",
    "\n",
    "################################################################################################################### 3\n",
    "# fix visual showing percentage of work done by contract and employee nurses\n",
    "#fig = px.bar(top_X_emp_ctr.to_pandas(), x='PROVNAME', y=[\"%emp\"+val for val in emp_n]+[\"%ctr\"+val for val in ctr_n], color='PROVNAME', barmode='group', title='Fruit Sales in 2020 and 2021')\n",
    "#fig.show()\n",
    "\n",
    "# For all facilities what is the distribution of contract work %\n",
    "if show:\n",
    "    # For all facilities what is the distribution of contract work %\n",
    "    total_work_ctr = top_X_emp_ctr.group_by(\"PROVNAME\").agg(pl.mean([\"%ctr\"+val for val in ctr_n])).with_columns(total_work=pl.mean_horizontal([\"%ctr\"+val for val in ctr_n])).sort('total_work', descending=True)\n",
    "    \n",
    "    total_work_ctr_hist = pl.DataFrame({\"hist_all\": pl.concat(total_work_ctr[[\"%ctr\"+val for val in ctr_n]])})\n",
    "\n",
    "    sns.histplot(total_work_ctr_hist[\"hist_all\"], bins=100, kde=True, color=\"blue\", edgecolor=\"black\", linewidth=2.5)\n",
    "    plt.xlabel(\"Contracted Nurses %Mean Hours\")\n",
    "    plt.title(\"Histogram of Contracted Nurses %Mean Hours\")\n",
    "    plt.show()\n",
    "    print(\"Contracted Nurses work Smaller Percentages of all Hours\")\n",
    "    #fig = go.Figure()\n",
    "    #fig.add_trace(go.Histogram(x=total_work_ctr[\"%ctrHrs_RN_ctr\"]))\n",
    "    #fig.add_trace(go.Histogram(x=total_work_ctr[\"%ctrHrs_LPN_ctr\"]))\n",
    "    #fig.add_trace(go.Histogram(x=total_work_ctr[\"%ctrHrs_CNA_ctr\"]))\n",
    "    #fig.add_trace(go.Histogram(x=total_work_ctr[\"%ctrHrs_NAtrn_ctr\"]))\n",
    "    #fig.add_trace(go.Histogram(x=total_work_ctr[\"%ctrHrs_MedAide_ctr\"]))\n",
    "    #fig.update_layout(barmode='stack')\n",
    "    #fig.show()\n",
    "    \n",
    "if show:\n",
    "    \n",
    "    # For all facilities what is the distribution of Employee work %\n",
    "    total_work_emp = top_X_emp_ctr.group_by(\"PROVNAME\").agg(pl.mean([\"%emp\"+val for val in emp_n])).with_columns(total_work=pl.mean_horizontal([\"%emp\"+val for val in emp_n])).sort('total_work', descending=True)\n",
    "    \n",
    "    total_work_emp_hist = pl.DataFrame({\"hist_all\": pl.concat(total_work_emp[[\"%emp\"+val for val in emp_n]])})\n",
    "    \n",
    "    sns.histplot(total_work_emp_hist[\"hist_all\"], bins=100, kde=True, color=\"blue\", edgecolor=\"black\", linewidth=2.5)\n",
    "    plt.xlabel(\"Employed Nurses %Mean Hours\")\n",
    "    plt.title(\"Histogram of Employed Nurses %Mean Hours\")\n",
    "    plt.show()\n",
    "    print(\"Employed Nurses work Most Hours\")\n",
    "    \n",
    "    #fig = go.Figure()\n",
    "    #fig.add_trace(go.Histogram(x=total_work_emp[\"%empHrs_RN_emp\"]))\n",
    "    #fig.add_trace(go.Histogram(x=total_work_emp[\"%empHrs_LPN_emp\"]))\n",
    "    #fig.add_trace(go.Histogram(x=total_work_emp[\"%empHrs_CNA_emp\"]))\n",
    "    #fig.add_trace(go.Histogram(x=total_work_emp[\"%empHrs_NAtrn_emp\"]))\n",
    "    #fig.add_trace(go.Histogram(x=total_work_emp[\"%empHrs_MedAide_emp\"]))\n",
    "    #fig.update_layout(barmode='stack')\n",
    "    #fig.show()\n",
    "\n",
    "# For a provider if more than half of their total work comes from contract then they are label contract\n",
    "# if more then 50% come from employee then they are label employee\n",
    "# Using the total number of worked hours for the 3 main nursing classes, if the majority of the\n",
    "# work was completed by employees, it is an employer type, else it is a contractor type\n",
    "# remove columns with no values\n",
    "labeled_facilities = labeled_facilities.drop_nulls()\n",
    "labeled_facilities = labeled_facilities.with_columns(pl.when(pl.col(\"ctr_work\") >= pl.col(\"emp_work\")).then(pl.lit(\"Contractor\")).otherwise(pl.lit(\"Employer\")).alias(\"ML_Label\"))\n",
    "labeled_facilities = labeled_facilities.with_columns(pl.col(\"PROVNUM\").cast(pl.Utf8).alias(\"PROVNUM\"))\n",
    "labeled_facilities = labeled_facilities.rename({\"PROVNUM\": \"CMS Certification Number (CCN)\"})\n",
    "labeled_facilities = labeled_facilities[\"CMS Certification Number (CCN)\", \"ML_Label\"]\n",
    "\n",
    "if show:\n",
    "    sns.histplot(nurses[\"Hrs_RN\"], bins=100, kde=True, color=\"blue\", edgecolor=\"black\", linewidth=2.5)\n",
    "    plt.xlabel(\"For all Facilities, Mean Hours work by RNs\")\n",
    "    plt.title(\"Histogram of RN Hours at Facilities\")\n",
    "    plt.ylabel(\"Total Hours worked by all RNs at a Facility\")\n",
    "    plt.show()\n",
    "    print(\"Most facilities have a smaller number of Registered Nnurses, and therefore less total worked hours\")\n",
    "\n",
    "working_nurses = nurses.filter(pl.col(\"Hrs_RN\") > 0)\n",
    "working_nurses = working_nurses.group_by(\"WorkDate\").agg(pl.mean('Hrs_RN').alias('RNs')).sort('WorkDate', descending=True)\n",
    "fig = px.line(working_nurses.to_pandas(), x=\"WorkDate\", y=\"RNs\", title=\"Daily Worked Total Mean Hours by Contract & Employee Registered Nurses\")\n",
    "if show:\n",
    "    fig.show()\n",
    "    print(\"Most Nurses will work 8 hrs, so on average all nursing homes have about 5 RNs, given the ~40hrs worked a day\")\n",
    "\n",
    "# I see a cycle, wow, weekends, they average 450k hrs during the weekend, but only 525 (75k more) during the week\n",
    "# I also notice it is a little shorter just after new years\n",
    "# Let's compare them to non nurses, how about pharmasists\n",
    "working_non_nurses = non_nurses.filter(pl.col(\"Hrs_Pharmacist\") > 0)\n",
    "working_non_nurses = working_non_nurses.group_by(\"WorkDate\").agg(pl.mean('Hrs_Pharmacist').alias('PMs')).sort('WorkDate', descending=True)\n",
    "\n",
    "fig = px.line(working_non_nurses.to_pandas(), x=\"WorkDate\", y=\"PMs\", title=\"Daily Worked Total Mean Hours by Contract & Employee Pharmacists\")\n",
    "if show:\n",
    "    fig.show()\n",
    "    print(\"Pharmacists work very little hours compared to nurses\")\n",
    "\n",
    "# so nurses work 525k to pharmacists 8k... and 450k to 1.5k\n",
    "# physicians assistants must do more\n",
    "working_non_nurses = non_nurses.filter(pl.col(\"Hrs_PA\") > 0)\n",
    "working_non_nurses = working_non_nurses.group_by(\"WorkDate\").agg(pl.mean('Hrs_PA').alias('PAs')).sort('WorkDate', descending=True)\n",
    "\n",
    "fig = px.line(working_non_nurses.to_pandas(), x=\"WorkDate\", y=\"PAs\", title=\"Daily Worked Total Mean Hours by Contract & Employee Physicians Assistants\")\n",
    "if show:\n",
    "    fig.show()\n",
    "    print(\"Physician Assistants work more than Pharmacists but less than nurses\")\n",
    "\n",
    "# let's compare registered nurses to those with director or admin roles\n",
    "rn = nurses.filter(pl.col(\"Hrs_RN\") > 0)\n",
    "rn = rn.group_by(\"WorkDate\").agg(pl.mean('Hrs_RN').alias('RNs')).sort('WorkDate', descending=True)\n",
    "\n",
    "rnd = nurses.filter(pl.col(\"Hrs_RNDON\") > 0)\n",
    "rnd = rnd.group_by(\"WorkDate\").agg(pl.mean('Hrs_RNDON').alias('RNDirs')).sort('WorkDate', descending=True)\n",
    "\n",
    "rna = nurses.filter(pl.col(\"Hrs_RNadmin\") > 0)\n",
    "rna = rna.group_by(\"WorkDate\").agg(pl.mean('Hrs_RNadmin').alias('RNA')).sort('WorkDate', descending=True)\n",
    "\n",
    "rnj = rn.join(rnd, on=\"WorkDate\", how=\"left\").join(rna, on=\"WorkDate\", how=\"left\")\n",
    "\n",
    "fig = px.line(rnj.to_pandas(), x=\"WorkDate\", y=[\"RNs\", \"RNDirs\", \"RNA\"], title=\"Daily Worked Total Mean Hours by All RNs & those in Director or Admin Roles\")\n",
    "if show:\n",
    "    fig.show()\n",
    "    print(\"Registered Nurses in not leadership roles work the most total hours\")\n",
    "\n",
    "# make two sep collection of total hours, one for nurses one for non nurses\n",
    "_nurse_workers = []\n",
    "_non_nurse_workers = []\n",
    "f=0# this flag flips when i stop seeing unique worker fields from nurses dataset\n",
    "for k,v in data_definitions.items():\n",
    "    if f == 0:\n",
    "        if 'Hrs' in k and 'emp' not in k and 'ctr' not in k and 'fn' not in k and \"DON\" not in k and \"admin\" not in k:\n",
    "            _nurse_workers.append(k)\n",
    "    else:\n",
    "        if 'Hrs' in k and 'emp' not in k and 'ctr' not in k and 'fn' not in k:\n",
    "            _non_nurse_workers.append(k)\n",
    "    if 'MedAide' in k:\n",
    "        f=1\n",
    "\n",
    "# these seem to be null, check again, DEL\n",
    "_non_nurse_workers.remove('Hrs_Admin')\n",
    "\n",
    "# top_nurse_workers = nurses.group_by(\"PROVNAME\").agg(pl.sum(_nurse_workers)).sort('PROVNAME', descending=True)\n",
    "# print(top_nurse_workers)\n",
    "\n",
    "_nurses = nurses.group_by(\"WorkDate\").agg(pl.mean(_nurse_workers)).sort('WorkDate', descending=True)\n",
    "_non_nurses = non_nurses.group_by(\"WorkDate\").agg(pl.mean(_non_nurse_workers)).sort('WorkDate', descending=True)\n",
    "\n",
    "fig = px.line(_nurses.to_pandas(), x=\"WorkDate\", y=_nurse_workers, title=\"All Nurse Total Hours\")\n",
    "if show:\n",
    "    fig.show()\n",
    "    print(\"Nursing Assistants work the most hours, followed by Licences Professional Nurses and Registered Nurses\")\n",
    "\n",
    "fig = px.line(_non_nurses.to_pandas(), x=\"WorkDate\", y=_non_nurse_workers, title=\"Non-Nurses\")\n",
    "if show:\n",
    "    fig.show()\n",
    "    print(\"All other roles work an order of magnitude less than Nurses\")\n",
    "\n",
    "print(\"Learning how much Nurses work compared to everyone else at nursing homes, I am curious what % of them are employed or work on contract\")\n",
    "# For the set of all places, do places with more support staff have lower nurse working hours\n",
    "# Quick test\n",
    "# top ten places with the most nurse hours and non nurse hours\n",
    "top_10_n = nurses.group_by(\"PROVNAME\").agg(pl.mean(_nurse_workers)).with_columns(total_work=pl.sum_horizontal(_nurse_workers)).sort('total_work', descending=True).head(10)#[\"PROVNAME\"])\n",
    "top_10_nn = non_nurses.group_by(\"PROVNAME\").agg(pl.mean(_non_nurse_workers)).with_columns(total_work=pl.sum_horizontal(_non_nurse_workers)).sort('total_work', descending=True).head(10)#[\"PROVNAME\"])\n",
    "\n",
    "_top_hours_nurses = nurses.group_by(\"PROVNUM\").agg(pl.sum('Hrs_RN').alias('Registered Nurses')).sort('Registered Nurses', descending=True)\n",
    "\n",
    "top_provnums = list(_top_hours_nurses[0:10][\"PROVNUM\"])\n",
    "\n",
    "################################################################################################################### 4\n",
    "###################################################### January\n",
    "start_date = datetime(2024, 1, 1)\n",
    "end_date = datetime(2024, 1, 31)\n",
    "top_X_nursesJan = top_X_nurses.filter(pl.col(\"WorkDate\").is_between(start_date, end_date))\n",
    "\n",
    "top_X_emp_ctr_Jan = top_X_nursesJan.with_columns(\n",
    "    (pl.col(emp_n[0]) / pl.col(tot_n[0]) * 100).round(2).alias('%emp'+emp_n[0]).fill_nan(None),\n",
    "    (pl.col(emp_n[1]) / pl.col(tot_n[1]) * 100).round(2).alias('%emp'+emp_n[1]).fill_nan(None),\n",
    "    (pl.col(emp_n[2]) / pl.col(tot_n[2]) * 100).round(2).alias('%emp'+emp_n[2]).fill_nan(None),\n",
    "    (pl.col(ctr_n[0]) / pl.col(tot_n[0]) * 100).round(2).alias('%ctr'+ctr_n[0]).fill_nan(None),\n",
    "    (pl.col(ctr_n[1]) / pl.col(tot_n[1]) * 100).round(2).alias('%ctr'+ctr_n[1]).fill_nan(None),\n",
    "    (pl.col(ctr_n[2]) / pl.col(tot_n[2]) * 100).round(2).alias('%ctr'+ctr_n[2]).fill_nan(None),\n",
    ").select(\n",
    "    [\"PROVNAME\", \"PROVNUM\"]+\n",
    "    [\"%emp\"+val for val in emp_n]+\n",
    "    [\"%ctr\"+val for val in ctr_n]\n",
    ").group_by([\"PROVNAME\", \"PROVNUM\"]).agg(pl.mean([\"%emp\"+val for val in emp_n]+[\"%ctr\"+val for val in ctr_n]))\n",
    "\n",
    "labeled_facilities_Jan = top_X_emp_ctr_Jan.group_by([\"PROVNAME\", \"PROVNUM\"]).agg(\n",
    "    [\n",
    "        #pl.mean(tot_n),\n",
    "        pl.mean([\"%emp\"+val for val in emp_n]),\n",
    "        pl.mean([\"%ctr\"+val for val in ctr_n]),\n",
    "    ]\n",
    ").with_columns(\n",
    "    #total_work=pl.sum_horizontal(tot_n),\n",
    "    emp_work=pl.mean_horizontal([\"%emp\"+val for val in emp_n]),\n",
    "    ctr_work=pl.mean_horizontal([\"%ctr\"+val for val in ctr_n])\n",
    ").sort(\n",
    "    'ctr_work', \n",
    "    descending=True\n",
    ")\n",
    "\n",
    "labeled_facilities_Jan = labeled_facilities_Jan.drop_nulls()\n",
    "labeled_facilities_Jan = labeled_facilities_Jan.with_columns(pl.when(pl.col(\"ctr_work\") >= pl.col(\"emp_work\")).then(pl.lit(\"Contractor\")).otherwise(pl.lit(\"Employer\")).alias(\"ML_Label\"))\n",
    "labeled_facilities_Jan = labeled_facilities_Jan.with_columns(pl.col(\"PROVNUM\").cast(pl.Utf8).alias(\"PROVNUM\"))\n",
    "labeled_facilities_Jan = labeled_facilities_Jan.rename({\"PROVNUM\": \"CMS Certification Number (CCN)\"})\n",
    "labeled_facilities_Jan = labeled_facilities_Jan[\"CMS Certification Number (CCN)\", \"ML_Label\"]\n",
    "\n",
    "out_jan = labeled_facilities_Jan.join(provider_infoJan, on=\"CMS Certification Number (CCN)\", how=\"left\")\n",
    "\n",
    "###################################################### February\n",
    "start_date = datetime(2024, 2, 1)\n",
    "end_date = datetime(2024, 2, 28)\n",
    "top_X_nursesFeb = top_X_nurses.filter(pl.col(\"WorkDate\").is_between(start_date, end_date))\n",
    "\n",
    "top_X_emp_ctr_Feb = top_X_nursesFeb.with_columns(\n",
    "    (pl.col(emp_n[0]) / pl.col(tot_n[0]) * 100).round(2).alias('%emp'+emp_n[0]).fill_nan(None),\n",
    "    (pl.col(emp_n[1]) / pl.col(tot_n[1]) * 100).round(2).alias('%emp'+emp_n[1]).fill_nan(None),\n",
    "    (pl.col(emp_n[2]) / pl.col(tot_n[2]) * 100).round(2).alias('%emp'+emp_n[2]).fill_nan(None),\n",
    "    (pl.col(ctr_n[0]) / pl.col(tot_n[0]) * 100).round(2).alias('%ctr'+ctr_n[0]).fill_nan(None),\n",
    "    (pl.col(ctr_n[1]) / pl.col(tot_n[1]) * 100).round(2).alias('%ctr'+ctr_n[1]).fill_nan(None),\n",
    "    (pl.col(ctr_n[2]) / pl.col(tot_n[2]) * 100).round(2).alias('%ctr'+ctr_n[2]).fill_nan(None),\n",
    ").select(\n",
    "    [\"PROVNAME\", \"PROVNUM\"]+\n",
    "    [\"%emp\"+val for val in emp_n]+\n",
    "    [\"%ctr\"+val for val in ctr_n]\n",
    ").group_by([\"PROVNAME\", \"PROVNUM\"]).agg(pl.mean([\"%emp\"+val for val in emp_n]+[\"%ctr\"+val for val in ctr_n]))\n",
    "\n",
    "labeled_facilities_Feb = top_X_emp_ctr_Feb.group_by([\"PROVNAME\", \"PROVNUM\"]).agg(\n",
    "    [\n",
    "        #pl.mean(tot_n),\n",
    "        pl.mean([\"%emp\"+val for val in emp_n]),\n",
    "        pl.mean([\"%ctr\"+val for val in ctr_n]),\n",
    "    ]\n",
    ").with_columns(\n",
    "    #total_work=pl.sum_horizontal(tot_n),\n",
    "    emp_work=pl.mean_horizontal([\"%emp\"+val for val in emp_n]),\n",
    "    ctr_work=pl.mean_horizontal([\"%ctr\"+val for val in ctr_n])\n",
    ").sort(\n",
    "    'ctr_work', \n",
    "    descending=True\n",
    ")\n",
    "\n",
    "labeled_facilities_Feb = labeled_facilities_Feb.drop_nulls()\n",
    "labeled_facilities_Feb = labeled_facilities_Feb.with_columns(pl.when(pl.col(\"ctr_work\") >= pl.col(\"emp_work\")).then(pl.lit(\"Contractor\")).otherwise(pl.lit(\"Employer\")).alias(\"ML_Label\"))\n",
    "labeled_facilities_Feb = labeled_facilities_Feb.with_columns(pl.col(\"PROVNUM\").cast(pl.Utf8).alias(\"PROVNUM\"))\n",
    "labeled_facilities_Feb = labeled_facilities_Feb.rename({\"PROVNUM\": \"CMS Certification Number (CCN)\"})\n",
    "labeled_facilities_Feb = labeled_facilities_Feb[\"CMS Certification Number (CCN)\", \"ML_Label\"]\n",
    "\n",
    "out_feb = labeled_facilities_Feb.join(provider_infoFeb, on=\"CMS Certification Number (CCN)\", how=\"left\")\n",
    "\n",
    "###################################################### March\n",
    "start_date = datetime(2024, 3, 1)\n",
    "end_date = datetime(2024, 3, 31)\n",
    "top_X_nursesMar = top_X_nurses.filter(pl.col(\"WorkDate\").is_between(start_date, end_date))\n",
    "\n",
    "top_X_emp_ctr_Mar = top_X_nursesMar.with_columns(\n",
    "    (pl.col(emp_n[0]) / pl.col(tot_n[0]) * 100).round(2).alias('%emp'+emp_n[0]).fill_nan(None),\n",
    "    (pl.col(emp_n[1]) / pl.col(tot_n[1]) * 100).round(2).alias('%emp'+emp_n[1]).fill_nan(None),\n",
    "    (pl.col(emp_n[2]) / pl.col(tot_n[2]) * 100).round(2).alias('%emp'+emp_n[2]).fill_nan(None),\n",
    "    (pl.col(ctr_n[0]) / pl.col(tot_n[0]) * 100).round(2).alias('%ctr'+ctr_n[0]).fill_nan(None),\n",
    "    (pl.col(ctr_n[1]) / pl.col(tot_n[1]) * 100).round(2).alias('%ctr'+ctr_n[1]).fill_nan(None),\n",
    "    (pl.col(ctr_n[2]) / pl.col(tot_n[2]) * 100).round(2).alias('%ctr'+ctr_n[2]).fill_nan(None),\n",
    ").select(\n",
    "    [\"PROVNAME\", \"PROVNUM\"]+\n",
    "    [\"%emp\"+val for val in emp_n]+\n",
    "    [\"%ctr\"+val for val in ctr_n]\n",
    ").group_by([\"PROVNAME\", \"PROVNUM\"]).agg(pl.mean([\"%emp\"+val for val in emp_n]+[\"%ctr\"+val for val in ctr_n]))\n",
    "\n",
    "labeled_facilities_Mar = top_X_emp_ctr_Mar.group_by([\"PROVNAME\", \"PROVNUM\"]).agg(\n",
    "    [\n",
    "        #pl.mean(tot_n),\n",
    "        pl.mean([\"%emp\"+val for val in emp_n]),\n",
    "        pl.mean([\"%ctr\"+val for val in ctr_n]),\n",
    "    ]\n",
    ").with_columns(\n",
    "    #total_work=pl.sum_horizontal(tot_n),\n",
    "    emp_work=pl.mean_horizontal([\"%emp\"+val for val in emp_n]),\n",
    "    ctr_work=pl.mean_horizontal([\"%ctr\"+val for val in ctr_n])\n",
    ").sort(\n",
    "    'ctr_work', \n",
    "    descending=True\n",
    ")\n",
    "\n",
    "labeled_facilities_Mar = labeled_facilities_Mar.drop_nulls()\n",
    "labeled_facilities_Mar = labeled_facilities_Mar.with_columns(pl.when(pl.col(\"ctr_work\") >= pl.col(\"emp_work\")).then(pl.lit(\"Contractor\")).otherwise(pl.lit(\"Employer\")).alias(\"ML_Label\"))\n",
    "labeled_facilities_Mar = labeled_facilities_Mar.with_columns(pl.col(\"PROVNUM\").cast(pl.Utf8).alias(\"PROVNUM\"))\n",
    "labeled_facilities_Mar = labeled_facilities_Mar.rename({\"PROVNUM\": \"CMS Certification Number (CCN)\"})\n",
    "labeled_facilities_Mar = labeled_facilities_Mar[\"CMS Certification Number (CCN)\", \"ML_Label\"]\n",
    "\n",
    "out_mar = labeled_facilities_Mar.join(provider_infoMar, on=\"CMS Certification Number (CCN)\", how=\"left\")\n",
    "\n",
    "################################################################################################################### 5\n",
    "# Combine files into one dataset containing the nursing home classification and the provider information\n",
    "out = out_jan.vstack(out_feb.vstack(out_mar))\n",
    "\n",
    "################################################################################################################### 6\n",
    "out.write_csv(\"data/output.tsv\", separator='\\t')\n"
   ],
   "id": "e4c6acfa333c7080",
   "outputs": [
    {
     "name": "stdout",
     "output_type": "stream",
     "text": [
      "shape: (5, 5)\n",
      "┌─────────────────────────────────┬────────────┬────────────┬─────────────┬─────────────┐\n",
      "│ PROVNAME                        ┆ Hrs_RN     ┆ Hrs_LPN    ┆ Hrs_CNA     ┆ total_work  │\n",
      "│ ---                             ┆ ---        ┆ ---        ┆ ---         ┆ ---         │\n",
      "│ str                             ┆ f64        ┆ f64        ┆ f64         ┆ f64         │\n",
      "╞═════════════════════════════════╪════════════╪════════════╪═════════════╪═════════════╡\n",
      "│ ISABELLA GERIATRIC CENTER INC   ┆ 355.871758 ┆ 305.090549 ┆ 1508.942527 ┆ 2169.904835 │\n",
      "│ KINGS HARBOR MULTICARE CENTER   ┆ 259.547582 ┆ 435.883407 ┆ 1424.949231 ┆ 2120.38022  │\n",
      "│ COLER REHABILITATION AND NURSI… ┆ 488.407802 ┆ 242.79011  ┆ 1338.508681 ┆ 2069.706593 │\n",
      "│ THE PLAZA REHAB AND NURSING CE… ┆ 343.085824 ┆ 325.310549 ┆ 1274.604725 ┆ 1943.001099 │\n",
      "│ COLD SPRING HILLS CENTER FOR N… ┆ 253.788791 ┆ 320.260989 ┆ 1352.201758 ┆ 1926.251538 │\n",
      "└─────────────────────────────────┴────────────┴────────────┴─────────────┴─────────────┘\n",
      "shape: (5, 8)\n",
      "┌────────────┬─────────┬────────────┬────────────┬────────────┬────────────┬───────────┬───────────┐\n",
      "│ PROVNAME   ┆ PROVNUM ┆ %empHrs_RN ┆ %empHrs_LP ┆ %empHrs_CN ┆ %ctrHrs_RN ┆ %ctrHrs_L ┆ %ctrHrs_C │\n",
      "│ ---        ┆ ---     ┆ _emp       ┆ N_emp      ┆ A_emp      ┆ _ctr       ┆ PN_ctr    ┆ NA_ctr    │\n",
      "│ str        ┆ i64     ┆ ---        ┆ ---        ┆ ---        ┆ ---        ┆ ---       ┆ ---       │\n",
      "│            ┆         ┆ f64        ┆ f64        ┆ f64        ┆ f64        ┆ f64       ┆ f64       │\n",
      "╞════════════╪═════════╪════════════╪════════════╪════════════╪════════════╪═══════════╪═══════════╡\n",
      "│ SUNNYSIDE  ┆ 106053  ┆ 100.0      ┆ 98.239451  ┆ 100.0      ┆ 0.0        ┆ 1.760549  ┆ 0.0       │\n",
      "│ NURSING    ┆         ┆            ┆            ┆            ┆            ┆           ┆           │\n",
      "│ HOME       ┆         ┆            ┆            ┆            ┆            ┆           ┆           │\n",
      "│ ALCESTER   ┆ 435062  ┆ 98.763077  ┆ 78.064494  ┆ 86.76044   ┆ 1.236923   ┆ 21.935506 ┆ 13.23956  │\n",
      "│ CARE AND   ┆         ┆            ┆            ┆            ┆            ┆           ┆           │\n",
      "│ REHAB      ┆         ┆            ┆            ┆            ┆            ┆           ┆           │\n",
      "│ CENTER…    ┆         ┆            ┆            ┆            ┆            ┆           ┆           │\n",
      "│ GOOD       ┆ 435095  ┆ 99.536484  ┆ 100.0      ┆ 94.672637  ┆ 0.463516   ┆ 0.0       ┆ 5.327363  │\n",
      "│ SAMARITAN  ┆         ┆            ┆            ┆            ┆            ┆           ┆           │\n",
      "│ SOCIETY    ┆         ┆            ┆            ┆            ┆            ┆           ┆           │\n",
      "│ SCOTLAN…   ┆         ┆            ┆            ┆            ┆            ┆           ┆           │\n",
      "│ FUTURE     ┆ 215364  ┆ 99.666044  ┆ 100.0      ┆ 100.0      ┆ 0.333956   ┆ 0.0       ┆ 0.0       │\n",
      "│ CARE       ┆         ┆            ┆            ┆            ┆            ┆           ┆           │\n",
      "│ CAPITAL    ┆         ┆            ┆            ┆            ┆            ┆           ┆           │\n",
      "│ REGION     ┆         ┆            ┆            ┆            ┆            ┆           ┆           │\n",
      "│ FAIRVIEW   ┆ 335146  ┆ 97.222308  ┆ 100.0      ┆ 99.103956  ┆ 2.777692   ┆ 0.0       ┆ 0.896044  │\n",
      "│ NURSING    ┆         ┆            ┆            ┆            ┆            ┆           ┆           │\n",
      "│ CARE       ┆         ┆            ┆            ┆            ┆            ┆           ┆           │\n",
      "│ CENTER I…  ┆         ┆            ┆            ┆            ┆            ┆           ┆           │\n",
      "└────────────┴─────────┴────────────┴────────────┴────────────┴────────────┴───────────┴───────────┘\n",
      "shape: (5, 10)\n",
      "┌────────────┬─────────┬────────────┬────────────┬───┬───────────┬───────────┬──────────┬──────────┐\n",
      "│ PROVNAME   ┆ PROVNUM ┆ %empHrs_RN ┆ %empHrs_LP ┆ … ┆ %ctrHrs_L ┆ %ctrHrs_C ┆ emp_work ┆ ctr_work │\n",
      "│ ---        ┆ ---     ┆ _emp       ┆ N_emp      ┆   ┆ PN_ctr    ┆ NA_ctr    ┆ ---      ┆ ---      │\n",
      "│ str        ┆ i64     ┆ ---        ┆ ---        ┆   ┆ ---       ┆ ---       ┆ f64      ┆ f64      │\n",
      "│            ┆         ┆ f64        ┆ f64        ┆   ┆ f64       ┆ f64       ┆          ┆          │\n",
      "╞════════════╪═════════╪════════════╪════════════╪═══╪═══════════╪═══════════╪══════════╪══════════╡\n",
      "│ ST         ┆ 315471  ┆ null       ┆ null       ┆ … ┆ null      ┆ null      ┆ null     ┆ null     │\n",
      "│ CATHERINE  ┆         ┆            ┆            ┆   ┆           ┆           ┆          ┆          │\n",
      "│ OF SIENA   ┆         ┆            ┆            ┆   ┆           ┆           ┆          ┆          │\n",
      "│ WHITE      ┆ 45401   ┆ null       ┆ null       ┆ … ┆ null      ┆ null      ┆ null     ┆ null     │\n",
      "│ RIVER      ┆         ┆            ┆            ┆   ┆           ┆           ┆          ┆          │\n",
      "│ HEALTHCARE ┆         ┆            ┆            ┆   ┆           ┆           ┆          ┆          │\n",
      "│ CUMMING    ┆ 115551  ┆ 0.0        ┆ 0.0        ┆ … ┆ 100.0     ┆ 100.0     ┆ 0.0      ┆ 100.0    │\n",
      "│ OPERATING  ┆         ┆            ┆            ┆   ┆           ┆           ┆          ┆          │\n",
      "│ COMPANY    ┆         ┆            ┆            ┆   ┆           ┆           ┆          ┆          │\n",
      "│ LLC        ┆         ┆            ┆            ┆   ┆           ┆           ┆          ┆          │\n",
      "│ HILL       ┆ 675980  ┆ 0.0        ┆ 0.0        ┆ … ┆ 100.0     ┆ 100.0     ┆ 0.0      ┆ 100.0    │\n",
      "│ COUNTRY    ┆         ┆            ┆            ┆   ┆           ┆           ┆          ┆          │\n",
      "│ NURSING    ┆         ┆            ┆            ┆   ┆           ┆           ┆          ┆          │\n",
      "│ AND REHAB  ┆         ┆            ┆            ┆   ┆           ┆           ┆          ┆          │\n",
      "│ HARMON     ┆ 295048  ┆ 0.0        ┆ 0.0        ┆ … ┆ 100.0     ┆ 100.0     ┆ 0.0      ┆ 100.0    │\n",
      "│ HOSPITAL - ┆         ┆            ┆            ┆   ┆           ┆           ┆          ┆          │\n",
      "│ SNF        ┆         ┆            ┆            ┆   ┆           ┆           ┆          ┆          │\n",
      "└────────────┴─────────┴────────────┴────────────┴───┴───────────┴───────────┴──────────┴──────────┘\n"
     ]
    },
    {
     "data": {
      "text/plain": [
       "<Figure size 640x480 with 1 Axes>"
      ],
      "image/png": "[encoded data removed]"
     },
     "metadata": {},
     "output_type": "display_data"
    },
    {
     "name": "stdout",
     "output_type": "stream",
     "text": [
      "Contracted Nurses work Smaller Percentages of all Hours\n"
     ]
    },
    {
     "data": {
      "text/plain": [
       "<Figure size 640x480 with 1 Axes>"
      ],
      "image/png": "[encoded data removed]"
     },
     "metadata": {},
     "output_type": "display_data"
    },
    {
     "name": "stdout",
     "output_type": "stream",
     "text": [
      "Employed Nurses work Most Hours\n"
     ]
    },
    {
     "data": {
      "text/plain": [
       "<Figure size 640x480 with 1 Axes>"
      ],
      "image/png": "[encoded data removed]"
     },
     "metadata": {},
     "output_type": "display_data"
    },
    {
     "name": "stdout",
     "output_type": "stream",
     "text": [
      "Most facilities have a smaller number of Registered Nnurses, and therefore less total worked hours\n"
     ]
    },
    {
     "data": {
      "application/vnd.plotly.v1+json": {
       "data": [
        {
         "hovertemplate": "WorkDate=%{x}<br>RNs=%{y}<extra></extra>",
         "legendgroup": "",
         "line": {
          "color": "#636efa",
          "dash": "solid"
         },
         "marker": {
          "symbol": "circle"
         },
         "mode": "lines",
         "name": "",
         "orientation": "v",
         "showlegend": false,
         "x": [
          "2024-03-31T00:00:00",
          "2024-03-30T00:00:00",
          "2024-03-29T00:00:00",
          "2024-03-28T00:00:00",
          "2024-03-27T00:00:00",
          "2024-03-26T00:00:00",
          "2024-03-25T00:00:00",
          "2024-03-24T00:00:00",
          "2024-03-23T00:00:00",
          "2024-03-22T00:00:00",
          "2024-03-21T00:00:00",
          "2024-03-20T00:00:00",
          "2024-03-19T00:00:00",
          "2024-03-18T00:00:00",
          "2024-03-17T00:00:00",
          "2024-03-16T00:00:00",
          "2024-03-15T00:00:00",
          "2024-03-14T00:00:00",
          "2024-03-13T00:00:00",
          "2024-03-12T00:00:00",
          "2024-03-11T00:00:00",
          "2024-03-10T00:00:00",
          "2024-03-09T00:00:00",
          "2024-03-08T00:00:00",
          "2024-03-07T00:00:00",
          "2024-03-06T00:00:00",
          "2024-03-05T00:00:00",
          "2024-03-04T00:00:00",
          "2024-03-03T00:00:00",
          "2024-03-02T00:00:00",
          "2024-03-01T00:00:00",
          "2024-02-29T00:00:00",
          "2024-02-28T00:00:00",
          "2024-02-27T00:00:00",
          "2024-02-26T00:00:00",
          "2024-02-25T00:00:00",
          "2024-02-24T00:00:00",
          "2024-02-23T00:00:00",
          "2024-02-22T00:00:00",
          "2024-02-21T00:00:00",
          "2024-02-20T00:00:00",
          "2024-02-19T00:00:00",
          "2024-02-18T00:00:00",
          "2024-02-17T00:00:00",
          "2024-02-16T00:00:00",
          "2024-02-15T00:00:00",
          "2024-02-14T00:00:00",
          "2024-02-13T00:00:00",
          "2024-02-12T00:00:00",
          "2024-02-11T00:00:00",
          "2024-02-10T00:00:00",
          "2024-02-09T00:00:00",
          "2024-02-08T00:00:00",
          "2024-02-07T00:00:00",
          "2024-02-06T00:00:00",
          "2024-02-05T00:00:00",
          "2024-02-04T00:00:00",
          "2024-02-03T00:00:00",
          "2024-02-02T00:00:00",
          "2024-02-01T00:00:00",
          "2024-01-31T00:00:00",
          "2024-01-30T00:00:00",
          "2024-01-29T00:00:00",
          "2024-01-28T00:00:00",
          "2024-01-27T00:00:00",
          "2024-01-26T00:00:00",
          "2024-01-25T00:00:00",
          "2024-01-24T00:00:00",
          "2024-01-23T00:00:00",
          "2024-01-22T00:00:00",
          "2024-01-21T00:00:00",
          "2024-01-20T00:00:00",
          "2024-01-19T00:00:00",
          "2024-01-18T00:00:00",
          "2024-01-17T00:00:00",
          "2024-01-16T00:00:00",
          "2024-01-15T00:00:00",
          "2024-01-14T00:00:00",
          "2024-01-13T00:00:00",
          "2024-01-12T00:00:00",
          "2024-01-11T00:00:00",
          "2024-01-10T00:00:00",
          "2024-01-09T00:00:00",
          "2024-01-08T00:00:00",
          "2024-01-07T00:00:00",
          "2024-01-06T00:00:00",
          "2024-01-05T00:00:00",
          "2024-01-04T00:00:00",
          "2024-01-03T00:00:00",
          "2024-01-02T00:00:00",
          "2024-01-01T00:00:00"
         ],
         "xaxis": "x",
         "y": [
          32.04826064458899,
          33.026485557586845,
          37.3506400060024,
          38.8977134903318,
          39.10870707070707,
          39.32434270716162,
          38.34986664668864,
          32.83957509372932,
          33.48302084095063,
          38.24029345710434,
          39.36467641544807,
          39.42799910105626,
          39.47416616586539,
          38.68708954664668,
          33.03924802110817,
          33.52884916282811,
          38.25476625028049,
          39.11831318062335,
          39.260057574398076,
          39.32340811885646,
          38.41973696043166,
          32.19352587155964,
          33.45024046192077,
          38.26716775110312,
          39.47927436958976,
          39.35141120864281,
          39.512149842034,
          38.49420863578537,
          33.01696603718343,
          33.37140530275364,
          38.27539523023848,
          39.46226930036188,
          39.54386176426539,
          39.55127428185705,
          38.67278484803113,
          32.97485408417657,
          33.442964371936505,
          38.30498240095858,
          39.32214612557196,
          39.57397661695272,
          39.34873758651821,
          37.834212339023665,
          32.99184158560668,
          33.2870002915877,
          38.29976782504493,
          39.108575389688234,
          39.02597707178181,
          39.20513758716353,
          38.3560740796281,
          32.798961680176866,
          33.38867301354816,
          38.339859925093634,
          39.295255266511724,
          39.44324676296685,
          39.536778806352075,
          38.62933158486324,
          32.94082314170633,
          33.38611679579009,
          38.275177836016475,
          39.28358663757432,
          39.471843860043464,
          39.463091838268454,
          38.45707653137636,
          32.86963957337257,
          33.30365748204603,
          38.355500525288896,
          39.23485369147659,
          39.223455568053986,
          39.0841410488246,
          38.21690020274837,
          32.74065115254735,
          33.26894371345029,
          37.815975910825166,
          38.80310726383139,
          38.86282520630157,
          38.75119377031827,
          37.20649397590361,
          32.3518625,
          32.85155936424229,
          37.61566551620649,
          38.77343397078752,
          38.79190361807535,
          38.559632708585255,
          37.62568789426254,
          32.136625505328915,
          32.74375843850895,
          37.55973797153829,
          38.30352901178604,
          38.117468297101446,
          37.47649727355346,
          32.77656686177398
         ],
         "yaxis": "y",
         "type": "scatter"
        }
       ],
       "layout": {
        "template": {
         "data": {
          "histogram2dcontour": [
           {
            "type": "histogram2dcontour",
            "colorbar": {
             "outlinewidth": 0,
             "ticks": ""
            },
            "colorscale": [
             [
              0.0,
              "#0d0887"
             ],
             [
              0.1111111111111111,
              "#46039f"
             ],
             [
              0.2222222222222222,
              "#7201a8"
             ],
             [
              0.3333333333333333,
              "#9c179e"
             ],
             [
              0.4444444444444444,
              "#bd3786"
             ],
             [
              0.5555555555555556,
              "#d8576b"
             ],
             [
              0.6666666666666666,
              "#ed7953"
             ],
             [
              0.7777777777777778,
              "#fb9f3a"
             ],
             [
              0.8888888888888888,
              "#fdca26"
             ],
             [
              1.0,
              "#f0f921"
             ]
            ]
           }
          ],
          "choropleth": [
           {
            "type": "choropleth",
            "colorbar": {
             "outlinewidth": 0,
             "ticks": ""
            }
           }
          ],
          "histogram2d": [
           {
            "type": "histogram2d",
            "colorbar": {
             "outlinewidth": 0,
             "ticks": ""
            },
            "colorscale": [
             [
              0.0,
              "#0d0887"
             ],
             [
              0.1111111111111111,
              "#46039f"
             ],
             [
              0.2222222222222222,
              "#7201a8"
             ],
             [
              0.3333333333333333,
              "#9c179e"
             ],
             [
              0.4444444444444444,
              "#bd3786"
             ],
             [
              0.5555555555555556,
              "#d8576b"
             ],
             [
              0.6666666666666666,
              "#ed7953"
             ],
             [
              0.7777777777777778,
              "#fb9f3a"
             ],
             [
              0.8888888888888888,
              "#fdca26"
             ],
             [
              1.0,
              "#f0f921"
             ]
            ]
           }
          ],
          "heatmap": [
           {
            "type": "heatmap",
            "colorbar": {
             "outlinewidth": 0,
             "ticks": ""
            },
            "colorscale": [
             [
              0.0,
              "#0d0887"
             ],
             [
              0.1111111111111111,
              "#46039f"
             ],
             [
              0.2222222222222222,
              "#7201a8"
             ],
             [
              0.3333333333333333,
              "#9c179e"
             ],
             [
              0.4444444444444444,
              "#bd3786"
             ],
             [
              0.5555555555555556,
              "#d8576b"
             ],
             [
              0.6666666666666666,
              "#ed7953"
             ],
             [
              0.7777777777777778,
              "#fb9f3a"
             ],
             [
              0.8888888888888888,
              "#fdca26"
             ],
             [
              1.0,
              "#f0f921"
             ]
            ]
           }
          ],
          "heatmapgl": [
           {
            "type": "heatmapgl",
            "colorbar": {
             "outlinewidth": 0,
             "ticks": ""
            },
            "colorscale": [
             [
              0.0,
              "#0d0887"
             ],
             [
              0.1111111111111111,
              "#46039f"
             ],
             [
              0.2222222222222222,
              "#7201a8"
             ],
             [
              0.3333333333333333,
              "#9c179e"
             ],
             [
              0.4444444444444444,
              "#bd3786"
             ],
             [
              0.5555555555555556,
              "#d8576b"
             ],
             [
              0.6666666666666666,
              "#ed7953"
             ],
             [
              0.7777777777777778,
              "#fb9f3a"
             ],
             [
              0.8888888888888888,
              "#fdca26"
             ],
             [
              1.0,
              "#f0f921"
             ]
            ]
           }
          ],
          "contourcarpet": [
           {
            "type": "contourcarpet",
            "colorbar": {
             "outlinewidth": 0,
             "ticks": ""
            }
           }
          ],
          "contour": [
           {
            "type": "contour",
            "colorbar": {
             "outlinewidth": 0,
             "ticks": ""
            },
            "colorscale": [
             [
              0.0,
              "#0d0887"
             ],
             [
              0.1111111111111111,
              "#46039f"
             ],
             [
              0.2222222222222222,
              "#7201a8"
             ],
             [
              0.3333333333333333,
              "#9c179e"
             ],
             [
              0.4444444444444444,
              "#bd3786"
             ],
             [
              0.5555555555555556,
              "#d8576b"
             ],
             [
              0.6666666666666666,
              "#ed7953"
             ],
             [
              0.7777777777777778,
              "#fb9f3a"
             ],
             [
              0.8888888888888888,
              "#fdca26"
             ],
             [
              1.0,
              "#f0f921"
             ]
            ]
           }
          ],
          "surface": [
           {
            "type": "surface",
            "colorbar": {
             "outlinewidth": 0,
             "ticks": ""
            },
            "colorscale": [
             [
              0.0,
              "#0d0887"
             ],
             [
              0.1111111111111111,
              "#46039f"
             ],
             [
              0.2222222222222222,
              "#7201a8"
             ],
             [
              0.3333333333333333,
              "#9c179e"
             ],
             [
              0.4444444444444444,
              "#bd3786"
             ],
             [
              0.5555555555555556,
              "#d8576b"
             ],
             [
              0.6666666666666666,
              "#ed7953"
             ],
             [
              0.7777777777777778,
              "#fb9f3a"
             ],
             [
              0.8888888888888888,
              "#fdca26"
             ],
             [
              1.0,
              "#f0f921"
             ]
            ]
           }
          ],
          "mesh3d": [
           {
            "type": "mesh3d",
            "colorbar": {
             "outlinewidth": 0,
             "ticks": ""
            }
           }
          ],
          "scatter": [
           {
            "marker": {
             "line": {
              "color": "#283442"
             }
            },
            "type": "scatter"
           }
          ],
          "parcoords": [
           {
            "type": "parcoords",
            "line": {
             "colorbar": {
              "outlinewidth": 0,
              "ticks": ""
             }
            }
           }
          ],
          "scatterpolargl": [
           {
            "type": "scatterpolargl",
            "marker": {
             "colorbar": {
              "outlinewidth": 0,
              "ticks": ""
             }
            }
           }
          ],
          "bar": [
           {
            "error_x": {
             "color": "#f2f5fa"
            },
            "error_y": {
             "color": "#f2f5fa"
            },
            "marker": {
             "line": {
              "color": "rgb(17,17,17)",
              "width": 0.5
             },
             "pattern": {
              "fillmode": "overlay",
              "size": 10,
              "solidity": 0.2
             }
            },
            "type": "bar"
           }
          ],
          "scattergeo": [
           {
            "type": "scattergeo",
            "marker": {
             "colorbar": {
              "outlinewidth": 0,
              "ticks": ""
             }
            }
           }
          ],
          "scatterpolar": [
           {
            "type": "scatterpolar",
            "marker": {
             "colorbar": {
              "outlinewidth": 0,
              "ticks": ""
             }
            }
           }
          ],
          "histogram": [
           {
            "marker": {
             "pattern": {
              "fillmode": "overlay",
              "size": 10,
              "solidity": 0.2
             }
            },
            "type": "histogram"
           }
          ],
          "scattergl": [
           {
            "marker": {
             "line": {
              "color": "#283442"
             }
            },
            "type": "scattergl"
           }
          ],
          "scatter3d": [
           {
            "type": "scatter3d",
            "line": {
             "colorbar": {
              "outlinewidth": 0,
              "ticks": ""
             }
            },
            "marker": {
             "colorbar": {
              "outlinewidth": 0,
              "ticks": ""
             }
            }
           }
          ],
          "scattermapbox": [
           {
            "type": "scattermapbox",
            "marker": {
             "colorbar": {
              "outlinewidth": 0,
              "ticks": ""
             }
            }
           }
          ],
          "scatterternary": [
           {
            "type": "scatterternary",
            "marker": {
             "colorbar": {
              "outlinewidth": 0,
              "ticks": ""
             }
            }
           }
          ],
          "scattercarpet": [
           {
            "type": "scattercarpet",
            "marker": {
             "colorbar": {
              "outlinewidth": 0,
              "ticks": ""
             }
            }
           }
          ],
          "carpet": [
           {
            "aaxis": {
             "endlinecolor": "#A2B1C6",
             "gridcolor": "#506784",
             "linecolor": "#506784",
             "minorgridcolor": "#506784",
             "startlinecolor": "#A2B1C6"
            },
            "baxis": {
             "endlinecolor": "#A2B1C6",
             "gridcolor": "#506784",
             "linecolor": "#506784",
             "minorgridcolor": "#506784",
             "startlinecolor": "#A2B1C6"
            },
            "type": "carpet"
           }
          ],
          "table": [
           {
            "cells": {
             "fill": {
              "color": "#506784"
             },
             "line": {
              "color": "rgb(17,17,17)"
             }
            },
            "header": {
             "fill": {
              "color": "#2a3f5f"
             },
             "line": {
              "color": "rgb(17,17,17)"
             }
            },
            "type": "table"
           }
          ],
          "barpolar": [
           {
            "marker": {
             "line": {
              "color": "rgb(17,17,17)",
              "width": 0.5
             },
             "pattern": {
              "fillmode": "overlay",
              "size": 10,
              "solidity": 0.2
             }
            },
            "type": "barpolar"
           }
          ],
          "pie": [
           {
            "automargin": true,
            "type": "pie"
           }
          ]
         },
         "layout": {
          "autotypenumbers": "strict",
          "colorway": [
           "#636efa",
           "#EF553B",
           "#00cc96",
           "#ab63fa",
           "#FFA15A",
           "#19d3f3",
           "#FF6692",
           "#B6E880",
           "#FF97FF",
           "#FECB52"
          ],
          "font": {
           "color": "#f2f5fa"
          },
          "hovermode": "closest",
          "hoverlabel": {
           "align": "left"
          },
          "paper_bgcolor": "rgb(17,17,17)",
          "plot_bgcolor": "rgb(17,17,17)",
          "polar": {
           "bgcolor": "rgb(17,17,17)",
           "angularaxis": {
            "gridcolor": "#506784",
            "linecolor": "#506784",
            "ticks": ""
           },
           "radialaxis": {
            "gridcolor": "#506784",
            "linecolor": "#506784",
            "ticks": ""
           }
          },
          "ternary": {
           "bgcolor": "rgb(17,17,17)",
           "aaxis": {
            "gridcolor": "#506784",
            "linecolor": "#506784",
            "ticks": ""
           },
           "baxis": {
            "gridcolor": "#506784",
            "linecolor": "#506784",
            "ticks": ""
           },
           "caxis": {
            "gridcolor": "#506784",
            "linecolor": "#506784",
            "ticks": ""
           }
          },
          "coloraxis": {
           "colorbar": {
            "outlinewidth": 0,
            "ticks": ""
           }
          },
          "colorscale": {
           "sequential": [
            [
             0.0,
             "#0d0887"
            ],
            [
             0.1111111111111111,
             "#46039f"
            ],
            [
             0.2222222222222222,
             "#7201a8"
            ],
            [
             0.3333333333333333,
             "#9c179e"
            ],
            [
             0.4444444444444444,
             "#bd3786"
            ],
            [
             0.5555555555555556,
             "#d8576b"
            ],
            [
             0.6666666666666666,
             "#ed7953"
            ],
            [
             0.7777777777777778,
             "#fb9f3a"
            ],
            [
             0.8888888888888888,
             "#fdca26"
            ],
            [
             1.0,
             "#f0f921"
            ]
           ],
           "sequentialminus": [
            [
             0.0,
             "#0d0887"
            ],
            [
             0.1111111111111111,
             "#46039f"
            ],
            [
             0.2222222222222222,
             "#7201a8"
            ],
            [
             0.3333333333333333,
             "#9c179e"
            ],
            [
             0.4444444444444444,
             "#bd3786"
            ],
            [
             0.5555555555555556,
             "#d8576b"
            ],
            [
             0.6666666666666666,
             "#ed7953"
            ],
            [
             0.7777777777777778,
             "#fb9f3a"
            ],
            [
             0.8888888888888888,
             "#fdca26"
            ],
            [
             1.0,
             "#f0f921"
            ]
           ],
           "diverging": [
            [
             0,
             "#8e0152"
            ],
            [
             0.1,
             "#c51b7d"
            ],
            [
             0.2,
             "#de77ae"
            ],
            [
             0.3,
             "#f1b6da"
            ],
            [
             0.4,
             "#fde0ef"
            ],
            [
             0.5,
             "#f7f7f7"
            ],
            [
             0.6,
             "#e6f5d0"
            ],
            [
             0.7,
             "#b8e186"
            ],
            [
             0.8,
             "#7fbc41"
            ],
            [
             0.9,
             "#4d9221"
            ],
            [
             1,
             "#276419"
            ]
           ]
          },
          "xaxis": {
           "gridcolor": "#283442",
           "linecolor": "#506784",
           "ticks": "",
           "title": {
            "standoff": 15
           },
           "zerolinecolor": "#283442",
           "automargin": true,
           "zerolinewidth": 2
          },
          "yaxis": {
           "gridcolor": "#283442",
           "linecolor": "#506784",
           "ticks": "",
           "title": {
            "standoff": 15
           },
           "zerolinecolor": "#283442",
           "automargin": true,
           "zerolinewidth": 2
          },
          "scene": {
           "xaxis": {
            "backgroundcolor": "rgb(17,17,17)",
            "gridcolor": "#506784",
            "linecolor": "#506784",
            "showbackground": true,
            "ticks": "",
            "zerolinecolor": "#C8D4E3",
            "gridwidth": 2
           },
           "yaxis": {
            "backgroundcolor": "rgb(17,17,17)",
            "gridcolor": "#506784",
            "linecolor": "#506784",
            "showbackground": true,
            "ticks": "",
            "zerolinecolor": "#C8D4E3",
            "gridwidth": 2
           },
           "zaxis": {
            "backgroundcolor": "rgb(17,17,17)",
            "gridcolor": "#506784",
            "linecolor": "#506784",
            "showbackground": true,
            "ticks": "",
            "zerolinecolor": "#C8D4E3",
            "gridwidth": 2
           }
          },
          "shapedefaults": {
           "line": {
            "color": "#f2f5fa"
           }
          },
          "annotationdefaults": {
           "arrowcolor": "#f2f5fa",
           "arrowhead": 0,
           "arrowwidth": 1
          },
          "geo": {
           "bgcolor": "rgb(17,17,17)",
           "landcolor": "rgb(17,17,17)",
           "subunitcolor": "#506784",
           "showland": true,
           "showlakes": true,
           "lakecolor": "rgb(17,17,17)"
          },
          "title": {
           "x": 0.05
          },
          "updatemenudefaults": {
           "bgcolor": "#506784",
           "borderwidth": 0
          },
          "sliderdefaults": {
           "bgcolor": "#C8D4E3",
           "borderwidth": 1,
           "bordercolor": "rgb(17,17,17)",
           "tickwidth": 0
          },
          "mapbox": {
           "style": "dark"
          }
         }
        },
        "xaxis": {
         "anchor": "y",
         "domain": [
          0.0,
          1.0
         ],
         "title": {
          "text": "WorkDate"
         }
        },
        "yaxis": {
         "anchor": "x",
         "domain": [
          0.0,
          1.0
         ],
         "title": {
          "text": "RNs"
         }
        },
        "legend": {
         "tracegroupgap": 0
        },
        "title": {
         "text": "Daily Worked Total Mean Hours by Contract & Employee Registered Nurses"
        }
       },
       "config": {
        "plotlyServerURL": "https://plot.ly"
       }
      },
      "text/html": [
       "<div>                            <div id=\"119d9cec-13fd-4683-8290-5cc4e4de2bf5\" class=\"plotly-graph-div\" style=\"height:525px; width:100%;\"></div>            <script type=\"text/javascript\">                require([\"plotly\"], function(Plotly) {                    window.PLOTLYENV=window.PLOTLYENV || {};                                    if (document.getElementById(\"119d9cec-13fd-4683-8290-5cc4e4de2bf5\")) {                    Plotly.newPlot(                        \"119d9cec-13fd-4683-8290-5cc4e4de2bf5\",                        [{\"hovertemplate\":\"WorkDate=%{x}\\u003cbr\\u003eRNs=%{y}\\u003cextra\\u003e\\u003c\\u002fextra\\u003e\",\"legendgroup\":\"\",\"line\":{\"color\":\"#636efa\",\"dash\":\"solid\"},\"marker\":{\"symbol\":\"circle\"},\"mode\":\"lines\",\"name\":\"\",\"orientation\":\"v\",\"showlegend\":false,\"x\":[\"2024-03-31T00:00:00\",\"2024-03-30T00:00:00\",\"2024-03-29T00:00:00\",\"2024-03-28T00:00:00\",\"2024-03-27T00:00:00\",\"2024-03-26T00:00:00\",\"2024-03-25T00:00:00\",\"2024-03-24T00:00:00\",\"2024-03-23T00:00:00\",\"2024-03-22T00:00:00\",\"2024-03-21T00:00:00\",\"2024-03-20T00:00:00\",\"2024-03-19T00:00:00\",\"2024-03-18T00:00:00\",\"2024-03-17T00:00:00\",\"2024-03-16T00:00:00\",\"2024-03-15T00:00:00\",\"2024-03-14T00:00:00\",\"2024-03-13T00:00:00\",\"2024-03-12T00:00:00\",\"2024-03-11T00:00:00\",\"2024-03-10T00:00:00\",\"2024-03-09T00:00:00\",\"2024-03-08T00:00:00\",\"2024-03-07T00:00:00\",\"2024-03-06T00:00:00\",\"2024-03-05T00:00:00\",\"2024-03-04T00:00:00\",\"2024-03-03T00:00:00\",\"2024-03-02T00:00:00\",\"2024-03-01T00:00:00\",\"2024-02-29T00:00:00\",\"2024-02-28T00:00:00\",\"2024-02-27T00:00:00\",\"2024-02-26T00:00:00\",\"2024-02-25T00:00:00\",\"2024-02-24T00:00:00\",\"2024-02-23T00:00:00\",\"2024-02-22T00:00:00\",\"2024-02-21T00:00:00\",\"2024-02-20T00:00:00\",\"2024-02-19T00:00:00\",\"2024-02-18T00:00:00\",\"2024-02-17T00:00:00\",\"2024-02-16T00:00:00\",\"2024-02-15T00:00:00\",\"2024-02-14T00:00:00\",\"2024-02-13T00:00:00\",\"2024-02-12T00:00:00\",\"2024-02-11T00:00:00\",\"2024-02-10T00:00:00\",\"2024-02-09T00:00:00\",\"2024-02-08T00:00:00\",\"2024-02-07T00:00:00\",\"2024-02-06T00:00:00\",\"2024-02-05T00:00:00\",\"2024-02-04T00:00:00\",\"2024-02-03T00:00:00\",\"2024-02-02T00:00:00\",\"2024-02-01T00:00:00\",\"2024-01-31T00:00:00\",\"2024-01-30T00:00:00\",\"2024-01-29T00:00:00\",\"2024-01-28T00:00:00\",\"2024-01-27T00:00:00\",\"2024-01-26T00:00:00\",\"2024-01-25T00:00:00\",\"2024-01-24T00:00:00\",\"2024-01-23T00:00:00\",\"2024-01-22T00:00:00\",\"2024-01-21T00:00:00\",\"2024-01-20T00:00:00\",\"2024-01-19T00:00:00\",\"2024-01-18T00:00:00\",\"2024-01-17T00:00:00\",\"2024-01-16T00:00:00\",\"2024-01-15T00:00:00\",\"2024-01-14T00:00:00\",\"2024-01-13T00:00:00\",\"2024-01-12T00:00:00\",\"2024-01-11T00:00:00\",\"2024-01-10T00:00:00\",\"2024-01-09T00:00:00\",\"2024-01-08T00:00:00\",\"2024-01-07T00:00:00\",\"2024-01-06T00:00:00\",\"2024-01-05T00:00:00\",\"2024-01-04T00:00:00\",\"2024-01-03T00:00:00\",\"2024-01-02T00:00:00\",\"2024-01-01T00:00:00\"],\"xaxis\":\"x\",\"y\":[32.04826064458899,33.026485557586845,37.3506400060024,38.8977134903318,39.10870707070707,39.32434270716162,38.34986664668864,32.83957509372932,33.48302084095063,38.24029345710434,39.36467641544807,39.42799910105626,39.47416616586539,38.68708954664668,33.03924802110817,33.52884916282811,38.25476625028049,39.11831318062335,39.260057574398076,39.32340811885646,38.41973696043166,32.19352587155964,33.45024046192077,38.26716775110312,39.47927436958976,39.35141120864281,39.512149842034,38.49420863578537,33.01696603718343,33.37140530275364,38.27539523023848,39.46226930036188,39.54386176426539,39.55127428185705,38.67278484803113,32.97485408417657,33.442964371936505,38.30498240095858,39.32214612557196,39.57397661695272,39.34873758651821,37.834212339023665,32.99184158560668,33.2870002915877,38.29976782504493,39.108575389688234,39.02597707178181,39.20513758716353,38.3560740796281,32.798961680176866,33.38867301354816,38.339859925093634,39.295255266511724,39.44324676296685,39.536778806352075,38.62933158486324,32.94082314170633,33.38611679579009,38.275177836016475,39.28358663757432,39.471843860043464,39.463091838268454,38.45707653137636,32.86963957337257,33.30365748204603,38.355500525288896,39.23485369147659,39.223455568053986,39.0841410488246,38.21690020274837,32.74065115254735,33.26894371345029,37.815975910825166,38.80310726383139,38.86282520630157,38.75119377031827,37.20649397590361,32.3518625,32.85155936424229,37.61566551620649,38.77343397078752,38.79190361807535,38.559632708585255,37.62568789426254,32.136625505328915,32.74375843850895,37.55973797153829,38.30352901178604,38.117468297101446,37.47649727355346,32.77656686177398],\"yaxis\":\"y\",\"type\":\"scatter\"}],                        {\"template\":{\"data\":{\"histogram2dcontour\":[{\"type\":\"histogram2dcontour\",\"colorbar\":{\"outlinewidth\":0,\"ticks\":\"\"},\"colorscale\":[[0.0,\"#0d0887\"],[0.1111111111111111,\"#46039f\"],[0.2222222222222222,\"#7201a8\"],[0.3333333333333333,\"#9c179e\"],[0.4444444444444444,\"#bd3786\"],[0.5555555555555556,\"#d8576b\"],[0.6666666666666666,\"#ed7953\"],[0.7777777777777778,\"#fb9f3a\"],[0.8888888888888888,\"#fdca26\"],[1.0,\"#f0f921\"]]}],\"choropleth\":[{\"type\":\"choropleth\",\"colorbar\":{\"outlinewidth\":0,\"ticks\":\"\"}}],\"histogram2d\":[{\"type\":\"histogram2d\",\"colorbar\":{\"outlinewidth\":0,\"ticks\":\"\"},\"colorscale\":[[0.0,\"#0d0887\"],[0.1111111111111111,\"#46039f\"],[0.2222222222222222,\"#7201a8\"],[0.3333333333333333,\"#9c179e\"],[0.4444444444444444,\"#bd3786\"],[0.5555555555555556,\"#d8576b\"],[0.6666666666666666,\"#ed7953\"],[0.7777777777777778,\"#fb9f3a\"],[0.8888888888888888,\"#fdca26\"],[1.0,\"#f0f921\"]]}],\"heatmap\":[{\"type\":\"heatmap\",\"colorbar\":{\"outlinewidth\":0,\"ticks\":\"\"},\"colorscale\":[[0.0,\"#0d0887\"],[0.1111111111111111,\"#46039f\"],[0.2222222222222222,\"#7201a8\"],[0.3333333333333333,\"#9c179e\"],[0.4444444444444444,\"#bd3786\"],[0.5555555555555556,\"#d8576b\"],[0.6666666666666666,\"#ed7953\"],[0.7777777777777778,\"#fb9f3a\"],[0.8888888888888888,\"#fdca26\"],[1.0,\"#f0f921\"]]}],\"heatmapgl\":[{\"type\":\"heatmapgl\",\"colorbar\":{\"outlinewidth\":0,\"ticks\":\"\"},\"colorscale\":[[0.0,\"#0d0887\"],[0.1111111111111111,\"#46039f\"],[0.2222222222222222,\"#7201a8\"],[0.3333333333333333,\"#9c179e\"],[0.4444444444444444,\"#bd3786\"],[0.5555555555555556,\"#d8576b\"],[0.6666666666666666,\"#ed7953\"],[0.7777777777777778,\"#fb9f3a\"],[0.8888888888888888,\"#fdca26\"],[1.0,\"#f0f921\"]]}],\"contourcarpet\":[{\"type\":\"contourcarpet\",\"colorbar\":{\"outlinewidth\":0,\"ticks\":\"\"}}],\"contour\":[{\"type\":\"contour\",\"colorbar\":{\"outlinewidth\":0,\"ticks\":\"\"},\"colorscale\":[[0.0,\"#0d0887\"],[0.1111111111111111,\"#46039f\"],[0.2222222222222222,\"#7201a8\"],[0.3333333333333333,\"#9c179e\"],[0.4444444444444444,\"#bd3786\"],[0.5555555555555556,\"#d8576b\"],[0.6666666666666666,\"#ed7953\"],[0.7777777777777778,\"#fb9f3a\"],[0.8888888888888888,\"#fdca26\"],[1.0,\"#f0f921\"]]}],\"surface\":[{\"type\":\"surface\",\"colorbar\":{\"outlinewidth\":0,\"ticks\":\"\"},\"colorscale\":[[0.0,\"#0d0887\"],[0.1111111111111111,\"#46039f\"],[0.2222222222222222,\"#7201a8\"],[0.3333333333333333,\"#9c179e\"],[0.4444444444444444,\"#bd3786\"],[0.5555555555555556,\"#d8576b\"],[0.6666666666666666,\"#ed7953\"],[0.7777777777777778,\"#fb9f3a\"],[0.8888888888888888,\"#fdca26\"],[1.0,\"#f0f921\"]]}],\"mesh3d\":[{\"type\":\"mesh3d\",\"colorbar\":{\"outlinewidth\":0,\"ticks\":\"\"}}],\"scatter\":[{\"marker\":{\"line\":{\"color\":\"#283442\"}},\"type\":\"scatter\"}],\"parcoords\":[{\"type\":\"parcoords\",\"line\":{\"colorbar\":{\"outlinewidth\":0,\"ticks\":\"\"}}}],\"scatterpolargl\":[{\"type\":\"scatterpolargl\",\"marker\":{\"colorbar\":{\"outlinewidth\":0,\"ticks\":\"\"}}}],\"bar\":[{\"error_x\":{\"color\":\"#f2f5fa\"},\"error_y\":{\"color\":\"#f2f5fa\"},\"marker\":{\"line\":{\"color\":\"rgb(17,17,17)\",\"width\":0.5},\"pattern\":{\"fillmode\":\"overlay\",\"size\":10,\"solidity\":0.2}},\"type\":\"bar\"}],\"scattergeo\":[{\"type\":\"scattergeo\",\"marker\":{\"colorbar\":{\"outlinewidth\":0,\"ticks\":\"\"}}}],\"scatterpolar\":[{\"type\":\"scatterpolar\",\"marker\":{\"colorbar\":{\"outlinewidth\":0,\"ticks\":\"\"}}}],\"histogram\":[{\"marker\":{\"pattern\":{\"fillmode\":\"overlay\",\"size\":10,\"solidity\":0.2}},\"type\":\"histogram\"}],\"scattergl\":[{\"marker\":{\"line\":{\"color\":\"#283442\"}},\"type\":\"scattergl\"}],\"scatter3d\":[{\"type\":\"scatter3d\",\"line\":{\"colorbar\":{\"outlinewidth\":0,\"ticks\":\"\"}},\"marker\":{\"colorbar\":{\"outlinewidth\":0,\"ticks\":\"\"}}}],\"scattermapbox\":[{\"type\":\"scattermapbox\",\"marker\":{\"colorbar\":{\"outlinewidth\":0,\"ticks\":\"\"}}}],\"scatterternary\":[{\"type\":\"scatterternary\",\"marker\":{\"colorbar\":{\"outlinewidth\":0,\"ticks\":\"\"}}}],\"scattercarpet\":[{\"type\":\"scattercarpet\",\"marker\":{\"colorbar\":{\"outlinewidth\":0,\"ticks\":\"\"}}}],\"carpet\":[{\"aaxis\":{\"endlinecolor\":\"#A2B1C6\",\"gridcolor\":\"#506784\",\"linecolor\":\"#506784\",\"minorgridcolor\":\"#506784\",\"startlinecolor\":\"#A2B1C6\"},\"baxis\":{\"endlinecolor\":\"#A2B1C6\",\"gridcolor\":\"#506784\",\"linecolor\":\"#506784\",\"minorgridcolor\":\"#506784\",\"startlinecolor\":\"#A2B1C6\"},\"type\":\"carpet\"}],\"table\":[{\"cells\":{\"fill\":{\"color\":\"#506784\"},\"line\":{\"color\":\"rgb(17,17,17)\"}},\"header\":{\"fill\":{\"color\":\"#2a3f5f\"},\"line\":{\"color\":\"rgb(17,17,17)\"}},\"type\":\"table\"}],\"barpolar\":[{\"marker\":{\"line\":{\"color\":\"rgb(17,17,17)\",\"width\":0.5},\"pattern\":{\"fillmode\":\"overlay\",\"size\":10,\"solidity\":0.2}},\"type\":\"barpolar\"}],\"pie\":[{\"automargin\":true,\"type\":\"pie\"}]},\"layout\":{\"autotypenumbers\":\"strict\",\"colorway\":[\"#636efa\",\"#EF553B\",\"#00cc96\",\"#ab63fa\",\"#FFA15A\",\"#19d3f3\",\"#FF6692\",\"#B6E880\",\"#FF97FF\",\"#FECB52\"],\"font\":{\"color\":\"#f2f5fa\"},\"hovermode\":\"closest\",\"hoverlabel\":{\"align\":\"left\"},\"paper_bgcolor\":\"rgb(17,17,17)\",\"plot_bgcolor\":\"rgb(17,17,17)\",\"polar\":{\"bgcolor\":\"rgb(17,17,17)\",\"angularaxis\":{\"gridcolor\":\"#506784\",\"linecolor\":\"#506784\",\"ticks\":\"\"},\"radialaxis\":{\"gridcolor\":\"#506784\",\"linecolor\":\"#506784\",\"ticks\":\"\"}},\"ternary\":{\"bgcolor\":\"rgb(17,17,17)\",\"aaxis\":{\"gridcolor\":\"#506784\",\"linecolor\":\"#506784\",\"ticks\":\"\"},\"baxis\":{\"gridcolor\":\"#506784\",\"linecolor\":\"#506784\",\"ticks\":\"\"},\"caxis\":{\"gridcolor\":\"#506784\",\"linecolor\":\"#506784\",\"ticks\":\"\"}},\"coloraxis\":{\"colorbar\":{\"outlinewidth\":0,\"ticks\":\"\"}},\"colorscale\":{\"sequential\":[[0.0,\"#0d0887\"],[0.1111111111111111,\"#46039f\"],[0.2222222222222222,\"#7201a8\"],[0.3333333333333333,\"#9c179e\"],[0.4444444444444444,\"#bd3786\"],[0.5555555555555556,\"#d8576b\"],[0.6666666666666666,\"#ed7953\"],[0.7777777777777778,\"#fb9f3a\"],[0.8888888888888888,\"#fdca26\"],[1.0,\"#f0f921\"]],\"sequentialminus\":[[0.0,\"#0d0887\"],[0.1111111111111111,\"#46039f\"],[0.2222222222222222,\"#7201a8\"],[0.3333333333333333,\"#9c179e\"],[0.4444444444444444,\"#bd3786\"],[0.5555555555555556,\"#d8576b\"],[0.6666666666666666,\"#ed7953\"],[0.7777777777777778,\"#fb9f3a\"],[0.8888888888888888,\"#fdca26\"],[1.0,\"#f0f921\"]],\"diverging\":[[0,\"#8e0152\"],[0.1,\"#c51b7d\"],[0.2,\"#de77ae\"],[0.3,\"#f1b6da\"],[0.4,\"#fde0ef\"],[0.5,\"#f7f7f7\"],[0.6,\"#e6f5d0\"],[0.7,\"#b8e186\"],[0.8,\"#7fbc41\"],[0.9,\"#4d9221\"],[1,\"#276419\"]]},\"xaxis\":{\"gridcolor\":\"#283442\",\"linecolor\":\"#506784\",\"ticks\":\"\",\"title\":{\"standoff\":15},\"zerolinecolor\":\"#283442\",\"automargin\":true,\"zerolinewidth\":2},\"yaxis\":{\"gridcolor\":\"#283442\",\"linecolor\":\"#506784\",\"ticks\":\"\",\"title\":{\"standoff\":15},\"zerolinecolor\":\"#283442\",\"automargin\":true,\"zerolinewidth\":2},\"scene\":{\"xaxis\":{\"backgroundcolor\":\"rgb(17,17,17)\",\"gridcolor\":\"#506784\",\"linecolor\":\"#506784\",\"showbackground\":true,\"ticks\":\"\",\"zerolinecolor\":\"#C8D4E3\",\"gridwidth\":2},\"yaxis\":{\"backgroundcolor\":\"rgb(17,17,17)\",\"gridcolor\":\"#506784\",\"linecolor\":\"#506784\",\"showbackground\":true,\"ticks\":\"\",\"zerolinecolor\":\"#C8D4E3\",\"gridwidth\":2},\"zaxis\":{\"backgroundcolor\":\"rgb(17,17,17)\",\"gridcolor\":\"#506784\",\"linecolor\":\"#506784\",\"showbackground\":true,\"ticks\":\"\",\"zerolinecolor\":\"#C8D4E3\",\"gridwidth\":2}},\"shapedefaults\":{\"line\":{\"color\":\"#f2f5fa\"}},\"annotationdefaults\":{\"arrowcolor\":\"#f2f5fa\",\"arrowhead\":0,\"arrowwidth\":1},\"geo\":{\"bgcolor\":\"rgb(17,17,17)\",\"landcolor\":\"rgb(17,17,17)\",\"subunitcolor\":\"#506784\",\"showland\":true,\"showlakes\":true,\"lakecolor\":\"rgb(17,17,17)\"},\"title\":{\"x\":0.05},\"updatemenudefaults\":{\"bgcolor\":\"#506784\",\"borderwidth\":0},\"sliderdefaults\":{\"bgcolor\":\"#C8D4E3\",\"borderwidth\":1,\"bordercolor\":\"rgb(17,17,17)\",\"tickwidth\":0},\"mapbox\":{\"style\":\"dark\"}}},\"xaxis\":{\"anchor\":\"y\",\"domain\":[0.0,1.0],\"title\":{\"text\":\"WorkDate\"}},\"yaxis\":{\"anchor\":\"x\",\"domain\":[0.0,1.0],\"title\":{\"text\":\"RNs\"}},\"legend\":{\"tracegroupgap\":0},\"title\":{\"text\":\"Daily Worked Total Mean Hours by Contract & Employee Registered Nurses\"}},                        {\"responsive\": true}                    ).then(function(){\n",
       "                            \n",
       "var gd = document.getElementById('119d9cec-13fd-4683-8290-5cc4e4de2bf5');\n",
       "var x = new MutationObserver(function (mutations, observer) {{\n",
       "        var display = window.getComputedStyle(gd).display;\n",
       "        if (!display || display === 'none') {{\n",
       "            console.log([gd, 'removed!']);\n",
       "            Plotly.purge(gd);\n",
       "            observer.disconnect();\n",
       "        }}\n",
       "}});\n",
       "\n",
       "// Listen for the removal of the full notebook cells\n",
       "var notebookContainer = gd.closest('#notebook-container');\n",
       "if (notebookContainer) {{\n",
       "    x.observe(notebookContainer, {childList: true});\n",
       "}}\n",
       "\n",
       "// Listen for the clearing of the current output cell\n",
       "var outputEl = gd.closest('.output');\n",
       "if (outputEl) {{\n",
       "    x.observe(outputEl, {childList: true});\n",
       "}}\n",
       "\n",
       "                        })                };                });            </script>        </div>"
      ]
     },
     "metadata": {},
     "output_type": "display_data"
    },
    {
     "name": "stdout",
     "output_type": "stream",
     "text": [
      "Most Nurses will work 8 hrs, so on average all nursing homes have about 5 RNs, given the ~40hrs worked a day\n"
     ]
    },
    {
     "data": {
      "application/vnd.plotly.v1+json": {
       "data": [
        {
         "hovertemplate": "WorkDate=%{x}<br>PMs=%{y}<extra></extra>",
         "legendgroup": "",
         "line": {
          "color": "#636efa",
          "dash": "solid"
         },
         "marker": {
          "symbol": "circle"
         },
         "mode": "lines",
         "name": "",
         "orientation": "v",
         "showlegend": false,
         "x": [
          "2024-03-31T00:00:00",
          "2024-03-30T00:00:00",
          "2024-03-29T00:00:00",
          "2024-03-28T00:00:00",
          "2024-03-27T00:00:00",
          "2024-03-26T00:00:00",
          "2024-03-25T00:00:00",
          "2024-03-24T00:00:00",
          "2024-03-23T00:00:00",
          "2024-03-22T00:00:00",
          "2024-03-21T00:00:00",
          "2024-03-20T00:00:00",
          "2024-03-19T00:00:00",
          "2024-03-18T00:00:00",
          "2024-03-17T00:00:00",
          "2024-03-16T00:00:00",
          "2024-03-15T00:00:00",
          "2024-03-14T00:00:00",
          "2024-03-13T00:00:00",
          "2024-03-12T00:00:00",
          "2024-03-11T00:00:00",
          "2024-03-10T00:00:00",
          "2024-03-09T00:00:00",
          "2024-03-08T00:00:00",
          "2024-03-07T00:00:00",
          "2024-03-06T00:00:00",
          "2024-03-05T00:00:00",
          "2024-03-04T00:00:00",
          "2024-03-03T00:00:00",
          "2024-03-02T00:00:00",
          "2024-03-01T00:00:00",
          "2024-02-29T00:00:00",
          "2024-02-28T00:00:00",
          "2024-02-27T00:00:00",
          "2024-02-26T00:00:00",
          "2024-02-25T00:00:00",
          "2024-02-24T00:00:00",
          "2024-02-23T00:00:00",
          "2024-02-22T00:00:00",
          "2024-02-21T00:00:00",
          "2024-02-20T00:00:00",
          "2024-02-19T00:00:00",
          "2024-02-18T00:00:00",
          "2024-02-17T00:00:00",
          "2024-02-16T00:00:00",
          "2024-02-15T00:00:00",
          "2024-02-14T00:00:00",
          "2024-02-13T00:00:00",
          "2024-02-12T00:00:00",
          "2024-02-11T00:00:00",
          "2024-02-10T00:00:00",
          "2024-02-09T00:00:00",
          "2024-02-08T00:00:00",
          "2024-02-07T00:00:00",
          "2024-02-06T00:00:00",
          "2024-02-05T00:00:00",
          "2024-02-04T00:00:00",
          "2024-02-03T00:00:00",
          "2024-02-02T00:00:00",
          "2024-02-01T00:00:00",
          "2024-01-31T00:00:00",
          "2024-01-30T00:00:00",
          "2024-01-29T00:00:00",
          "2024-01-28T00:00:00",
          "2024-01-27T00:00:00",
          "2024-01-26T00:00:00",
          "2024-01-25T00:00:00",
          "2024-01-24T00:00:00",
          "2024-01-23T00:00:00",
          "2024-01-22T00:00:00",
          "2024-01-21T00:00:00",
          "2024-01-20T00:00:00",
          "2024-01-19T00:00:00",
          "2024-01-18T00:00:00",
          "2024-01-17T00:00:00",
          "2024-01-16T00:00:00",
          "2024-01-15T00:00:00",
          "2024-01-14T00:00:00",
          "2024-01-13T00:00:00",
          "2024-01-12T00:00:00",
          "2024-01-11T00:00:00",
          "2024-01-10T00:00:00",
          "2024-01-09T00:00:00",
          "2024-01-08T00:00:00",
          "2024-01-07T00:00:00",
          "2024-01-06T00:00:00",
          "2024-01-05T00:00:00",
          "2024-01-04T00:00:00",
          "2024-01-03T00:00:00",
          "2024-01-02T00:00:00",
          "2024-01-01T00:00:00"
         ],
         "xaxis": "x",
         "y": [
          4.898340611353714,
          4.009209302325582,
          3.899597741707832,
          4.400909090909088,
          4.398117789921073,
          4.953815789473686,
          4.18068168346177,
          3.7040471092077096,
          3.72719387755102,
          3.941414276184127,
          4.306135084427767,
          4.31645301804605,
          4.824512110726645,
          4.096023072252585,
          3.0643669250645984,
          3.6262603878116337,
          3.946616294349538,
          4.508119266055047,
          4.487034777303237,
          5.169255910987481,
          4.199265671641797,
          3.1451989389920425,
          3.8959539473684215,
          3.913947721179627,
          4.796540222367562,
          4.936338762214982,
          5.9954545454545425,
          4.114035714285716,
          3.1177108433734926,
          3.5028888888888887,
          4.146322436849929,
          4.559396248534586,
          4.659148809523811,
          5.066930232558143,
          4.175248344370866,
          3.886404255319152,
          3.988596059113301,
          3.8026569435637305,
          4.421998742928979,
          4.287352245862885,
          4.998911988911992,
          3.6503493449781694,
          3.5799242424242443,
          3.8257101449275366,
          3.851681585677751,
          4.4319305724725995,
          4.6127770859277755,
          5.030821452817383,
          4.0970843230403835,
          3.6531515151515137,
          4.024220779220777,
          3.918255968169764,
          4.733814561294338,
          4.921905910735832,
          5.8885647840531545,
          4.330789925586721,
          3.5020320855614973,
          4.074160839160836,
          3.864012388162428,
          4.67277899343545,
          4.372960288808664,
          5.1606308243727606,
          4.20590569292697,
          3.912293388429752,
          4.21817438692098,
          3.7149023314429743,
          4.3792246642246635,
          4.205708358032012,
          4.806420097697142,
          4.19077427039905,
          3.0712967581047392,
          4.241437125748502,
          3.867971938775514,
          4.36361401352182,
          4.346038506417741,
          4.645579617834395,
          3.915000000000004,
          3.245902964959569,
          3.9032826747720395,
          3.963757841907152,
          4.696122194513717,
          4.913751500600243,
          5.732102236421729,
          4.073007606787596,
          2.6594696969696967,
          3.5613707165109023,
          3.9223298429319375,
          4.366062624916723,
          4.30660562459124,
          4.273188720173535,
          3.7359212880143113
         ],
         "yaxis": "y",
         "type": "scatter"
        }
       ],
       "layout": {
        "template": {
         "data": {
          "histogram2dcontour": [
           {
            "type": "histogram2dcontour",
            "colorbar": {
             "outlinewidth": 0,
             "ticks": ""
            },
            "colorscale": [
             [
              0.0,
              "#0d0887"
             ],
             [
              0.1111111111111111,
              "#46039f"
             ],
             [
              0.2222222222222222,
              "#7201a8"
             ],
             [
              0.3333333333333333,
              "#9c179e"
             ],
             [
              0.4444444444444444,
              "#bd3786"
             ],
             [
              0.5555555555555556,
              "#d8576b"
             ],
             [
              0.6666666666666666,
              "#ed7953"
             ],
             [
              0.7777777777777778,
              "#fb9f3a"
             ],
             [
              0.8888888888888888,
              "#fdca26"
             ],
             [
              1.0,
              "#f0f921"
             ]
            ]
           }
          ],
          "choropleth": [
           {
            "type": "choropleth",
            "colorbar": {
             "outlinewidth": 0,
             "ticks": ""
            }
           }
          ],
          "histogram2d": [
           {
            "type": "histogram2d",
            "colorbar": {
             "outlinewidth": 0,
             "ticks": ""
            },
            "colorscale": [
             [
              0.0,
              "#0d0887"
             ],
             [
              0.1111111111111111,
              "#46039f"
             ],
             [
              0.2222222222222222,
              "#7201a8"
             ],
             [
              0.3333333333333333,
              "#9c179e"
             ],
             [
              0.4444444444444444,
              "#bd3786"
             ],
             [
              0.5555555555555556,
              "#d8576b"
             ],
             [
              0.6666666666666666,
              "#ed7953"
             ],
             [
              0.7777777777777778,
              "#fb9f3a"
             ],
             [
              0.8888888888888888,
              "#fdca26"
             ],
             [
              1.0,
              "#f0f921"
             ]
            ]
           }
          ],
          "heatmap": [
           {
            "type": "heatmap",
            "colorbar": {
             "outlinewidth": 0,
             "ticks": ""
            },
            "colorscale": [
             [
              0.0,
              "#0d0887"
             ],
             [
              0.1111111111111111,
              "#46039f"
             ],
             [
              0.2222222222222222,
              "#7201a8"
             ],
             [
              0.3333333333333333,
              "#9c179e"
             ],
             [
              0.4444444444444444,
              "#bd3786"
             ],
             [
              0.5555555555555556,
              "#d8576b"
             ],
             [
              0.6666666666666666,
              "#ed7953"
             ],
             [
              0.7777777777777778,
              "#fb9f3a"
             ],
             [
              0.8888888888888888,
              "#fdca26"
             ],
             [
              1.0,
              "#f0f921"
             ]
            ]
           }
          ],
          "heatmapgl": [
           {
            "type": "heatmapgl",
            "colorbar": {
             "outlinewidth": 0,
             "ticks": ""
            },
            "colorscale": [
             [
              0.0,
              "#0d0887"
             ],
             [
              0.1111111111111111,
              "#46039f"
             ],
             [
              0.2222222222222222,
              "#7201a8"
             ],
             [
              0.3333333333333333,
              "#9c179e"
             ],
             [
              0.4444444444444444,
              "#bd3786"
             ],
             [
              0.5555555555555556,
              "#d8576b"
             ],
             [
              0.6666666666666666,
              "#ed7953"
             ],
             [
              0.7777777777777778,
              "#fb9f3a"
             ],
             [
              0.8888888888888888,
              "#fdca26"
             ],
             [
              1.0,
              "#f0f921"
             ]
            ]
           }
          ],
          "contourcarpet": [
           {
            "type": "contourcarpet",
            "colorbar": {
             "outlinewidth": 0,
             "ticks": ""
            }
           }
          ],
          "contour": [
           {
            "type": "contour",
            "colorbar": {
             "outlinewidth": 0,
             "ticks": ""
            },
            "colorscale": [
             [
              0.0,
              "#0d0887"
             ],
             [
              0.1111111111111111,
              "#46039f"
             ],
             [
              0.2222222222222222,
              "#7201a8"
             ],
             [
              0.3333333333333333,
              "#9c179e"
             ],
             [
              0.4444444444444444,
              "#bd3786"
             ],
             [
              0.5555555555555556,
              "#d8576b"
             ],
             [
              0.6666666666666666,
              "#ed7953"
             ],
             [
              0.7777777777777778,
              "#fb9f3a"
             ],
             [
              0.8888888888888888,
              "#fdca26"
             ],
             [
              1.0,
              "#f0f921"
             ]
            ]
           }
          ],
          "surface": [
           {
            "type": "surface",
            "colorbar": {
             "outlinewidth": 0,
             "ticks": ""
            },
            "colorscale": [
             [
              0.0,
              "#0d0887"
             ],
             [
              0.1111111111111111,
              "#46039f"
             ],
             [
              0.2222222222222222,
              "#7201a8"
             ],
             [
              0.3333333333333333,
              "#9c179e"
             ],
             [
              0.4444444444444444,
              "#bd3786"
             ],
             [
              0.5555555555555556,
              "#d8576b"
             ],
             [
              0.6666666666666666,
              "#ed7953"
             ],
             [
              0.7777777777777778,
              "#fb9f3a"
             ],
             [
              0.8888888888888888,
              "#fdca26"
             ],
             [
              1.0,
              "#f0f921"
             ]
            ]
           }
          ],
          "mesh3d": [
           {
            "type": "mesh3d",
            "colorbar": {
             "outlinewidth": 0,
             "ticks": ""
            }
           }
          ],
          "scatter": [
           {
            "marker": {
             "line": {
              "color": "#283442"
             }
            },
            "type": "scatter"
           }
          ],
          "parcoords": [
           {
            "type": "parcoords",
            "line": {
             "colorbar": {
              "outlinewidth": 0,
              "ticks": ""
             }
            }
           }
          ],
          "scatterpolargl": [
           {
            "type": "scatterpolargl",
            "marker": {
             "colorbar": {
              "outlinewidth": 0,
              "ticks": ""
             }
            }
           }
          ],
          "bar": [
           {
            "error_x": {
             "color": "#f2f5fa"
            },
            "error_y": {
             "color": "#f2f5fa"
            },
            "marker": {
             "line": {
              "color": "rgb(17,17,17)",
              "width": 0.5
             },
             "pattern": {
              "fillmode": "overlay",
              "size": 10,
              "solidity": 0.2
             }
            },
            "type": "bar"
           }
          ],
          "scattergeo": [
           {
            "type": "scattergeo",
            "marker": {
             "colorbar": {
              "outlinewidth": 0,
              "ticks": ""
             }
            }
           }
          ],
          "scatterpolar": [
           {
            "type": "scatterpolar",
            "marker": {
             "colorbar": {
              "outlinewidth": 0,
              "ticks": ""
             }
            }
           }
          ],
          "histogram": [
           {
            "marker": {
             "pattern": {
              "fillmode": "overlay",
              "size": 10,
              "solidity": 0.2
             }
            },
            "type": "histogram"
           }
          ],
          "scattergl": [
           {
            "marker": {
             "line": {
              "color": "#283442"
             }
            },
            "type": "scattergl"
           }
          ],
          "scatter3d": [
           {
            "type": "scatter3d",
            "line": {
             "colorbar": {
              "outlinewidth": 0,
              "ticks": ""
             }
            },
            "marker": {
             "colorbar": {
              "outlinewidth": 0,
              "ticks": ""
             }
            }
           }
          ],
          "scattermapbox": [
           {
            "type": "scattermapbox",
            "marker": {
             "colorbar": {
              "outlinewidth": 0,
              "ticks": ""
             }
            }
           }
          ],
          "scatterternary": [
           {
            "type": "scatterternary",
            "marker": {
             "colorbar": {
              "outlinewidth": 0,
              "ticks": ""
             }
            }
           }
          ],
          "scattercarpet": [
           {
            "type": "scattercarpet",
            "marker": {
             "colorbar": {
              "outlinewidth": 0,
              "ticks": ""
             }
            }
           }
          ],
          "carpet": [
           {
            "aaxis": {
             "endlinecolor": "#A2B1C6",
             "gridcolor": "#506784",
             "linecolor": "#506784",
             "minorgridcolor": "#506784",
             "startlinecolor": "#A2B1C6"
            },
            "baxis": {
             "endlinecolor": "#A2B1C6",
             "gridcolor": "#506784",
             "linecolor": "#506784",
             "minorgridcolor": "#506784",
             "startlinecolor": "#A2B1C6"
            },
            "type": "carpet"
           }
          ],
          "table": [
           {
            "cells": {
             "fill": {
              "color": "#506784"
             },
             "line": {
              "color": "rgb(17,17,17)"
             }
            },
            "header": {
             "fill": {
              "color": "#2a3f5f"
             },
             "line": {
              "color": "rgb(17,17,17)"
             }
            },
            "type": "table"
           }
          ],
          "barpolar": [
           {
            "marker": {
             "line": {
              "color": "rgb(17,17,17)",
              "width": 0.5
             },
             "pattern": {
              "fillmode": "overlay",
              "size": 10,
              "solidity": 0.2
             }
            },
            "type": "barpolar"
           }
          ],
          "pie": [
           {
            "automargin": true,
            "type": "pie"
           }
          ]
         },
         "layout": {
          "autotypenumbers": "strict",
          "colorway": [
           "#636efa",
           "#EF553B",
           "#00cc96",
           "#ab63fa",
           "#FFA15A",
           "#19d3f3",
           "#FF6692",
           "#B6E880",
           "#FF97FF",
           "#FECB52"
          ],
          "font": {
           "color": "#f2f5fa"
          },
          "hovermode": "closest",
          "hoverlabel": {
           "align": "left"
          },
          "paper_bgcolor": "rgb(17,17,17)",
          "plot_bgcolor": "rgb(17,17,17)",
          "polar": {
           "bgcolor": "rgb(17,17,17)",
           "angularaxis": {
            "gridcolor": "#506784",
            "linecolor": "#506784",
            "ticks": ""
           },
           "radialaxis": {
            "gridcolor": "#506784",
            "linecolor": "#506784",
            "ticks": ""
           }
          },
          "ternary": {
           "bgcolor": "rgb(17,17,17)",
           "aaxis": {
            "gridcolor": "#506784",
            "linecolor": "#506784",
            "ticks": ""
           },
           "baxis": {
            "gridcolor": "#506784",
            "linecolor": "#506784",
            "ticks": ""
           },
           "caxis": {
            "gridcolor": "#506784",
            "linecolor": "#506784",
            "ticks": ""
           }
          },
          "coloraxis": {
           "colorbar": {
            "outlinewidth": 0,
            "ticks": ""
           }
          },
          "colorscale": {
           "sequential": [
            [
             0.0,
             "#0d0887"
            ],
            [
             0.1111111111111111,
             "#46039f"
            ],
            [
             0.2222222222222222,
             "#7201a8"
            ],
            [
             0.3333333333333333,
             "#9c179e"
            ],
            [
             0.4444444444444444,
             "#bd3786"
            ],
            [
             0.5555555555555556,
             "#d8576b"
            ],
            [
             0.6666666666666666,
             "#ed7953"
            ],
            [
             0.7777777777777778,
             "#fb9f3a"
            ],
            [
             0.8888888888888888,
             "#fdca26"
            ],
            [
             1.0,
             "#f0f921"
            ]
           ],
           "sequentialminus": [
            [
             0.0,
             "#0d0887"
            ],
            [
             0.1111111111111111,
             "#46039f"
            ],
            [
             0.2222222222222222,
             "#7201a8"
            ],
            [
             0.3333333333333333,
             "#9c179e"
            ],
            [
             0.4444444444444444,
             "#bd3786"
            ],
            [
             0.5555555555555556,
             "#d8576b"
            ],
            [
             0.6666666666666666,
             "#ed7953"
            ],
            [
             0.7777777777777778,
             "#fb9f3a"
            ],
            [
             0.8888888888888888,
             "#fdca26"
            ],
            [
             1.0,
             "#f0f921"
            ]
           ],
           "diverging": [
            [
             0,
             "#8e0152"
            ],
            [
             0.1,
             "#c51b7d"
            ],
            [
             0.2,
             "#de77ae"
            ],
            [
             0.3,
             "#f1b6da"
            ],
            [
             0.4,
             "#fde0ef"
            ],
            [
             0.5,
             "#f7f7f7"
            ],
            [
             0.6,
             "#e6f5d0"
            ],
            [
             0.7,
             "#b8e186"
            ],
            [
             0.8,
             "#7fbc41"
            ],
            [
             0.9,
             "#4d9221"
            ],
            [
             1,
             "#276419"
            ]
           ]
          },
          "xaxis": {
           "gridcolor": "#283442",
           "linecolor": "#506784",
           "ticks": "",
           "title": {
            "standoff": 15
           },
           "zerolinecolor": "#283442",
           "automargin": true,
           "zerolinewidth": 2
          },
          "yaxis": {
           "gridcolor": "#283442",
           "linecolor": "#506784",
           "ticks": "",
           "title": {
            "standoff": 15
           },
           "zerolinecolor": "#283442",
           "automargin": true,
           "zerolinewidth": 2
          },
          "scene": {
           "xaxis": {
            "backgroundcolor": "rgb(17,17,17)",
            "gridcolor": "#506784",
            "linecolor": "#506784",
            "showbackground": true,
            "ticks": "",
            "zerolinecolor": "#C8D4E3",
            "gridwidth": 2
           },
           "yaxis": {
            "backgroundcolor": "rgb(17,17,17)",
            "gridcolor": "#506784",
            "linecolor": "#506784",
            "showbackground": true,
            "ticks": "",
            "zerolinecolor": "#C8D4E3",
            "gridwidth": 2
           },
           "zaxis": {
            "backgroundcolor": "rgb(17,17,17)",
            "gridcolor": "#506784",
            "linecolor": "#506784",
            "showbackground": true,
            "ticks": "",
            "zerolinecolor": "#C8D4E3",
            "gridwidth": 2
           }
          },
          "shapedefaults": {
           "line": {
            "color": "#f2f5fa"
           }
          },
          "annotationdefaults": {
           "arrowcolor": "#f2f5fa",
           "arrowhead": 0,
           "arrowwidth": 1
          },
          "geo": {
           "bgcolor": "rgb(17,17,17)",
           "landcolor": "rgb(17,17,17)",
           "subunitcolor": "#506784",
           "showland": true,
           "showlakes": true,
           "lakecolor": "rgb(17,17,17)"
          },
          "title": {
           "x": 0.05
          },
          "updatemenudefaults": {
           "bgcolor": "#506784",
           "borderwidth": 0
          },
          "sliderdefaults": {
           "bgcolor": "#C8D4E3",
           "borderwidth": 1,
           "bordercolor": "rgb(17,17,17)",
           "tickwidth": 0
          },
          "mapbox": {
           "style": "dark"
          }
         }
        },
        "xaxis": {
         "anchor": "y",
         "domain": [
          0.0,
          1.0
         ],
         "title": {
          "text": "WorkDate"
         }
        },
        "yaxis": {
         "anchor": "x",
         "domain": [
          0.0,
          1.0
         ],
         "title": {
          "text": "PMs"
         }
        },
        "legend": {
         "tracegroupgap": 0
        },
        "title": {
         "text": "Daily Worked Total Mean Hours by Contract & Employee Pharmacists"
        }
       },
       "config": {
        "plotlyServerURL": "https://plot.ly"
       }
      },
      "text/html": [
       "<div>                            <div id=\"6a44a56c-ec91-415a-a590-1009e8da85b3\" class=\"plotly-graph-div\" style=\"height:525px; width:100%;\"></div>            <script type=\"text/javascript\">                require([\"plotly\"], function(Plotly) {                    window.PLOTLYENV=window.PLOTLYENV || {};                                    if (document.getElementById(\"6a44a56c-ec91-415a-a590-1009e8da85b3\")) {                    Plotly.newPlot(                        \"6a44a56c-ec91-415a-a590-1009e8da85b3\",                        [{\"hovertemplate\":\"WorkDate=%{x}\\u003cbr\\u003ePMs=%{y}\\u003cextra\\u003e\\u003c\\u002fextra\\u003e\",\"legendgroup\":\"\",\"line\":{\"color\":\"#636efa\",\"dash\":\"solid\"},\"marker\":{\"symbol\":\"circle\"},\"mode\":\"lines\",\"name\":\"\",\"orientation\":\"v\",\"showlegend\":false,\"x\":[\"2024-03-31T00:00:00\",\"2024-03-30T00:00:00\",\"2024-03-29T00:00:00\",\"2024-03-28T00:00:00\",\"2024-03-27T00:00:00\",\"2024-03-26T00:00:00\",\"2024-03-25T00:00:00\",\"2024-03-24T00:00:00\",\"2024-03-23T00:00:00\",\"2024-03-22T00:00:00\",\"2024-03-21T00:00:00\",\"2024-03-20T00:00:00\",\"2024-03-19T00:00:00\",\"2024-03-18T00:00:00\",\"2024-03-17T00:00:00\",\"2024-03-16T00:00:00\",\"2024-03-15T00:00:00\",\"2024-03-14T00:00:00\",\"2024-03-13T00:00:00\",\"2024-03-12T00:00:00\",\"2024-03-11T00:00:00\",\"2024-03-10T00:00:00\",\"2024-03-09T00:00:00\",\"2024-03-08T00:00:00\",\"2024-03-07T00:00:00\",\"2024-03-06T00:00:00\",\"2024-03-05T00:00:00\",\"2024-03-04T00:00:00\",\"2024-03-03T00:00:00\",\"2024-03-02T00:00:00\",\"2024-03-01T00:00:00\",\"2024-02-29T00:00:00\",\"2024-02-28T00:00:00\",\"2024-02-27T00:00:00\",\"2024-02-26T00:00:00\",\"2024-02-25T00:00:00\",\"2024-02-24T00:00:00\",\"2024-02-23T00:00:00\",\"2024-02-22T00:00:00\",\"2024-02-21T00:00:00\",\"2024-02-20T00:00:00\",\"2024-02-19T00:00:00\",\"2024-02-18T00:00:00\",\"2024-02-17T00:00:00\",\"2024-02-16T00:00:00\",\"2024-02-15T00:00:00\",\"2024-02-14T00:00:00\",\"2024-02-13T00:00:00\",\"2024-02-12T00:00:00\",\"2024-02-11T00:00:00\",\"2024-02-10T00:00:00\",\"2024-02-09T00:00:00\",\"2024-02-08T00:00:00\",\"2024-02-07T00:00:00\",\"2024-02-06T00:00:00\",\"2024-02-05T00:00:00\",\"2024-02-04T00:00:00\",\"2024-02-03T00:00:00\",\"2024-02-02T00:00:00\",\"2024-02-01T00:00:00\",\"2024-01-31T00:00:00\",\"2024-01-30T00:00:00\",\"2024-01-29T00:00:00\",\"2024-01-28T00:00:00\",\"2024-01-27T00:00:00\",\"2024-01-26T00:00:00\",\"2024-01-25T00:00:00\",\"2024-01-24T00:00:00\",\"2024-01-23T00:00:00\",\"2024-01-22T00:00:00\",\"2024-01-21T00:00:00\",\"2024-01-20T00:00:00\",\"2024-01-19T00:00:00\",\"2024-01-18T00:00:00\",\"2024-01-17T00:00:00\",\"2024-01-16T00:00:00\",\"2024-01-15T00:00:00\",\"2024-01-14T00:00:00\",\"2024-01-13T00:00:00\",\"2024-01-12T00:00:00\",\"2024-01-11T00:00:00\",\"2024-01-10T00:00:00\",\"2024-01-09T00:00:00\",\"2024-01-08T00:00:00\",\"2024-01-07T00:00:00\",\"2024-01-06T00:00:00\",\"2024-01-05T00:00:00\",\"2024-01-04T00:00:00\",\"2024-01-03T00:00:00\",\"2024-01-02T00:00:00\",\"2024-01-01T00:00:00\"],\"xaxis\":\"x\",\"y\":[4.898340611353714,4.009209302325582,3.899597741707832,4.400909090909088,4.398117789921073,4.953815789473686,4.18068168346177,3.7040471092077096,3.72719387755102,3.941414276184127,4.306135084427767,4.31645301804605,4.824512110726645,4.096023072252585,3.0643669250645984,3.6262603878116337,3.946616294349538,4.508119266055047,4.487034777303237,5.169255910987481,4.199265671641797,3.1451989389920425,3.8959539473684215,3.913947721179627,4.796540222367562,4.936338762214982,5.9954545454545425,4.114035714285716,3.1177108433734926,3.5028888888888887,4.146322436849929,4.559396248534586,4.659148809523811,5.066930232558143,4.175248344370866,3.886404255319152,3.988596059113301,3.8026569435637305,4.421998742928979,4.287352245862885,4.998911988911992,3.6503493449781694,3.5799242424242443,3.8257101449275366,3.851681585677751,4.4319305724725995,4.6127770859277755,5.030821452817383,4.0970843230403835,3.6531515151515137,4.024220779220777,3.918255968169764,4.733814561294338,4.921905910735832,5.8885647840531545,4.330789925586721,3.5020320855614973,4.074160839160836,3.864012388162428,4.67277899343545,4.372960288808664,5.1606308243727606,4.20590569292697,3.912293388429752,4.21817438692098,3.7149023314429743,4.3792246642246635,4.205708358032012,4.806420097697142,4.19077427039905,3.0712967581047392,4.241437125748502,3.867971938775514,4.36361401352182,4.346038506417741,4.645579617834395,3.915000000000004,3.245902964959569,3.9032826747720395,3.963757841907152,4.696122194513717,4.913751500600243,5.732102236421729,4.073007606787596,2.6594696969696967,3.5613707165109023,3.9223298429319375,4.366062624916723,4.30660562459124,4.273188720173535,3.7359212880143113],\"yaxis\":\"y\",\"type\":\"scatter\"}],                        {\"template\":{\"data\":{\"histogram2dcontour\":[{\"type\":\"histogram2dcontour\",\"colorbar\":{\"outlinewidth\":0,\"ticks\":\"\"},\"colorscale\":[[0.0,\"#0d0887\"],[0.1111111111111111,\"#46039f\"],[0.2222222222222222,\"#7201a8\"],[0.3333333333333333,\"#9c179e\"],[0.4444444444444444,\"#bd3786\"],[0.5555555555555556,\"#d8576b\"],[0.6666666666666666,\"#ed7953\"],[0.7777777777777778,\"#fb9f3a\"],[0.8888888888888888,\"#fdca26\"],[1.0,\"#f0f921\"]]}],\"choropleth\":[{\"type\":\"choropleth\",\"colorbar\":{\"outlinewidth\":0,\"ticks\":\"\"}}],\"histogram2d\":[{\"type\":\"histogram2d\",\"colorbar\":{\"outlinewidth\":0,\"ticks\":\"\"},\"colorscale\":[[0.0,\"#0d0887\"],[0.1111111111111111,\"#46039f\"],[0.2222222222222222,\"#7201a8\"],[0.3333333333333333,\"#9c179e\"],[0.4444444444444444,\"#bd3786\"],[0.5555555555555556,\"#d8576b\"],[0.6666666666666666,\"#ed7953\"],[0.7777777777777778,\"#fb9f3a\"],[0.8888888888888888,\"#fdca26\"],[1.0,\"#f0f921\"]]}],\"heatmap\":[{\"type\":\"heatmap\",\"colorbar\":{\"outlinewidth\":0,\"ticks\":\"\"},\"colorscale\":[[0.0,\"#0d0887\"],[0.1111111111111111,\"#46039f\"],[0.2222222222222222,\"#7201a8\"],[0.3333333333333333,\"#9c179e\"],[0.4444444444444444,\"#bd3786\"],[0.5555555555555556,\"#d8576b\"],[0.6666666666666666,\"#ed7953\"],[0.7777777777777778,\"#fb9f3a\"],[0.8888888888888888,\"#fdca26\"],[1.0,\"#f0f921\"]]}],\"heatmapgl\":[{\"type\":\"heatmapgl\",\"colorbar\":{\"outlinewidth\":0,\"ticks\":\"\"},\"colorscale\":[[0.0,\"#0d0887\"],[0.1111111111111111,\"#46039f\"],[0.2222222222222222,\"#7201a8\"],[0.3333333333333333,\"#9c179e\"],[0.4444444444444444,\"#bd3786\"],[0.5555555555555556,\"#d8576b\"],[0.6666666666666666,\"#ed7953\"],[0.7777777777777778,\"#fb9f3a\"],[0.8888888888888888,\"#fdca26\"],[1.0,\"#f0f921\"]]}],\"contourcarpet\":[{\"type\":\"contourcarpet\",\"colorbar\":{\"outlinewidth\":0,\"ticks\":\"\"}}],\"contour\":[{\"type\":\"contour\",\"colorbar\":{\"outlinewidth\":0,\"ticks\":\"\"},\"colorscale\":[[0.0,\"#0d0887\"],[0.1111111111111111,\"#46039f\"],[0.2222222222222222,\"#7201a8\"],[0.3333333333333333,\"#9c179e\"],[0.4444444444444444,\"#bd3786\"],[0.5555555555555556,\"#d8576b\"],[0.6666666666666666,\"#ed7953\"],[0.7777777777777778,\"#fb9f3a\"],[0.8888888888888888,\"#fdca26\"],[1.0,\"#f0f921\"]]}],\"surface\":[{\"type\":\"surface\",\"colorbar\":{\"outlinewidth\":0,\"ticks\":\"\"},\"colorscale\":[[0.0,\"#0d0887\"],[0.1111111111111111,\"#46039f\"],[0.2222222222222222,\"#7201a8\"],[0.3333333333333333,\"#9c179e\"],[0.4444444444444444,\"#bd3786\"],[0.5555555555555556,\"#d8576b\"],[0.6666666666666666,\"#ed7953\"],[0.7777777777777778,\"#fb9f3a\"],[0.8888888888888888,\"#fdca26\"],[1.0,\"#f0f921\"]]}],\"mesh3d\":[{\"type\":\"mesh3d\",\"colorbar\":{\"outlinewidth\":0,\"ticks\":\"\"}}],\"scatter\":[{\"marker\":{\"line\":{\"color\":\"#283442\"}},\"type\":\"scatter\"}],\"parcoords\":[{\"type\":\"parcoords\",\"line\":{\"colorbar\":{\"outlinewidth\":0,\"ticks\":\"\"}}}],\"scatterpolargl\":[{\"type\":\"scatterpolargl\",\"marker\":{\"colorbar\":{\"outlinewidth\":0,\"ticks\":\"\"}}}],\"bar\":[{\"error_x\":{\"color\":\"#f2f5fa\"},\"error_y\":{\"color\":\"#f2f5fa\"},\"marker\":{\"line\":{\"color\":\"rgb(17,17,17)\",\"width\":0.5},\"pattern\":{\"fillmode\":\"overlay\",\"size\":10,\"solidity\":0.2}},\"type\":\"bar\"}],\"scattergeo\":[{\"type\":\"scattergeo\",\"marker\":{\"colorbar\":{\"outlinewidth\":0,\"ticks\":\"\"}}}],\"scatterpolar\":[{\"type\":\"scatterpolar\",\"marker\":{\"colorbar\":{\"outlinewidth\":0,\"ticks\":\"\"}}}],\"histogram\":[{\"marker\":{\"pattern\":{\"fillmode\":\"overlay\",\"size\":10,\"solidity\":0.2}},\"type\":\"histogram\"}],\"scattergl\":[{\"marker\":{\"line\":{\"color\":\"#283442\"}},\"type\":\"scattergl\"}],\"scatter3d\":[{\"type\":\"scatter3d\",\"line\":{\"colorbar\":{\"outlinewidth\":0,\"ticks\":\"\"}},\"marker\":{\"colorbar\":{\"outlinewidth\":0,\"ticks\":\"\"}}}],\"scattermapbox\":[{\"type\":\"scattermapbox\",\"marker\":{\"colorbar\":{\"outlinewidth\":0,\"ticks\":\"\"}}}],\"scatterternary\":[{\"type\":\"scatterternary\",\"marker\":{\"colorbar\":{\"outlinewidth\":0,\"ticks\":\"\"}}}],\"scattercarpet\":[{\"type\":\"scattercarpet\",\"marker\":{\"colorbar\":{\"outlinewidth\":0,\"ticks\":\"\"}}}],\"carpet\":[{\"aaxis\":{\"endlinecolor\":\"#A2B1C6\",\"gridcolor\":\"#506784\",\"linecolor\":\"#506784\",\"minorgridcolor\":\"#506784\",\"startlinecolor\":\"#A2B1C6\"},\"baxis\":{\"endlinecolor\":\"#A2B1C6\",\"gridcolor\":\"#506784\",\"linecolor\":\"#506784\",\"minorgridcolor\":\"#506784\",\"startlinecolor\":\"#A2B1C6\"},\"type\":\"carpet\"}],\"table\":[{\"cells\":{\"fill\":{\"color\":\"#506784\"},\"line\":{\"color\":\"rgb(17,17,17)\"}},\"header\":{\"fill\":{\"color\":\"#2a3f5f\"},\"line\":{\"color\":\"rgb(17,17,17)\"}},\"type\":\"table\"}],\"barpolar\":[{\"marker\":{\"line\":{\"color\":\"rgb(17,17,17)\",\"width\":0.5},\"pattern\":{\"fillmode\":\"overlay\",\"size\":10,\"solidity\":0.2}},\"type\":\"barpolar\"}],\"pie\":[{\"automargin\":true,\"type\":\"pie\"}]},\"layout\":{\"autotypenumbers\":\"strict\",\"colorway\":[\"#636efa\",\"#EF553B\",\"#00cc96\",\"#ab63fa\",\"#FFA15A\",\"#19d3f3\",\"#FF6692\",\"#B6E880\",\"#FF97FF\",\"#FECB52\"],\"font\":{\"color\":\"#f2f5fa\"},\"hovermode\":\"closest\",\"hoverlabel\":{\"align\":\"left\"},\"paper_bgcolor\":\"rgb(17,17,17)\",\"plot_bgcolor\":\"rgb(17,17,17)\",\"polar\":{\"bgcolor\":\"rgb(17,17,17)\",\"angularaxis\":{\"gridcolor\":\"#506784\",\"linecolor\":\"#506784\",\"ticks\":\"\"},\"radialaxis\":{\"gridcolor\":\"#506784\",\"linecolor\":\"#506784\",\"ticks\":\"\"}},\"ternary\":{\"bgcolor\":\"rgb(17,17,17)\",\"aaxis\":{\"gridcolor\":\"#506784\",\"linecolor\":\"#506784\",\"ticks\":\"\"},\"baxis\":{\"gridcolor\":\"#506784\",\"linecolor\":\"#506784\",\"ticks\":\"\"},\"caxis\":{\"gridcolor\":\"#506784\",\"linecolor\":\"#506784\",\"ticks\":\"\"}},\"coloraxis\":{\"colorbar\":{\"outlinewidth\":0,\"ticks\":\"\"}},\"colorscale\":{\"sequential\":[[0.0,\"#0d0887\"],[0.1111111111111111,\"#46039f\"],[0.2222222222222222,\"#7201a8\"],[0.3333333333333333,\"#9c179e\"],[0.4444444444444444,\"#bd3786\"],[0.5555555555555556,\"#d8576b\"],[0.6666666666666666,\"#ed7953\"],[0.7777777777777778,\"#fb9f3a\"],[0.8888888888888888,\"#fdca26\"],[1.0,\"#f0f921\"]],\"sequentialminus\":[[0.0,\"#0d0887\"],[0.1111111111111111,\"#46039f\"],[0.2222222222222222,\"#7201a8\"],[0.3333333333333333,\"#9c179e\"],[0.4444444444444444,\"#bd3786\"],[0.5555555555555556,\"#d8576b\"],[0.6666666666666666,\"#ed7953\"],[0.7777777777777778,\"#fb9f3a\"],[0.8888888888888888,\"#fdca26\"],[1.0,\"#f0f921\"]],\"diverging\":[[0,\"#8e0152\"],[0.1,\"#c51b7d\"],[0.2,\"#de77ae\"],[0.3,\"#f1b6da\"],[0.4,\"#fde0ef\"],[0.5,\"#f7f7f7\"],[0.6,\"#e6f5d0\"],[0.7,\"#b8e186\"],[0.8,\"#7fbc41\"],[0.9,\"#4d9221\"],[1,\"#276419\"]]},\"xaxis\":{\"gridcolor\":\"#283442\",\"linecolor\":\"#506784\",\"ticks\":\"\",\"title\":{\"standoff\":15},\"zerolinecolor\":\"#283442\",\"automargin\":true,\"zerolinewidth\":2},\"yaxis\":{\"gridcolor\":\"#283442\",\"linecolor\":\"#506784\",\"ticks\":\"\",\"title\":{\"standoff\":15},\"zerolinecolor\":\"#283442\",\"automargin\":true,\"zerolinewidth\":2},\"scene\":{\"xaxis\":{\"backgroundcolor\":\"rgb(17,17,17)\",\"gridcolor\":\"#506784\",\"linecolor\":\"#506784\",\"showbackground\":true,\"ticks\":\"\",\"zerolinecolor\":\"#C8D4E3\",\"gridwidth\":2},\"yaxis\":{\"backgroundcolor\":\"rgb(17,17,17)\",\"gridcolor\":\"#506784\",\"linecolor\":\"#506784\",\"showbackground\":true,\"ticks\":\"\",\"zerolinecolor\":\"#C8D4E3\",\"gridwidth\":2},\"zaxis\":{\"backgroundcolor\":\"rgb(17,17,17)\",\"gridcolor\":\"#506784\",\"linecolor\":\"#506784\",\"showbackground\":true,\"ticks\":\"\",\"zerolinecolor\":\"#C8D4E3\",\"gridwidth\":2}},\"shapedefaults\":{\"line\":{\"color\":\"#f2f5fa\"}},\"annotationdefaults\":{\"arrowcolor\":\"#f2f5fa\",\"arrowhead\":0,\"arrowwidth\":1},\"geo\":{\"bgcolor\":\"rgb(17,17,17)\",\"landcolor\":\"rgb(17,17,17)\",\"subunitcolor\":\"#506784\",\"showland\":true,\"showlakes\":true,\"lakecolor\":\"rgb(17,17,17)\"},\"title\":{\"x\":0.05},\"updatemenudefaults\":{\"bgcolor\":\"#506784\",\"borderwidth\":0},\"sliderdefaults\":{\"bgcolor\":\"#C8D4E3\",\"borderwidth\":1,\"bordercolor\":\"rgb(17,17,17)\",\"tickwidth\":0},\"mapbox\":{\"style\":\"dark\"}}},\"xaxis\":{\"anchor\":\"y\",\"domain\":[0.0,1.0],\"title\":{\"text\":\"WorkDate\"}},\"yaxis\":{\"anchor\":\"x\",\"domain\":[0.0,1.0],\"title\":{\"text\":\"PMs\"}},\"legend\":{\"tracegroupgap\":0},\"title\":{\"text\":\"Daily Worked Total Mean Hours by Contract & Employee Pharmacists\"}},                        {\"responsive\": true}                    ).then(function(){\n",
       "                            \n",
       "var gd = document.getElementById('6a44a56c-ec91-415a-a590-1009e8da85b3');\n",
       "var x = new MutationObserver(function (mutations, observer) {{\n",
       "        var display = window.getComputedStyle(gd).display;\n",
       "        if (!display || display === 'none') {{\n",
       "            console.log([gd, 'removed!']);\n",
       "            Plotly.purge(gd);\n",
       "            observer.disconnect();\n",
       "        }}\n",
       "}});\n",
       "\n",
       "// Listen for the removal of the full notebook cells\n",
       "var notebookContainer = gd.closest('#notebook-container');\n",
       "if (notebookContainer) {{\n",
       "    x.observe(notebookContainer, {childList: true});\n",
       "}}\n",
       "\n",
       "// Listen for the clearing of the current output cell\n",
       "var outputEl = gd.closest('.output');\n",
       "if (outputEl) {{\n",
       "    x.observe(outputEl, {childList: true});\n",
       "}}\n",
       "\n",
       "                        })                };                });            </script>        </div>"
      ]
     },
     "metadata": {},
     "output_type": "display_data"
    },
    {
     "name": "stdout",
     "output_type": "stream",
     "text": [
      "Pharmacists work very little hours compared to nurses\n"
     ]
    },
    {
     "data": {
      "application/vnd.plotly.v1+json": {
       "data": [
        {
         "hovertemplate": "WorkDate=%{x}<br>PAs=%{y}<extra></extra>",
         "legendgroup": "",
         "line": {
          "color": "#636efa",
          "dash": "solid"
         },
         "marker": {
          "symbol": "circle"
         },
         "mode": "lines",
         "name": "",
         "orientation": "v",
         "showlegend": false,
         "x": [
          "2024-03-31T00:00:00",
          "2024-03-30T00:00:00",
          "2024-03-29T00:00:00",
          "2024-03-28T00:00:00",
          "2024-03-27T00:00:00",
          "2024-03-26T00:00:00",
          "2024-03-25T00:00:00",
          "2024-03-24T00:00:00",
          "2024-03-23T00:00:00",
          "2024-03-22T00:00:00",
          "2024-03-21T00:00:00",
          "2024-03-20T00:00:00",
          "2024-03-19T00:00:00",
          "2024-03-18T00:00:00",
          "2024-03-17T00:00:00",
          "2024-03-16T00:00:00",
          "2024-03-15T00:00:00",
          "2024-03-14T00:00:00",
          "2024-03-13T00:00:00",
          "2024-03-12T00:00:00",
          "2024-03-11T00:00:00",
          "2024-03-10T00:00:00",
          "2024-03-09T00:00:00",
          "2024-03-08T00:00:00",
          "2024-03-07T00:00:00",
          "2024-03-06T00:00:00",
          "2024-03-05T00:00:00",
          "2024-03-04T00:00:00",
          "2024-03-03T00:00:00",
          "2024-03-02T00:00:00",
          "2024-03-01T00:00:00",
          "2024-02-29T00:00:00",
          "2024-02-28T00:00:00",
          "2024-02-27T00:00:00",
          "2024-02-26T00:00:00",
          "2024-02-25T00:00:00",
          "2024-02-24T00:00:00",
          "2024-02-23T00:00:00",
          "2024-02-22T00:00:00",
          "2024-02-21T00:00:00",
          "2024-02-20T00:00:00",
          "2024-02-19T00:00:00",
          "2024-02-18T00:00:00",
          "2024-02-17T00:00:00",
          "2024-02-16T00:00:00",
          "2024-02-15T00:00:00",
          "2024-02-14T00:00:00",
          "2024-02-13T00:00:00",
          "2024-02-12T00:00:00",
          "2024-02-11T00:00:00",
          "2024-02-10T00:00:00",
          "2024-02-09T00:00:00",
          "2024-02-08T00:00:00",
          "2024-02-07T00:00:00",
          "2024-02-06T00:00:00",
          "2024-02-05T00:00:00",
          "2024-02-04T00:00:00",
          "2024-02-03T00:00:00",
          "2024-02-02T00:00:00",
          "2024-02-01T00:00:00",
          "2024-01-31T00:00:00",
          "2024-01-30T00:00:00",
          "2024-01-29T00:00:00",
          "2024-01-28T00:00:00",
          "2024-01-27T00:00:00",
          "2024-01-26T00:00:00",
          "2024-01-25T00:00:00",
          "2024-01-24T00:00:00",
          "2024-01-23T00:00:00",
          "2024-01-22T00:00:00",
          "2024-01-21T00:00:00",
          "2024-01-20T00:00:00",
          "2024-01-19T00:00:00",
          "2024-01-18T00:00:00",
          "2024-01-17T00:00:00",
          "2024-01-16T00:00:00",
          "2024-01-15T00:00:00",
          "2024-01-14T00:00:00",
          "2024-01-13T00:00:00",
          "2024-01-12T00:00:00",
          "2024-01-11T00:00:00",
          "2024-01-10T00:00:00",
          "2024-01-09T00:00:00",
          "2024-01-08T00:00:00",
          "2024-01-07T00:00:00",
          "2024-01-06T00:00:00",
          "2024-01-05T00:00:00",
          "2024-01-04T00:00:00",
          "2024-01-03T00:00:00",
          "2024-01-02T00:00:00",
          "2024-01-01T00:00:00"
         ],
         "xaxis": "x",
         "y": [
          7.125,
          6.9375,
          6.421686746987952,
          6.479166666666667,
          6.419753086419753,
          7.27710843373494,
          6.247191011235955,
          7.230769230769231,
          7.538461538461538,
          6.168674698795181,
          6.741573033707865,
          6.8522727272727275,
          7.056179775280899,
          6.4,
          5.3,
          5.8,
          6.2317073170731705,
          6.929292929292929,
          6.610526315789474,
          7.457831325301205,
          6.319587628865979,
          8.0,
          7.538461538461538,
          6.770833333333333,
          7.3052631578947365,
          6.688172043010753,
          7.382022471910112,
          6.336538461538462,
          5.0,
          6.076923076923077,
          6.771084337349397,
          7.417582417582418,
          6.4,
          6.966292134831461,
          6.509803921568627,
          5.3,
          5.733333333333333,
          6.253012048192771,
          6.98,
          6.784090909090909,
          7.090909090909091,
          6.579545454545454,
          5.666666666666667,
          6.3076923076923075,
          6.079545454545454,
          6.69,
          6.494736842105263,
          7.065934065934066,
          6.721649484536083,
          7.875,
          7.076923076923077,
          6.563218390804598,
          7.26595744680851,
          6.868131868131868,
          7.647058823529412,
          6.793814432989691,
          7.1,
          7.266666666666667,
          6.238636363636363,
          7.48936170212766,
          7.642857142857143,
          7.426966292134831,
          6.96969696969697,
          5.5,
          5.333333333333333,
          6.678571428571429,
          6.861386138613861,
          6.702970297029703,
          7.494845360824742,
          6.542553191489362,
          5.2,
          6.230769230769231,
          6.555555555555555,
          6.946808510638298,
          6.738636363636363,
          7.239130434782608,
          6.136363636363637,
          7.2,
          6.846153846153846,
          6.978494623655914,
          7.326086956521739,
          6.989690721649485,
          7.087912087912088,
          6.554455445544554,
          7.222222222222222,
          7.153846153846154,
          6.810526315789474,
          7.2,
          6.674698795180723,
          7.0131578947368425,
          5.666666666666667
         ],
         "yaxis": "y",
         "type": "scatter"
        }
       ],
       "layout": {
        "template": {
         "data": {
          "histogram2dcontour": [
           {
            "type": "histogram2dcontour",
            "colorbar": {
             "outlinewidth": 0,
             "ticks": ""
            },
            "colorscale": [
             [
              0.0,
              "#0d0887"
             ],
             [
              0.1111111111111111,
              "#46039f"
             ],
             [
              0.2222222222222222,
              "#7201a8"
             ],
             [
              0.3333333333333333,
              "#9c179e"
             ],
             [
              0.4444444444444444,
              "#bd3786"
             ],
             [
              0.5555555555555556,
              "#d8576b"
             ],
             [
              0.6666666666666666,
              "#ed7953"
             ],
             [
              0.7777777777777778,
              "#fb9f3a"
             ],
             [
              0.8888888888888888,
              "#fdca26"
             ],
             [
              1.0,
              "#f0f921"
             ]
            ]
           }
          ],
          "choropleth": [
           {
            "type": "choropleth",
            "colorbar": {
             "outlinewidth": 0,
             "ticks": ""
            }
           }
          ],
          "histogram2d": [
           {
            "type": "histogram2d",
            "colorbar": {
             "outlinewidth": 0,
             "ticks": ""
            },
            "colorscale": [
             [
              0.0,
              "#0d0887"
             ],
             [
              0.1111111111111111,
              "#46039f"
             ],
             [
              0.2222222222222222,
              "#7201a8"
             ],
             [
              0.3333333333333333,
              "#9c179e"
             ],
             [
              0.4444444444444444,
              "#bd3786"
             ],
             [
              0.5555555555555556,
              "#d8576b"
             ],
             [
              0.6666666666666666,
              "#ed7953"
             ],
             [
              0.7777777777777778,
              "#fb9f3a"
             ],
             [
              0.8888888888888888,
              "#fdca26"
             ],
             [
              1.0,
              "#f0f921"
             ]
            ]
           }
          ],
          "heatmap": [
           {
            "type": "heatmap",
            "colorbar": {
             "outlinewidth": 0,
             "ticks": ""
            },
            "colorscale": [
             [
              0.0,
              "#0d0887"
             ],
             [
              0.1111111111111111,
              "#46039f"
             ],
             [
              0.2222222222222222,
              "#7201a8"
             ],
             [
              0.3333333333333333,
              "#9c179e"
             ],
             [
              0.4444444444444444,
              "#bd3786"
             ],
             [
              0.5555555555555556,
              "#d8576b"
             ],
             [
              0.6666666666666666,
              "#ed7953"
             ],
             [
              0.7777777777777778,
              "#fb9f3a"
             ],
             [
              0.8888888888888888,
              "#fdca26"
             ],
             [
              1.0,
              "#f0f921"
             ]
            ]
           }
          ],
          "heatmapgl": [
           {
            "type": "heatmapgl",
            "colorbar": {
             "outlinewidth": 0,
             "ticks": ""
            },
            "colorscale": [
             [
              0.0,
              "#0d0887"
             ],
             [
              0.1111111111111111,
              "#46039f"
             ],
             [
              0.2222222222222222,
              "#7201a8"
             ],
             [
              0.3333333333333333,
              "#9c179e"
             ],
             [
              0.4444444444444444,
              "#bd3786"
             ],
             [
              0.5555555555555556,
              "#d8576b"
             ],
             [
              0.6666666666666666,
              "#ed7953"
             ],
             [
              0.7777777777777778,
              "#fb9f3a"
             ],
             [
              0.8888888888888888,
              "#fdca26"
             ],
             [
              1.0,
              "#f0f921"
             ]
            ]
           }
          ],
          "contourcarpet": [
           {
            "type": "contourcarpet",
            "colorbar": {
             "outlinewidth": 0,
             "ticks": ""
            }
           }
          ],
          "contour": [
           {
            "type": "contour",
            "colorbar": {
             "outlinewidth": 0,
             "ticks": ""
            },
            "colorscale": [
             [
              0.0,
              "#0d0887"
             ],
             [
              0.1111111111111111,
              "#46039f"
             ],
             [
              0.2222222222222222,
              "#7201a8"
             ],
             [
              0.3333333333333333,
              "#9c179e"
             ],
             [
              0.4444444444444444,
              "#bd3786"
             ],
             [
              0.5555555555555556,
              "#d8576b"
             ],
             [
              0.6666666666666666,
              "#ed7953"
             ],
             [
              0.7777777777777778,
              "#fb9f3a"
             ],
             [
              0.8888888888888888,
              "#fdca26"
             ],
             [
              1.0,
              "#f0f921"
             ]
            ]
           }
          ],
          "surface": [
           {
            "type": "surface",
            "colorbar": {
             "outlinewidth": 0,
             "ticks": ""
            },
            "colorscale": [
             [
              0.0,
              "#0d0887"
             ],
             [
              0.1111111111111111,
              "#46039f"
             ],
             [
              0.2222222222222222,
              "#7201a8"
             ],
             [
              0.3333333333333333,
              "#9c179e"
             ],
             [
              0.4444444444444444,
              "#bd3786"
             ],
             [
              0.5555555555555556,
              "#d8576b"
             ],
             [
              0.6666666666666666,
              "#ed7953"
             ],
             [
              0.7777777777777778,
              "#fb9f3a"
             ],
             [
              0.8888888888888888,
              "#fdca26"
             ],
             [
              1.0,
              "#f0f921"
             ]
            ]
           }
          ],
          "mesh3d": [
           {
            "type": "mesh3d",
            "colorbar": {
             "outlinewidth": 0,
             "ticks": ""
            }
           }
          ],
          "scatter": [
           {
            "marker": {
             "line": {
              "color": "#283442"
             }
            },
            "type": "scatter"
           }
          ],
          "parcoords": [
           {
            "type": "parcoords",
            "line": {
             "colorbar": {
              "outlinewidth": 0,
              "ticks": ""
             }
            }
           }
          ],
          "scatterpolargl": [
           {
            "type": "scatterpolargl",
            "marker": {
             "colorbar": {
              "outlinewidth": 0,
              "ticks": ""
             }
            }
           }
          ],
          "bar": [
           {
            "error_x": {
             "color": "#f2f5fa"
            },
            "error_y": {
             "color": "#f2f5fa"
            },
            "marker": {
             "line": {
              "color": "rgb(17,17,17)",
              "width": 0.5
             },
             "pattern": {
              "fillmode": "overlay",
              "size": 10,
              "solidity": 0.2
             }
            },
            "type": "bar"
           }
          ],
          "scattergeo": [
           {
            "type": "scattergeo",
            "marker": {
             "colorbar": {
              "outlinewidth": 0,
              "ticks": ""
             }
            }
           }
          ],
          "scatterpolar": [
           {
            "type": "scatterpolar",
            "marker": {
             "colorbar": {
              "outlinewidth": 0,
              "ticks": ""
             }
            }
           }
          ],
          "histogram": [
           {
            "marker": {
             "pattern": {
              "fillmode": "overlay",
              "size": 10,
              "solidity": 0.2
             }
            },
            "type": "histogram"
           }
          ],
          "scattergl": [
           {
            "marker": {
             "line": {
              "color": "#283442"
             }
            },
            "type": "scattergl"
           }
          ],
          "scatter3d": [
           {
            "type": "scatter3d",
            "line": {
             "colorbar": {
              "outlinewidth": 0,
              "ticks": ""
             }
            },
            "marker": {
             "colorbar": {
              "outlinewidth": 0,
              "ticks": ""
             }
            }
           }
          ],
          "scattermapbox": [
           {
            "type": "scattermapbox",
            "marker": {
             "colorbar": {
              "outlinewidth": 0,
              "ticks": ""
             }
            }
           }
          ],
          "scatterternary": [
           {
            "type": "scatterternary",
            "marker": {
             "colorbar": {
              "outlinewidth": 0,
              "ticks": ""
             }
            }
           }
          ],
          "scattercarpet": [
           {
            "type": "scattercarpet",
            "marker": {
             "colorbar": {
              "outlinewidth": 0,
              "ticks": ""
             }
            }
           }
          ],
          "carpet": [
           {
            "aaxis": {
             "endlinecolor": "#A2B1C6",
             "gridcolor": "#506784",
             "linecolor": "#506784",
             "minorgridcolor": "#506784",
             "startlinecolor": "#A2B1C6"
            },
            "baxis": {
             "endlinecolor": "#A2B1C6",
             "gridcolor": "#506784",
             "linecolor": "#506784",
             "minorgridcolor": "#506784",
             "startlinecolor": "#A2B1C6"
            },
            "type": "carpet"
           }
          ],
          "table": [
           {
            "cells": {
             "fill": {
              "color": "#506784"
             },
             "line": {
              "color": "rgb(17,17,17)"
             }
            },
            "header": {
             "fill": {
              "color": "#2a3f5f"
             },
             "line": {
              "color": "rgb(17,17,17)"
             }
            },
            "type": "table"
           }
          ],
          "barpolar": [
           {
            "marker": {
             "line": {
              "color": "rgb(17,17,17)",
              "width": 0.5
             },
             "pattern": {
              "fillmode": "overlay",
              "size": 10,
              "solidity": 0.2
             }
            },
            "type": "barpolar"
           }
          ],
          "pie": [
           {
            "automargin": true,
            "type": "pie"
           }
          ]
         },
         "layout": {
          "autotypenumbers": "strict",
          "colorway": [
           "#636efa",
           "#EF553B",
           "#00cc96",
           "#ab63fa",
           "#FFA15A",
           "#19d3f3",
           "#FF6692",
           "#B6E880",
           "#FF97FF",
           "#FECB52"
          ],
          "font": {
           "color": "#f2f5fa"
          },
          "hovermode": "closest",
          "hoverlabel": {
           "align": "left"
          },
          "paper_bgcolor": "rgb(17,17,17)",
          "plot_bgcolor": "rgb(17,17,17)",
          "polar": {
           "bgcolor": "rgb(17,17,17)",
           "angularaxis": {
            "gridcolor": "#506784",
            "linecolor": "#506784",
            "ticks": ""
           },
           "radialaxis": {
            "gridcolor": "#506784",
            "linecolor": "#506784",
            "ticks": ""
           }
          },
          "ternary": {
           "bgcolor": "rgb(17,17,17)",
           "aaxis": {
            "gridcolor": "#506784",
            "linecolor": "#506784",
            "ticks": ""
           },
           "baxis": {
            "gridcolor": "#506784",
            "linecolor": "#506784",
            "ticks": ""
           },
           "caxis": {
            "gridcolor": "#506784",
            "linecolor": "#506784",
            "ticks": ""
           }
          },
          "coloraxis": {
           "colorbar": {
            "outlinewidth": 0,
            "ticks": ""
           }
          },
          "colorscale": {
           "sequential": [
            [
             0.0,
             "#0d0887"
            ],
            [
             0.1111111111111111,
             "#46039f"
            ],
            [
             0.2222222222222222,
             "#7201a8"
            ],
            [
             0.3333333333333333,
             "#9c179e"
            ],
            [
             0.4444444444444444,
             "#bd3786"
            ],
            [
             0.5555555555555556,
             "#d8576b"
            ],
            [
             0.6666666666666666,
             "#ed7953"
            ],
            [
             0.7777777777777778,
             "#fb9f3a"
            ],
            [
             0.8888888888888888,
             "#fdca26"
            ],
            [
             1.0,
             "#f0f921"
            ]
           ],
           "sequentialminus": [
            [
             0.0,
             "#0d0887"
            ],
            [
             0.1111111111111111,
             "#46039f"
            ],
            [
             0.2222222222222222,
             "#7201a8"
            ],
            [
             0.3333333333333333,
             "#9c179e"
            ],
            [
             0.4444444444444444,
             "#bd3786"
            ],
            [
             0.5555555555555556,
             "#d8576b"
            ],
            [
             0.6666666666666666,
             "#ed7953"
            ],
            [
             0.7777777777777778,
             "#fb9f3a"
            ],
            [
             0.8888888888888888,
             "#fdca26"
            ],
            [
             1.0,
             "#f0f921"
            ]
           ],
           "diverging": [
            [
             0,
             "#8e0152"
            ],
            [
             0.1,
             "#c51b7d"
            ],
            [
             0.2,
             "#de77ae"
            ],
            [
             0.3,
             "#f1b6da"
            ],
            [
             0.4,
             "#fde0ef"
            ],
            [
             0.5,
             "#f7f7f7"
            ],
            [
             0.6,
             "#e6f5d0"
            ],
            [
             0.7,
             "#b8e186"
            ],
            [
             0.8,
             "#7fbc41"
            ],
            [
             0.9,
             "#4d9221"
            ],
            [
             1,
             "#276419"
            ]
           ]
          },
          "xaxis": {
           "gridcolor": "#283442",
           "linecolor": "#506784",
           "ticks": "",
           "title": {
            "standoff": 15
           },
           "zerolinecolor": "#283442",
           "automargin": true,
           "zerolinewidth": 2
          },
          "yaxis": {
           "gridcolor": "#283442",
           "linecolor": "#506784",
           "ticks": "",
           "title": {
            "standoff": 15
           },
           "zerolinecolor": "#283442",
           "automargin": true,
           "zerolinewidth": 2
          },
          "scene": {
           "xaxis": {
            "backgroundcolor": "rgb(17,17,17)",
            "gridcolor": "#506784",
            "linecolor": "#506784",
            "showbackground": true,
            "ticks": "",
            "zerolinecolor": "#C8D4E3",
            "gridwidth": 2
           },
           "yaxis": {
            "backgroundcolor": "rgb(17,17,17)",
            "gridcolor": "#506784",
            "linecolor": "#506784",
            "showbackground": true,
            "ticks": "",
            "zerolinecolor": "#C8D4E3",
            "gridwidth": 2
           },
           "zaxis": {
            "backgroundcolor": "rgb(17,17,17)",
            "gridcolor": "#506784",
            "linecolor": "#506784",
            "showbackground": true,
            "ticks": "",
            "zerolinecolor": "#C8D4E3",
            "gridwidth": 2
           }
          },
          "shapedefaults": {
           "line": {
            "color": "#f2f5fa"
           }
          },
          "annotationdefaults": {
           "arrowcolor": "#f2f5fa",
           "arrowhead": 0,
           "arrowwidth": 1
          },
          "geo": {
           "bgcolor": "rgb(17,17,17)",
           "landcolor": "rgb(17,17,17)",
           "subunitcolor": "#506784",
           "showland": true,
           "showlakes": true,
           "lakecolor": "rgb(17,17,17)"
          },
          "title": {
           "x": 0.05
          },
          "updatemenudefaults": {
           "bgcolor": "#506784",
           "borderwidth": 0
          },
          "sliderdefaults": {
           "bgcolor": "#C8D4E3",
           "borderwidth": 1,
           "bordercolor": "rgb(17,17,17)",
           "tickwidth": 0
          },
          "mapbox": {
           "style": "dark"
          }
         }
        },
        "xaxis": {
         "anchor": "y",
         "domain": [
          0.0,
          1.0
         ],
         "title": {
          "text": "WorkDate"
         }
        },
        "yaxis": {
         "anchor": "x",
         "domain": [
          0.0,
          1.0
         ],
         "title": {
          "text": "PAs"
         }
        },
        "legend": {
         "tracegroupgap": 0
        },
        "title": {
         "text": "Daily Worked Total Mean Hours by Contract & Employee Physicians Assistants"
        }
       },
       "config": {
        "plotlyServerURL": "https://plot.ly"
       }
      },
      "text/html": [
       "<div>                            <div id=\"153fcda5-044d-46e6-a3c1-ad2d0048499d\" class=\"plotly-graph-div\" style=\"height:525px; width:100%;\"></div>            <script type=\"text/javascript\">                require([\"plotly\"], function(Plotly) {                    window.PLOTLYENV=window.PLOTLYENV || {};                                    if (document.getElementById(\"153fcda5-044d-46e6-a3c1-ad2d0048499d\")) {                    Plotly.newPlot(                        \"153fcda5-044d-46e6-a3c1-ad2d0048499d\",                        [{\"hovertemplate\":\"WorkDate=%{x}\\u003cbr\\u003ePAs=%{y}\\u003cextra\\u003e\\u003c\\u002fextra\\u003e\",\"legendgroup\":\"\",\"line\":{\"color\":\"#636efa\",\"dash\":\"solid\"},\"marker\":{\"symbol\":\"circle\"},\"mode\":\"lines\",\"name\":\"\",\"orientation\":\"v\",\"showlegend\":false,\"x\":[\"2024-03-31T00:00:00\",\"2024-03-30T00:00:00\",\"2024-03-29T00:00:00\",\"2024-03-28T00:00:00\",\"2024-03-27T00:00:00\",\"2024-03-26T00:00:00\",\"2024-03-25T00:00:00\",\"2024-03-24T00:00:00\",\"2024-03-23T00:00:00\",\"2024-03-22T00:00:00\",\"2024-03-21T00:00:00\",\"2024-03-20T00:00:00\",\"2024-03-19T00:00:00\",\"2024-03-18T00:00:00\",\"2024-03-17T00:00:00\",\"2024-03-16T00:00:00\",\"2024-03-15T00:00:00\",\"2024-03-14T00:00:00\",\"2024-03-13T00:00:00\",\"2024-03-12T00:00:00\",\"2024-03-11T00:00:00\",\"2024-03-10T00:00:00\",\"2024-03-09T00:00:00\",\"2024-03-08T00:00:00\",\"2024-03-07T00:00:00\",\"2024-03-06T00:00:00\",\"2024-03-05T00:00:00\",\"2024-03-04T00:00:00\",\"2024-03-03T00:00:00\",\"2024-03-02T00:00:00\",\"2024-03-01T00:00:00\",\"2024-02-29T00:00:00\",\"2024-02-28T00:00:00\",\"2024-02-27T00:00:00\",\"2024-02-26T00:00:00\",\"2024-02-25T00:00:00\",\"2024-02-24T00:00:00\",\"2024-02-23T00:00:00\",\"2024-02-22T00:00:00\",\"2024-02-21T00:00:00\",\"2024-02-20T00:00:00\",\"2024-02-19T00:00:00\",\"2024-02-18T00:00:00\",\"2024-02-17T00:00:00\",\"2024-02-16T00:00:00\",\"2024-02-15T00:00:00\",\"2024-02-14T00:00:00\",\"2024-02-13T00:00:00\",\"2024-02-12T00:00:00\",\"2024-02-11T00:00:00\",\"2024-02-10T00:00:00\",\"2024-02-09T00:00:00\",\"2024-02-08T00:00:00\",\"2024-02-07T00:00:00\",\"2024-02-06T00:00:00\",\"2024-02-05T00:00:00\",\"2024-02-04T00:00:00\",\"2024-02-03T00:00:00\",\"2024-02-02T00:00:00\",\"2024-02-01T00:00:00\",\"2024-01-31T00:00:00\",\"2024-01-30T00:00:00\",\"2024-01-29T00:00:00\",\"2024-01-28T00:00:00\",\"2024-01-27T00:00:00\",\"2024-01-26T00:00:00\",\"2024-01-25T00:00:00\",\"2024-01-24T00:00:00\",\"2024-01-23T00:00:00\",\"2024-01-22T00:00:00\",\"2024-01-21T00:00:00\",\"2024-01-20T00:00:00\",\"2024-01-19T00:00:00\",\"2024-01-18T00:00:00\",\"2024-01-17T00:00:00\",\"2024-01-16T00:00:00\",\"2024-01-15T00:00:00\",\"2024-01-14T00:00:00\",\"2024-01-13T00:00:00\",\"2024-01-12T00:00:00\",\"2024-01-11T00:00:00\",\"2024-01-10T00:00:00\",\"2024-01-09T00:00:00\",\"2024-01-08T00:00:00\",\"2024-01-07T00:00:00\",\"2024-01-06T00:00:00\",\"2024-01-05T00:00:00\",\"2024-01-04T00:00:00\",\"2024-01-03T00:00:00\",\"2024-01-02T00:00:00\",\"2024-01-01T00:00:00\"],\"xaxis\":\"x\",\"y\":[7.125,6.9375,6.421686746987952,6.479166666666667,6.419753086419753,7.27710843373494,6.247191011235955,7.230769230769231,7.538461538461538,6.168674698795181,6.741573033707865,6.8522727272727275,7.056179775280899,6.4,5.3,5.8,6.2317073170731705,6.929292929292929,6.610526315789474,7.457831325301205,6.319587628865979,8.0,7.538461538461538,6.770833333333333,7.3052631578947365,6.688172043010753,7.382022471910112,6.336538461538462,5.0,6.076923076923077,6.771084337349397,7.417582417582418,6.4,6.966292134831461,6.509803921568627,5.3,5.733333333333333,6.253012048192771,6.98,6.784090909090909,7.090909090909091,6.579545454545454,5.666666666666667,6.3076923076923075,6.079545454545454,6.69,6.494736842105263,7.065934065934066,6.721649484536083,7.875,7.076923076923077,6.563218390804598,7.26595744680851,6.868131868131868,7.647058823529412,6.793814432989691,7.1,7.266666666666667,6.238636363636363,7.48936170212766,7.642857142857143,7.426966292134831,6.96969696969697,5.5,5.333333333333333,6.678571428571429,6.861386138613861,6.702970297029703,7.494845360824742,6.542553191489362,5.2,6.230769230769231,6.555555555555555,6.946808510638298,6.738636363636363,7.239130434782608,6.136363636363637,7.2,6.846153846153846,6.978494623655914,7.326086956521739,6.989690721649485,7.087912087912088,6.554455445544554,7.222222222222222,7.153846153846154,6.810526315789474,7.2,6.674698795180723,7.0131578947368425,5.666666666666667],\"yaxis\":\"y\",\"type\":\"scatter\"}],                        {\"template\":{\"data\":{\"histogram2dcontour\":[{\"type\":\"histogram2dcontour\",\"colorbar\":{\"outlinewidth\":0,\"ticks\":\"\"},\"colorscale\":[[0.0,\"#0d0887\"],[0.1111111111111111,\"#46039f\"],[0.2222222222222222,\"#7201a8\"],[0.3333333333333333,\"#9c179e\"],[0.4444444444444444,\"#bd3786\"],[0.5555555555555556,\"#d8576b\"],[0.6666666666666666,\"#ed7953\"],[0.7777777777777778,\"#fb9f3a\"],[0.8888888888888888,\"#fdca26\"],[1.0,\"#f0f921\"]]}],\"choropleth\":[{\"type\":\"choropleth\",\"colorbar\":{\"outlinewidth\":0,\"ticks\":\"\"}}],\"histogram2d\":[{\"type\":\"histogram2d\",\"colorbar\":{\"outlinewidth\":0,\"ticks\":\"\"},\"colorscale\":[[0.0,\"#0d0887\"],[0.1111111111111111,\"#46039f\"],[0.2222222222222222,\"#7201a8\"],[0.3333333333333333,\"#9c179e\"],[0.4444444444444444,\"#bd3786\"],[0.5555555555555556,\"#d8576b\"],[0.6666666666666666,\"#ed7953\"],[0.7777777777777778,\"#fb9f3a\"],[0.8888888888888888,\"#fdca26\"],[1.0,\"#f0f921\"]]}],\"heatmap\":[{\"type\":\"heatmap\",\"colorbar\":{\"outlinewidth\":0,\"ticks\":\"\"},\"colorscale\":[[0.0,\"#0d0887\"],[0.1111111111111111,\"#46039f\"],[0.2222222222222222,\"#7201a8\"],[0.3333333333333333,\"#9c179e\"],[0.4444444444444444,\"#bd3786\"],[0.5555555555555556,\"#d8576b\"],[0.6666666666666666,\"#ed7953\"],[0.7777777777777778,\"#fb9f3a\"],[0.8888888888888888,\"#fdca26\"],[1.0,\"#f0f921\"]]}],\"heatmapgl\":[{\"type\":\"heatmapgl\",\"colorbar\":{\"outlinewidth\":0,\"ticks\":\"\"},\"colorscale\":[[0.0,\"#0d0887\"],[0.1111111111111111,\"#46039f\"],[0.2222222222222222,\"#7201a8\"],[0.3333333333333333,\"#9c179e\"],[0.4444444444444444,\"#bd3786\"],[0.5555555555555556,\"#d8576b\"],[0.6666666666666666,\"#ed7953\"],[0.7777777777777778,\"#fb9f3a\"],[0.8888888888888888,\"#fdca26\"],[1.0,\"#f0f921\"]]}],\"contourcarpet\":[{\"type\":\"contourcarpet\",\"colorbar\":{\"outlinewidth\":0,\"ticks\":\"\"}}],\"contour\":[{\"type\":\"contour\",\"colorbar\":{\"outlinewidth\":0,\"ticks\":\"\"},\"colorscale\":[[0.0,\"#0d0887\"],[0.1111111111111111,\"#46039f\"],[0.2222222222222222,\"#7201a8\"],[0.3333333333333333,\"#9c179e\"],[0.4444444444444444,\"#bd3786\"],[0.5555555555555556,\"#d8576b\"],[0.6666666666666666,\"#ed7953\"],[0.7777777777777778,\"#fb9f3a\"],[0.8888888888888888,\"#fdca26\"],[1.0,\"#f0f921\"]]}],\"surface\":[{\"type\":\"surface\",\"colorbar\":{\"outlinewidth\":0,\"ticks\":\"\"},\"colorscale\":[[0.0,\"#0d0887\"],[0.1111111111111111,\"#46039f\"],[0.2222222222222222,\"#7201a8\"],[0.3333333333333333,\"#9c179e\"],[0.4444444444444444,\"#bd3786\"],[0.5555555555555556,\"#d8576b\"],[0.6666666666666666,\"#ed7953\"],[0.7777777777777778,\"#fb9f3a\"],[0.8888888888888888,\"#fdca26\"],[1.0,\"#f0f921\"]]}],\"mesh3d\":[{\"type\":\"mesh3d\",\"colorbar\":{\"outlinewidth\":0,\"ticks\":\"\"}}],\"scatter\":[{\"marker\":{\"line\":{\"color\":\"#283442\"}},\"type\":\"scatter\"}],\"parcoords\":[{\"type\":\"parcoords\",\"line\":{\"colorbar\":{\"outlinewidth\":0,\"ticks\":\"\"}}}],\"scatterpolargl\":[{\"type\":\"scatterpolargl\",\"marker\":{\"colorbar\":{\"outlinewidth\":0,\"ticks\":\"\"}}}],\"bar\":[{\"error_x\":{\"color\":\"#f2f5fa\"},\"error_y\":{\"color\":\"#f2f5fa\"},\"marker\":{\"line\":{\"color\":\"rgb(17,17,17)\",\"width\":0.5},\"pattern\":{\"fillmode\":\"overlay\",\"size\":10,\"solidity\":0.2}},\"type\":\"bar\"}],\"scattergeo\":[{\"type\":\"scattergeo\",\"marker\":{\"colorbar\":{\"outlinewidth\":0,\"ticks\":\"\"}}}],\"scatterpolar\":[{\"type\":\"scatterpolar\",\"marker\":{\"colorbar\":{\"outlinewidth\":0,\"ticks\":\"\"}}}],\"histogram\":[{\"marker\":{\"pattern\":{\"fillmode\":\"overlay\",\"size\":10,\"solidity\":0.2}},\"type\":\"histogram\"}],\"scattergl\":[{\"marker\":{\"line\":{\"color\":\"#283442\"}},\"type\":\"scattergl\"}],\"scatter3d\":[{\"type\":\"scatter3d\",\"line\":{\"colorbar\":{\"outlinewidth\":0,\"ticks\":\"\"}},\"marker\":{\"colorbar\":{\"outlinewidth\":0,\"ticks\":\"\"}}}],\"scattermapbox\":[{\"type\":\"scattermapbox\",\"marker\":{\"colorbar\":{\"outlinewidth\":0,\"ticks\":\"\"}}}],\"scatterternary\":[{\"type\":\"scatterternary\",\"marker\":{\"colorbar\":{\"outlinewidth\":0,\"ticks\":\"\"}}}],\"scattercarpet\":[{\"type\":\"scattercarpet\",\"marker\":{\"colorbar\":{\"outlinewidth\":0,\"ticks\":\"\"}}}],\"carpet\":[{\"aaxis\":{\"endlinecolor\":\"#A2B1C6\",\"gridcolor\":\"#506784\",\"linecolor\":\"#506784\",\"minorgridcolor\":\"#506784\",\"startlinecolor\":\"#A2B1C6\"},\"baxis\":{\"endlinecolor\":\"#A2B1C6\",\"gridcolor\":\"#506784\",\"linecolor\":\"#506784\",\"minorgridcolor\":\"#506784\",\"startlinecolor\":\"#A2B1C6\"},\"type\":\"carpet\"}],\"table\":[{\"cells\":{\"fill\":{\"color\":\"#506784\"},\"line\":{\"color\":\"rgb(17,17,17)\"}},\"header\":{\"fill\":{\"color\":\"#2a3f5f\"},\"line\":{\"color\":\"rgb(17,17,17)\"}},\"type\":\"table\"}],\"barpolar\":[{\"marker\":{\"line\":{\"color\":\"rgb(17,17,17)\",\"width\":0.5},\"pattern\":{\"fillmode\":\"overlay\",\"size\":10,\"solidity\":0.2}},\"type\":\"barpolar\"}],\"pie\":[{\"automargin\":true,\"type\":\"pie\"}]},\"layout\":{\"autotypenumbers\":\"strict\",\"colorway\":[\"#636efa\",\"#EF553B\",\"#00cc96\",\"#ab63fa\",\"#FFA15A\",\"#19d3f3\",\"#FF6692\",\"#B6E880\",\"#FF97FF\",\"#FECB52\"],\"font\":{\"color\":\"#f2f5fa\"},\"hovermode\":\"closest\",\"hoverlabel\":{\"align\":\"left\"},\"paper_bgcolor\":\"rgb(17,17,17)\",\"plot_bgcolor\":\"rgb(17,17,17)\",\"polar\":{\"bgcolor\":\"rgb(17,17,17)\",\"angularaxis\":{\"gridcolor\":\"#506784\",\"linecolor\":\"#506784\",\"ticks\":\"\"},\"radialaxis\":{\"gridcolor\":\"#506784\",\"linecolor\":\"#506784\",\"ticks\":\"\"}},\"ternary\":{\"bgcolor\":\"rgb(17,17,17)\",\"aaxis\":{\"gridcolor\":\"#506784\",\"linecolor\":\"#506784\",\"ticks\":\"\"},\"baxis\":{\"gridcolor\":\"#506784\",\"linecolor\":\"#506784\",\"ticks\":\"\"},\"caxis\":{\"gridcolor\":\"#506784\",\"linecolor\":\"#506784\",\"ticks\":\"\"}},\"coloraxis\":{\"colorbar\":{\"outlinewidth\":0,\"ticks\":\"\"}},\"colorscale\":{\"sequential\":[[0.0,\"#0d0887\"],[0.1111111111111111,\"#46039f\"],[0.2222222222222222,\"#7201a8\"],[0.3333333333333333,\"#9c179e\"],[0.4444444444444444,\"#bd3786\"],[0.5555555555555556,\"#d8576b\"],[0.6666666666666666,\"#ed7953\"],[0.7777777777777778,\"#fb9f3a\"],[0.8888888888888888,\"#fdca26\"],[1.0,\"#f0f921\"]],\"sequentialminus\":[[0.0,\"#0d0887\"],[0.1111111111111111,\"#46039f\"],[0.2222222222222222,\"#7201a8\"],[0.3333333333333333,\"#9c179e\"],[0.4444444444444444,\"#bd3786\"],[0.5555555555555556,\"#d8576b\"],[0.6666666666666666,\"#ed7953\"],[0.7777777777777778,\"#fb9f3a\"],[0.8888888888888888,\"#fdca26\"],[1.0,\"#f0f921\"]],\"diverging\":[[0,\"#8e0152\"],[0.1,\"#c51b7d\"],[0.2,\"#de77ae\"],[0.3,\"#f1b6da\"],[0.4,\"#fde0ef\"],[0.5,\"#f7f7f7\"],[0.6,\"#e6f5d0\"],[0.7,\"#b8e186\"],[0.8,\"#7fbc41\"],[0.9,\"#4d9221\"],[1,\"#276419\"]]},\"xaxis\":{\"gridcolor\":\"#283442\",\"linecolor\":\"#506784\",\"ticks\":\"\",\"title\":{\"standoff\":15},\"zerolinecolor\":\"#283442\",\"automargin\":true,\"zerolinewidth\":2},\"yaxis\":{\"gridcolor\":\"#283442\",\"linecolor\":\"#506784\",\"ticks\":\"\",\"title\":{\"standoff\":15},\"zerolinecolor\":\"#283442\",\"automargin\":true,\"zerolinewidth\":2},\"scene\":{\"xaxis\":{\"backgroundcolor\":\"rgb(17,17,17)\",\"gridcolor\":\"#506784\",\"linecolor\":\"#506784\",\"showbackground\":true,\"ticks\":\"\",\"zerolinecolor\":\"#C8D4E3\",\"gridwidth\":2},\"yaxis\":{\"backgroundcolor\":\"rgb(17,17,17)\",\"gridcolor\":\"#506784\",\"linecolor\":\"#506784\",\"showbackground\":true,\"ticks\":\"\",\"zerolinecolor\":\"#C8D4E3\",\"gridwidth\":2},\"zaxis\":{\"backgroundcolor\":\"rgb(17,17,17)\",\"gridcolor\":\"#506784\",\"linecolor\":\"#506784\",\"showbackground\":true,\"ticks\":\"\",\"zerolinecolor\":\"#C8D4E3\",\"gridwidth\":2}},\"shapedefaults\":{\"line\":{\"color\":\"#f2f5fa\"}},\"annotationdefaults\":{\"arrowcolor\":\"#f2f5fa\",\"arrowhead\":0,\"arrowwidth\":1},\"geo\":{\"bgcolor\":\"rgb(17,17,17)\",\"landcolor\":\"rgb(17,17,17)\",\"subunitcolor\":\"#506784\",\"showland\":true,\"showlakes\":true,\"lakecolor\":\"rgb(17,17,17)\"},\"title\":{\"x\":0.05},\"updatemenudefaults\":{\"bgcolor\":\"#506784\",\"borderwidth\":0},\"sliderdefaults\":{\"bgcolor\":\"#C8D4E3\",\"borderwidth\":1,\"bordercolor\":\"rgb(17,17,17)\",\"tickwidth\":0},\"mapbox\":{\"style\":\"dark\"}}},\"xaxis\":{\"anchor\":\"y\",\"domain\":[0.0,1.0],\"title\":{\"text\":\"WorkDate\"}},\"yaxis\":{\"anchor\":\"x\",\"domain\":[0.0,1.0],\"title\":{\"text\":\"PAs\"}},\"legend\":{\"tracegroupgap\":0},\"title\":{\"text\":\"Daily Worked Total Mean Hours by Contract & Employee Physicians Assistants\"}},                        {\"responsive\": true}                    ).then(function(){\n",
       "                            \n",
       "var gd = document.getElementById('153fcda5-044d-46e6-a3c1-ad2d0048499d');\n",
       "var x = new MutationObserver(function (mutations, observer) {{\n",
       "        var display = window.getComputedStyle(gd).display;\n",
       "        if (!display || display === 'none') {{\n",
       "            console.log([gd, 'removed!']);\n",
       "            Plotly.purge(gd);\n",
       "            observer.disconnect();\n",
       "        }}\n",
       "}});\n",
       "\n",
       "// Listen for the removal of the full notebook cells\n",
       "var notebookContainer = gd.closest('#notebook-container');\n",
       "if (notebookContainer) {{\n",
       "    x.observe(notebookContainer, {childList: true});\n",
       "}}\n",
       "\n",
       "// Listen for the clearing of the current output cell\n",
       "var outputEl = gd.closest('.output');\n",
       "if (outputEl) {{\n",
       "    x.observe(outputEl, {childList: true});\n",
       "}}\n",
       "\n",
       "                        })                };                });            </script>        </div>"
      ]
     },
     "metadata": {},
     "output_type": "display_data"
    },
    {
     "name": "stdout",
     "output_type": "stream",
     "text": [
      "Physician Assistants work more than Pharmacists but less than nurses\n"
     ]
    },
    {
     "data": {
      "application/vnd.plotly.v1+json": {
       "data": [
        {
         "hovertemplate": "variable=RNs<br>WorkDate=%{x}<br>value=%{y}<extra></extra>",
         "legendgroup": "RNs",
         "line": {
          "color": "#636efa",
          "dash": "solid"
         },
         "marker": {
          "symbol": "circle"
         },
         "mode": "lines",
         "name": "RNs",
         "orientation": "v",
         "showlegend": true,
         "x": [
          "2024-03-31T00:00:00",
          "2024-03-30T00:00:00",
          "2024-03-29T00:00:00",
          "2024-03-28T00:00:00",
          "2024-03-27T00:00:00",
          "2024-03-26T00:00:00",
          "2024-03-25T00:00:00",
          "2024-03-24T00:00:00",
          "2024-03-23T00:00:00",
          "2024-03-22T00:00:00",
          "2024-03-21T00:00:00",
          "2024-03-20T00:00:00",
          "2024-03-19T00:00:00",
          "2024-03-18T00:00:00",
          "2024-03-17T00:00:00",
          "2024-03-16T00:00:00",
          "2024-03-15T00:00:00",
          "2024-03-14T00:00:00",
          "2024-03-13T00:00:00",
          "2024-03-12T00:00:00",
          "2024-03-11T00:00:00",
          "2024-03-10T00:00:00",
          "2024-03-09T00:00:00",
          "2024-03-08T00:00:00",
          "2024-03-07T00:00:00",
          "2024-03-06T00:00:00",
          "2024-03-05T00:00:00",
          "2024-03-04T00:00:00",
          "2024-03-03T00:00:00",
          "2024-03-02T00:00:00",
          "2024-03-01T00:00:00",
          "2024-02-29T00:00:00",
          "2024-02-28T00:00:00",
          "2024-02-27T00:00:00",
          "2024-02-26T00:00:00",
          "2024-02-25T00:00:00",
          "2024-02-24T00:00:00",
          "2024-02-23T00:00:00",
          "2024-02-22T00:00:00",
          "2024-02-21T00:00:00",
          "2024-02-20T00:00:00",
          "2024-02-19T00:00:00",
          "2024-02-18T00:00:00",
          "2024-02-17T00:00:00",
          "2024-02-16T00:00:00",
          "2024-02-15T00:00:00",
          "2024-02-14T00:00:00",
          "2024-02-13T00:00:00",
          "2024-02-12T00:00:00",
          "2024-02-11T00:00:00",
          "2024-02-10T00:00:00",
          "2024-02-09T00:00:00",
          "2024-02-08T00:00:00",
          "2024-02-07T00:00:00",
          "2024-02-06T00:00:00",
          "2024-02-05T00:00:00",
          "2024-02-04T00:00:00",
          "2024-02-03T00:00:00",
          "2024-02-02T00:00:00",
          "2024-02-01T00:00:00",
          "2024-01-31T00:00:00",
          "2024-01-30T00:00:00",
          "2024-01-29T00:00:00",
          "2024-01-28T00:00:00",
          "2024-01-27T00:00:00",
          "2024-01-26T00:00:00",
          "2024-01-25T00:00:00",
          "2024-01-24T00:00:00",
          "2024-01-23T00:00:00",
          "2024-01-22T00:00:00",
          "2024-01-21T00:00:00",
          "2024-01-20T00:00:00",
          "2024-01-19T00:00:00",
          "2024-01-18T00:00:00",
          "2024-01-17T00:00:00",
          "2024-01-16T00:00:00",
          "2024-01-15T00:00:00",
          "2024-01-14T00:00:00",
          "2024-01-13T00:00:00",
          "2024-01-12T00:00:00",
          "2024-01-11T00:00:00",
          "2024-01-10T00:00:00",
          "2024-01-09T00:00:00",
          "2024-01-08T00:00:00",
          "2024-01-07T00:00:00",
          "2024-01-06T00:00:00",
          "2024-01-05T00:00:00",
          "2024-01-04T00:00:00",
          "2024-01-03T00:00:00",
          "2024-01-02T00:00:00",
          "2024-01-01T00:00:00"
         ],
         "xaxis": "x",
         "y": [
          32.04826064458899,
          33.026485557586845,
          37.3506400060024,
          38.8977134903318,
          39.10870707070707,
          39.32434270716162,
          38.34986664668864,
          32.83957509372932,
          33.48302084095063,
          38.24029345710434,
          39.36467641544807,
          39.42799910105626,
          39.47416616586539,
          38.68708954664668,
          33.03924802110817,
          33.52884916282811,
          38.25476625028049,
          39.11831318062335,
          39.260057574398076,
          39.32340811885646,
          38.41973696043166,
          32.19352587155964,
          33.45024046192077,
          38.26716775110312,
          39.47927436958976,
          39.35141120864281,
          39.512149842034,
          38.49420863578537,
          33.01696603718343,
          33.37140530275364,
          38.27539523023848,
          39.46226930036188,
          39.54386176426539,
          39.55127428185705,
          38.67278484803113,
          32.97485408417657,
          33.442964371936505,
          38.30498240095858,
          39.32214612557196,
          39.57397661695272,
          39.34873758651821,
          37.834212339023665,
          32.99184158560668,
          33.2870002915877,
          38.29976782504493,
          39.108575389688234,
          39.02597707178181,
          39.20513758716353,
          38.3560740796281,
          32.798961680176866,
          33.38867301354816,
          38.339859925093634,
          39.295255266511724,
          39.44324676296685,
          39.536778806352075,
          38.62933158486324,
          32.94082314170633,
          33.38611679579009,
          38.275177836016475,
          39.28358663757432,
          39.471843860043464,
          39.463091838268454,
          38.45707653137636,
          32.86963957337257,
          33.30365748204603,
          38.355500525288896,
          39.23485369147659,
          39.223455568053986,
          39.0841410488246,
          38.21690020274837,
          32.74065115254735,
          33.26894371345029,
          37.815975910825166,
          38.80310726383139,
          38.86282520630157,
          38.75119377031827,
          37.20649397590361,
          32.3518625,
          32.85155936424229,
          37.61566551620649,
          38.77343397078752,
          38.79190361807535,
          38.559632708585255,
          37.62568789426254,
          32.136625505328915,
          32.74375843850895,
          37.55973797153829,
          38.30352901178604,
          38.117468297101446,
          37.47649727355346,
          32.77656686177398
         ],
         "yaxis": "y",
         "type": "scatter"
        },
        {
         "hovertemplate": "variable=RNDirs<br>WorkDate=%{x}<br>value=%{y}<extra></extra>",
         "legendgroup": "RNDirs",
         "line": {
          "color": "#EF553B",
          "dash": "solid"
         },
         "marker": {
          "symbol": "circle"
         },
         "mode": "lines",
         "name": "RNDirs",
         "orientation": "v",
         "showlegend": true,
         "x": [
          "2024-03-31T00:00:00",
          "2024-03-30T00:00:00",
          "2024-03-29T00:00:00",
          "2024-03-28T00:00:00",
          "2024-03-27T00:00:00",
          "2024-03-26T00:00:00",
          "2024-03-25T00:00:00",
          "2024-03-24T00:00:00",
          "2024-03-23T00:00:00",
          "2024-03-22T00:00:00",
          "2024-03-21T00:00:00",
          "2024-03-20T00:00:00",
          "2024-03-19T00:00:00",
          "2024-03-18T00:00:00",
          "2024-03-17T00:00:00",
          "2024-03-16T00:00:00",
          "2024-03-15T00:00:00",
          "2024-03-14T00:00:00",
          "2024-03-13T00:00:00",
          "2024-03-12T00:00:00",
          "2024-03-11T00:00:00",
          "2024-03-10T00:00:00",
          "2024-03-09T00:00:00",
          "2024-03-08T00:00:00",
          "2024-03-07T00:00:00",
          "2024-03-06T00:00:00",
          "2024-03-05T00:00:00",
          "2024-03-04T00:00:00",
          "2024-03-03T00:00:00",
          "2024-03-02T00:00:00",
          "2024-03-01T00:00:00",
          "2024-02-29T00:00:00",
          "2024-02-28T00:00:00",
          "2024-02-27T00:00:00",
          "2024-02-26T00:00:00",
          "2024-02-25T00:00:00",
          "2024-02-24T00:00:00",
          "2024-02-23T00:00:00",
          "2024-02-22T00:00:00",
          "2024-02-21T00:00:00",
          "2024-02-20T00:00:00",
          "2024-02-19T00:00:00",
          "2024-02-18T00:00:00",
          "2024-02-17T00:00:00",
          "2024-02-16T00:00:00",
          "2024-02-15T00:00:00",
          "2024-02-14T00:00:00",
          "2024-02-13T00:00:00",
          "2024-02-12T00:00:00",
          "2024-02-11T00:00:00",
          "2024-02-10T00:00:00",
          "2024-02-09T00:00:00",
          "2024-02-08T00:00:00",
          "2024-02-07T00:00:00",
          "2024-02-06T00:00:00",
          "2024-02-05T00:00:00",
          "2024-02-04T00:00:00",
          "2024-02-03T00:00:00",
          "2024-02-02T00:00:00",
          "2024-02-01T00:00:00",
          "2024-01-31T00:00:00",
          "2024-01-30T00:00:00",
          "2024-01-29T00:00:00",
          "2024-01-28T00:00:00",
          "2024-01-27T00:00:00",
          "2024-01-26T00:00:00",
          "2024-01-25T00:00:00",
          "2024-01-24T00:00:00",
          "2024-01-23T00:00:00",
          "2024-01-22T00:00:00",
          "2024-01-21T00:00:00",
          "2024-01-20T00:00:00",
          "2024-01-19T00:00:00",
          "2024-01-18T00:00:00",
          "2024-01-17T00:00:00",
          "2024-01-16T00:00:00",
          "2024-01-15T00:00:00",
          "2024-01-14T00:00:00",
          "2024-01-13T00:00:00",
          "2024-01-12T00:00:00",
          "2024-01-11T00:00:00",
          "2024-01-10T00:00:00",
          "2024-01-09T00:00:00",
          "2024-01-08T00:00:00",
          "2024-01-07T00:00:00",
          "2024-01-06T00:00:00",
          "2024-01-05T00:00:00",
          "2024-01-04T00:00:00",
          "2024-01-03T00:00:00",
          "2024-01-02T00:00:00",
          "2024-01-01T00:00:00"
         ],
         "xaxis": "x",
         "y": [
          7.390721040189127,
          6.8550133689839585,
          8.243340446341245,
          8.341764848877727,
          8.343474711907804,
          8.351817962724951,
          8.324818433479887,
          7.060529801324499,
          7.136293706293706,
          8.267676575308435,
          8.335301233776637,
          8.357218742567188,
          8.379414232565502,
          8.343495278831417,
          7.560452616690242,
          7.30722786647315,
          8.291248127808277,
          8.346061943352321,
          8.379912280701744,
          8.357224603174604,
          8.35504471839497,
          7.353647711511789,
          7.028561354019748,
          8.290438884331419,
          8.36874453367258,
          8.371789074235117,
          8.40813128513739,
          8.348285440613026,
          7.33426592797784,
          7.183730715287516,
          8.271931939319412,
          8.3381805157593,
          8.33243072050674,
          8.358923613865308,
          8.327272217325095,
          7.121176470588233,
          6.8638579387186605,
          8.276354012801574,
          8.35279423475075,
          8.357973970319808,
          8.358994704813083,
          8.320898876404502,
          7.168835904628333,
          6.892105263157895,
          8.273461697380387,
          8.331140581441655,
          8.330076776951092,
          8.345036311967172,
          8.314660491341122,
          7.2596221662468485,
          7.140668647845465,
          8.279427917620135,
          8.35308774703557,
          8.356621366849964,
          8.370087353427243,
          8.355606904231616,
          7.091176470588231,
          6.908133903133905,
          8.298224967490249,
          8.350962845849793,
          8.357094280078897,
          8.360539799435907,
          8.355734393638167,
          6.950680272108845,
          7.100676056338027,
          8.301859822951359,
          8.367883631210134,
          8.36602056030763,
          8.352211252154836,
          8.350418426715548,
          7.129759999999999,
          7.024377682403429,
          8.296756603006907,
          8.359995271495002,
          8.365518789884197,
          8.360991205134297,
          8.300000863557855,
          7.182960969044414,
          7.05912162162162,
          8.262436369588357,
          8.339325815929493,
          8.332717563291146,
          8.354314797211677,
          8.347482204270992,
          7.158967828418232,
          7.270996354799516,
          8.301720623012333,
          8.359404010545665,
          8.349577284029847,
          8.341604278074868,
          8.091632914090809
         ],
         "yaxis": "y",
         "type": "scatter"
        },
        {
         "hovertemplate": "variable=RNA<br>WorkDate=%{x}<br>value=%{y}<extra></extra>",
         "legendgroup": "RNA",
         "line": {
          "color": "#00cc96",
          "dash": "solid"
         },
         "marker": {
          "symbol": "circle"
         },
         "mode": "lines",
         "name": "RNA",
         "orientation": "v",
         "showlegend": true,
         "x": [
          "2024-03-31T00:00:00",
          "2024-03-30T00:00:00",
          "2024-03-29T00:00:00",
          "2024-03-28T00:00:00",
          "2024-03-27T00:00:00",
          "2024-03-26T00:00:00",
          "2024-03-25T00:00:00",
          "2024-03-24T00:00:00",
          "2024-03-23T00:00:00",
          "2024-03-22T00:00:00",
          "2024-03-21T00:00:00",
          "2024-03-20T00:00:00",
          "2024-03-19T00:00:00",
          "2024-03-18T00:00:00",
          "2024-03-17T00:00:00",
          "2024-03-16T00:00:00",
          "2024-03-15T00:00:00",
          "2024-03-14T00:00:00",
          "2024-03-13T00:00:00",
          "2024-03-12T00:00:00",
          "2024-03-11T00:00:00",
          "2024-03-10T00:00:00",
          "2024-03-09T00:00:00",
          "2024-03-08T00:00:00",
          "2024-03-07T00:00:00",
          "2024-03-06T00:00:00",
          "2024-03-05T00:00:00",
          "2024-03-04T00:00:00",
          "2024-03-03T00:00:00",
          "2024-03-02T00:00:00",
          "2024-03-01T00:00:00",
          "2024-02-29T00:00:00",
          "2024-02-28T00:00:00",
          "2024-02-27T00:00:00",
          "2024-02-26T00:00:00",
          "2024-02-25T00:00:00",
          "2024-02-24T00:00:00",
          "2024-02-23T00:00:00",
          "2024-02-22T00:00:00",
          "2024-02-21T00:00:00",
          "2024-02-20T00:00:00",
          "2024-02-19T00:00:00",
          "2024-02-18T00:00:00",
          "2024-02-17T00:00:00",
          "2024-02-16T00:00:00",
          "2024-02-15T00:00:00",
          "2024-02-14T00:00:00",
          "2024-02-13T00:00:00",
          "2024-02-12T00:00:00",
          "2024-02-11T00:00:00",
          "2024-02-10T00:00:00",
          "2024-02-09T00:00:00",
          "2024-02-08T00:00:00",
          "2024-02-07T00:00:00",
          "2024-02-06T00:00:00",
          "2024-02-05T00:00:00",
          "2024-02-04T00:00:00",
          "2024-02-03T00:00:00",
          "2024-02-02T00:00:00",
          "2024-02-01T00:00:00",
          "2024-01-31T00:00:00",
          "2024-01-30T00:00:00",
          "2024-01-29T00:00:00",
          "2024-01-28T00:00:00",
          "2024-01-27T00:00:00",
          "2024-01-26T00:00:00",
          "2024-01-25T00:00:00",
          "2024-01-24T00:00:00",
          "2024-01-23T00:00:00",
          "2024-01-22T00:00:00",
          "2024-01-21T00:00:00",
          "2024-01-20T00:00:00",
          "2024-01-19T00:00:00",
          "2024-01-18T00:00:00",
          "2024-01-17T00:00:00",
          "2024-01-16T00:00:00",
          "2024-01-15T00:00:00",
          "2024-01-14T00:00:00",
          "2024-01-13T00:00:00",
          "2024-01-12T00:00:00",
          "2024-01-11T00:00:00",
          "2024-01-10T00:00:00",
          "2024-01-09T00:00:00",
          "2024-01-08T00:00:00",
          "2024-01-07T00:00:00",
          "2024-01-06T00:00:00",
          "2024-01-05T00:00:00",
          "2024-01-04T00:00:00",
          "2024-01-03T00:00:00",
          "2024-01-02T00:00:00",
          "2024-01-01T00:00:00"
         ],
         "xaxis": "x",
         "y": [
          10.376969808541952,
          10.23553191489362,
          17.36579921826786,
          19.210616748578566,
          19.51561641203031,
          19.607484337349362,
          19.119357163728413,
          10.403634137810446,
          10.133755656108587,
          18.305905793500912,
          19.36551578137023,
          19.64255760368659,
          19.689963517665113,
          19.175205319871836,
          10.232094711372275,
          10.14656134453782,
          18.2581077320612,
          19.355465026157695,
          19.571534534245277,
          19.61446116739029,
          19.148866089662516,
          10.007392955801123,
          10.277414715719065,
          18.419597667062074,
          19.43665962756765,
          19.724814069388533,
          19.74790880352523,
          19.24395759036145,
          10.263681677552428,
          10.26227669576897,
          18.53590020831266,
          19.46656594724221,
          19.588038332534733,
          19.66560699193233,
          19.16699331848548,
          10.095680190930787,
          10.333674480026406,
          18.28645870293714,
          19.402095595306747,
          19.65629163866757,
          19.594993781689443,
          18.068496941742758,
          10.266454142516196,
          10.27875666666666,
          18.314251929546817,
          19.413868606107286,
          19.477893217893204,
          19.446120061373183,
          19.09503736775695,
          10.136270030685312,
          10.413259926593259,
          18.44480961727186,
          19.55116024223776,
          19.76451551129839,
          19.803514572384163,
          19.32791246760728,
          10.108509697175906,
          10.34158137999338,
          18.5470475257227,
          19.56798010711552,
          19.64954597481874,
          19.724323911382733,
          19.25283636713857,
          9.983126913916285,
          10.264942339373974,
          18.436443177349588,
          19.473423933922362,
          19.650072678588515,
          19.673554511458452,
          19.23508576998043,
          10.120114068441058,
          10.333661971830958,
          18.282683023347815,
          19.419616865614156,
          19.487009973149213,
          19.318837615123616,
          17.788918751292158,
          10.10921668362155,
          10.429901091405176,
          18.29545481569557,
          19.428613012048174,
          19.528154097729864,
          19.590418078002507,
          19.234848484848452,
          10.024011588275393,
          10.2301667778519,
          18.61140059055116,
          19.452606685290498,
          19.567047141617703,
          19.095918786692728,
          12.43925821406974
         ],
         "yaxis": "y",
         "type": "scatter"
        }
       ],
       "layout": {
        "template": {
         "data": {
          "histogram2dcontour": [
           {
            "type": "histogram2dcontour",
            "colorbar": {
             "outlinewidth": 0,
             "ticks": ""
            },
            "colorscale": [
             [
              0.0,
              "#0d0887"
             ],
             [
              0.1111111111111111,
              "#46039f"
             ],
             [
              0.2222222222222222,
              "#7201a8"
             ],
             [
              0.3333333333333333,
              "#9c179e"
             ],
             [
              0.4444444444444444,
              "#bd3786"
             ],
             [
              0.5555555555555556,
              "#d8576b"
             ],
             [
              0.6666666666666666,
              "#ed7953"
             ],
             [
              0.7777777777777778,
              "#fb9f3a"
             ],
             [
              0.8888888888888888,
              "#fdca26"
             ],
             [
              1.0,
              "#f0f921"
             ]
            ]
           }
          ],
          "choropleth": [
           {
            "type": "choropleth",
            "colorbar": {
             "outlinewidth": 0,
             "ticks": ""
            }
           }
          ],
          "histogram2d": [
           {
            "type": "histogram2d",
            "colorbar": {
             "outlinewidth": 0,
             "ticks": ""
            },
            "colorscale": [
             [
              0.0,
              "#0d0887"
             ],
             [
              0.1111111111111111,
              "#46039f"
             ],
             [
              0.2222222222222222,
              "#7201a8"
             ],
             [
              0.3333333333333333,
              "#9c179e"
             ],
             [
              0.4444444444444444,
              "#bd3786"
             ],
             [
              0.5555555555555556,
              "#d8576b"
             ],
             [
              0.6666666666666666,
              "#ed7953"
             ],
             [
              0.7777777777777778,
              "#fb9f3a"
             ],
             [
              0.8888888888888888,
              "#fdca26"
             ],
             [
              1.0,
              "#f0f921"
             ]
            ]
           }
          ],
          "heatmap": [
           {
            "type": "heatmap",
            "colorbar": {
             "outlinewidth": 0,
             "ticks": ""
            },
            "colorscale": [
             [
              0.0,
              "#0d0887"
             ],
             [
              0.1111111111111111,
              "#46039f"
             ],
             [
              0.2222222222222222,
              "#7201a8"
             ],
             [
              0.3333333333333333,
              "#9c179e"
             ],
             [
              0.4444444444444444,
              "#bd3786"
             ],
             [
              0.5555555555555556,
              "#d8576b"
             ],
             [
              0.6666666666666666,
              "#ed7953"
             ],
             [
              0.7777777777777778,
              "#fb9f3a"
             ],
             [
              0.8888888888888888,
              "#fdca26"
             ],
             [
              1.0,
              "#f0f921"
             ]
            ]
           }
          ],
          "heatmapgl": [
           {
            "type": "heatmapgl",
            "colorbar": {
             "outlinewidth": 0,
             "ticks": ""
            },
            "colorscale": [
             [
              0.0,
              "#0d0887"
             ],
             [
              0.1111111111111111,
              "#46039f"
             ],
             [
              0.2222222222222222,
              "#7201a8"
             ],
             [
              0.3333333333333333,
              "#9c179e"
             ],
             [
              0.4444444444444444,
              "#bd3786"
             ],
             [
              0.5555555555555556,
              "#d8576b"
             ],
             [
              0.6666666666666666,
              "#ed7953"
             ],
             [
              0.7777777777777778,
              "#fb9f3a"
             ],
             [
              0.8888888888888888,
              "#fdca26"
             ],
             [
              1.0,
              "#f0f921"
             ]
            ]
           }
          ],
          "contourcarpet": [
           {
            "type": "contourcarpet",
            "colorbar": {
             "outlinewidth": 0,
             "ticks": ""
            }
           }
          ],
          "contour": [
           {
            "type": "contour",
            "colorbar": {
             "outlinewidth": 0,
             "ticks": ""
            },
            "colorscale": [
             [
              0.0,
              "#0d0887"
             ],
             [
              0.1111111111111111,
              "#46039f"
             ],
             [
              0.2222222222222222,
              "#7201a8"
             ],
             [
              0.3333333333333333,
              "#9c179e"
             ],
             [
              0.4444444444444444,
              "#bd3786"
             ],
             [
              0.5555555555555556,
              "#d8576b"
             ],
             [
              0.6666666666666666,
              "#ed7953"
             ],
             [
              0.7777777777777778,
              "#fb9f3a"
             ],
             [
              0.8888888888888888,
              "#fdca26"
             ],
             [
              1.0,
              "#f0f921"
             ]
            ]
           }
          ],
          "surface": [
           {
            "type": "surface",
            "colorbar": {
             "outlinewidth": 0,
             "ticks": ""
            },
            "colorscale": [
             [
              0.0,
              "#0d0887"
             ],
             [
              0.1111111111111111,
              "#46039f"
             ],
             [
              0.2222222222222222,
              "#7201a8"
             ],
             [
              0.3333333333333333,
              "#9c179e"
             ],
             [
              0.4444444444444444,
              "#bd3786"
             ],
             [
              0.5555555555555556,
              "#d8576b"
             ],
             [
              0.6666666666666666,
              "#ed7953"
             ],
             [
              0.7777777777777778,
              "#fb9f3a"
             ],
             [
              0.8888888888888888,
              "#fdca26"
             ],
             [
              1.0,
              "#f0f921"
             ]
            ]
           }
          ],
          "mesh3d": [
           {
            "type": "mesh3d",
            "colorbar": {
             "outlinewidth": 0,
             "ticks": ""
            }
           }
          ],
          "scatter": [
           {
            "marker": {
             "line": {
              "color": "#283442"
             }
            },
            "type": "scatter"
           }
          ],
          "parcoords": [
           {
            "type": "parcoords",
            "line": {
             "colorbar": {
              "outlinewidth": 0,
              "ticks": ""
             }
            }
           }
          ],
          "scatterpolargl": [
           {
            "type": "scatterpolargl",
            "marker": {
             "colorbar": {
              "outlinewidth": 0,
              "ticks": ""
             }
            }
           }
          ],
          "bar": [
           {
            "error_x": {
             "color": "#f2f5fa"
            },
            "error_y": {
             "color": "#f2f5fa"
            },
            "marker": {
             "line": {
              "color": "rgb(17,17,17)",
              "width": 0.5
             },
             "pattern": {
              "fillmode": "overlay",
              "size": 10,
              "solidity": 0.2
             }
            },
            "type": "bar"
           }
          ],
          "scattergeo": [
           {
            "type": "scattergeo",
            "marker": {
             "colorbar": {
              "outlinewidth": 0,
              "ticks": ""
             }
            }
           }
          ],
          "scatterpolar": [
           {
            "type": "scatterpolar",
            "marker": {
             "colorbar": {
              "outlinewidth": 0,
              "ticks": ""
             }
            }
           }
          ],
          "histogram": [
           {
            "marker": {
             "pattern": {
              "fillmode": "overlay",
              "size": 10,
              "solidity": 0.2
             }
            },
            "type": "histogram"
           }
          ],
          "scattergl": [
           {
            "marker": {
             "line": {
              "color": "#283442"
             }
            },
            "type": "scattergl"
           }
          ],
          "scatter3d": [
           {
            "type": "scatter3d",
            "line": {
             "colorbar": {
              "outlinewidth": 0,
              "ticks": ""
             }
            },
            "marker": {
             "colorbar": {
              "outlinewidth": 0,
              "ticks": ""
             }
            }
           }
          ],
          "scattermapbox": [
           {
            "type": "scattermapbox",
            "marker": {
             "colorbar": {
              "outlinewidth": 0,
              "ticks": ""
             }
            }
           }
          ],
          "scatterternary": [
           {
            "type": "scatterternary",
            "marker": {
             "colorbar": {
              "outlinewidth": 0,
              "ticks": ""
             }
            }
           }
          ],
          "scattercarpet": [
           {
            "type": "scattercarpet",
            "marker": {
             "colorbar": {
              "outlinewidth": 0,
              "ticks": ""
             }
            }
           }
          ],
          "carpet": [
           {
            "aaxis": {
             "endlinecolor": "#A2B1C6",
             "gridcolor": "#506784",
             "linecolor": "#506784",
             "minorgridcolor": "#506784",
             "startlinecolor": "#A2B1C6"
            },
            "baxis": {
             "endlinecolor": "#A2B1C6",
             "gridcolor": "#506784",
             "linecolor": "#506784",
             "minorgridcolor": "#506784",
             "startlinecolor": "#A2B1C6"
            },
            "type": "carpet"
           }
          ],
          "table": [
           {
            "cells": {
             "fill": {
              "color": "#506784"
             },
             "line": {
              "color": "rgb(17,17,17)"
             }
            },
            "header": {
             "fill": {
              "color": "#2a3f5f"
             },
             "line": {
              "color": "rgb(17,17,17)"
             }
            },
            "type": "table"
           }
          ],
          "barpolar": [
           {
            "marker": {
             "line": {
              "color": "rgb(17,17,17)",
              "width": 0.5
             },
             "pattern": {
              "fillmode": "overlay",
              "size": 10,
              "solidity": 0.2
             }
            },
            "type": "barpolar"
           }
          ],
          "pie": [
           {
            "automargin": true,
            "type": "pie"
           }
          ]
         },
         "layout": {
          "autotypenumbers": "strict",
          "colorway": [
           "#636efa",
           "#EF553B",
           "#00cc96",
           "#ab63fa",
           "#FFA15A",
           "#19d3f3",
           "#FF6692",
           "#B6E880",
           "#FF97FF",
           "#FECB52"
          ],
          "font": {
           "color": "#f2f5fa"
          },
          "hovermode": "closest",
          "hoverlabel": {
           "align": "left"
          },
          "paper_bgcolor": "rgb(17,17,17)",
          "plot_bgcolor": "rgb(17,17,17)",
          "polar": {
           "bgcolor": "rgb(17,17,17)",
           "angularaxis": {
            "gridcolor": "#506784",
            "linecolor": "#506784",
            "ticks": ""
           },
           "radialaxis": {
            "gridcolor": "#506784",
            "linecolor": "#506784",
            "ticks": ""
           }
          },
          "ternary": {
           "bgcolor": "rgb(17,17,17)",
           "aaxis": {
            "gridcolor": "#506784",
            "linecolor": "#506784",
            "ticks": ""
           },
           "baxis": {
            "gridcolor": "#506784",
            "linecolor": "#506784",
            "ticks": ""
           },
           "caxis": {
            "gridcolor": "#506784",
            "linecolor": "#506784",
            "ticks": ""
           }
          },
          "coloraxis": {
           "colorbar": {
            "outlinewidth": 0,
            "ticks": ""
           }
          },
          "colorscale": {
           "sequential": [
            [
             0.0,
             "#0d0887"
            ],
            [
             0.1111111111111111,
             "#46039f"
            ],
            [
             0.2222222222222222,
             "#7201a8"
            ],
            [
             0.3333333333333333,
             "#9c179e"
            ],
            [
             0.4444444444444444,
             "#bd3786"
            ],
            [
             0.5555555555555556,
             "#d8576b"
            ],
            [
             0.6666666666666666,
             "#ed7953"
            ],
            [
             0.7777777777777778,
             "#fb9f3a"
            ],
            [
             0.8888888888888888,
             "#fdca26"
            ],
            [
             1.0,
             "#f0f921"
            ]
           ],
           "sequentialminus": [
            [
             0.0,
             "#0d0887"
            ],
            [
             0.1111111111111111,
             "#46039f"
            ],
            [
             0.2222222222222222,
             "#7201a8"
            ],
            [
             0.3333333333333333,
             "#9c179e"
            ],
            [
             0.4444444444444444,
             "#bd3786"
            ],
            [
             0.5555555555555556,
             "#d8576b"
            ],
            [
             0.6666666666666666,
             "#ed7953"
            ],
            [
             0.7777777777777778,
             "#fb9f3a"
            ],
            [
             0.8888888888888888,
             "#fdca26"
            ],
            [
             1.0,
             "#f0f921"
            ]
           ],
           "diverging": [
            [
             0,
             "#8e0152"
            ],
            [
             0.1,
             "#c51b7d"
            ],
            [
             0.2,
             "#de77ae"
            ],
            [
             0.3,
             "#f1b6da"
            ],
            [
             0.4,
             "#fde0ef"
            ],
            [
             0.5,
             "#f7f7f7"
            ],
            [
             0.6,
             "#e6f5d0"
            ],
            [
             0.7,
             "#b8e186"
            ],
            [
             0.8,
             "#7fbc41"
            ],
            [
             0.9,
             "#4d9221"
            ],
            [
             1,
             "#276419"
            ]
           ]
          },
          "xaxis": {
           "gridcolor": "#283442",
           "linecolor": "#506784",
           "ticks": "",
           "title": {
            "standoff": 15
           },
           "zerolinecolor": "#283442",
           "automargin": true,
           "zerolinewidth": 2
          },
          "yaxis": {
           "gridcolor": "#283442",
           "linecolor": "#506784",
           "ticks": "",
           "title": {
            "standoff": 15
           },
           "zerolinecolor": "#283442",
           "automargin": true,
           "zerolinewidth": 2
          },
          "scene": {
           "xaxis": {
            "backgroundcolor": "rgb(17,17,17)",
            "gridcolor": "#506784",
            "linecolor": "#506784",
            "showbackground": true,
            "ticks": "",
            "zerolinecolor": "#C8D4E3",
            "gridwidth": 2
           },
           "yaxis": {
            "backgroundcolor": "rgb(17,17,17)",
            "gridcolor": "#506784",
            "linecolor": "#506784",
            "showbackground": true,
            "ticks": "",
            "zerolinecolor": "#C8D4E3",
            "gridwidth": 2
           },
           "zaxis": {
            "backgroundcolor": "rgb(17,17,17)",
            "gridcolor": "#506784",
            "linecolor": "#506784",
            "showbackground": true,
            "ticks": "",
            "zerolinecolor": "#C8D4E3",
            "gridwidth": 2
           }
          },
          "shapedefaults": {
           "line": {
            "color": "#f2f5fa"
           }
          },
          "annotationdefaults": {
           "arrowcolor": "#f2f5fa",
           "arrowhead": 0,
           "arrowwidth": 1
          },
          "geo": {
           "bgcolor": "rgb(17,17,17)",
           "landcolor": "rgb(17,17,17)",
           "subunitcolor": "#506784",
           "showland": true,
           "showlakes": true,
           "lakecolor": "rgb(17,17,17)"
          },
          "title": {
           "x": 0.05
          },
          "updatemenudefaults": {
           "bgcolor": "#506784",
           "borderwidth": 0
          },
          "sliderdefaults": {
           "bgcolor": "#C8D4E3",
           "borderwidth": 1,
           "bordercolor": "rgb(17,17,17)",
           "tickwidth": 0
          },
          "mapbox": {
           "style": "dark"
          }
         }
        },
        "xaxis": {
         "anchor": "y",
         "domain": [
          0.0,
          1.0
         ],
         "title": {
          "text": "WorkDate"
         }
        },
        "yaxis": {
         "anchor": "x",
         "domain": [
          0.0,
          1.0
         ],
         "title": {
          "text": "value"
         }
        },
        "legend": {
         "title": {
          "text": "variable"
         },
         "tracegroupgap": 0
        },
        "title": {
         "text": "Daily Worked Total Mean Hours by All RNs & those in Director or Admin Roles"
        }
       },
       "config": {
        "plotlyServerURL": "https://plot.ly"
       }
      },
      "text/html": [
       "<div>                            <div id=\"3c8a3cdf-a221-4a68-b7c9-3e9a5dd9b4ca\" class=\"plotly-graph-div\" style=\"height:525px; width:100%;\"></div>            <script type=\"text/javascript\">                require([\"plotly\"], function(Plotly) {                    window.PLOTLYENV=window.PLOTLYENV || {};                                    if (document.getElementById(\"3c8a3cdf-a221-4a68-b7c9-3e9a5dd9b4ca\")) {                    Plotly.newPlot(                        \"3c8a3cdf-a221-4a68-b7c9-3e9a5dd9b4ca\",                        [{\"hovertemplate\":\"variable=RNs\\u003cbr\\u003eWorkDate=%{x}\\u003cbr\\u003evalue=%{y}\\u003cextra\\u003e\\u003c\\u002fextra\\u003e\",\"legendgroup\":\"RNs\",\"line\":{\"color\":\"#636efa\",\"dash\":\"solid\"},\"marker\":{\"symbol\":\"circle\"},\"mode\":\"lines\",\"name\":\"RNs\",\"orientation\":\"v\",\"showlegend\":true,\"x\":[\"2024-03-31T00:00:00\",\"2024-03-30T00:00:00\",\"2024-03-29T00:00:00\",\"2024-03-28T00:00:00\",\"2024-03-27T00:00:00\",\"2024-03-26T00:00:00\",\"2024-03-25T00:00:00\",\"2024-03-24T00:00:00\",\"2024-03-23T00:00:00\",\"2024-03-22T00:00:00\",\"2024-03-21T00:00:00\",\"2024-03-20T00:00:00\",\"2024-03-19T00:00:00\",\"2024-03-18T00:00:00\",\"2024-03-17T00:00:00\",\"2024-03-16T00:00:00\",\"2024-03-15T00:00:00\",\"2024-03-14T00:00:00\",\"2024-03-13T00:00:00\",\"2024-03-12T00:00:00\",\"2024-03-11T00:00:00\",\"2024-03-10T00:00:00\",\"2024-03-09T00:00:00\",\"2024-03-08T00:00:00\",\"2024-03-07T00:00:00\",\"2024-03-06T00:00:00\",\"2024-03-05T00:00:00\",\"2024-03-04T00:00:00\",\"2024-03-03T00:00:00\",\"2024-03-02T00:00:00\",\"2024-03-01T00:00:00\",\"2024-02-29T00:00:00\",\"2024-02-28T00:00:00\",\"2024-02-27T00:00:00\",\"2024-02-26T00:00:00\",\"2024-02-25T00:00:00\",\"2024-02-24T00:00:00\",\"2024-02-23T00:00:00\",\"2024-02-22T00:00:00\",\"2024-02-21T00:00:00\",\"2024-02-20T00:00:00\",\"2024-02-19T00:00:00\",\"2024-02-18T00:00:00\",\"2024-02-17T00:00:00\",\"2024-02-16T00:00:00\",\"2024-02-15T00:00:00\",\"2024-02-14T00:00:00\",\"2024-02-13T00:00:00\",\"2024-02-12T00:00:00\",\"2024-02-11T00:00:00\",\"2024-02-10T00:00:00\",\"2024-02-09T00:00:00\",\"2024-02-08T00:00:00\",\"2024-02-07T00:00:00\",\"2024-02-06T00:00:00\",\"2024-02-05T00:00:00\",\"2024-02-04T00:00:00\",\"2024-02-03T00:00:00\",\"2024-02-02T00:00:00\",\"2024-02-01T00:00:00\",\"2024-01-31T00:00:00\",\"2024-01-30T00:00:00\",\"2024-01-29T00:00:00\",\"2024-01-28T00:00:00\",\"2024-01-27T00:00:00\",\"2024-01-26T00:00:00\",\"2024-01-25T00:00:00\",\"2024-01-24T00:00:00\",\"2024-01-23T00:00:00\",\"2024-01-22T00:00:00\",\"2024-01-21T00:00:00\",\"2024-01-20T00:00:00\",\"2024-01-19T00:00:00\",\"2024-01-18T00:00:00\",\"2024-01-17T00:00:00\",\"2024-01-16T00:00:00\",\"2024-01-15T00:00:00\",\"2024-01-14T00:00:00\",\"2024-01-13T00:00:00\",\"2024-01-12T00:00:00\",\"2024-01-11T00:00:00\",\"2024-01-10T00:00:00\",\"2024-01-09T00:00:00\",\"2024-01-08T00:00:00\",\"2024-01-07T00:00:00\",\"2024-01-06T00:00:00\",\"2024-01-05T00:00:00\",\"2024-01-04T00:00:00\",\"2024-01-03T00:00:00\",\"2024-01-02T00:00:00\",\"2024-01-01T00:00:00\"],\"xaxis\":\"x\",\"y\":[32.04826064458899,33.026485557586845,37.3506400060024,38.8977134903318,39.10870707070707,39.32434270716162,38.34986664668864,32.83957509372932,33.48302084095063,38.24029345710434,39.36467641544807,39.42799910105626,39.47416616586539,38.68708954664668,33.03924802110817,33.52884916282811,38.25476625028049,39.11831318062335,39.260057574398076,39.32340811885646,38.41973696043166,32.19352587155964,33.45024046192077,38.26716775110312,39.47927436958976,39.35141120864281,39.512149842034,38.49420863578537,33.01696603718343,33.37140530275364,38.27539523023848,39.46226930036188,39.54386176426539,39.55127428185705,38.67278484803113,32.97485408417657,33.442964371936505,38.30498240095858,39.32214612557196,39.57397661695272,39.34873758651821,37.834212339023665,32.99184158560668,33.2870002915877,38.29976782504493,39.108575389688234,39.02597707178181,39.20513758716353,38.3560740796281,32.798961680176866,33.38867301354816,38.339859925093634,39.295255266511724,39.44324676296685,39.536778806352075,38.62933158486324,32.94082314170633,33.38611679579009,38.275177836016475,39.28358663757432,39.471843860043464,39.463091838268454,38.45707653137636,32.86963957337257,33.30365748204603,38.355500525288896,39.23485369147659,39.223455568053986,39.0841410488246,38.21690020274837,32.74065115254735,33.26894371345029,37.815975910825166,38.80310726383139,38.86282520630157,38.75119377031827,37.20649397590361,32.3518625,32.85155936424229,37.61566551620649,38.77343397078752,38.79190361807535,38.559632708585255,37.62568789426254,32.136625505328915,32.74375843850895,37.55973797153829,38.30352901178604,38.117468297101446,37.47649727355346,32.77656686177398],\"yaxis\":\"y\",\"type\":\"scatter\"},{\"hovertemplate\":\"variable=RNDirs\\u003cbr\\u003eWorkDate=%{x}\\u003cbr\\u003evalue=%{y}\\u003cextra\\u003e\\u003c\\u002fextra\\u003e\",\"legendgroup\":\"RNDirs\",\"line\":{\"color\":\"#EF553B\",\"dash\":\"solid\"},\"marker\":{\"symbol\":\"circle\"},\"mode\":\"lines\",\"name\":\"RNDirs\",\"orientation\":\"v\",\"showlegend\":true,\"x\":[\"2024-03-31T00:00:00\",\"2024-03-30T00:00:00\",\"2024-03-29T00:00:00\",\"2024-03-28T00:00:00\",\"2024-03-27T00:00:00\",\"2024-03-26T00:00:00\",\"2024-03-25T00:00:00\",\"2024-03-24T00:00:00\",\"2024-03-23T00:00:00\",\"2024-03-22T00:00:00\",\"2024-03-21T00:00:00\",\"2024-03-20T00:00:00\",\"2024-03-19T00:00:00\",\"2024-03-18T00:00:00\",\"2024-03-17T00:00:00\",\"2024-03-16T00:00:00\",\"2024-03-15T00:00:00\",\"2024-03-14T00:00:00\",\"2024-03-13T00:00:00\",\"2024-03-12T00:00:00\",\"2024-03-11T00:00:00\",\"2024-03-10T00:00:00\",\"2024-03-09T00:00:00\",\"2024-03-08T00:00:00\",\"2024-03-07T00:00:00\",\"2024-03-06T00:00:00\",\"2024-03-05T00:00:00\",\"2024-03-04T00:00:00\",\"2024-03-03T00:00:00\",\"2024-03-02T00:00:00\",\"2024-03-01T00:00:00\",\"2024-02-29T00:00:00\",\"2024-02-28T00:00:00\",\"2024-02-27T00:00:00\",\"2024-02-26T00:00:00\",\"2024-02-25T00:00:00\",\"2024-02-24T00:00:00\",\"2024-02-23T00:00:00\",\"2024-02-22T00:00:00\",\"2024-02-21T00:00:00\",\"2024-02-20T00:00:00\",\"2024-02-19T00:00:00\",\"2024-02-18T00:00:00\",\"2024-02-17T00:00:00\",\"2024-02-16T00:00:00\",\"2024-02-15T00:00:00\",\"2024-02-14T00:00:00\",\"2024-02-13T00:00:00\",\"2024-02-12T00:00:00\",\"2024-02-11T00:00:00\",\"2024-02-10T00:00:00\",\"2024-02-09T00:00:00\",\"2024-02-08T00:00:00\",\"2024-02-07T00:00:00\",\"2024-02-06T00:00:00\",\"2024-02-05T00:00:00\",\"2024-02-04T00:00:00\",\"2024-02-03T00:00:00\",\"2024-02-02T00:00:00\",\"2024-02-01T00:00:00\",\"2024-01-31T00:00:00\",\"2024-01-30T00:00:00\",\"2024-01-29T00:00:00\",\"2024-01-28T00:00:00\",\"2024-01-27T00:00:00\",\"2024-01-26T00:00:00\",\"2024-01-25T00:00:00\",\"2024-01-24T00:00:00\",\"2024-01-23T00:00:00\",\"2024-01-22T00:00:00\",\"2024-01-21T00:00:00\",\"2024-01-20T00:00:00\",\"2024-01-19T00:00:00\",\"2024-01-18T00:00:00\",\"2024-01-17T00:00:00\",\"2024-01-16T00:00:00\",\"2024-01-15T00:00:00\",\"2024-01-14T00:00:00\",\"2024-01-13T00:00:00\",\"2024-01-12T00:00:00\",\"2024-01-11T00:00:00\",\"2024-01-10T00:00:00\",\"2024-01-09T00:00:00\",\"2024-01-08T00:00:00\",\"2024-01-07T00:00:00\",\"2024-01-06T00:00:00\",\"2024-01-05T00:00:00\",\"2024-01-04T00:00:00\",\"2024-01-03T00:00:00\",\"2024-01-02T00:00:00\",\"2024-01-01T00:00:00\"],\"xaxis\":\"x\",\"y\":[7.390721040189127,6.8550133689839585,8.243340446341245,8.341764848877727,8.343474711907804,8.351817962724951,8.324818433479887,7.060529801324499,7.136293706293706,8.267676575308435,8.335301233776637,8.357218742567188,8.379414232565502,8.343495278831417,7.560452616690242,7.30722786647315,8.291248127808277,8.346061943352321,8.379912280701744,8.357224603174604,8.35504471839497,7.353647711511789,7.028561354019748,8.290438884331419,8.36874453367258,8.371789074235117,8.40813128513739,8.348285440613026,7.33426592797784,7.183730715287516,8.271931939319412,8.3381805157593,8.33243072050674,8.358923613865308,8.327272217325095,7.121176470588233,6.8638579387186605,8.276354012801574,8.35279423475075,8.357973970319808,8.358994704813083,8.320898876404502,7.168835904628333,6.892105263157895,8.273461697380387,8.331140581441655,8.330076776951092,8.345036311967172,8.314660491341122,7.2596221662468485,7.140668647845465,8.279427917620135,8.35308774703557,8.356621366849964,8.370087353427243,8.355606904231616,7.091176470588231,6.908133903133905,8.298224967490249,8.350962845849793,8.357094280078897,8.360539799435907,8.355734393638167,6.950680272108845,7.100676056338027,8.301859822951359,8.367883631210134,8.36602056030763,8.352211252154836,8.350418426715548,7.129759999999999,7.024377682403429,8.296756603006907,8.359995271495002,8.365518789884197,8.360991205134297,8.300000863557855,7.182960969044414,7.05912162162162,8.262436369588357,8.339325815929493,8.332717563291146,8.354314797211677,8.347482204270992,7.158967828418232,7.270996354799516,8.301720623012333,8.359404010545665,8.349577284029847,8.341604278074868,8.091632914090809],\"yaxis\":\"y\",\"type\":\"scatter\"},{\"hovertemplate\":\"variable=RNA\\u003cbr\\u003eWorkDate=%{x}\\u003cbr\\u003evalue=%{y}\\u003cextra\\u003e\\u003c\\u002fextra\\u003e\",\"legendgroup\":\"RNA\",\"line\":{\"color\":\"#00cc96\",\"dash\":\"solid\"},\"marker\":{\"symbol\":\"circle\"},\"mode\":\"lines\",\"name\":\"RNA\",\"orientation\":\"v\",\"showlegend\":true,\"x\":[\"2024-03-31T00:00:00\",\"2024-03-30T00:00:00\",\"2024-03-29T00:00:00\",\"2024-03-28T00:00:00\",\"2024-03-27T00:00:00\",\"2024-03-26T00:00:00\",\"2024-03-25T00:00:00\",\"2024-03-24T00:00:00\",\"2024-03-23T00:00:00\",\"2024-03-22T00:00:00\",\"2024-03-21T00:00:00\",\"2024-03-20T00:00:00\",\"2024-03-19T00:00:00\",\"2024-03-18T00:00:00\",\"2024-03-17T00:00:00\",\"2024-03-16T00:00:00\",\"2024-03-15T00:00:00\",\"2024-03-14T00:00:00\",\"2024-03-13T00:00:00\",\"2024-03-12T00:00:00\",\"2024-03-11T00:00:00\",\"2024-03-10T00:00:00\",\"2024-03-09T00:00:00\",\"2024-03-08T00:00:00\",\"2024-03-07T00:00:00\",\"2024-03-06T00:00:00\",\"2024-03-05T00:00:00\",\"2024-03-04T00:00:00\",\"2024-03-03T00:00:00\",\"2024-03-02T00:00:00\",\"2024-03-01T00:00:00\",\"2024-02-29T00:00:00\",\"2024-02-28T00:00:00\",\"2024-02-27T00:00:00\",\"2024-02-26T00:00:00\",\"2024-02-25T00:00:00\",\"2024-02-24T00:00:00\",\"2024-02-23T00:00:00\",\"2024-02-22T00:00:00\",\"2024-02-21T00:00:00\",\"2024-02-20T00:00:00\",\"2024-02-19T00:00:00\",\"2024-02-18T00:00:00\",\"2024-02-17T00:00:00\",\"2024-02-16T00:00:00\",\"2024-02-15T00:00:00\",\"2024-02-14T00:00:00\",\"2024-02-13T00:00:00\",\"2024-02-12T00:00:00\",\"2024-02-11T00:00:00\",\"2024-02-10T00:00:00\",\"2024-02-09T00:00:00\",\"2024-02-08T00:00:00\",\"2024-02-07T00:00:00\",\"2024-02-06T00:00:00\",\"2024-02-05T00:00:00\",\"2024-02-04T00:00:00\",\"2024-02-03T00:00:00\",\"2024-02-02T00:00:00\",\"2024-02-01T00:00:00\",\"2024-01-31T00:00:00\",\"2024-01-30T00:00:00\",\"2024-01-29T00:00:00\",\"2024-01-28T00:00:00\",\"2024-01-27T00:00:00\",\"2024-01-26T00:00:00\",\"2024-01-25T00:00:00\",\"2024-01-24T00:00:00\",\"2024-01-23T00:00:00\",\"2024-01-22T00:00:00\",\"2024-01-21T00:00:00\",\"2024-01-20T00:00:00\",\"2024-01-19T00:00:00\",\"2024-01-18T00:00:00\",\"2024-01-17T00:00:00\",\"2024-01-16T00:00:00\",\"2024-01-15T00:00:00\",\"2024-01-14T00:00:00\",\"2024-01-13T00:00:00\",\"2024-01-12T00:00:00\",\"2024-01-11T00:00:00\",\"2024-01-10T00:00:00\",\"2024-01-09T00:00:00\",\"2024-01-08T00:00:00\",\"2024-01-07T00:00:00\",\"2024-01-06T00:00:00\",\"2024-01-05T00:00:00\",\"2024-01-04T00:00:00\",\"2024-01-03T00:00:00\",\"2024-01-02T00:00:00\",\"2024-01-01T00:00:00\"],\"xaxis\":\"x\",\"y\":[10.376969808541952,10.23553191489362,17.36579921826786,19.210616748578566,19.51561641203031,19.607484337349362,19.119357163728413,10.403634137810446,10.133755656108587,18.305905793500912,19.36551578137023,19.64255760368659,19.689963517665113,19.175205319871836,10.232094711372275,10.14656134453782,18.2581077320612,19.355465026157695,19.571534534245277,19.61446116739029,19.148866089662516,10.007392955801123,10.277414715719065,18.419597667062074,19.43665962756765,19.724814069388533,19.74790880352523,19.24395759036145,10.263681677552428,10.26227669576897,18.53590020831266,19.46656594724221,19.588038332534733,19.66560699193233,19.16699331848548,10.095680190930787,10.333674480026406,18.28645870293714,19.402095595306747,19.65629163866757,19.594993781689443,18.068496941742758,10.266454142516196,10.27875666666666,18.314251929546817,19.413868606107286,19.477893217893204,19.446120061373183,19.09503736775695,10.136270030685312,10.413259926593259,18.44480961727186,19.55116024223776,19.76451551129839,19.803514572384163,19.32791246760728,10.108509697175906,10.34158137999338,18.5470475257227,19.56798010711552,19.64954597481874,19.724323911382733,19.25283636713857,9.983126913916285,10.264942339373974,18.436443177349588,19.473423933922362,19.650072678588515,19.673554511458452,19.23508576998043,10.120114068441058,10.333661971830958,18.282683023347815,19.419616865614156,19.487009973149213,19.318837615123616,17.788918751292158,10.10921668362155,10.429901091405176,18.29545481569557,19.428613012048174,19.528154097729864,19.590418078002507,19.234848484848452,10.024011588275393,10.2301667778519,18.61140059055116,19.452606685290498,19.567047141617703,19.095918786692728,12.43925821406974],\"yaxis\":\"y\",\"type\":\"scatter\"}],                        {\"template\":{\"data\":{\"histogram2dcontour\":[{\"type\":\"histogram2dcontour\",\"colorbar\":{\"outlinewidth\":0,\"ticks\":\"\"},\"colorscale\":[[0.0,\"#0d0887\"],[0.1111111111111111,\"#46039f\"],[0.2222222222222222,\"#7201a8\"],[0.3333333333333333,\"#9c179e\"],[0.4444444444444444,\"#bd3786\"],[0.5555555555555556,\"#d8576b\"],[0.6666666666666666,\"#ed7953\"],[0.7777777777777778,\"#fb9f3a\"],[0.8888888888888888,\"#fdca26\"],[1.0,\"#f0f921\"]]}],\"choropleth\":[{\"type\":\"choropleth\",\"colorbar\":{\"outlinewidth\":0,\"ticks\":\"\"}}],\"histogram2d\":[{\"type\":\"histogram2d\",\"colorbar\":{\"outlinewidth\":0,\"ticks\":\"\"},\"colorscale\":[[0.0,\"#0d0887\"],[0.1111111111111111,\"#46039f\"],[0.2222222222222222,\"#7201a8\"],[0.3333333333333333,\"#9c179e\"],[0.4444444444444444,\"#bd3786\"],[0.5555555555555556,\"#d8576b\"],[0.6666666666666666,\"#ed7953\"],[0.7777777777777778,\"#fb9f3a\"],[0.8888888888888888,\"#fdca26\"],[1.0,\"#f0f921\"]]}],\"heatmap\":[{\"type\":\"heatmap\",\"colorbar\":{\"outlinewidth\":0,\"ticks\":\"\"},\"colorscale\":[[0.0,\"#0d0887\"],[0.1111111111111111,\"#46039f\"],[0.2222222222222222,\"#7201a8\"],[0.3333333333333333,\"#9c179e\"],[0.4444444444444444,\"#bd3786\"],[0.5555555555555556,\"#d8576b\"],[0.6666666666666666,\"#ed7953\"],[0.7777777777777778,\"#fb9f3a\"],[0.8888888888888888,\"#fdca26\"],[1.0,\"#f0f921\"]]}],\"heatmapgl\":[{\"type\":\"heatmapgl\",\"colorbar\":{\"outlinewidth\":0,\"ticks\":\"\"},\"colorscale\":[[0.0,\"#0d0887\"],[0.1111111111111111,\"#46039f\"],[0.2222222222222222,\"#7201a8\"],[0.3333333333333333,\"#9c179e\"],[0.4444444444444444,\"#bd3786\"],[0.5555555555555556,\"#d8576b\"],[0.6666666666666666,\"#ed7953\"],[0.7777777777777778,\"#fb9f3a\"],[0.8888888888888888,\"#fdca26\"],[1.0,\"#f0f921\"]]}],\"contourcarpet\":[{\"type\":\"contourcarpet\",\"colorbar\":{\"outlinewidth\":0,\"ticks\":\"\"}}],\"contour\":[{\"type\":\"contour\",\"colorbar\":{\"outlinewidth\":0,\"ticks\":\"\"},\"colorscale\":[[0.0,\"#0d0887\"],[0.1111111111111111,\"#46039f\"],[0.2222222222222222,\"#7201a8\"],[0.3333333333333333,\"#9c179e\"],[0.4444444444444444,\"#bd3786\"],[0.5555555555555556,\"#d8576b\"],[0.6666666666666666,\"#ed7953\"],[0.7777777777777778,\"#fb9f3a\"],[0.8888888888888888,\"#fdca26\"],[1.0,\"#f0f921\"]]}],\"surface\":[{\"type\":\"surface\",\"colorbar\":{\"outlinewidth\":0,\"ticks\":\"\"},\"colorscale\":[[0.0,\"#0d0887\"],[0.1111111111111111,\"#46039f\"],[0.2222222222222222,\"#7201a8\"],[0.3333333333333333,\"#9c179e\"],[0.4444444444444444,\"#bd3786\"],[0.5555555555555556,\"#d8576b\"],[0.6666666666666666,\"#ed7953\"],[0.7777777777777778,\"#fb9f3a\"],[0.8888888888888888,\"#fdca26\"],[1.0,\"#f0f921\"]]}],\"mesh3d\":[{\"type\":\"mesh3d\",\"colorbar\":{\"outlinewidth\":0,\"ticks\":\"\"}}],\"scatter\":[{\"marker\":{\"line\":{\"color\":\"#283442\"}},\"type\":\"scatter\"}],\"parcoords\":[{\"type\":\"parcoords\",\"line\":{\"colorbar\":{\"outlinewidth\":0,\"ticks\":\"\"}}}],\"scatterpolargl\":[{\"type\":\"scatterpolargl\",\"marker\":{\"colorbar\":{\"outlinewidth\":0,\"ticks\":\"\"}}}],\"bar\":[{\"error_x\":{\"color\":\"#f2f5fa\"},\"error_y\":{\"color\":\"#f2f5fa\"},\"marker\":{\"line\":{\"color\":\"rgb(17,17,17)\",\"width\":0.5},\"pattern\":{\"fillmode\":\"overlay\",\"size\":10,\"solidity\":0.2}},\"type\":\"bar\"}],\"scattergeo\":[{\"type\":\"scattergeo\",\"marker\":{\"colorbar\":{\"outlinewidth\":0,\"ticks\":\"\"}}}],\"scatterpolar\":[{\"type\":\"scatterpolar\",\"marker\":{\"colorbar\":{\"outlinewidth\":0,\"ticks\":\"\"}}}],\"histogram\":[{\"marker\":{\"pattern\":{\"fillmode\":\"overlay\",\"size\":10,\"solidity\":0.2}},\"type\":\"histogram\"}],\"scattergl\":[{\"marker\":{\"line\":{\"color\":\"#283442\"}},\"type\":\"scattergl\"}],\"scatter3d\":[{\"type\":\"scatter3d\",\"line\":{\"colorbar\":{\"outlinewidth\":0,\"ticks\":\"\"}},\"marker\":{\"colorbar\":{\"outlinewidth\":0,\"ticks\":\"\"}}}],\"scattermapbox\":[{\"type\":\"scattermapbox\",\"marker\":{\"colorbar\":{\"outlinewidth\":0,\"ticks\":\"\"}}}],\"scatterternary\":[{\"type\":\"scatterternary\",\"marker\":{\"colorbar\":{\"outlinewidth\":0,\"ticks\":\"\"}}}],\"scattercarpet\":[{\"type\":\"scattercarpet\",\"marker\":{\"colorbar\":{\"outlinewidth\":0,\"ticks\":\"\"}}}],\"carpet\":[{\"aaxis\":{\"endlinecolor\":\"#A2B1C6\",\"gridcolor\":\"#506784\",\"linecolor\":\"#506784\",\"minorgridcolor\":\"#506784\",\"startlinecolor\":\"#A2B1C6\"},\"baxis\":{\"endlinecolor\":\"#A2B1C6\",\"gridcolor\":\"#506784\",\"linecolor\":\"#506784\",\"minorgridcolor\":\"#506784\",\"startlinecolor\":\"#A2B1C6\"},\"type\":\"carpet\"}],\"table\":[{\"cells\":{\"fill\":{\"color\":\"#506784\"},\"line\":{\"color\":\"rgb(17,17,17)\"}},\"header\":{\"fill\":{\"color\":\"#2a3f5f\"},\"line\":{\"color\":\"rgb(17,17,17)\"}},\"type\":\"table\"}],\"barpolar\":[{\"marker\":{\"line\":{\"color\":\"rgb(17,17,17)\",\"width\":0.5},\"pattern\":{\"fillmode\":\"overlay\",\"size\":10,\"solidity\":0.2}},\"type\":\"barpolar\"}],\"pie\":[{\"automargin\":true,\"type\":\"pie\"}]},\"layout\":{\"autotypenumbers\":\"strict\",\"colorway\":[\"#636efa\",\"#EF553B\",\"#00cc96\",\"#ab63fa\",\"#FFA15A\",\"#19d3f3\",\"#FF6692\",\"#B6E880\",\"#FF97FF\",\"#FECB52\"],\"font\":{\"color\":\"#f2f5fa\"},\"hovermode\":\"closest\",\"hoverlabel\":{\"align\":\"left\"},\"paper_bgcolor\":\"rgb(17,17,17)\",\"plot_bgcolor\":\"rgb(17,17,17)\",\"polar\":{\"bgcolor\":\"rgb(17,17,17)\",\"angularaxis\":{\"gridcolor\":\"#506784\",\"linecolor\":\"#506784\",\"ticks\":\"\"},\"radialaxis\":{\"gridcolor\":\"#506784\",\"linecolor\":\"#506784\",\"ticks\":\"\"}},\"ternary\":{\"bgcolor\":\"rgb(17,17,17)\",\"aaxis\":{\"gridcolor\":\"#506784\",\"linecolor\":\"#506784\",\"ticks\":\"\"},\"baxis\":{\"gridcolor\":\"#506784\",\"linecolor\":\"#506784\",\"ticks\":\"\"},\"caxis\":{\"gridcolor\":\"#506784\",\"linecolor\":\"#506784\",\"ticks\":\"\"}},\"coloraxis\":{\"colorbar\":{\"outlinewidth\":0,\"ticks\":\"\"}},\"colorscale\":{\"sequential\":[[0.0,\"#0d0887\"],[0.1111111111111111,\"#46039f\"],[0.2222222222222222,\"#7201a8\"],[0.3333333333333333,\"#9c179e\"],[0.4444444444444444,\"#bd3786\"],[0.5555555555555556,\"#d8576b\"],[0.6666666666666666,\"#ed7953\"],[0.7777777777777778,\"#fb9f3a\"],[0.8888888888888888,\"#fdca26\"],[1.0,\"#f0f921\"]],\"sequentialminus\":[[0.0,\"#0d0887\"],[0.1111111111111111,\"#46039f\"],[0.2222222222222222,\"#7201a8\"],[0.3333333333333333,\"#9c179e\"],[0.4444444444444444,\"#bd3786\"],[0.5555555555555556,\"#d8576b\"],[0.6666666666666666,\"#ed7953\"],[0.7777777777777778,\"#fb9f3a\"],[0.8888888888888888,\"#fdca26\"],[1.0,\"#f0f921\"]],\"diverging\":[[0,\"#8e0152\"],[0.1,\"#c51b7d\"],[0.2,\"#de77ae\"],[0.3,\"#f1b6da\"],[0.4,\"#fde0ef\"],[0.5,\"#f7f7f7\"],[0.6,\"#e6f5d0\"],[0.7,\"#b8e186\"],[0.8,\"#7fbc41\"],[0.9,\"#4d9221\"],[1,\"#276419\"]]},\"xaxis\":{\"gridcolor\":\"#283442\",\"linecolor\":\"#506784\",\"ticks\":\"\",\"title\":{\"standoff\":15},\"zerolinecolor\":\"#283442\",\"automargin\":true,\"zerolinewidth\":2},\"yaxis\":{\"gridcolor\":\"#283442\",\"linecolor\":\"#506784\",\"ticks\":\"\",\"title\":{\"standoff\":15},\"zerolinecolor\":\"#283442\",\"automargin\":true,\"zerolinewidth\":2},\"scene\":{\"xaxis\":{\"backgroundcolor\":\"rgb(17,17,17)\",\"gridcolor\":\"#506784\",\"linecolor\":\"#506784\",\"showbackground\":true,\"ticks\":\"\",\"zerolinecolor\":\"#C8D4E3\",\"gridwidth\":2},\"yaxis\":{\"backgroundcolor\":\"rgb(17,17,17)\",\"gridcolor\":\"#506784\",\"linecolor\":\"#506784\",\"showbackground\":true,\"ticks\":\"\",\"zerolinecolor\":\"#C8D4E3\",\"gridwidth\":2},\"zaxis\":{\"backgroundcolor\":\"rgb(17,17,17)\",\"gridcolor\":\"#506784\",\"linecolor\":\"#506784\",\"showbackground\":true,\"ticks\":\"\",\"zerolinecolor\":\"#C8D4E3\",\"gridwidth\":2}},\"shapedefaults\":{\"line\":{\"color\":\"#f2f5fa\"}},\"annotationdefaults\":{\"arrowcolor\":\"#f2f5fa\",\"arrowhead\":0,\"arrowwidth\":1},\"geo\":{\"bgcolor\":\"rgb(17,17,17)\",\"landcolor\":\"rgb(17,17,17)\",\"subunitcolor\":\"#506784\",\"showland\":true,\"showlakes\":true,\"lakecolor\":\"rgb(17,17,17)\"},\"title\":{\"x\":0.05},\"updatemenudefaults\":{\"bgcolor\":\"#506784\",\"borderwidth\":0},\"sliderdefaults\":{\"bgcolor\":\"#C8D4E3\",\"borderwidth\":1,\"bordercolor\":\"rgb(17,17,17)\",\"tickwidth\":0},\"mapbox\":{\"style\":\"dark\"}}},\"xaxis\":{\"anchor\":\"y\",\"domain\":[0.0,1.0],\"title\":{\"text\":\"WorkDate\"}},\"yaxis\":{\"anchor\":\"x\",\"domain\":[0.0,1.0],\"title\":{\"text\":\"value\"}},\"legend\":{\"title\":{\"text\":\"variable\"},\"tracegroupgap\":0},\"title\":{\"text\":\"Daily Worked Total Mean Hours by All RNs & those in Director or Admin Roles\"}},                        {\"responsive\": true}                    ).then(function(){\n",
       "                            \n",
       "var gd = document.getElementById('3c8a3cdf-a221-4a68-b7c9-3e9a5dd9b4ca');\n",
       "var x = new MutationObserver(function (mutations, observer) {{\n",
       "        var display = window.getComputedStyle(gd).display;\n",
       "        if (!display || display === 'none') {{\n",
       "            console.log([gd, 'removed!']);\n",
       "            Plotly.purge(gd);\n",
       "            observer.disconnect();\n",
       "        }}\n",
       "}});\n",
       "\n",
       "// Listen for the removal of the full notebook cells\n",
       "var notebookContainer = gd.closest('#notebook-container');\n",
       "if (notebookContainer) {{\n",
       "    x.observe(notebookContainer, {childList: true});\n",
       "}}\n",
       "\n",
       "// Listen for the clearing of the current output cell\n",
       "var outputEl = gd.closest('.output');\n",
       "if (outputEl) {{\n",
       "    x.observe(outputEl, {childList: true});\n",
       "}}\n",
       "\n",
       "                        })                };                });            </script>        </div>"
      ]
     },
     "metadata": {},
     "output_type": "display_data"
    },
    {
     "name": "stdout",
     "output_type": "stream",
     "text": [
      "Registered Nurses in not leadership roles work the most total hours\n"
     ]
    },
    {
     "data": {
      "application/vnd.plotly.v1+json": {
       "data": [
        {
         "hovertemplate": "variable=Hrs_RN<br>WorkDate=%{x}<br>value=%{y}<extra></extra>",
         "legendgroup": "Hrs_RN",
         "line": {
          "color": "#636efa",
          "dash": "solid"
         },
         "marker": {
          "symbol": "circle"
         },
         "mode": "lines",
         "name": "Hrs_RN",
         "orientation": "v",
         "showlegend": true,
         "x": [
          "2024-03-31T00:00:00",
          "2024-03-30T00:00:00",
          "2024-03-29T00:00:00",
          "2024-03-28T00:00:00",
          "2024-03-27T00:00:00",
          "2024-03-26T00:00:00",
          "2024-03-25T00:00:00",
          "2024-03-24T00:00:00",
          "2024-03-23T00:00:00",
          "2024-03-22T00:00:00",
          "2024-03-21T00:00:00",
          "2024-03-20T00:00:00",
          "2024-03-19T00:00:00",
          "2024-03-18T00:00:00",
          "2024-03-17T00:00:00",
          "2024-03-16T00:00:00",
          "2024-03-15T00:00:00",
          "2024-03-14T00:00:00",
          "2024-03-13T00:00:00",
          "2024-03-12T00:00:00",
          "2024-03-11T00:00:00",
          "2024-03-10T00:00:00",
          "2024-03-09T00:00:00",
          "2024-03-08T00:00:00",
          "2024-03-07T00:00:00",
          "2024-03-06T00:00:00",
          "2024-03-05T00:00:00",
          "2024-03-04T00:00:00",
          "2024-03-03T00:00:00",
          "2024-03-02T00:00:00",
          "2024-03-01T00:00:00",
          "2024-02-29T00:00:00",
          "2024-02-28T00:00:00",
          "2024-02-27T00:00:00",
          "2024-02-26T00:00:00",
          "2024-02-25T00:00:00",
          "2024-02-24T00:00:00",
          "2024-02-23T00:00:00",
          "2024-02-22T00:00:00",
          "2024-02-21T00:00:00",
          "2024-02-20T00:00:00",
          "2024-02-19T00:00:00",
          "2024-02-18T00:00:00",
          "2024-02-17T00:00:00",
          "2024-02-16T00:00:00",
          "2024-02-15T00:00:00",
          "2024-02-14T00:00:00",
          "2024-02-13T00:00:00",
          "2024-02-12T00:00:00",
          "2024-02-11T00:00:00",
          "2024-02-10T00:00:00",
          "2024-02-09T00:00:00",
          "2024-02-08T00:00:00",
          "2024-02-07T00:00:00",
          "2024-02-06T00:00:00",
          "2024-02-05T00:00:00",
          "2024-02-04T00:00:00",
          "2024-02-03T00:00:00",
          "2024-02-02T00:00:00",
          "2024-02-01T00:00:00",
          "2024-01-31T00:00:00",
          "2024-01-30T00:00:00",
          "2024-01-29T00:00:00",
          "2024-01-28T00:00:00",
          "2024-01-27T00:00:00",
          "2024-01-26T00:00:00",
          "2024-01-25T00:00:00",
          "2024-01-24T00:00:00",
          "2024-01-23T00:00:00",
          "2024-01-22T00:00:00",
          "2024-01-21T00:00:00",
          "2024-01-20T00:00:00",
          "2024-01-19T00:00:00",
          "2024-01-18T00:00:00",
          "2024-01-17T00:00:00",
          "2024-01-16T00:00:00",
          "2024-01-15T00:00:00",
          "2024-01-14T00:00:00",
          "2024-01-13T00:00:00",
          "2024-01-12T00:00:00",
          "2024-01-11T00:00:00",
          "2024-01-10T00:00:00",
          "2024-01-09T00:00:00",
          "2024-01-08T00:00:00",
          "2024-01-07T00:00:00",
          "2024-01-06T00:00:00",
          "2024-01-05T00:00:00",
          "2024-01-04T00:00:00",
          "2024-01-03T00:00:00",
          "2024-01-02T00:00:00",
          "2024-01-01T00:00:00"
         ],
         "xaxis": "x",
         "y": [
          30.118018061827012,
          31.374587704063917,
          34.58210003473428,
          35.914519624869726,
          36.31037651962487,
          36.42862869051755,
          35.56054324418201,
          31.03277110107676,
          31.80828829454671,
          35.48550468912816,
          36.4659923584578,
          36.562998263285856,
          36.504348732198686,
          35.86517610281347,
          31.3155609586662,
          31.85648280653005,
          35.52816741924279,
          36.18342063216394,
          36.47544355679055,
          36.405908996179235,
          35.61465578325808,
          30.471468565474137,
          31.793413685307403,
          35.54500173671413,
          36.435023271969435,
          36.43730184091698,
          36.49006738450851,
          35.7344987843001,
          31.33572698853769,
          31.73934769017019,
          35.45426328586314,
          36.36176033344911,
          36.68417714484196,
          36.633354637026756,
          35.88683987495658,
          31.240782216047247,
          31.75629593608892,
          35.53222855158041,
          36.41566724557137,
          36.68187356721084,
          36.33368669676971,
          35.10342063216394,
          31.337092740534914,
          31.721505383813824,
          35.52473080930879,
          36.25320111149704,
          36.182055574852384,
          36.32364848905869,
          35.53698923237234,
          30.919201806182695,
          31.67227023271969,
          35.55659117749218,
          36.41260229246266,
          36.61001875651269,
          36.49358666203544,
          35.81163112191733,
          31.247442862104897,
          31.73246613407433,
          35.50989927058006,
          36.27079888850295,
          36.59817297672803,
          36.47765890934352,
          35.67598471691559,
          31.04291420632163,
          31.57080305661688,
          35.50714831538729,
          36.32665022577282,
          36.33517054532823,
          36.035062174366104,
          35.354946856547414,
          30.98250434178534,
          31.616474470302176,
          35.11539770753734,
          35.81099548454325,
          35.98759708232025,
          35.60694963529003,
          34.32457381035081,
          30.565149704758593,
          31.158203542896846,
          34.8274810698159,
          35.77552969781175,
          35.90036401528308,
          35.444325112886425,
          34.80539492879471,
          30.372962139631824,
          30.99909274053491,
          34.65306564779437,
          35.219556095866615,
          35.080251476207025,
          34.375802014588395,
          30.342516846127122
         ],
         "yaxis": "y",
         "type": "scatter"
        },
        {
         "hovertemplate": "variable=Hrs_LPN<br>WorkDate=%{x}<br>value=%{y}<extra></extra>",
         "legendgroup": "Hrs_LPN",
         "line": {
          "color": "#EF553B",
          "dash": "solid"
         },
         "marker": {
          "symbol": "circle"
         },
         "mode": "lines",
         "name": "Hrs_LPN",
         "orientation": "v",
         "showlegend": true,
         "x": [
          "2024-03-31T00:00:00",
          "2024-03-30T00:00:00",
          "2024-03-29T00:00:00",
          "2024-03-28T00:00:00",
          "2024-03-27T00:00:00",
          "2024-03-26T00:00:00",
          "2024-03-25T00:00:00",
          "2024-03-24T00:00:00",
          "2024-03-23T00:00:00",
          "2024-03-22T00:00:00",
          "2024-03-21T00:00:00",
          "2024-03-20T00:00:00",
          "2024-03-19T00:00:00",
          "2024-03-18T00:00:00",
          "2024-03-17T00:00:00",
          "2024-03-16T00:00:00",
          "2024-03-15T00:00:00",
          "2024-03-14T00:00:00",
          "2024-03-13T00:00:00",
          "2024-03-12T00:00:00",
          "2024-03-11T00:00:00",
          "2024-03-10T00:00:00",
          "2024-03-09T00:00:00",
          "2024-03-08T00:00:00",
          "2024-03-07T00:00:00",
          "2024-03-06T00:00:00",
          "2024-03-05T00:00:00",
          "2024-03-04T00:00:00",
          "2024-03-03T00:00:00",
          "2024-03-02T00:00:00",
          "2024-03-01T00:00:00",
          "2024-02-29T00:00:00",
          "2024-02-28T00:00:00",
          "2024-02-27T00:00:00",
          "2024-02-26T00:00:00",
          "2024-02-25T00:00:00",
          "2024-02-24T00:00:00",
          "2024-02-23T00:00:00",
          "2024-02-22T00:00:00",
          "2024-02-21T00:00:00",
          "2024-02-20T00:00:00",
          "2024-02-19T00:00:00",
          "2024-02-18T00:00:00",
          "2024-02-17T00:00:00",
          "2024-02-16T00:00:00",
          "2024-02-15T00:00:00",
          "2024-02-14T00:00:00",
          "2024-02-13T00:00:00",
          "2024-02-12T00:00:00",
          "2024-02-11T00:00:00",
          "2024-02-10T00:00:00",
          "2024-02-09T00:00:00",
          "2024-02-08T00:00:00",
          "2024-02-07T00:00:00",
          "2024-02-06T00:00:00",
          "2024-02-05T00:00:00",
          "2024-02-04T00:00:00",
          "2024-02-03T00:00:00",
          "2024-02-02T00:00:00",
          "2024-02-01T00:00:00",
          "2024-01-31T00:00:00",
          "2024-01-30T00:00:00",
          "2024-01-29T00:00:00",
          "2024-01-28T00:00:00",
          "2024-01-27T00:00:00",
          "2024-01-26T00:00:00",
          "2024-01-25T00:00:00",
          "2024-01-24T00:00:00",
          "2024-01-23T00:00:00",
          "2024-01-22T00:00:00",
          "2024-01-21T00:00:00",
          "2024-01-20T00:00:00",
          "2024-01-19T00:00:00",
          "2024-01-18T00:00:00",
          "2024-01-17T00:00:00",
          "2024-01-16T00:00:00",
          "2024-01-15T00:00:00",
          "2024-01-14T00:00:00",
          "2024-01-13T00:00:00",
          "2024-01-12T00:00:00",
          "2024-01-11T00:00:00",
          "2024-01-10T00:00:00",
          "2024-01-09T00:00:00",
          "2024-01-08T00:00:00",
          "2024-01-07T00:00:00",
          "2024-01-06T00:00:00",
          "2024-01-05T00:00:00",
          "2024-01-04T00:00:00",
          "2024-01-03T00:00:00",
          "2024-01-02T00:00:00",
          "2024-01-01T00:00:00"
         ],
         "xaxis": "x",
         "y": [
          58.882867662382765,
          61.3772691906912,
          67.57014379993052,
          69.37886071552624,
          70.08490170197986,
          69.3941257381035,
          67.86283987495658,
          61.221068426537,
          62.09888016672454,
          68.10968808614102,
          69.66209378256337,
          70.05801736714136,
          69.52239041333796,
          67.68943105244875,
          60.83796596040292,
          61.93724418200765,
          68.1761486627301,
          69.66916707189996,
          70.28385689475512,
          69.68130045154567,
          68.16200208405697,
          60.042907259465096,
          62.31840569642239,
          68.64721014241056,
          69.8631587356721,
          70.48511774921847,
          69.72158179923586,
          68.0924022229941,
          61.27308857242098,
          62.22018478638415,
          68.44344425147622,
          69.76472177839527,
          70.17033414379992,
          69.56071761028134,
          68.04108857242099,
          61.38361861757554,
          62.394414727335885,
          68.41253143452587,
          69.61952830844044,
          70.19921222646754,
          69.57537964571031,
          67.73206807919415,
          61.33446405001736,
          62.19365057311566,
          68.26001736714137,
          69.13356512678013,
          68.89389023966656,
          68.94272038902396,
          67.47055435915249,
          60.78971031608199,
          62.4930635637374,
          68.72440569642235,
          69.85189301840917,
          70.3688579367836,
          69.84614241055924,
          68.17095797151788,
          61.52598471691559,
          62.65172351510941,
          68.67964154220212,
          69.83303577631123,
          70.53453490795414,
          69.91704758596734,
          67.95447794373048,
          61.299010072941996,
          62.70207711010769,
          68.77115734630078,
          70.01798193817298,
          70.23252865578327,
          69.63769017019798,
          67.53681972907258,
          61.485928447377574,
          62.35875234456407,
          68.08293852031956,
          69.54537478291071,
          69.47213754775963,
          67.68332962834317,
          66.93937130948244,
          61.106169503299746,
          62.184688433483856,
          68.06931781868705,
          69.54491420632162,
          69.57906009030913,
          68.43950468912814,
          67.27211253907609,
          60.596940604376506,
          61.73900937825634,
          68.01286349426883,
          69.12331920805838,
          69.05951997221257,
          67.49043139979158,
          61.328737061479686
         ],
         "yaxis": "y",
         "type": "scatter"
        },
        {
         "hovertemplate": "variable=Hrs_CNA<br>WorkDate=%{x}<br>value=%{y}<extra></extra>",
         "legendgroup": "Hrs_CNA",
         "line": {
          "color": "#00cc96",
          "dash": "solid"
         },
         "marker": {
          "symbol": "circle"
         },
         "mode": "lines",
         "name": "Hrs_CNA",
         "orientation": "v",
         "showlegend": true,
         "x": [
          "2024-03-31T00:00:00",
          "2024-03-30T00:00:00",
          "2024-03-29T00:00:00",
          "2024-03-28T00:00:00",
          "2024-03-27T00:00:00",
          "2024-03-26T00:00:00",
          "2024-03-25T00:00:00",
          "2024-03-24T00:00:00",
          "2024-03-23T00:00:00",
          "2024-03-22T00:00:00",
          "2024-03-21T00:00:00",
          "2024-03-20T00:00:00",
          "2024-03-19T00:00:00",
          "2024-03-18T00:00:00",
          "2024-03-17T00:00:00",
          "2024-03-16T00:00:00",
          "2024-03-15T00:00:00",
          "2024-03-14T00:00:00",
          "2024-03-13T00:00:00",
          "2024-03-12T00:00:00",
          "2024-03-11T00:00:00",
          "2024-03-10T00:00:00",
          "2024-03-09T00:00:00",
          "2024-03-08T00:00:00",
          "2024-03-07T00:00:00",
          "2024-03-06T00:00:00",
          "2024-03-05T00:00:00",
          "2024-03-04T00:00:00",
          "2024-03-03T00:00:00",
          "2024-03-02T00:00:00",
          "2024-03-01T00:00:00",
          "2024-02-29T00:00:00",
          "2024-02-28T00:00:00",
          "2024-02-27T00:00:00",
          "2024-02-26T00:00:00",
          "2024-02-25T00:00:00",
          "2024-02-24T00:00:00",
          "2024-02-23T00:00:00",
          "2024-02-22T00:00:00",
          "2024-02-21T00:00:00",
          "2024-02-20T00:00:00",
          "2024-02-19T00:00:00",
          "2024-02-18T00:00:00",
          "2024-02-17T00:00:00",
          "2024-02-16T00:00:00",
          "2024-02-15T00:00:00",
          "2024-02-14T00:00:00",
          "2024-02-13T00:00:00",
          "2024-02-12T00:00:00",
          "2024-02-11T00:00:00",
          "2024-02-10T00:00:00",
          "2024-02-09T00:00:00",
          "2024-02-08T00:00:00",
          "2024-02-07T00:00:00",
          "2024-02-06T00:00:00",
          "2024-02-05T00:00:00",
          "2024-02-04T00:00:00",
          "2024-02-03T00:00:00",
          "2024-02-02T00:00:00",
          "2024-02-01T00:00:00",
          "2024-01-31T00:00:00",
          "2024-01-30T00:00:00",
          "2024-01-29T00:00:00",
          "2024-01-28T00:00:00",
          "2024-01-27T00:00:00",
          "2024-01-26T00:00:00",
          "2024-01-25T00:00:00",
          "2024-01-24T00:00:00",
          "2024-01-23T00:00:00",
          "2024-01-22T00:00:00",
          "2024-01-21T00:00:00",
          "2024-01-20T00:00:00",
          "2024-01-19T00:00:00",
          "2024-01-18T00:00:00",
          "2024-01-17T00:00:00",
          "2024-01-16T00:00:00",
          "2024-01-15T00:00:00",
          "2024-01-14T00:00:00",
          "2024-01-13T00:00:00",
          "2024-01-12T00:00:00",
          "2024-01-11T00:00:00",
          "2024-01-10T00:00:00",
          "2024-01-09T00:00:00",
          "2024-01-08T00:00:00",
          "2024-01-07T00:00:00",
          "2024-01-06T00:00:00",
          "2024-01-05T00:00:00",
          "2024-01-04T00:00:00",
          "2024-01-03T00:00:00",
          "2024-01-02T00:00:00",
          "2024-01-01T00:00:00"
         ],
         "xaxis": "x",
         "y": [
          155.08591246960754,
          163.45942757902048,
          173.35473567210838,
          178.48028065300457,
          179.59570336922548,
          177.89808544633559,
          172.68528447377565,
          161.13468218131297,
          165.20331642931572,
          174.75224800277874,
          178.86387495658212,
          179.74541646405,
          177.98901076762772,
          172.25440013893711,
          159.8203786036818,
          164.06531434525877,
          174.0919465092046,
          178.09332615491488,
          179.41018617575548,
          177.98129489406043,
          172.70722750955198,
          156.8728225078152,
          165.53714484195905,
          174.4614935741577,
          178.63898367488713,
          179.45546787078845,
          177.41579645710314,
          172.25862521708927,
          160.41117679749914,
          164.40550052101418,
          173.27418617575552,
          177.57035081625565,
          178.6258687044113,
          176.85845362973257,
          171.70718166029872,
          160.2103591524835,
          164.4099076068079,
          173.65958388329278,
          177.54191872177842,
          178.89427787426192,
          177.2406335533171,
          172.6727704063911,
          161.03451545675577,
          164.24569850642584,
          173.9847530392497,
          176.40067870788462,
          175.25463424800273,
          175.30046127127477,
          171.14607572073635,
          160.09519694338312,
          166.05588051406735,
          175.39553178186873,
          179.13510246613407,
          180.31250503647098,
          178.46130114623134,
          173.68365960402917,
          162.47126432789165,
          166.75207433136504,
          175.53301632511292,
          178.68732893365748,
          180.3940840569643,
          178.7079902744008,
          173.2757853421327,
          162.3267398402223,
          167.11836193122613,
          175.93297117054533,
          179.26982771795764,
          179.67210559221954,
          177.27129558874609,
          171.44185620006942,
          161.8447502605071,
          165.8706224383466,
          172.99902744008332,
          177.85792080583536,
          177.12808058353596,
          171.9276505731156,
          170.44957693643622,
          160.80439527613754,
          164.9733067037166,
          173.48565474122958,
          178.2338034039597,
          177.78480236193127,
          174.5008238971865,
          170.68188329281,
          158.85146300798885,
          164.35490725946508,
          173.3794602292462,
          176.74282320250083,
          176.2247558179924,
          170.90549843695726,
          158.80460576589093
         ],
         "yaxis": "y",
         "type": "scatter"
        },
        {
         "hovertemplate": "variable=Hrs_NAtrn<br>WorkDate=%{x}<br>value=%{y}<extra></extra>",
         "legendgroup": "Hrs_NAtrn",
         "line": {
          "color": "#ab63fa",
          "dash": "solid"
         },
         "marker": {
          "symbol": "circle"
         },
         "mode": "lines",
         "name": "Hrs_NAtrn",
         "orientation": "v",
         "showlegend": true,
         "x": [
          "2024-03-31T00:00:00",
          "2024-03-30T00:00:00",
          "2024-03-29T00:00:00",
          "2024-03-28T00:00:00",
          "2024-03-27T00:00:00",
          "2024-03-26T00:00:00",
          "2024-03-25T00:00:00",
          "2024-03-24T00:00:00",
          "2024-03-23T00:00:00",
          "2024-03-22T00:00:00",
          "2024-03-21T00:00:00",
          "2024-03-20T00:00:00",
          "2024-03-19T00:00:00",
          "2024-03-18T00:00:00",
          "2024-03-17T00:00:00",
          "2024-03-16T00:00:00",
          "2024-03-15T00:00:00",
          "2024-03-14T00:00:00",
          "2024-03-13T00:00:00",
          "2024-03-12T00:00:00",
          "2024-03-11T00:00:00",
          "2024-03-10T00:00:00",
          "2024-03-09T00:00:00",
          "2024-03-08T00:00:00",
          "2024-03-07T00:00:00",
          "2024-03-06T00:00:00",
          "2024-03-05T00:00:00",
          "2024-03-04T00:00:00",
          "2024-03-03T00:00:00",
          "2024-03-02T00:00:00",
          "2024-03-01T00:00:00",
          "2024-02-29T00:00:00",
          "2024-02-28T00:00:00",
          "2024-02-27T00:00:00",
          "2024-02-26T00:00:00",
          "2024-02-25T00:00:00",
          "2024-02-24T00:00:00",
          "2024-02-23T00:00:00",
          "2024-02-22T00:00:00",
          "2024-02-21T00:00:00",
          "2024-02-20T00:00:00",
          "2024-02-19T00:00:00",
          "2024-02-18T00:00:00",
          "2024-02-17T00:00:00",
          "2024-02-16T00:00:00",
          "2024-02-15T00:00:00",
          "2024-02-14T00:00:00",
          "2024-02-13T00:00:00",
          "2024-02-12T00:00:00",
          "2024-02-11T00:00:00",
          "2024-02-10T00:00:00",
          "2024-02-09T00:00:00",
          "2024-02-08T00:00:00",
          "2024-02-07T00:00:00",
          "2024-02-06T00:00:00",
          "2024-02-05T00:00:00",
          "2024-02-04T00:00:00",
          "2024-02-03T00:00:00",
          "2024-02-02T00:00:00",
          "2024-02-01T00:00:00",
          "2024-01-31T00:00:00",
          "2024-01-30T00:00:00",
          "2024-01-29T00:00:00",
          "2024-01-28T00:00:00",
          "2024-01-27T00:00:00",
          "2024-01-26T00:00:00",
          "2024-01-25T00:00:00",
          "2024-01-24T00:00:00",
          "2024-01-23T00:00:00",
          "2024-01-22T00:00:00",
          "2024-01-21T00:00:00",
          "2024-01-20T00:00:00",
          "2024-01-19T00:00:00",
          "2024-01-18T00:00:00",
          "2024-01-17T00:00:00",
          "2024-01-16T00:00:00",
          "2024-01-15T00:00:00",
          "2024-01-14T00:00:00",
          "2024-01-13T00:00:00",
          "2024-01-12T00:00:00",
          "2024-01-11T00:00:00",
          "2024-01-10T00:00:00",
          "2024-01-09T00:00:00",
          "2024-01-08T00:00:00",
          "2024-01-07T00:00:00",
          "2024-01-06T00:00:00",
          "2024-01-05T00:00:00",
          "2024-01-04T00:00:00",
          "2024-01-03T00:00:00",
          "2024-01-02T00:00:00",
          "2024-01-01T00:00:00"
         ],
         "xaxis": "x",
         "y": [
          3.4404571031608207,
          3.6416366794025703,
          4.550458492532129,
          4.699975686002084,
          4.769622785689475,
          4.626853073984021,
          4.501443556790552,
          3.560580062521709,
          3.6767453977075375,
          4.54487044112539,
          4.640193122612017,
          4.7470128516846115,
          4.703051059395625,
          4.517679749913165,
          3.548730114623134,
          3.6627641542202154,
          4.553366446682875,
          4.680049322681486,
          4.7021840916985065,
          4.6613546370267445,
          4.575257381035081,
          3.4587877735324764,
          3.6459055227509545,
          4.546140326502258,
          4.6522841264327885,
          4.71366585620007,
          4.668471691559569,
          4.583698506425843,
          3.5720604376519622,
          3.6468162556443207,
          4.491724904480722,
          4.606298020145883,
          4.619895102466133,
          4.59385064258423,
          4.479281695032997,
          3.5161583883292815,
          3.60840291767975,
          4.509758944077804,
          4.589672803056618,
          4.649620006946855,
          4.654595345606114,
          4.442757207363668,
          3.53864327891629,
          3.6778673150399435,
          4.461189301840917,
          4.561835359499826,
          4.5066363320597445,
          4.542724557137896,
          4.513906217436611,
          3.4746613407433133,
          3.644018061827023,
          4.520528655783258,
          4.678829454671761,
          4.643412295936089,
          4.635659604029177,
          4.5182507815213615,
          3.534891976380688,
          3.769829802014588,
          4.5507474817645015,
          4.575107328933656,
          4.581308787773533,
          4.559328933657518,
          4.412696075026051,
          3.5196693296283432,
          3.7194810698159086,
          4.493590135463703,
          4.549976380687738,
          4.61001597777006,
          4.520923237235151,
          4.298101424105592,
          3.511003126085446,
          3.7633553317124,
          4.369816602987148,
          4.474395276137548,
          4.4430816255644325,
          4.272668982285516,
          4.1491281695032995,
          3.445028829454671,
          3.68489961792289,
          4.421979854116013,
          4.5733831191385885,
          4.565916637721431,
          4.442994095171936,
          4.3470399444251475,
          3.580657172629386,
          3.7690503647099685,
          4.404596734977422,
          4.469230982980201,
          4.435635984716916,
          4.308222994095171,
          3.606046543938868
         ],
         "yaxis": "y",
         "type": "scatter"
        },
        {
         "hovertemplate": "variable=Hrs_MedAide<br>WorkDate=%{x}<br>value=%{y}<extra></extra>",
         "legendgroup": "Hrs_MedAide",
         "line": {
          "color": "#FFA15A",
          "dash": "solid"
         },
         "marker": {
          "symbol": "circle"
         },
         "mode": "lines",
         "name": "Hrs_MedAide",
         "orientation": "v",
         "showlegend": true,
         "x": [
          "2024-03-31T00:00:00",
          "2024-03-30T00:00:00",
          "2024-03-29T00:00:00",
          "2024-03-28T00:00:00",
          "2024-03-27T00:00:00",
          "2024-03-26T00:00:00",
          "2024-03-25T00:00:00",
          "2024-03-24T00:00:00",
          "2024-03-23T00:00:00",
          "2024-03-22T00:00:00",
          "2024-03-21T00:00:00",
          "2024-03-20T00:00:00",
          "2024-03-19T00:00:00",
          "2024-03-18T00:00:00",
          "2024-03-17T00:00:00",
          "2024-03-16T00:00:00",
          "2024-03-15T00:00:00",
          "2024-03-14T00:00:00",
          "2024-03-13T00:00:00",
          "2024-03-12T00:00:00",
          "2024-03-11T00:00:00",
          "2024-03-10T00:00:00",
          "2024-03-09T00:00:00",
          "2024-03-08T00:00:00",
          "2024-03-07T00:00:00",
          "2024-03-06T00:00:00",
          "2024-03-05T00:00:00",
          "2024-03-04T00:00:00",
          "2024-03-03T00:00:00",
          "2024-03-02T00:00:00",
          "2024-03-01T00:00:00",
          "2024-02-29T00:00:00",
          "2024-02-28T00:00:00",
          "2024-02-27T00:00:00",
          "2024-02-26T00:00:00",
          "2024-02-25T00:00:00",
          "2024-02-24T00:00:00",
          "2024-02-23T00:00:00",
          "2024-02-22T00:00:00",
          "2024-02-21T00:00:00",
          "2024-02-20T00:00:00",
          "2024-02-19T00:00:00",
          "2024-02-18T00:00:00",
          "2024-02-17T00:00:00",
          "2024-02-16T00:00:00",
          "2024-02-15T00:00:00",
          "2024-02-14T00:00:00",
          "2024-02-13T00:00:00",
          "2024-02-12T00:00:00",
          "2024-02-11T00:00:00",
          "2024-02-10T00:00:00",
          "2024-02-09T00:00:00",
          "2024-02-08T00:00:00",
          "2024-02-07T00:00:00",
          "2024-02-06T00:00:00",
          "2024-02-05T00:00:00",
          "2024-02-04T00:00:00",
          "2024-02-03T00:00:00",
          "2024-02-02T00:00:00",
          "2024-02-01T00:00:00",
          "2024-01-31T00:00:00",
          "2024-01-30T00:00:00",
          "2024-01-29T00:00:00",
          "2024-01-28T00:00:00",
          "2024-01-27T00:00:00",
          "2024-01-26T00:00:00",
          "2024-01-25T00:00:00",
          "2024-01-24T00:00:00",
          "2024-01-23T00:00:00",
          "2024-01-22T00:00:00",
          "2024-01-21T00:00:00",
          "2024-01-20T00:00:00",
          "2024-01-19T00:00:00",
          "2024-01-18T00:00:00",
          "2024-01-17T00:00:00",
          "2024-01-16T00:00:00",
          "2024-01-15T00:00:00",
          "2024-01-14T00:00:00",
          "2024-01-13T00:00:00",
          "2024-01-12T00:00:00",
          "2024-01-11T00:00:00",
          "2024-01-10T00:00:00",
          "2024-01-09T00:00:00",
          "2024-01-08T00:00:00",
          "2024-01-07T00:00:00",
          "2024-01-06T00:00:00",
          "2024-01-05T00:00:00",
          "2024-01-04T00:00:00",
          "2024-01-03T00:00:00",
          "2024-01-02T00:00:00",
          "2024-01-01T00:00:00"
         ],
         "xaxis": "x",
         "y": [
          7.675144147273359,
          7.96411879124696,
          8.646185481069816,
          8.868027092740535,
          8.920616880861413,
          8.897476207016325,
          8.729842306356371,
          7.82078082667593,
          8.00098436957277,
          8.70951302535603,
          8.79914414727336,
          8.910288294546719,
          8.887867315039948,
          8.632325807572077,
          7.756138242445293,
          7.912577283779087,
          8.659626953803404,
          8.817936088919764,
          8.890223688780827,
          8.839171240013892,
          8.669004515456757,
          7.748945467176103,
          7.997376866967698,
          8.638832928100035,
          8.786160472386243,
          8.9139631816603,
          8.853359499826329,
          8.603004515456757,
          7.804881556095867,
          7.980550191038556,
          8.58937130948246,
          8.842477249044805,
          8.894851684612716,
          8.812049322681487,
          8.60058909343522,
          7.830134074331362,
          8.043897186523099,
          8.665060090309135,
          8.750870441125388,
          8.900784994789856,
          8.84208058353595,
          8.670875998610628,
          7.830109760333448,
          7.958004862799586,
          8.556974643973602,
          8.71413893713095,
          8.727665856200069,
          8.795328238971868,
          8.548436262591176,
          7.836313997915942,
          8.051913858978812,
          8.73227023271969,
          8.890746787078845,
          8.976634248002778,
          8.881224730809311,
          8.607329628343175,
          7.883814518930186,
          8.037794373046196,
          8.662057658909346,
          8.914432094477249,
          8.91165821465787,
          8.836853073984022,
          8.640960055574855,
          7.910197985411602,
          8.109118443904133,
          8.721638068773881,
          8.814366794025707,
          8.949024661340745,
          8.756379993053143,
          8.32920458492532,
          7.879608197290725,
          8.05278846821813,
          8.59616533518583,
          8.832496005557486,
          8.793668634942689,
          8.623030218825983,
          8.468077804793332,
          7.857108718304968,
          7.993352552969783,
          8.564204932268149,
          8.744655088572422,
          8.875406043765196,
          8.633353247655434,
          8.56443487321987,
          7.811338659256683,
          7.992693990969086,
          8.64027579020493,
          8.807255991663771,
          8.75092323723515,
          8.592481417158735,
          8.025606807919415
         ],
         "yaxis": "y",
         "type": "scatter"
        }
       ],
       "layout": {
        "template": {
         "data": {
          "histogram2dcontour": [
           {
            "type": "histogram2dcontour",
            "colorbar": {
             "outlinewidth": 0,
             "ticks": ""
            },
            "colorscale": [
             [
              0.0,
              "#0d0887"
             ],
             [
              0.1111111111111111,
              "#46039f"
             ],
             [
              0.2222222222222222,
              "#7201a8"
             ],
             [
              0.3333333333333333,
              "#9c179e"
             ],
             [
              0.4444444444444444,
              "#bd3786"
             ],
             [
              0.5555555555555556,
              "#d8576b"
             ],
             [
              0.6666666666666666,
              "#ed7953"
             ],
             [
              0.7777777777777778,
              "#fb9f3a"
             ],
             [
              0.8888888888888888,
              "#fdca26"
             ],
             [
              1.0,
              "#f0f921"
             ]
            ]
           }
          ],
          "choropleth": [
           {
            "type": "choropleth",
            "colorbar": {
             "outlinewidth": 0,
             "ticks": ""
            }
           }
          ],
          "histogram2d": [
           {
            "type": "histogram2d",
            "colorbar": {
             "outlinewidth": 0,
             "ticks": ""
            },
            "colorscale": [
             [
              0.0,
              "#0d0887"
             ],
             [
              0.1111111111111111,
              "#46039f"
             ],
             [
              0.2222222222222222,
              "#7201a8"
             ],
             [
              0.3333333333333333,
              "#9c179e"
             ],
             [
              0.4444444444444444,
              "#bd3786"
             ],
             [
              0.5555555555555556,
              "#d8576b"
             ],
             [
              0.6666666666666666,
              "#ed7953"
             ],
             [
              0.7777777777777778,
              "#fb9f3a"
             ],
             [
              0.8888888888888888,
              "#fdca26"
             ],
             [
              1.0,
              "#f0f921"
             ]
            ]
           }
          ],
          "heatmap": [
           {
            "type": "heatmap",
            "colorbar": {
             "outlinewidth": 0,
             "ticks": ""
            },
            "colorscale": [
             [
              0.0,
              "#0d0887"
             ],
             [
              0.1111111111111111,
              "#46039f"
             ],
             [
              0.2222222222222222,
              "#7201a8"
             ],
             [
              0.3333333333333333,
              "#9c179e"
             ],
             [
              0.4444444444444444,
              "#bd3786"
             ],
             [
              0.5555555555555556,
              "#d8576b"
             ],
             [
              0.6666666666666666,
              "#ed7953"
             ],
             [
              0.7777777777777778,
              "#fb9f3a"
             ],
             [
              0.8888888888888888,
              "#fdca26"
             ],
             [
              1.0,
              "#f0f921"
             ]
            ]
           }
          ],
          "heatmapgl": [
           {
            "type": "heatmapgl",
            "colorbar": {
             "outlinewidth": 0,
             "ticks": ""
            },
            "colorscale": [
             [
              0.0,
              "#0d0887"
             ],
             [
              0.1111111111111111,
              "#46039f"
             ],
             [
              0.2222222222222222,
              "#7201a8"
             ],
             [
              0.3333333333333333,
              "#9c179e"
             ],
             [
              0.4444444444444444,
              "#bd3786"
             ],
             [
              0.5555555555555556,
              "#d8576b"
             ],
             [
              0.6666666666666666,
              "#ed7953"
             ],
             [
              0.7777777777777778,
              "#fb9f3a"
             ],
             [
              0.8888888888888888,
              "#fdca26"
             ],
             [
              1.0,
              "#f0f921"
             ]
            ]
           }
          ],
          "contourcarpet": [
           {
            "type": "contourcarpet",
            "colorbar": {
             "outlinewidth": 0,
             "ticks": ""
            }
           }
          ],
          "contour": [
           {
            "type": "contour",
            "colorbar": {
             "outlinewidth": 0,
             "ticks": ""
            },
            "colorscale": [
             [
              0.0,
              "#0d0887"
             ],
             [
              0.1111111111111111,
              "#46039f"
             ],
             [
              0.2222222222222222,
              "#7201a8"
             ],
             [
              0.3333333333333333,
              "#9c179e"
             ],
             [
              0.4444444444444444,
              "#bd3786"
             ],
             [
              0.5555555555555556,
              "#d8576b"
             ],
             [
              0.6666666666666666,
              "#ed7953"
             ],
             [
              0.7777777777777778,
              "#fb9f3a"
             ],
             [
              0.8888888888888888,
              "#fdca26"
             ],
             [
              1.0,
              "#f0f921"
             ]
            ]
           }
          ],
          "surface": [
           {
            "type": "surface",
            "colorbar": {
             "outlinewidth": 0,
             "ticks": ""
            },
            "colorscale": [
             [
              0.0,
              "#0d0887"
             ],
             [
              0.1111111111111111,
              "#46039f"
             ],
             [
              0.2222222222222222,
              "#7201a8"
             ],
             [
              0.3333333333333333,
              "#9c179e"
             ],
             [
              0.4444444444444444,
              "#bd3786"
             ],
             [
              0.5555555555555556,
              "#d8576b"
             ],
             [
              0.6666666666666666,
              "#ed7953"
             ],
             [
              0.7777777777777778,
              "#fb9f3a"
             ],
             [
              0.8888888888888888,
              "#fdca26"
             ],
             [
              1.0,
              "#f0f921"
             ]
            ]
           }
          ],
          "mesh3d": [
           {
            "type": "mesh3d",
            "colorbar": {
             "outlinewidth": 0,
             "ticks": ""
            }
           }
          ],
          "scatter": [
           {
            "marker": {
             "line": {
              "color": "#283442"
             }
            },
            "type": "scatter"
           }
          ],
          "parcoords": [
           {
            "type": "parcoords",
            "line": {
             "colorbar": {
              "outlinewidth": 0,
              "ticks": ""
             }
            }
           }
          ],
          "scatterpolargl": [
           {
            "type": "scatterpolargl",
            "marker": {
             "colorbar": {
              "outlinewidth": 0,
              "ticks": ""
             }
            }
           }
          ],
          "bar": [
           {
            "error_x": {
             "color": "#f2f5fa"
            },
            "error_y": {
             "color": "#f2f5fa"
            },
            "marker": {
             "line": {
              "color": "rgb(17,17,17)",
              "width": 0.5
             },
             "pattern": {
              "fillmode": "overlay",
              "size": 10,
              "solidity": 0.2
             }
            },
            "type": "bar"
           }
          ],
          "scattergeo": [
           {
            "type": "scattergeo",
            "marker": {
             "colorbar": {
              "outlinewidth": 0,
              "ticks": ""
             }
            }
           }
          ],
          "scatterpolar": [
           {
            "type": "scatterpolar",
            "marker": {
             "colorbar": {
              "outlinewidth": 0,
              "ticks": ""
             }
            }
           }
          ],
          "histogram": [
           {
            "marker": {
             "pattern": {
              "fillmode": "overlay",
              "size": 10,
              "solidity": 0.2
             }
            },
            "type": "histogram"
           }
          ],
          "scattergl": [
           {
            "marker": {
             "line": {
              "color": "#283442"
             }
            },
            "type": "scattergl"
           }
          ],
          "scatter3d": [
           {
            "type": "scatter3d",
            "line": {
             "colorbar": {
              "outlinewidth": 0,
              "ticks": ""
             }
            },
            "marker": {
             "colorbar": {
              "outlinewidth": 0,
              "ticks": ""
             }
            }
           }
          ],
          "scattermapbox": [
           {
            "type": "scattermapbox",
            "marker": {
             "colorbar": {
              "outlinewidth": 0,
              "ticks": ""
             }
            }
           }
          ],
          "scatterternary": [
           {
            "type": "scatterternary",
            "marker": {
             "colorbar": {
              "outlinewidth": 0,
              "ticks": ""
             }
            }
           }
          ],
          "scattercarpet": [
           {
            "type": "scattercarpet",
            "marker": {
             "colorbar": {
              "outlinewidth": 0,
              "ticks": ""
             }
            }
           }
          ],
          "carpet": [
           {
            "aaxis": {
             "endlinecolor": "#A2B1C6",
             "gridcolor": "#506784",
             "linecolor": "#506784",
             "minorgridcolor": "#506784",
             "startlinecolor": "#A2B1C6"
            },
            "baxis": {
             "endlinecolor": "#A2B1C6",
             "gridcolor": "#506784",
             "linecolor": "#506784",
             "minorgridcolor": "#506784",
             "startlinecolor": "#A2B1C6"
            },
            "type": "carpet"
           }
          ],
          "table": [
           {
            "cells": {
             "fill": {
              "color": "#506784"
             },
             "line": {
              "color": "rgb(17,17,17)"
             }
            },
            "header": {
             "fill": {
              "color": "#2a3f5f"
             },
             "line": {
              "color": "rgb(17,17,17)"
             }
            },
            "type": "table"
           }
          ],
          "barpolar": [
           {
            "marker": {
             "line": {
              "color": "rgb(17,17,17)",
              "width": 0.5
             },
             "pattern": {
              "fillmode": "overlay",
              "size": 10,
              "solidity": 0.2
             }
            },
            "type": "barpolar"
           }
          ],
          "pie": [
           {
            "automargin": true,
            "type": "pie"
           }
          ]
         },
         "layout": {
          "autotypenumbers": "strict",
          "colorway": [
           "#636efa",
           "#EF553B",
           "#00cc96",
           "#ab63fa",
           "#FFA15A",
           "#19d3f3",
           "#FF6692",
           "#B6E880",
           "#FF97FF",
           "#FECB52"
          ],
          "font": {
           "color": "#f2f5fa"
          },
          "hovermode": "closest",
          "hoverlabel": {
           "align": "left"
          },
          "paper_bgcolor": "rgb(17,17,17)",
          "plot_bgcolor": "rgb(17,17,17)",
          "polar": {
           "bgcolor": "rgb(17,17,17)",
           "angularaxis": {
            "gridcolor": "#506784",
            "linecolor": "#506784",
            "ticks": ""
           },
           "radialaxis": {
            "gridcolor": "#506784",
            "linecolor": "#506784",
            "ticks": ""
           }
          },
          "ternary": {
           "bgcolor": "rgb(17,17,17)",
           "aaxis": {
            "gridcolor": "#506784",
            "linecolor": "#506784",
            "ticks": ""
           },
           "baxis": {
            "gridcolor": "#506784",
            "linecolor": "#506784",
            "ticks": ""
           },
           "caxis": {
            "gridcolor": "#506784",
            "linecolor": "#506784",
            "ticks": ""
           }
          },
          "coloraxis": {
           "colorbar": {
            "outlinewidth": 0,
            "ticks": ""
           }
          },
          "colorscale": {
           "sequential": [
            [
             0.0,
             "#0d0887"
            ],
            [
             0.1111111111111111,
             "#46039f"
            ],
            [
             0.2222222222222222,
             "#7201a8"
            ],
            [
             0.3333333333333333,
             "#9c179e"
            ],
            [
             0.4444444444444444,
             "#bd3786"
            ],
            [
             0.5555555555555556,
             "#d8576b"
            ],
            [
             0.6666666666666666,
             "#ed7953"
            ],
            [
             0.7777777777777778,
             "#fb9f3a"
            ],
            [
             0.8888888888888888,
             "#fdca26"
            ],
            [
             1.0,
             "#f0f921"
            ]
           ],
           "sequentialminus": [
            [
             0.0,
             "#0d0887"
            ],
            [
             0.1111111111111111,
             "#46039f"
            ],
            [
             0.2222222222222222,
             "#7201a8"
            ],
            [
             0.3333333333333333,
             "#9c179e"
            ],
            [
             0.4444444444444444,
             "#bd3786"
            ],
            [
             0.5555555555555556,
             "#d8576b"
            ],
            [
             0.6666666666666666,
             "#ed7953"
            ],
            [
             0.7777777777777778,
             "#fb9f3a"
            ],
            [
             0.8888888888888888,
             "#fdca26"
            ],
            [
             1.0,
             "#f0f921"
            ]
           ],
           "diverging": [
            [
             0,
             "#8e0152"
            ],
            [
             0.1,
             "#c51b7d"
            ],
            [
             0.2,
             "#de77ae"
            ],
            [
             0.3,
             "#f1b6da"
            ],
            [
             0.4,
             "#fde0ef"
            ],
            [
             0.5,
             "#f7f7f7"
            ],
            [
             0.6,
             "#e6f5d0"
            ],
            [
             0.7,
             "#b8e186"
            ],
            [
             0.8,
             "#7fbc41"
            ],
            [
             0.9,
             "#4d9221"
            ],
            [
             1,
             "#276419"
            ]
           ]
          },
          "xaxis": {
           "gridcolor": "#283442",
           "linecolor": "#506784",
           "ticks": "",
           "title": {
            "standoff": 15
           },
           "zerolinecolor": "#283442",
           "automargin": true,
           "zerolinewidth": 2
          },
          "yaxis": {
           "gridcolor": "#283442",
           "linecolor": "#506784",
           "ticks": "",
           "title": {
            "standoff": 15
           },
           "zerolinecolor": "#283442",
           "automargin": true,
           "zerolinewidth": 2
          },
          "scene": {
           "xaxis": {
            "backgroundcolor": "rgb(17,17,17)",
            "gridcolor": "#506784",
            "linecolor": "#506784",
            "showbackground": true,
            "ticks": "",
            "zerolinecolor": "#C8D4E3",
            "gridwidth": 2
           },
           "yaxis": {
            "backgroundcolor": "rgb(17,17,17)",
            "gridcolor": "#506784",
            "linecolor": "#506784",
            "showbackground": true,
            "ticks": "",
            "zerolinecolor": "#C8D4E3",
            "gridwidth": 2
           },
           "zaxis": {
            "backgroundcolor": "rgb(17,17,17)",
            "gridcolor": "#506784",
            "linecolor": "#506784",
            "showbackground": true,
            "ticks": "",
            "zerolinecolor": "#C8D4E3",
            "gridwidth": 2
           }
          },
          "shapedefaults": {
           "line": {
            "color": "#f2f5fa"
           }
          },
          "annotationdefaults": {
           "arrowcolor": "#f2f5fa",
           "arrowhead": 0,
           "arrowwidth": 1
          },
          "geo": {
           "bgcolor": "rgb(17,17,17)",
           "landcolor": "rgb(17,17,17)",
           "subunitcolor": "#506784",
           "showland": true,
           "showlakes": true,
           "lakecolor": "rgb(17,17,17)"
          },
          "title": {
           "x": 0.05
          },
          "updatemenudefaults": {
           "bgcolor": "#506784",
           "borderwidth": 0
          },
          "sliderdefaults": {
           "bgcolor": "#C8D4E3",
           "borderwidth": 1,
           "bordercolor": "rgb(17,17,17)",
           "tickwidth": 0
          },
          "mapbox": {
           "style": "dark"
          }
         }
        },
        "xaxis": {
         "anchor": "y",
         "domain": [
          0.0,
          1.0
         ],
         "title": {
          "text": "WorkDate"
         }
        },
        "yaxis": {
         "anchor": "x",
         "domain": [
          0.0,
          1.0
         ],
         "title": {
          "text": "value"
         }
        },
        "legend": {
         "title": {
          "text": "variable"
         },
         "tracegroupgap": 0
        },
        "title": {
         "text": "All Nurse Total Hours"
        }
       },
       "config": {
        "plotlyServerURL": "https://plot.ly"
       }
      },
      "text/html": [
       "<div>                            <div id=\"6da155c3-c02e-49c3-9e1c-cfaeaf57bac8\" class=\"plotly-graph-div\" style=\"height:525px; width:100%;\"></div>            <script type=\"text/javascript\">                require([\"plotly\"], function(Plotly) {                    window.PLOTLYENV=window.PLOTLYENV || {};                                    if (document.getElementById(\"6da155c3-c02e-49c3-9e1c-cfaeaf57bac8\")) {                    Plotly.newPlot(                        \"6da155c3-c02e-49c3-9e1c-cfaeaf57bac8\",                        [{\"hovertemplate\":\"variable=Hrs_RN\\u003cbr\\u003eWorkDate=%{x}\\u003cbr\\u003evalue=%{y}\\u003cextra\\u003e\\u003c\\u002fextra\\u003e\",\"legendgroup\":\"Hrs_RN\",\"line\":{\"color\":\"#636efa\",\"dash\":\"solid\"},\"marker\":{\"symbol\":\"circle\"},\"mode\":\"lines\",\"name\":\"Hrs_RN\",\"orientation\":\"v\",\"showlegend\":true,\"x\":[\"2024-03-31T00:00:00\",\"2024-03-30T00:00:00\",\"2024-03-29T00:00:00\",\"2024-03-28T00:00:00\",\"2024-03-27T00:00:00\",\"2024-03-26T00:00:00\",\"2024-03-25T00:00:00\",\"2024-03-24T00:00:00\",\"2024-03-23T00:00:00\",\"2024-03-22T00:00:00\",\"2024-03-21T00:00:00\",\"2024-03-20T00:00:00\",\"2024-03-19T00:00:00\",\"2024-03-18T00:00:00\",\"2024-03-17T00:00:00\",\"2024-03-16T00:00:00\",\"2024-03-15T00:00:00\",\"2024-03-14T00:00:00\",\"2024-03-13T00:00:00\",\"2024-03-12T00:00:00\",\"2024-03-11T00:00:00\",\"2024-03-10T00:00:00\",\"2024-03-09T00:00:00\",\"2024-03-08T00:00:00\",\"2024-03-07T00:00:00\",\"2024-03-06T00:00:00\",\"2024-03-05T00:00:00\",\"2024-03-04T00:00:00\",\"2024-03-03T00:00:00\",\"2024-03-02T00:00:00\",\"2024-03-01T00:00:00\",\"2024-02-29T00:00:00\",\"2024-02-28T00:00:00\",\"2024-02-27T00:00:00\",\"2024-02-26T00:00:00\",\"2024-02-25T00:00:00\",\"2024-02-24T00:00:00\",\"2024-02-23T00:00:00\",\"2024-02-22T00:00:00\",\"2024-02-21T00:00:00\",\"2024-02-20T00:00:00\",\"2024-02-19T00:00:00\",\"2024-02-18T00:00:00\",\"2024-02-17T00:00:00\",\"2024-02-16T00:00:00\",\"2024-02-15T00:00:00\",\"2024-02-14T00:00:00\",\"2024-02-13T00:00:00\",\"2024-02-12T00:00:00\",\"2024-02-11T00:00:00\",\"2024-02-10T00:00:00\",\"2024-02-09T00:00:00\",\"2024-02-08T00:00:00\",\"2024-02-07T00:00:00\",\"2024-02-06T00:00:00\",\"2024-02-05T00:00:00\",\"2024-02-04T00:00:00\",\"2024-02-03T00:00:00\",\"2024-02-02T00:00:00\",\"2024-02-01T00:00:00\",\"2024-01-31T00:00:00\",\"2024-01-30T00:00:00\",\"2024-01-29T00:00:00\",\"2024-01-28T00:00:00\",\"2024-01-27T00:00:00\",\"2024-01-26T00:00:00\",\"2024-01-25T00:00:00\",\"2024-01-24T00:00:00\",\"2024-01-23T00:00:00\",\"2024-01-22T00:00:00\",\"2024-01-21T00:00:00\",\"2024-01-20T00:00:00\",\"2024-01-19T00:00:00\",\"2024-01-18T00:00:00\",\"2024-01-17T00:00:00\",\"2024-01-16T00:00:00\",\"2024-01-15T00:00:00\",\"2024-01-14T00:00:00\",\"2024-01-13T00:00:00\",\"2024-01-12T00:00:00\",\"2024-01-11T00:00:00\",\"2024-01-10T00:00:00\",\"2024-01-09T00:00:00\",\"2024-01-08T00:00:00\",\"2024-01-07T00:00:00\",\"2024-01-06T00:00:00\",\"2024-01-05T00:00:00\",\"2024-01-04T00:00:00\",\"2024-01-03T00:00:00\",\"2024-01-02T00:00:00\",\"2024-01-01T00:00:00\"],\"xaxis\":\"x\",\"y\":[30.118018061827012,31.374587704063917,34.58210003473428,35.914519624869726,36.31037651962487,36.42862869051755,35.56054324418201,31.03277110107676,31.80828829454671,35.48550468912816,36.4659923584578,36.562998263285856,36.504348732198686,35.86517610281347,31.3155609586662,31.85648280653005,35.52816741924279,36.18342063216394,36.47544355679055,36.405908996179235,35.61465578325808,30.471468565474137,31.793413685307403,35.54500173671413,36.435023271969435,36.43730184091698,36.49006738450851,35.7344987843001,31.33572698853769,31.73934769017019,35.45426328586314,36.36176033344911,36.68417714484196,36.633354637026756,35.88683987495658,31.240782216047247,31.75629593608892,35.53222855158041,36.41566724557137,36.68187356721084,36.33368669676971,35.10342063216394,31.337092740534914,31.721505383813824,35.52473080930879,36.25320111149704,36.182055574852384,36.32364848905869,35.53698923237234,30.919201806182695,31.67227023271969,35.55659117749218,36.41260229246266,36.61001875651269,36.49358666203544,35.81163112191733,31.247442862104897,31.73246613407433,35.50989927058006,36.27079888850295,36.59817297672803,36.47765890934352,35.67598471691559,31.04291420632163,31.57080305661688,35.50714831538729,36.32665022577282,36.33517054532823,36.035062174366104,35.354946856547414,30.98250434178534,31.616474470302176,35.11539770753734,35.81099548454325,35.98759708232025,35.60694963529003,34.32457381035081,30.565149704758593,31.158203542896846,34.8274810698159,35.77552969781175,35.90036401528308,35.444325112886425,34.80539492879471,30.372962139631824,30.99909274053491,34.65306564779437,35.219556095866615,35.080251476207025,34.375802014588395,30.342516846127122],\"yaxis\":\"y\",\"type\":\"scatter\"},{\"hovertemplate\":\"variable=Hrs_LPN\\u003cbr\\u003eWorkDate=%{x}\\u003cbr\\u003evalue=%{y}\\u003cextra\\u003e\\u003c\\u002fextra\\u003e\",\"legendgroup\":\"Hrs_LPN\",\"line\":{\"color\":\"#EF553B\",\"dash\":\"solid\"},\"marker\":{\"symbol\":\"circle\"},\"mode\":\"lines\",\"name\":\"Hrs_LPN\",\"orientation\":\"v\",\"showlegend\":true,\"x\":[\"2024-03-31T00:00:00\",\"2024-03-30T00:00:00\",\"2024-03-29T00:00:00\",\"2024-03-28T00:00:00\",\"2024-03-27T00:00:00\",\"2024-03-26T00:00:00\",\"2024-03-25T00:00:00\",\"2024-03-24T00:00:00\",\"2024-03-23T00:00:00\",\"2024-03-22T00:00:00\",\"2024-03-21T00:00:00\",\"2024-03-20T00:00:00\",\"2024-03-19T00:00:00\",\"2024-03-18T00:00:00\",\"2024-03-17T00:00:00\",\"2024-03-16T00:00:00\",\"2024-03-15T00:00:00\",\"2024-03-14T00:00:00\",\"2024-03-13T00:00:00\",\"2024-03-12T00:00:00\",\"2024-03-11T00:00:00\",\"2024-03-10T00:00:00\",\"2024-03-09T00:00:00\",\"2024-03-08T00:00:00\",\"2024-03-07T00:00:00\",\"2024-03-06T00:00:00\",\"2024-03-05T00:00:00\",\"2024-03-04T00:00:00\",\"2024-03-03T00:00:00\",\"2024-03-02T00:00:00\",\"2024-03-01T00:00:00\",\"2024-02-29T00:00:00\",\"2024-02-28T00:00:00\",\"2024-02-27T00:00:00\",\"2024-02-26T00:00:00\",\"2024-02-25T00:00:00\",\"2024-02-24T00:00:00\",\"2024-02-23T00:00:00\",\"2024-02-22T00:00:00\",\"2024-02-21T00:00:00\",\"2024-02-20T00:00:00\",\"2024-02-19T00:00:00\",\"2024-02-18T00:00:00\",\"2024-02-17T00:00:00\",\"2024-02-16T00:00:00\",\"2024-02-15T00:00:00\",\"2024-02-14T00:00:00\",\"2024-02-13T00:00:00\",\"2024-02-12T00:00:00\",\"2024-02-11T00:00:00\",\"2024-02-10T00:00:00\",\"2024-02-09T00:00:00\",\"2024-02-08T00:00:00\",\"2024-02-07T00:00:00\",\"2024-02-06T00:00:00\",\"2024-02-05T00:00:00\",\"2024-02-04T00:00:00\",\"2024-02-03T00:00:00\",\"2024-02-02T00:00:00\",\"2024-02-01T00:00:00\",\"2024-01-31T00:00:00\",\"2024-01-30T00:00:00\",\"2024-01-29T00:00:00\",\"2024-01-28T00:00:00\",\"2024-01-27T00:00:00\",\"2024-01-26T00:00:00\",\"2024-01-25T00:00:00\",\"2024-01-24T00:00:00\",\"2024-01-23T00:00:00\",\"2024-01-22T00:00:00\",\"2024-01-21T00:00:00\",\"2024-01-20T00:00:00\",\"2024-01-19T00:00:00\",\"2024-01-18T00:00:00\",\"2024-01-17T00:00:00\",\"2024-01-16T00:00:00\",\"2024-01-15T00:00:00\",\"2024-01-14T00:00:00\",\"2024-01-13T00:00:00\",\"2024-01-12T00:00:00\",\"2024-01-11T00:00:00\",\"2024-01-10T00:00:00\",\"2024-01-09T00:00:00\",\"2024-01-08T00:00:00\",\"2024-01-07T00:00:00\",\"2024-01-06T00:00:00\",\"2024-01-05T00:00:00\",\"2024-01-04T00:00:00\",\"2024-01-03T00:00:00\",\"2024-01-02T00:00:00\",\"2024-01-01T00:00:00\"],\"xaxis\":\"x\",\"y\":[58.882867662382765,61.3772691906912,67.57014379993052,69.37886071552624,70.08490170197986,69.3941257381035,67.86283987495658,61.221068426537,62.09888016672454,68.10968808614102,69.66209378256337,70.05801736714136,69.52239041333796,67.68943105244875,60.83796596040292,61.93724418200765,68.1761486627301,69.66916707189996,70.28385689475512,69.68130045154567,68.16200208405697,60.042907259465096,62.31840569642239,68.64721014241056,69.8631587356721,70.48511774921847,69.72158179923586,68.0924022229941,61.27308857242098,62.22018478638415,68.44344425147622,69.76472177839527,70.17033414379992,69.56071761028134,68.04108857242099,61.38361861757554,62.394414727335885,68.41253143452587,69.61952830844044,70.19921222646754,69.57537964571031,67.73206807919415,61.33446405001736,62.19365057311566,68.26001736714137,69.13356512678013,68.89389023966656,68.94272038902396,67.47055435915249,60.78971031608199,62.4930635637374,68.72440569642235,69.85189301840917,70.3688579367836,69.84614241055924,68.17095797151788,61.52598471691559,62.65172351510941,68.67964154220212,69.83303577631123,70.53453490795414,69.91704758596734,67.95447794373048,61.299010072941996,62.70207711010769,68.77115734630078,70.01798193817298,70.23252865578327,69.63769017019798,67.53681972907258,61.485928447377574,62.35875234456407,68.08293852031956,69.54537478291071,69.47213754775963,67.68332962834317,66.93937130948244,61.106169503299746,62.184688433483856,68.06931781868705,69.54491420632162,69.57906009030913,68.43950468912814,67.27211253907609,60.596940604376506,61.73900937825634,68.01286349426883,69.12331920805838,69.05951997221257,67.49043139979158,61.328737061479686],\"yaxis\":\"y\",\"type\":\"scatter\"},{\"hovertemplate\":\"variable=Hrs_CNA\\u003cbr\\u003eWorkDate=%{x}\\u003cbr\\u003evalue=%{y}\\u003cextra\\u003e\\u003c\\u002fextra\\u003e\",\"legendgroup\":\"Hrs_CNA\",\"line\":{\"color\":\"#00cc96\",\"dash\":\"solid\"},\"marker\":{\"symbol\":\"circle\"},\"mode\":\"lines\",\"name\":\"Hrs_CNA\",\"orientation\":\"v\",\"showlegend\":true,\"x\":[\"2024-03-31T00:00:00\",\"2024-03-30T00:00:00\",\"2024-03-29T00:00:00\",\"2024-03-28T00:00:00\",\"2024-03-27T00:00:00\",\"2024-03-26T00:00:00\",\"2024-03-25T00:00:00\",\"2024-03-24T00:00:00\",\"2024-03-23T00:00:00\",\"2024-03-22T00:00:00\",\"2024-03-21T00:00:00\",\"2024-03-20T00:00:00\",\"2024-03-19T00:00:00\",\"2024-03-18T00:00:00\",\"2024-03-17T00:00:00\",\"2024-03-16T00:00:00\",\"2024-03-15T00:00:00\",\"2024-03-14T00:00:00\",\"2024-03-13T00:00:00\",\"2024-03-12T00:00:00\",\"2024-03-11T00:00:00\",\"2024-03-10T00:00:00\",\"2024-03-09T00:00:00\",\"2024-03-08T00:00:00\",\"2024-03-07T00:00:00\",\"2024-03-06T00:00:00\",\"2024-03-05T00:00:00\",\"2024-03-04T00:00:00\",\"2024-03-03T00:00:00\",\"2024-03-02T00:00:00\",\"2024-03-01T00:00:00\",\"2024-02-29T00:00:00\",\"2024-02-28T00:00:00\",\"2024-02-27T00:00:00\",\"2024-02-26T00:00:00\",\"2024-02-25T00:00:00\",\"2024-02-24T00:00:00\",\"2024-02-23T00:00:00\",\"2024-02-22T00:00:00\",\"2024-02-21T00:00:00\",\"2024-02-20T00:00:00\",\"2024-02-19T00:00:00\",\"2024-02-18T00:00:00\",\"2024-02-17T00:00:00\",\"2024-02-16T00:00:00\",\"2024-02-15T00:00:00\",\"2024-02-14T00:00:00\",\"2024-02-13T00:00:00\",\"2024-02-12T00:00:00\",\"2024-02-11T00:00:00\",\"2024-02-10T00:00:00\",\"2024-02-09T00:00:00\",\"2024-02-08T00:00:00\",\"2024-02-07T00:00:00\",\"2024-02-06T00:00:00\",\"2024-02-05T00:00:00\",\"2024-02-04T00:00:00\",\"2024-02-03T00:00:00\",\"2024-02-02T00:00:00\",\"2024-02-01T00:00:00\",\"2024-01-31T00:00:00\",\"2024-01-30T00:00:00\",\"2024-01-29T00:00:00\",\"2024-01-28T00:00:00\",\"2024-01-27T00:00:00\",\"2024-01-26T00:00:00\",\"2024-01-25T00:00:00\",\"2024-01-24T00:00:00\",\"2024-01-23T00:00:00\",\"2024-01-22T00:00:00\",\"2024-01-21T00:00:00\",\"2024-01-20T00:00:00\",\"2024-01-19T00:00:00\",\"2024-01-18T00:00:00\",\"2024-01-17T00:00:00\",\"2024-01-16T00:00:00\",\"2024-01-15T00:00:00\",\"2024-01-14T00:00:00\",\"2024-01-13T00:00:00\",\"2024-01-12T00:00:00\",\"2024-01-11T00:00:00\",\"2024-01-10T00:00:00\",\"2024-01-09T00:00:00\",\"2024-01-08T00:00:00\",\"2024-01-07T00:00:00\",\"2024-01-06T00:00:00\",\"2024-01-05T00:00:00\",\"2024-01-04T00:00:00\",\"2024-01-03T00:00:00\",\"2024-01-02T00:00:00\",\"2024-01-01T00:00:00\"],\"xaxis\":\"x\",\"y\":[155.08591246960754,163.45942757902048,173.35473567210838,178.48028065300457,179.59570336922548,177.89808544633559,172.68528447377565,161.13468218131297,165.20331642931572,174.75224800277874,178.86387495658212,179.74541646405,177.98901076762772,172.25440013893711,159.8203786036818,164.06531434525877,174.0919465092046,178.09332615491488,179.41018617575548,177.98129489406043,172.70722750955198,156.8728225078152,165.53714484195905,174.4614935741577,178.63898367488713,179.45546787078845,177.41579645710314,172.25862521708927,160.41117679749914,164.40550052101418,173.27418617575552,177.57035081625565,178.6258687044113,176.85845362973257,171.70718166029872,160.2103591524835,164.4099076068079,173.65958388329278,177.54191872177842,178.89427787426192,177.2406335533171,172.6727704063911,161.03451545675577,164.24569850642584,173.9847530392497,176.40067870788462,175.25463424800273,175.30046127127477,171.14607572073635,160.09519694338312,166.05588051406735,175.39553178186873,179.13510246613407,180.31250503647098,178.46130114623134,173.68365960402917,162.47126432789165,166.75207433136504,175.53301632511292,178.68732893365748,180.3940840569643,178.7079902744008,173.2757853421327,162.3267398402223,167.11836193122613,175.93297117054533,179.26982771795764,179.67210559221954,177.27129558874609,171.44185620006942,161.8447502605071,165.8706224383466,172.99902744008332,177.85792080583536,177.12808058353596,171.9276505731156,170.44957693643622,160.80439527613754,164.9733067037166,173.48565474122958,178.2338034039597,177.78480236193127,174.5008238971865,170.68188329281,158.85146300798885,164.35490725946508,173.3794602292462,176.74282320250083,176.2247558179924,170.90549843695726,158.80460576589093],\"yaxis\":\"y\",\"type\":\"scatter\"},{\"hovertemplate\":\"variable=Hrs_NAtrn\\u003cbr\\u003eWorkDate=%{x}\\u003cbr\\u003evalue=%{y}\\u003cextra\\u003e\\u003c\\u002fextra\\u003e\",\"legendgroup\":\"Hrs_NAtrn\",\"line\":{\"color\":\"#ab63fa\",\"dash\":\"solid\"},\"marker\":{\"symbol\":\"circle\"},\"mode\":\"lines\",\"name\":\"Hrs_NAtrn\",\"orientation\":\"v\",\"showlegend\":true,\"x\":[\"2024-03-31T00:00:00\",\"2024-03-30T00:00:00\",\"2024-03-29T00:00:00\",\"2024-03-28T00:00:00\",\"2024-03-27T00:00:00\",\"2024-03-26T00:00:00\",\"2024-03-25T00:00:00\",\"2024-03-24T00:00:00\",\"2024-03-23T00:00:00\",\"2024-03-22T00:00:00\",\"2024-03-21T00:00:00\",\"2024-03-20T00:00:00\",\"2024-03-19T00:00:00\",\"2024-03-18T00:00:00\",\"2024-03-17T00:00:00\",\"2024-03-16T00:00:00\",\"2024-03-15T00:00:00\",\"2024-03-14T00:00:00\",\"2024-03-13T00:00:00\",\"2024-03-12T00:00:00\",\"2024-03-11T00:00:00\",\"2024-03-10T00:00:00\",\"2024-03-09T00:00:00\",\"2024-03-08T00:00:00\",\"2024-03-07T00:00:00\",\"2024-03-06T00:00:00\",\"2024-03-05T00:00:00\",\"2024-03-04T00:00:00\",\"2024-03-03T00:00:00\",\"2024-03-02T00:00:00\",\"2024-03-01T00:00:00\",\"2024-02-29T00:00:00\",\"2024-02-28T00:00:00\",\"2024-02-27T00:00:00\",\"2024-02-26T00:00:00\",\"2024-02-25T00:00:00\",\"2024-02-24T00:00:00\",\"2024-02-23T00:00:00\",\"2024-02-22T00:00:00\",\"2024-02-21T00:00:00\",\"2024-02-20T00:00:00\",\"2024-02-19T00:00:00\",\"2024-02-18T00:00:00\",\"2024-02-17T00:00:00\",\"2024-02-16T00:00:00\",\"2024-02-15T00:00:00\",\"2024-02-14T00:00:00\",\"2024-02-13T00:00:00\",\"2024-02-12T00:00:00\",\"2024-02-11T00:00:00\",\"2024-02-10T00:00:00\",\"2024-02-09T00:00:00\",\"2024-02-08T00:00:00\",\"2024-02-07T00:00:00\",\"2024-02-06T00:00:00\",\"2024-02-05T00:00:00\",\"2024-02-04T00:00:00\",\"2024-02-03T00:00:00\",\"2024-02-02T00:00:00\",\"2024-02-01T00:00:00\",\"2024-01-31T00:00:00\",\"2024-01-30T00:00:00\",\"2024-01-29T00:00:00\",\"2024-01-28T00:00:00\",\"2024-01-27T00:00:00\",\"2024-01-26T00:00:00\",\"2024-01-25T00:00:00\",\"2024-01-24T00:00:00\",\"2024-01-23T00:00:00\",\"2024-01-22T00:00:00\",\"2024-01-21T00:00:00\",\"2024-01-20T00:00:00\",\"2024-01-19T00:00:00\",\"2024-01-18T00:00:00\",\"2024-01-17T00:00:00\",\"2024-01-16T00:00:00\",\"2024-01-15T00:00:00\",\"2024-01-14T00:00:00\",\"2024-01-13T00:00:00\",\"2024-01-12T00:00:00\",\"2024-01-11T00:00:00\",\"2024-01-10T00:00:00\",\"2024-01-09T00:00:00\",\"2024-01-08T00:00:00\",\"2024-01-07T00:00:00\",\"2024-01-06T00:00:00\",\"2024-01-05T00:00:00\",\"2024-01-04T00:00:00\",\"2024-01-03T00:00:00\",\"2024-01-02T00:00:00\",\"2024-01-01T00:00:00\"],\"xaxis\":\"x\",\"y\":[3.4404571031608207,3.6416366794025703,4.550458492532129,4.699975686002084,4.769622785689475,4.626853073984021,4.501443556790552,3.560580062521709,3.6767453977075375,4.54487044112539,4.640193122612017,4.7470128516846115,4.703051059395625,4.517679749913165,3.548730114623134,3.6627641542202154,4.553366446682875,4.680049322681486,4.7021840916985065,4.6613546370267445,4.575257381035081,3.4587877735324764,3.6459055227509545,4.546140326502258,4.6522841264327885,4.71366585620007,4.668471691559569,4.583698506425843,3.5720604376519622,3.6468162556443207,4.491724904480722,4.606298020145883,4.619895102466133,4.59385064258423,4.479281695032997,3.5161583883292815,3.60840291767975,4.509758944077804,4.589672803056618,4.649620006946855,4.654595345606114,4.442757207363668,3.53864327891629,3.6778673150399435,4.461189301840917,4.561835359499826,4.5066363320597445,4.542724557137896,4.513906217436611,3.4746613407433133,3.644018061827023,4.520528655783258,4.678829454671761,4.643412295936089,4.635659604029177,4.5182507815213615,3.534891976380688,3.769829802014588,4.5507474817645015,4.575107328933656,4.581308787773533,4.559328933657518,4.412696075026051,3.5196693296283432,3.7194810698159086,4.493590135463703,4.549976380687738,4.61001597777006,4.520923237235151,4.298101424105592,3.511003126085446,3.7633553317124,4.369816602987148,4.474395276137548,4.4430816255644325,4.272668982285516,4.1491281695032995,3.445028829454671,3.68489961792289,4.421979854116013,4.5733831191385885,4.565916637721431,4.442994095171936,4.3470399444251475,3.580657172629386,3.7690503647099685,4.404596734977422,4.469230982980201,4.435635984716916,4.308222994095171,3.606046543938868],\"yaxis\":\"y\",\"type\":\"scatter\"},{\"hovertemplate\":\"variable=Hrs_MedAide\\u003cbr\\u003eWorkDate=%{x}\\u003cbr\\u003evalue=%{y}\\u003cextra\\u003e\\u003c\\u002fextra\\u003e\",\"legendgroup\":\"Hrs_MedAide\",\"line\":{\"color\":\"#FFA15A\",\"dash\":\"solid\"},\"marker\":{\"symbol\":\"circle\"},\"mode\":\"lines\",\"name\":\"Hrs_MedAide\",\"orientation\":\"v\",\"showlegend\":true,\"x\":[\"2024-03-31T00:00:00\",\"2024-03-30T00:00:00\",\"2024-03-29T00:00:00\",\"2024-03-28T00:00:00\",\"2024-03-27T00:00:00\",\"2024-03-26T00:00:00\",\"2024-03-25T00:00:00\",\"2024-03-24T00:00:00\",\"2024-03-23T00:00:00\",\"2024-03-22T00:00:00\",\"2024-03-21T00:00:00\",\"2024-03-20T00:00:00\",\"2024-03-19T00:00:00\",\"2024-03-18T00:00:00\",\"2024-03-17T00:00:00\",\"2024-03-16T00:00:00\",\"2024-03-15T00:00:00\",\"2024-03-14T00:00:00\",\"2024-03-13T00:00:00\",\"2024-03-12T00:00:00\",\"2024-03-11T00:00:00\",\"2024-03-10T00:00:00\",\"2024-03-09T00:00:00\",\"2024-03-08T00:00:00\",\"2024-03-07T00:00:00\",\"2024-03-06T00:00:00\",\"2024-03-05T00:00:00\",\"2024-03-04T00:00:00\",\"2024-03-03T00:00:00\",\"2024-03-02T00:00:00\",\"2024-03-01T00:00:00\",\"2024-02-29T00:00:00\",\"2024-02-28T00:00:00\",\"2024-02-27T00:00:00\",\"2024-02-26T00:00:00\",\"2024-02-25T00:00:00\",\"2024-02-24T00:00:00\",\"2024-02-23T00:00:00\",\"2024-02-22T00:00:00\",\"2024-02-21T00:00:00\",\"2024-02-20T00:00:00\",\"2024-02-19T00:00:00\",\"2024-02-18T00:00:00\",\"2024-02-17T00:00:00\",\"2024-02-16T00:00:00\",\"2024-02-15T00:00:00\",\"2024-02-14T00:00:00\",\"2024-02-13T00:00:00\",\"2024-02-12T00:00:00\",\"2024-02-11T00:00:00\",\"2024-02-10T00:00:00\",\"2024-02-09T00:00:00\",\"2024-02-08T00:00:00\",\"2024-02-07T00:00:00\",\"2024-02-06T00:00:00\",\"2024-02-05T00:00:00\",\"2024-02-04T00:00:00\",\"2024-02-03T00:00:00\",\"2024-02-02T00:00:00\",\"2024-02-01T00:00:00\",\"2024-01-31T00:00:00\",\"2024-01-30T00:00:00\",\"2024-01-29T00:00:00\",\"2024-01-28T00:00:00\",\"2024-01-27T00:00:00\",\"2024-01-26T00:00:00\",\"2024-01-25T00:00:00\",\"2024-01-24T00:00:00\",\"2024-01-23T00:00:00\",\"2024-01-22T00:00:00\",\"2024-01-21T00:00:00\",\"2024-01-20T00:00:00\",\"2024-01-19T00:00:00\",\"2024-01-18T00:00:00\",\"2024-01-17T00:00:00\",\"2024-01-16T00:00:00\",\"2024-01-15T00:00:00\",\"2024-01-14T00:00:00\",\"2024-01-13T00:00:00\",\"2024-01-12T00:00:00\",\"2024-01-11T00:00:00\",\"2024-01-10T00:00:00\",\"2024-01-09T00:00:00\",\"2024-01-08T00:00:00\",\"2024-01-07T00:00:00\",\"2024-01-06T00:00:00\",\"2024-01-05T00:00:00\",\"2024-01-04T00:00:00\",\"2024-01-03T00:00:00\",\"2024-01-02T00:00:00\",\"2024-01-01T00:00:00\"],\"xaxis\":\"x\",\"y\":[7.675144147273359,7.96411879124696,8.646185481069816,8.868027092740535,8.920616880861413,8.897476207016325,8.729842306356371,7.82078082667593,8.00098436957277,8.70951302535603,8.79914414727336,8.910288294546719,8.887867315039948,8.632325807572077,7.756138242445293,7.912577283779087,8.659626953803404,8.817936088919764,8.890223688780827,8.839171240013892,8.669004515456757,7.748945467176103,7.997376866967698,8.638832928100035,8.786160472386243,8.9139631816603,8.853359499826329,8.603004515456757,7.804881556095867,7.980550191038556,8.58937130948246,8.842477249044805,8.894851684612716,8.812049322681487,8.60058909343522,7.830134074331362,8.043897186523099,8.665060090309135,8.750870441125388,8.900784994789856,8.84208058353595,8.670875998610628,7.830109760333448,7.958004862799586,8.556974643973602,8.71413893713095,8.727665856200069,8.795328238971868,8.548436262591176,7.836313997915942,8.051913858978812,8.73227023271969,8.890746787078845,8.976634248002778,8.881224730809311,8.607329628343175,7.883814518930186,8.037794373046196,8.662057658909346,8.914432094477249,8.91165821465787,8.836853073984022,8.640960055574855,7.910197985411602,8.109118443904133,8.721638068773881,8.814366794025707,8.949024661340745,8.756379993053143,8.32920458492532,7.879608197290725,8.05278846821813,8.59616533518583,8.832496005557486,8.793668634942689,8.623030218825983,8.468077804793332,7.857108718304968,7.993352552969783,8.564204932268149,8.744655088572422,8.875406043765196,8.633353247655434,8.56443487321987,7.811338659256683,7.992693990969086,8.64027579020493,8.807255991663771,8.75092323723515,8.592481417158735,8.025606807919415],\"yaxis\":\"y\",\"type\":\"scatter\"}],                        {\"template\":{\"data\":{\"histogram2dcontour\":[{\"type\":\"histogram2dcontour\",\"colorbar\":{\"outlinewidth\":0,\"ticks\":\"\"},\"colorscale\":[[0.0,\"#0d0887\"],[0.1111111111111111,\"#46039f\"],[0.2222222222222222,\"#7201a8\"],[0.3333333333333333,\"#9c179e\"],[0.4444444444444444,\"#bd3786\"],[0.5555555555555556,\"#d8576b\"],[0.6666666666666666,\"#ed7953\"],[0.7777777777777778,\"#fb9f3a\"],[0.8888888888888888,\"#fdca26\"],[1.0,\"#f0f921\"]]}],\"choropleth\":[{\"type\":\"choropleth\",\"colorbar\":{\"outlinewidth\":0,\"ticks\":\"\"}}],\"histogram2d\":[{\"type\":\"histogram2d\",\"colorbar\":{\"outlinewidth\":0,\"ticks\":\"\"},\"colorscale\":[[0.0,\"#0d0887\"],[0.1111111111111111,\"#46039f\"],[0.2222222222222222,\"#7201a8\"],[0.3333333333333333,\"#9c179e\"],[0.4444444444444444,\"#bd3786\"],[0.5555555555555556,\"#d8576b\"],[0.6666666666666666,\"#ed7953\"],[0.7777777777777778,\"#fb9f3a\"],[0.8888888888888888,\"#fdca26\"],[1.0,\"#f0f921\"]]}],\"heatmap\":[{\"type\":\"heatmap\",\"colorbar\":{\"outlinewidth\":0,\"ticks\":\"\"},\"colorscale\":[[0.0,\"#0d0887\"],[0.1111111111111111,\"#46039f\"],[0.2222222222222222,\"#7201a8\"],[0.3333333333333333,\"#9c179e\"],[0.4444444444444444,\"#bd3786\"],[0.5555555555555556,\"#d8576b\"],[0.6666666666666666,\"#ed7953\"],[0.7777777777777778,\"#fb9f3a\"],[0.8888888888888888,\"#fdca26\"],[1.0,\"#f0f921\"]]}],\"heatmapgl\":[{\"type\":\"heatmapgl\",\"colorbar\":{\"outlinewidth\":0,\"ticks\":\"\"},\"colorscale\":[[0.0,\"#0d0887\"],[0.1111111111111111,\"#46039f\"],[0.2222222222222222,\"#7201a8\"],[0.3333333333333333,\"#9c179e\"],[0.4444444444444444,\"#bd3786\"],[0.5555555555555556,\"#d8576b\"],[0.6666666666666666,\"#ed7953\"],[0.7777777777777778,\"#fb9f3a\"],[0.8888888888888888,\"#fdca26\"],[1.0,\"#f0f921\"]]}],\"contourcarpet\":[{\"type\":\"contourcarpet\",\"colorbar\":{\"outlinewidth\":0,\"ticks\":\"\"}}],\"contour\":[{\"type\":\"contour\",\"colorbar\":{\"outlinewidth\":0,\"ticks\":\"\"},\"colorscale\":[[0.0,\"#0d0887\"],[0.1111111111111111,\"#46039f\"],[0.2222222222222222,\"#7201a8\"],[0.3333333333333333,\"#9c179e\"],[0.4444444444444444,\"#bd3786\"],[0.5555555555555556,\"#d8576b\"],[0.6666666666666666,\"#ed7953\"],[0.7777777777777778,\"#fb9f3a\"],[0.8888888888888888,\"#fdca26\"],[1.0,\"#f0f921\"]]}],\"surface\":[{\"type\":\"surface\",\"colorbar\":{\"outlinewidth\":0,\"ticks\":\"\"},\"colorscale\":[[0.0,\"#0d0887\"],[0.1111111111111111,\"#46039f\"],[0.2222222222222222,\"#7201a8\"],[0.3333333333333333,\"#9c179e\"],[0.4444444444444444,\"#bd3786\"],[0.5555555555555556,\"#d8576b\"],[0.6666666666666666,\"#ed7953\"],[0.7777777777777778,\"#fb9f3a\"],[0.8888888888888888,\"#fdca26\"],[1.0,\"#f0f921\"]]}],\"mesh3d\":[{\"type\":\"mesh3d\",\"colorbar\":{\"outlinewidth\":0,\"ticks\":\"\"}}],\"scatter\":[{\"marker\":{\"line\":{\"color\":\"#283442\"}},\"type\":\"scatter\"}],\"parcoords\":[{\"type\":\"parcoords\",\"line\":{\"colorbar\":{\"outlinewidth\":0,\"ticks\":\"\"}}}],\"scatterpolargl\":[{\"type\":\"scatterpolargl\",\"marker\":{\"colorbar\":{\"outlinewidth\":0,\"ticks\":\"\"}}}],\"bar\":[{\"error_x\":{\"color\":\"#f2f5fa\"},\"error_y\":{\"color\":\"#f2f5fa\"},\"marker\":{\"line\":{\"color\":\"rgb(17,17,17)\",\"width\":0.5},\"pattern\":{\"fillmode\":\"overlay\",\"size\":10,\"solidity\":0.2}},\"type\":\"bar\"}],\"scattergeo\":[{\"type\":\"scattergeo\",\"marker\":{\"colorbar\":{\"outlinewidth\":0,\"ticks\":\"\"}}}],\"scatterpolar\":[{\"type\":\"scatterpolar\",\"marker\":{\"colorbar\":{\"outlinewidth\":0,\"ticks\":\"\"}}}],\"histogram\":[{\"marker\":{\"pattern\":{\"fillmode\":\"overlay\",\"size\":10,\"solidity\":0.2}},\"type\":\"histogram\"}],\"scattergl\":[{\"marker\":{\"line\":{\"color\":\"#283442\"}},\"type\":\"scattergl\"}],\"scatter3d\":[{\"type\":\"scatter3d\",\"line\":{\"colorbar\":{\"outlinewidth\":0,\"ticks\":\"\"}},\"marker\":{\"colorbar\":{\"outlinewidth\":0,\"ticks\":\"\"}}}],\"scattermapbox\":[{\"type\":\"scattermapbox\",\"marker\":{\"colorbar\":{\"outlinewidth\":0,\"ticks\":\"\"}}}],\"scatterternary\":[{\"type\":\"scatterternary\",\"marker\":{\"colorbar\":{\"outlinewidth\":0,\"ticks\":\"\"}}}],\"scattercarpet\":[{\"type\":\"scattercarpet\",\"marker\":{\"colorbar\":{\"outlinewidth\":0,\"ticks\":\"\"}}}],\"carpet\":[{\"aaxis\":{\"endlinecolor\":\"#A2B1C6\",\"gridcolor\":\"#506784\",\"linecolor\":\"#506784\",\"minorgridcolor\":\"#506784\",\"startlinecolor\":\"#A2B1C6\"},\"baxis\":{\"endlinecolor\":\"#A2B1C6\",\"gridcolor\":\"#506784\",\"linecolor\":\"#506784\",\"minorgridcolor\":\"#506784\",\"startlinecolor\":\"#A2B1C6\"},\"type\":\"carpet\"}],\"table\":[{\"cells\":{\"fill\":{\"color\":\"#506784\"},\"line\":{\"color\":\"rgb(17,17,17)\"}},\"header\":{\"fill\":{\"color\":\"#2a3f5f\"},\"line\":{\"color\":\"rgb(17,17,17)\"}},\"type\":\"table\"}],\"barpolar\":[{\"marker\":{\"line\":{\"color\":\"rgb(17,17,17)\",\"width\":0.5},\"pattern\":{\"fillmode\":\"overlay\",\"size\":10,\"solidity\":0.2}},\"type\":\"barpolar\"}],\"pie\":[{\"automargin\":true,\"type\":\"pie\"}]},\"layout\":{\"autotypenumbers\":\"strict\",\"colorway\":[\"#636efa\",\"#EF553B\",\"#00cc96\",\"#ab63fa\",\"#FFA15A\",\"#19d3f3\",\"#FF6692\",\"#B6E880\",\"#FF97FF\",\"#FECB52\"],\"font\":{\"color\":\"#f2f5fa\"},\"hovermode\":\"closest\",\"hoverlabel\":{\"align\":\"left\"},\"paper_bgcolor\":\"rgb(17,17,17)\",\"plot_bgcolor\":\"rgb(17,17,17)\",\"polar\":{\"bgcolor\":\"rgb(17,17,17)\",\"angularaxis\":{\"gridcolor\":\"#506784\",\"linecolor\":\"#506784\",\"ticks\":\"\"},\"radialaxis\":{\"gridcolor\":\"#506784\",\"linecolor\":\"#506784\",\"ticks\":\"\"}},\"ternary\":{\"bgcolor\":\"rgb(17,17,17)\",\"aaxis\":{\"gridcolor\":\"#506784\",\"linecolor\":\"#506784\",\"ticks\":\"\"},\"baxis\":{\"gridcolor\":\"#506784\",\"linecolor\":\"#506784\",\"ticks\":\"\"},\"caxis\":{\"gridcolor\":\"#506784\",\"linecolor\":\"#506784\",\"ticks\":\"\"}},\"coloraxis\":{\"colorbar\":{\"outlinewidth\":0,\"ticks\":\"\"}},\"colorscale\":{\"sequential\":[[0.0,\"#0d0887\"],[0.1111111111111111,\"#46039f\"],[0.2222222222222222,\"#7201a8\"],[0.3333333333333333,\"#9c179e\"],[0.4444444444444444,\"#bd3786\"],[0.5555555555555556,\"#d8576b\"],[0.6666666666666666,\"#ed7953\"],[0.7777777777777778,\"#fb9f3a\"],[0.8888888888888888,\"#fdca26\"],[1.0,\"#f0f921\"]],\"sequentialminus\":[[0.0,\"#0d0887\"],[0.1111111111111111,\"#46039f\"],[0.2222222222222222,\"#7201a8\"],[0.3333333333333333,\"#9c179e\"],[0.4444444444444444,\"#bd3786\"],[0.5555555555555556,\"#d8576b\"],[0.6666666666666666,\"#ed7953\"],[0.7777777777777778,\"#fb9f3a\"],[0.8888888888888888,\"#fdca26\"],[1.0,\"#f0f921\"]],\"diverging\":[[0,\"#8e0152\"],[0.1,\"#c51b7d\"],[0.2,\"#de77ae\"],[0.3,\"#f1b6da\"],[0.4,\"#fde0ef\"],[0.5,\"#f7f7f7\"],[0.6,\"#e6f5d0\"],[0.7,\"#b8e186\"],[0.8,\"#7fbc41\"],[0.9,\"#4d9221\"],[1,\"#276419\"]]},\"xaxis\":{\"gridcolor\":\"#283442\",\"linecolor\":\"#506784\",\"ticks\":\"\",\"title\":{\"standoff\":15},\"zerolinecolor\":\"#283442\",\"automargin\":true,\"zerolinewidth\":2},\"yaxis\":{\"gridcolor\":\"#283442\",\"linecolor\":\"#506784\",\"ticks\":\"\",\"title\":{\"standoff\":15},\"zerolinecolor\":\"#283442\",\"automargin\":true,\"zerolinewidth\":2},\"scene\":{\"xaxis\":{\"backgroundcolor\":\"rgb(17,17,17)\",\"gridcolor\":\"#506784\",\"linecolor\":\"#506784\",\"showbackground\":true,\"ticks\":\"\",\"zerolinecolor\":\"#C8D4E3\",\"gridwidth\":2},\"yaxis\":{\"backgroundcolor\":\"rgb(17,17,17)\",\"gridcolor\":\"#506784\",\"linecolor\":\"#506784\",\"showbackground\":true,\"ticks\":\"\",\"zerolinecolor\":\"#C8D4E3\",\"gridwidth\":2},\"zaxis\":{\"backgroundcolor\":\"rgb(17,17,17)\",\"gridcolor\":\"#506784\",\"linecolor\":\"#506784\",\"showbackground\":true,\"ticks\":\"\",\"zerolinecolor\":\"#C8D4E3\",\"gridwidth\":2}},\"shapedefaults\":{\"line\":{\"color\":\"#f2f5fa\"}},\"annotationdefaults\":{\"arrowcolor\":\"#f2f5fa\",\"arrowhead\":0,\"arrowwidth\":1},\"geo\":{\"bgcolor\":\"rgb(17,17,17)\",\"landcolor\":\"rgb(17,17,17)\",\"subunitcolor\":\"#506784\",\"showland\":true,\"showlakes\":true,\"lakecolor\":\"rgb(17,17,17)\"},\"title\":{\"x\":0.05},\"updatemenudefaults\":{\"bgcolor\":\"#506784\",\"borderwidth\":0},\"sliderdefaults\":{\"bgcolor\":\"#C8D4E3\",\"borderwidth\":1,\"bordercolor\":\"rgb(17,17,17)\",\"tickwidth\":0},\"mapbox\":{\"style\":\"dark\"}}},\"xaxis\":{\"anchor\":\"y\",\"domain\":[0.0,1.0],\"title\":{\"text\":\"WorkDate\"}},\"yaxis\":{\"anchor\":\"x\",\"domain\":[0.0,1.0],\"title\":{\"text\":\"value\"}},\"legend\":{\"title\":{\"text\":\"variable\"},\"tracegroupgap\":0},\"title\":{\"text\":\"All Nurse Total Hours\"}},                        {\"responsive\": true}                    ).then(function(){\n",
       "                            \n",
       "var gd = document.getElementById('6da155c3-c02e-49c3-9e1c-cfaeaf57bac8');\n",
       "var x = new MutationObserver(function (mutations, observer) {{\n",
       "        var display = window.getComputedStyle(gd).display;\n",
       "        if (!display || display === 'none') {{\n",
       "            console.log([gd, 'removed!']);\n",
       "            Plotly.purge(gd);\n",
       "            observer.disconnect();\n",
       "        }}\n",
       "}});\n",
       "\n",
       "// Listen for the removal of the full notebook cells\n",
       "var notebookContainer = gd.closest('#notebook-container');\n",
       "if (notebookContainer) {{\n",
       "    x.observe(notebookContainer, {childList: true});\n",
       "}}\n",
       "\n",
       "// Listen for the clearing of the current output cell\n",
       "var outputEl = gd.closest('.output');\n",
       "if (outputEl) {{\n",
       "    x.observe(outputEl, {childList: true});\n",
       "}}\n",
       "\n",
       "                        })                };                });            </script>        </div>"
      ]
     },
     "metadata": {},
     "output_type": "display_data"
    },
    {
     "name": "stdout",
     "output_type": "stream",
     "text": [
      "Nursing Assistants work the most hours, followed by Licences Professional Nurses and Registered Nurses\n"
     ]
    },
    {
     "data": {
      "application/vnd.plotly.v1+json": {
       "data": [
        {
         "hovertemplate": "variable=Hrs_MedDir<br>WorkDate=%{x}<br>value=%{y}<extra></extra>",
         "legendgroup": "Hrs_MedDir",
         "line": {
          "color": "#636efa",
          "dash": "solid"
         },
         "marker": {
          "symbol": "circle"
         },
         "mode": "lines",
         "name": "Hrs_MedDir",
         "showlegend": true,
         "x": [
          "2024-03-31T00:00:00",
          "2024-03-30T00:00:00",
          "2024-03-29T00:00:00",
          "2024-03-28T00:00:00",
          "2024-03-27T00:00:00",
          "2024-03-26T00:00:00",
          "2024-03-25T00:00:00",
          "2024-03-24T00:00:00",
          "2024-03-23T00:00:00",
          "2024-03-22T00:00:00",
          "2024-03-21T00:00:00",
          "2024-03-20T00:00:00",
          "2024-03-19T00:00:00",
          "2024-03-18T00:00:00",
          "2024-03-17T00:00:00",
          "2024-03-16T00:00:00",
          "2024-03-15T00:00:00",
          "2024-03-14T00:00:00",
          "2024-03-13T00:00:00",
          "2024-03-12T00:00:00",
          "2024-03-11T00:00:00",
          "2024-03-10T00:00:00",
          "2024-03-09T00:00:00",
          "2024-03-08T00:00:00",
          "2024-03-07T00:00:00",
          "2024-03-06T00:00:00",
          "2024-03-05T00:00:00",
          "2024-03-04T00:00:00",
          "2024-03-03T00:00:00",
          "2024-03-02T00:00:00",
          "2024-03-01T00:00:00",
          "2024-02-29T00:00:00",
          "2024-02-28T00:00:00",
          "2024-02-27T00:00:00",
          "2024-02-26T00:00:00",
          "2024-02-25T00:00:00",
          "2024-02-24T00:00:00",
          "2024-02-23T00:00:00",
          "2024-02-22T00:00:00",
          "2024-02-21T00:00:00",
          "2024-02-20T00:00:00",
          "2024-02-19T00:00:00",
          "2024-02-18T00:00:00",
          "2024-02-17T00:00:00",
          "2024-02-16T00:00:00",
          "2024-02-15T00:00:00",
          "2024-02-14T00:00:00",
          "2024-02-13T00:00:00",
          "2024-02-12T00:00:00",
          "2024-02-11T00:00:00",
          "2024-02-10T00:00:00",
          "2024-02-09T00:00:00",
          "2024-02-08T00:00:00",
          "2024-02-07T00:00:00",
          "2024-02-06T00:00:00",
          "2024-02-05T00:00:00",
          "2024-02-04T00:00:00",
          "2024-02-03T00:00:00",
          "2024-02-02T00:00:00",
          "2024-02-01T00:00:00",
          "2024-01-31T00:00:00",
          "2024-01-30T00:00:00",
          "2024-01-29T00:00:00",
          "2024-01-28T00:00:00",
          "2024-01-27T00:00:00",
          "2024-01-26T00:00:00",
          "2024-01-25T00:00:00",
          "2024-01-24T00:00:00",
          "2024-01-23T00:00:00",
          "2024-01-22T00:00:00",
          "2024-01-21T00:00:00",
          "2024-01-20T00:00:00",
          "2024-01-19T00:00:00",
          "2024-01-18T00:00:00",
          "2024-01-17T00:00:00",
          "2024-01-16T00:00:00",
          "2024-01-15T00:00:00",
          "2024-01-14T00:00:00",
          "2024-01-13T00:00:00",
          "2024-01-12T00:00:00",
          "2024-01-11T00:00:00",
          "2024-01-10T00:00:00",
          "2024-01-09T00:00:00",
          "2024-01-08T00:00:00",
          "2024-01-07T00:00:00",
          "2024-01-06T00:00:00",
          "2024-01-05T00:00:00",
          "2024-01-04T00:00:00",
          "2024-01-03T00:00:00",
          "2024-01-02T00:00:00",
          "2024-01-01T00:00:00"
         ],
         "xaxis": "x",
         "y": [
          0.1530816255644321,
          0.0641500521014241,
          0.4087315039944427,
          0.43621187912469606,
          0.5034421674192427,
          0.4552587704063911,
          0.4459847169155956,
          0.0631205279610976,
          0.05893365751997221,
          0.4119562348037512,
          0.4739902744008336,
          0.5345189301840919,
          0.47915526224383465,
          0.45325321292115317,
          0.05448350121569989,
          0.05849392150052101,
          0.4163202500868359,
          0.44724557137895105,
          0.5211781868704412,
          0.47685168461271277,
          0.429524835012157,
          0.05554984369572769,
          0.05435498436957276,
          0.40158318860715525,
          0.4534421674192428,
          0.5577513025356028,
          0.7067342827370616,
          0.481121917332407,
          0.0590142410559222,
          0.06536575199722125,
          0.6562396665508856,
          0.5666710663424801,
          0.5182681486627301,
          0.4510656477943731,
          0.4319645710316081,
          0.05948245918721778,
          0.059051754081278225,
          0.4169253212921153,
          0.46612712747481766,
          0.5150197985411602,
          0.47222785689475516,
          0.40738103508162554,
          0.05033831191385897,
          0.05667801319902743,
          0.4038874609239319,
          0.4823806877387983,
          0.5251906912122264,
          0.45850364709968744,
          0.43773324070857944,
          0.053671413685307395,
          0.06011601250434178,
          0.4004577978464745,
          0.4680875303924974,
          0.5277742271622091,
          0.5092004168113927,
          0.49253907606807923,
          0.05857658909343524,
          0.06190552275095519,
          0.4633469954845433,
          0.884222994095172,
          0.6100097255991666,
          0.4488829454671761,
          0.4215665161514415,
          0.05246474470302189,
          0.0537672803056617,
          0.4106543938867662,
          0.48138520319555395,
          0.5122097950677319,
          0.4569753386592566,
          0.4259173324070858,
          0.05221257381035082,
          0.061093435220562695,
          0.41337061479680454,
          0.47464466828759994,
          0.5375873567210836,
          0.47383674887113575,
          0.4057860368183397,
          0.04694755123306705,
          0.051128169503299764,
          0.40091281695033,
          0.46053490795415086,
          0.5343091351163599,
          0.49244251476207024,
          0.45894477249044807,
          0.04925668634942689,
          0.0609065647794373,
          0.46142618964918386,
          0.6876568252865579,
          0.516343869399097,
          0.5089510246613407,
          0.4669892323723515
         ],
         "yaxis": "y",
         "type": "scattergl"
        },
        {
         "hovertemplate": "variable=Hrs_OthMD<br>WorkDate=%{x}<br>value=%{y}<extra></extra>",
         "legendgroup": "Hrs_OthMD",
         "line": {
          "color": "#EF553B",
          "dash": "solid"
         },
         "marker": {
          "symbol": "circle"
         },
         "mode": "lines",
         "name": "Hrs_OthMD",
         "showlegend": true,
         "x": [
          "2024-03-31T00:00:00",
          "2024-03-30T00:00:00",
          "2024-03-29T00:00:00",
          "2024-03-28T00:00:00",
          "2024-03-27T00:00:00",
          "2024-03-26T00:00:00",
          "2024-03-25T00:00:00",
          "2024-03-24T00:00:00",
          "2024-03-23T00:00:00",
          "2024-03-22T00:00:00",
          "2024-03-21T00:00:00",
          "2024-03-20T00:00:00",
          "2024-03-19T00:00:00",
          "2024-03-18T00:00:00",
          "2024-03-17T00:00:00",
          "2024-03-16T00:00:00",
          "2024-03-15T00:00:00",
          "2024-03-14T00:00:00",
          "2024-03-13T00:00:00",
          "2024-03-12T00:00:00",
          "2024-03-11T00:00:00",
          "2024-03-10T00:00:00",
          "2024-03-09T00:00:00",
          "2024-03-08T00:00:00",
          "2024-03-07T00:00:00",
          "2024-03-06T00:00:00",
          "2024-03-05T00:00:00",
          "2024-03-04T00:00:00",
          "2024-03-03T00:00:00",
          "2024-03-02T00:00:00",
          "2024-03-01T00:00:00",
          "2024-02-29T00:00:00",
          "2024-02-28T00:00:00",
          "2024-02-27T00:00:00",
          "2024-02-26T00:00:00",
          "2024-02-25T00:00:00",
          "2024-02-24T00:00:00",
          "2024-02-23T00:00:00",
          "2024-02-22T00:00:00",
          "2024-02-21T00:00:00",
          "2024-02-20T00:00:00",
          "2024-02-19T00:00:00",
          "2024-02-18T00:00:00",
          "2024-02-17T00:00:00",
          "2024-02-16T00:00:00",
          "2024-02-15T00:00:00",
          "2024-02-14T00:00:00",
          "2024-02-13T00:00:00",
          "2024-02-12T00:00:00",
          "2024-02-11T00:00:00",
          "2024-02-10T00:00:00",
          "2024-02-09T00:00:00",
          "2024-02-08T00:00:00",
          "2024-02-07T00:00:00",
          "2024-02-06T00:00:00",
          "2024-02-05T00:00:00",
          "2024-02-04T00:00:00",
          "2024-02-03T00:00:00",
          "2024-02-02T00:00:00",
          "2024-02-01T00:00:00",
          "2024-01-31T00:00:00",
          "2024-01-30T00:00:00",
          "2024-01-29T00:00:00",
          "2024-01-28T00:00:00",
          "2024-01-27T00:00:00",
          "2024-01-26T00:00:00",
          "2024-01-25T00:00:00",
          "2024-01-24T00:00:00",
          "2024-01-23T00:00:00",
          "2024-01-22T00:00:00",
          "2024-01-21T00:00:00",
          "2024-01-20T00:00:00",
          "2024-01-19T00:00:00",
          "2024-01-18T00:00:00",
          "2024-01-17T00:00:00",
          "2024-01-16T00:00:00",
          "2024-01-15T00:00:00",
          "2024-01-14T00:00:00",
          "2024-01-13T00:00:00",
          "2024-01-12T00:00:00",
          "2024-01-11T00:00:00",
          "2024-01-10T00:00:00",
          "2024-01-09T00:00:00",
          "2024-01-08T00:00:00",
          "2024-01-07T00:00:00",
          "2024-01-06T00:00:00",
          "2024-01-05T00:00:00",
          "2024-01-04T00:00:00",
          "2024-01-03T00:00:00",
          "2024-01-02T00:00:00",
          "2024-01-01T00:00:00"
         ],
         "xaxis": "x",
         "y": [
          0.028770406391108023,
          0.0295130253560264,
          0.163624175060785,
          0.17508440430705108,
          0.20636193122612023,
          0.1903223341437999,
          0.18703369225425492,
          0.03213824244529351,
          0.031770059048280654,
          0.1757499131642931,
          0.18281069815908302,
          0.20708926710663425,
          0.19482320250086835,
          0.19082459187217787,
          0.03092601597777006,
          0.03633344911427579,
          0.16885515804098647,
          0.17739006599513718,
          0.19883153872872525,
          0.19503924973949288,
          0.18637721431052445,
          0.038252170892671064,
          0.03332407085793678,
          0.17523376172282043,
          0.17931156651615143,
          0.20071622091003827,
          0.23798402222994097,
          0.18999166377214313,
          0.031642931573463005,
          0.04409030913511636,
          0.2055769364362626,
          0.1877617228204237,
          0.2107384508509899,
          0.18886210489753383,
          0.18737130948245923,
          0.030860715526224384,
          0.03419451198332755,
          0.168061827023272,
          0.1819527613754776,
          0.20452309829802012,
          0.1917770059048281,
          0.15302882945467175,
          0.029811740187565126,
          0.03049044807224731,
          0.17511844390413334,
          0.18656894755123304,
          0.19373115665161514,
          0.18848350121569987,
          0.18847169155956928,
          0.034662035428968396,
          0.03619103855505384,
          0.1776005557485238,
          0.19515456755817992,
          0.20161375477596385,
          0.1980798888502953,
          0.19288364015283083,
          0.03501215699895797,
          0.032439736019451194,
          0.19175547064953113,
          0.25970684265369914,
          0.19498298020145885,
          0.19252587704063906,
          0.18941021187912468,
          0.03448280653004516,
          0.04046752344564085,
          0.17807849947898577,
          0.1877506078499479,
          0.20958805140673842,
          0.20061340743313646,
          0.19353108718304962,
          0.030873914553664464,
          0.037627648489058696,
          0.17750816255644317,
          0.19413476901701981,
          0.20487113581104552,
          0.19140534907954146,
          0.14896005557485237,
          0.03421257381035082,
          0.03840430705105939,
          0.1763535949982633,
          0.18948732198680093,
          0.2041889544980896,
          0.21016602987148314,
          0.1946481417158736,
          0.031189301840916984,
          0.035498436957276835,
          0.1831767974991316,
          0.22055852726641195,
          0.19370962139631817,
          0.1862459187217784,
          0.12599930531434525
         ],
         "yaxis": "y",
         "type": "scattergl"
        },
        {
         "hovertemplate": "variable=Hrs_PA<br>WorkDate=%{x}<br>value=%{y}<extra></extra>",
         "legendgroup": "Hrs_PA",
         "line": {
          "color": "#00cc96",
          "dash": "solid"
         },
         "marker": {
          "symbol": "circle"
         },
         "mode": "lines",
         "name": "Hrs_PA",
         "showlegend": true,
         "x": [
          "2024-03-31T00:00:00",
          "2024-03-30T00:00:00",
          "2024-03-29T00:00:00",
          "2024-03-28T00:00:00",
          "2024-03-27T00:00:00",
          "2024-03-26T00:00:00",
          "2024-03-25T00:00:00",
          "2024-03-24T00:00:00",
          "2024-03-23T00:00:00",
          "2024-03-22T00:00:00",
          "2024-03-21T00:00:00",
          "2024-03-20T00:00:00",
          "2024-03-19T00:00:00",
          "2024-03-18T00:00:00",
          "2024-03-17T00:00:00",
          "2024-03-16T00:00:00",
          "2024-03-15T00:00:00",
          "2024-03-14T00:00:00",
          "2024-03-13T00:00:00",
          "2024-03-12T00:00:00",
          "2024-03-11T00:00:00",
          "2024-03-10T00:00:00",
          "2024-03-09T00:00:00",
          "2024-03-08T00:00:00",
          "2024-03-07T00:00:00",
          "2024-03-06T00:00:00",
          "2024-03-05T00:00:00",
          "2024-03-04T00:00:00",
          "2024-03-03T00:00:00",
          "2024-03-02T00:00:00",
          "2024-03-01T00:00:00",
          "2024-02-29T00:00:00",
          "2024-02-28T00:00:00",
          "2024-02-27T00:00:00",
          "2024-02-26T00:00:00",
          "2024-02-25T00:00:00",
          "2024-02-24T00:00:00",
          "2024-02-23T00:00:00",
          "2024-02-22T00:00:00",
          "2024-02-21T00:00:00",
          "2024-02-20T00:00:00",
          "2024-02-19T00:00:00",
          "2024-02-18T00:00:00",
          "2024-02-17T00:00:00",
          "2024-02-16T00:00:00",
          "2024-02-15T00:00:00",
          "2024-02-14T00:00:00",
          "2024-02-13T00:00:00",
          "2024-02-12T00:00:00",
          "2024-02-11T00:00:00",
          "2024-02-10T00:00:00",
          "2024-02-09T00:00:00",
          "2024-02-08T00:00:00",
          "2024-02-07T00:00:00",
          "2024-02-06T00:00:00",
          "2024-02-05T00:00:00",
          "2024-02-04T00:00:00",
          "2024-02-03T00:00:00",
          "2024-02-02T00:00:00",
          "2024-02-01T00:00:00",
          "2024-01-31T00:00:00",
          "2024-01-30T00:00:00",
          "2024-01-29T00:00:00",
          "2024-01-28T00:00:00",
          "2024-01-27T00:00:00",
          "2024-01-26T00:00:00",
          "2024-01-25T00:00:00",
          "2024-01-24T00:00:00",
          "2024-01-23T00:00:00",
          "2024-01-22T00:00:00",
          "2024-01-21T00:00:00",
          "2024-01-20T00:00:00",
          "2024-01-19T00:00:00",
          "2024-01-18T00:00:00",
          "2024-01-17T00:00:00",
          "2024-01-16T00:00:00",
          "2024-01-15T00:00:00",
          "2024-01-14T00:00:00",
          "2024-01-13T00:00:00",
          "2024-01-12T00:00:00",
          "2024-01-11T00:00:00",
          "2024-01-10T00:00:00",
          "2024-01-09T00:00:00",
          "2024-01-08T00:00:00",
          "2024-01-07T00:00:00",
          "2024-01-06T00:00:00",
          "2024-01-05T00:00:00",
          "2024-01-04T00:00:00",
          "2024-01-03T00:00:00",
          "2024-01-02T00:00:00",
          "2024-01-01T00:00:00"
         ],
         "xaxis": "x",
         "y": [
          0.00396053362979433,
          0.0077115464776990415,
          0.03709632516703786,
          0.04329968673860077,
          0.036216743279008215,
          0.04205542403564963,
          0.03873214907697666,
          0.006531860190396776,
          0.006810284920083391,
          0.03563722419433424,
          0.041785639668500595,
          0.04198871944850637,
          0.04371432549074203,
          0.04457445326647165,
          0.003681833970128517,
          0.006045865184155664,
          0.03556514476614699,
          0.047771587743732594,
          0.04372954529628856,
          0.04310284799108697,
          0.042705865960707814,
          0.005558643690939411,
          0.006808865420690613,
          0.045236272531143436,
          0.048318596393511104,
          0.04331476323119777,
          0.045732980648754,
          0.04590095423835063,
          0.003473669584549118,
          0.005489160644802668,
          0.03910653399206736,
          0.04699575297639769,
          0.040114214081760566,
          0.043148444568167584,
          0.04624599526396434,
          0.003682089759622065,
          0.0059747116854244825,
          0.036121937639198215,
          0.048597089744482354,
          0.04158250330849063,
          0.04344193817878028,
          0.040314719398412475,
          0.004724518863336344,
          0.005696818118660553,
          0.03722257009670911,
          0.046561804008908685,
          0.042963581923264396,
          0.04477404080495787,
          0.04542604333588797,
          0.004377127770443966,
          0.006393773021057752,
          0.039743857451103225,
          0.04756598648930984,
          0.04353883664228492,
          0.045236272531143436,
          0.04590415157425467,
          0.004933296275708727,
          0.007575231079296685,
          0.03821257047400292,
          0.048994362864499964,
          0.04472309299895507,
          0.046017822333611805,
          0.04805683242791475,
          0.0030568292344032235,
          0.005559416261292564,
          0.03904781791605763,
          0.04826577517760134,
          0.047164553434582694,
          0.05059503096944812,
          0.04285714285714286,
          0.0036126163679310822,
          0.005628126737076153,
          0.04107776926825872,
          0.04548303963223515,
          0.04130101685471514,
          0.04635300668151448,
          0.03760183831209526,
          0.005002431737650246,
          0.006183991106170094,
          0.04517296582445883,
          0.04694247109625296,
          0.04720790976187161,
          0.04491017964071856,
          0.04610027855153204,
          0.004515770459913853,
          0.006461923290717065,
          0.04501809073197885,
          0.0476124182096617,
          0.03859013652828086,
          0.03711440707471624,
          0.014188343302267353
         ],
         "yaxis": "y",
         "type": "scattergl"
        },
        {
         "hovertemplate": "variable=Hrs_NP<br>WorkDate=%{x}<br>value=%{y}<extra></extra>",
         "legendgroup": "Hrs_NP",
         "line": {
          "color": "#ab63fa",
          "dash": "solid"
         },
         "marker": {
          "symbol": "circle"
         },
         "mode": "lines",
         "name": "Hrs_NP",
         "showlegend": true,
         "x": [
          "2024-03-31T00:00:00",
          "2024-03-30T00:00:00",
          "2024-03-29T00:00:00",
          "2024-03-28T00:00:00",
          "2024-03-27T00:00:00",
          "2024-03-26T00:00:00",
          "2024-03-25T00:00:00",
          "2024-03-24T00:00:00",
          "2024-03-23T00:00:00",
          "2024-03-22T00:00:00",
          "2024-03-21T00:00:00",
          "2024-03-20T00:00:00",
          "2024-03-19T00:00:00",
          "2024-03-18T00:00:00",
          "2024-03-17T00:00:00",
          "2024-03-16T00:00:00",
          "2024-03-15T00:00:00",
          "2024-03-14T00:00:00",
          "2024-03-13T00:00:00",
          "2024-03-12T00:00:00",
          "2024-03-11T00:00:00",
          "2024-03-10T00:00:00",
          "2024-03-09T00:00:00",
          "2024-03-08T00:00:00",
          "2024-03-07T00:00:00",
          "2024-03-06T00:00:00",
          "2024-03-05T00:00:00",
          "2024-03-04T00:00:00",
          "2024-03-03T00:00:00",
          "2024-03-02T00:00:00",
          "2024-03-01T00:00:00",
          "2024-02-29T00:00:00",
          "2024-02-28T00:00:00",
          "2024-02-27T00:00:00",
          "2024-02-26T00:00:00",
          "2024-02-25T00:00:00",
          "2024-02-24T00:00:00",
          "2024-02-23T00:00:00",
          "2024-02-22T00:00:00",
          "2024-02-21T00:00:00",
          "2024-02-20T00:00:00",
          "2024-02-19T00:00:00",
          "2024-02-18T00:00:00",
          "2024-02-17T00:00:00",
          "2024-02-16T00:00:00",
          "2024-02-15T00:00:00",
          "2024-02-14T00:00:00",
          "2024-02-13T00:00:00",
          "2024-02-12T00:00:00",
          "2024-02-11T00:00:00",
          "2024-02-10T00:00:00",
          "2024-02-09T00:00:00",
          "2024-02-08T00:00:00",
          "2024-02-07T00:00:00",
          "2024-02-06T00:00:00",
          "2024-02-05T00:00:00",
          "2024-02-04T00:00:00",
          "2024-02-03T00:00:00",
          "2024-02-02T00:00:00",
          "2024-02-01T00:00:00",
          "2024-01-31T00:00:00",
          "2024-01-30T00:00:00",
          "2024-01-29T00:00:00",
          "2024-01-28T00:00:00",
          "2024-01-27T00:00:00",
          "2024-01-26T00:00:00",
          "2024-01-25T00:00:00",
          "2024-01-24T00:00:00",
          "2024-01-23T00:00:00",
          "2024-01-22T00:00:00",
          "2024-01-21T00:00:00",
          "2024-01-20T00:00:00",
          "2024-01-19T00:00:00",
          "2024-01-18T00:00:00",
          "2024-01-17T00:00:00",
          "2024-01-16T00:00:00",
          "2024-01-15T00:00:00",
          "2024-01-14T00:00:00",
          "2024-01-13T00:00:00",
          "2024-01-12T00:00:00",
          "2024-01-11T00:00:00",
          "2024-01-10T00:00:00",
          "2024-01-09T00:00:00",
          "2024-01-08T00:00:00",
          "2024-01-07T00:00:00",
          "2024-01-06T00:00:00",
          "2024-01-05T00:00:00",
          "2024-01-04T00:00:00",
          "2024-01-03T00:00:00",
          "2024-01-02T00:00:00",
          "2024-01-01T00:00:00"
         ],
         "xaxis": "x",
         "y": [
          0.02606668982285516,
          0.03369017019798541,
          0.3386273011462312,
          0.3835977770059049,
          0.378056269538034,
          0.40544564084751644,
          0.3957881208753039,
          0.029749218478638418,
          0.03504828065300451,
          0.36094546717610276,
          0.3893622785689476,
          0.39317749218478637,
          0.41620006946856547,
          0.40800277874261903,
          0.029738798193817296,
          0.036720389023966654,
          0.3618944077804794,
          0.38636123654046545,
          0.39334491142757905,
          0.39817922889892315,
          0.4066745397707538,
          0.031332407085793684,
          0.03543660993400487,
          0.36311010767627644,
          0.39287183049670027,
          0.3963105244876693,
          0.4051927752691907,
          0.40826120180618264,
          0.028951719346995485,
          0.03413199027440083,
          0.35874609239319205,
          0.3882368878082667,
          0.4061486627301147,
          0.4084307051059396,
          0.41560750260507123,
          0.030964223688780827,
          0.040546022924626605,
          0.3623258075720736,
          0.3889496352900313,
          0.3951372004168114,
          0.41070718999652667,
          0.3635158040986453,
          0.031574852379298364,
          0.034357763112191735,
          0.3617645015630427,
          0.3992129211531782,
          0.3970163251128864,
          0.3944932268148663,
          0.4193511635984716,
          0.030129211531781868,
          0.03674678707884682,
          0.3747801319902744,
          0.3993977075373394,
          0.405366446682876,
          0.4070941299062174,
          0.4209656130600903,
          0.03630010420284822,
          0.03624383466481417,
          0.374813476901702,
          0.3941354637026746,
          0.3853337964571032,
          0.3902195206668983,
          0.4088739145536645,
          0.03417436609934005,
          0.03771448419590135,
          0.3713657519972213,
          0.4013185133726988,
          0.3939228898923237,
          0.4085258770406391,
          0.41937686696769716,
          0.030980896144494615,
          0.03761167071899966,
          0.36949774227162213,
          0.3998853768669677,
          0.38952483501215707,
          0.39353803403959703,
          0.3453157346300798,
          0.031244876693296286,
          0.03129558874609239,
          0.36124696075026047,
          0.3984036123654046,
          0.39143799930531425,
          0.39882320250086845,
          0.40799652657172636,
          0.03194373046196596,
          0.03451545675581799,
          0.3755484543244182,
          0.4002862104897534,
          0.3944765543591525,
          0.39732615491490103,
          0.13444251476207017
         ],
         "yaxis": "y",
         "type": "scattergl"
        },
        {
         "hovertemplate": "variable=Hrs_ClinNrsSpec<br>WorkDate=%{x}<br>value=%{y}<extra></extra>",
         "legendgroup": "Hrs_ClinNrsSpec",
         "line": {
          "color": "#FFA15A",
          "dash": "solid"
         },
         "marker": {
          "symbol": "circle"
         },
         "mode": "lines",
         "name": "Hrs_ClinNrsSpec",
         "showlegend": true,
         "x": [
          "2024-03-31T00:00:00",
          "2024-03-30T00:00:00",
          "2024-03-29T00:00:00",
          "2024-03-28T00:00:00",
          "2024-03-27T00:00:00",
          "2024-03-26T00:00:00",
          "2024-03-25T00:00:00",
          "2024-03-24T00:00:00",
          "2024-03-23T00:00:00",
          "2024-03-22T00:00:00",
          "2024-03-21T00:00:00",
          "2024-03-20T00:00:00",
          "2024-03-19T00:00:00",
          "2024-03-18T00:00:00",
          "2024-03-17T00:00:00",
          "2024-03-16T00:00:00",
          "2024-03-15T00:00:00",
          "2024-03-14T00:00:00",
          "2024-03-13T00:00:00",
          "2024-03-12T00:00:00",
          "2024-03-11T00:00:00",
          "2024-03-10T00:00:00",
          "2024-03-09T00:00:00",
          "2024-03-08T00:00:00",
          "2024-03-07T00:00:00",
          "2024-03-06T00:00:00",
          "2024-03-05T00:00:00",
          "2024-03-04T00:00:00",
          "2024-03-03T00:00:00",
          "2024-03-02T00:00:00",
          "2024-03-01T00:00:00",
          "2024-02-29T00:00:00",
          "2024-02-28T00:00:00",
          "2024-02-27T00:00:00",
          "2024-02-26T00:00:00",
          "2024-02-25T00:00:00",
          "2024-02-24T00:00:00",
          "2024-02-23T00:00:00",
          "2024-02-22T00:00:00",
          "2024-02-21T00:00:00",
          "2024-02-20T00:00:00",
          "2024-02-19T00:00:00",
          "2024-02-18T00:00:00",
          "2024-02-17T00:00:00",
          "2024-02-16T00:00:00",
          "2024-02-15T00:00:00",
          "2024-02-14T00:00:00",
          "2024-02-13T00:00:00",
          "2024-02-12T00:00:00",
          "2024-02-11T00:00:00",
          "2024-02-10T00:00:00",
          "2024-02-09T00:00:00",
          "2024-02-08T00:00:00",
          "2024-02-07T00:00:00",
          "2024-02-06T00:00:00",
          "2024-02-05T00:00:00",
          "2024-02-04T00:00:00",
          "2024-02-03T00:00:00",
          "2024-02-02T00:00:00",
          "2024-02-01T00:00:00",
          "2024-01-31T00:00:00",
          "2024-01-30T00:00:00",
          "2024-01-29T00:00:00",
          "2024-01-28T00:00:00",
          "2024-01-27T00:00:00",
          "2024-01-26T00:00:00",
          "2024-01-25T00:00:00",
          "2024-01-24T00:00:00",
          "2024-01-23T00:00:00",
          "2024-01-22T00:00:00",
          "2024-01-21T00:00:00",
          "2024-01-20T00:00:00",
          "2024-01-19T00:00:00",
          "2024-01-18T00:00:00",
          "2024-01-17T00:00:00",
          "2024-01-16T00:00:00",
          "2024-01-15T00:00:00",
          "2024-01-14T00:00:00",
          "2024-01-13T00:00:00",
          "2024-01-12T00:00:00",
          "2024-01-11T00:00:00",
          "2024-01-10T00:00:00",
          "2024-01-09T00:00:00",
          "2024-01-08T00:00:00",
          "2024-01-07T00:00:00",
          "2024-01-06T00:00:00",
          "2024-01-05T00:00:00",
          "2024-01-04T00:00:00",
          "2024-01-03T00:00:00",
          "2024-01-02T00:00:00",
          "2024-01-01T00:00:00"
         ],
         "xaxis": "x",
         "y": [
          0.014593956234803751,
          0.015065647794373044,
          0.04529489406043765,
          0.05751024661340742,
          0.05996526571726294,
          0.055283084404307056,
          0.05792705800625217,
          0.005618617575547064,
          0.0064452935046891285,
          0.05104063911080235,
          0.06515387287252518,
          0.060416811392844744,
          0.06362278568947552,
          0.06379923584577979,
          0.01495380340395971,
          0.012294546717610282,
          0.056753039249739484,
          0.06427856894755123,
          0.06217228204237582,
          0.06346717610281347,
          0.060196596040291775,
          0.004509899270580063,
          0.009076762764848905,
          0.05230218825981243,
          0.0628711358110455,
          0.059604029176797496,
          0.05848350121569989,
          0.06281625564432093,
          0.014369572768322333,
          0.012985758944077806,
          0.055681139284473775,
          0.05827856894755122,
          0.0614136853073984,
          0.05778325807572073,
          0.060274400833622774,
          0.008595345606113235,
          0.008259812434873219,
          0.052903091351163604,
          0.056984369572768326,
          0.06098923237235151,
          0.05878291073289337,
          0.057203890239666544,
          0.01161097603334491,
          0.016483501215699897,
          0.05363390065995137,
          0.05856894755123306,
          0.06089822855158041,
          0.053583883292810004,
          0.05543313650573116,
          0.009171934699548455,
          0.00974643973601945,
          0.0495637374088225,
          0.061025356026398046,
          0.05460437651962487,
          0.05525807572073636,
          0.058213963181660305,
          0.01464327891629038,
          0.013643626259117747,
          0.05204098645362974,
          0.06015977770059049,
          0.056198680097255996,
          0.05889128169503299,
          0.059090656477943725,
          0.006814171587356721,
          0.0058846821813129556,
          0.0538131295588746,
          0.061292810003473426,
          0.06303924973949288,
          0.05690378603681833,
          0.057844390413337964,
          0.013608197290725946,
          0.010701632511288642,
          0.050063911080236195,
          0.057028134769017025,
          0.05732684960055575,
          0.05744772490448072,
          0.05405001736714136,
          0.007860368183397014,
          0.008207711010767628,
          0.05264536297325459,
          0.06169989579715179,
          0.05814449461618617,
          0.0529079541507468,
          0.057527613754775955,
          0.012671066342480027,
          0.013021187912469607,
          0.052123654046543934,
          0.059635290031260856,
          0.0564550191038555,
          0.05728100034734281,
          0.017816602987148312
         ],
         "yaxis": "y",
         "type": "scattergl"
        },
        {
         "hovertemplate": "variable=Hrs_Pharmacist<br>WorkDate=%{x}<br>value=%{y}<extra></extra>",
         "legendgroup": "Hrs_Pharmacist",
         "line": {
          "color": "#19d3f3",
          "dash": "solid"
         },
         "marker": {
          "symbol": "circle"
         },
         "mode": "lines",
         "name": "Hrs_Pharmacist",
         "showlegend": true,
         "x": [
          "2024-03-31T00:00:00",
          "2024-03-30T00:00:00",
          "2024-03-29T00:00:00",
          "2024-03-28T00:00:00",
          "2024-03-27T00:00:00",
          "2024-03-26T00:00:00",
          "2024-03-25T00:00:00",
          "2024-03-24T00:00:00",
          "2024-03-23T00:00:00",
          "2024-03-22T00:00:00",
          "2024-03-21T00:00:00",
          "2024-03-20T00:00:00",
          "2024-03-19T00:00:00",
          "2024-03-18T00:00:00",
          "2024-03-17T00:00:00",
          "2024-03-16T00:00:00",
          "2024-03-15T00:00:00",
          "2024-03-14T00:00:00",
          "2024-03-13T00:00:00",
          "2024-03-12T00:00:00",
          "2024-03-11T00:00:00",
          "2024-03-10T00:00:00",
          "2024-03-09T00:00:00",
          "2024-03-08T00:00:00",
          "2024-03-07T00:00:00",
          "2024-03-06T00:00:00",
          "2024-03-05T00:00:00",
          "2024-03-04T00:00:00",
          "2024-03-03T00:00:00",
          "2024-03-02T00:00:00",
          "2024-03-01T00:00:00",
          "2024-02-29T00:00:00",
          "2024-02-28T00:00:00",
          "2024-02-27T00:00:00",
          "2024-02-26T00:00:00",
          "2024-02-25T00:00:00",
          "2024-02-24T00:00:00",
          "2024-02-23T00:00:00",
          "2024-02-22T00:00:00",
          "2024-02-21T00:00:00",
          "2024-02-20T00:00:00",
          "2024-02-19T00:00:00",
          "2024-02-18T00:00:00",
          "2024-02-17T00:00:00",
          "2024-02-16T00:00:00",
          "2024-02-15T00:00:00",
          "2024-02-14T00:00:00",
          "2024-02-13T00:00:00",
          "2024-02-12T00:00:00",
          "2024-02-11T00:00:00",
          "2024-02-10T00:00:00",
          "2024-02-09T00:00:00",
          "2024-02-08T00:00:00",
          "2024-02-07T00:00:00",
          "2024-02-06T00:00:00",
          "2024-02-05T00:00:00",
          "2024-02-04T00:00:00",
          "2024-02-03T00:00:00",
          "2024-02-02T00:00:00",
          "2024-02-01T00:00:00",
          "2024-01-31T00:00:00",
          "2024-01-30T00:00:00",
          "2024-01-29T00:00:00",
          "2024-01-28T00:00:00",
          "2024-01-27T00:00:00",
          "2024-01-26T00:00:00",
          "2024-01-25T00:00:00",
          "2024-01-24T00:00:00",
          "2024-01-23T00:00:00",
          "2024-01-22T00:00:00",
          "2024-01-21T00:00:00",
          "2024-01-20T00:00:00",
          "2024-01-19T00:00:00",
          "2024-01-18T00:00:00",
          "2024-01-17T00:00:00",
          "2024-01-16T00:00:00",
          "2024-01-15T00:00:00",
          "2024-01-14T00:00:00",
          "2024-01-13T00:00:00",
          "2024-01-12T00:00:00",
          "2024-01-11T00:00:00",
          "2024-01-10T00:00:00",
          "2024-01-09T00:00:00",
          "2024-01-08T00:00:00",
          "2024-01-07T00:00:00",
          "2024-01-06T00:00:00",
          "2024-01-05T00:00:00",
          "2024-01-04T00:00:00",
          "2024-01-03T00:00:00",
          "2024-01-02T00:00:00",
          "2024-01-01T00:00:00"
         ],
         "xaxis": "x",
         "y": [
          0.15584855852726642,
          0.11976102813476902,
          0.3838645362973254,
          0.47417922889892333,
          0.5032094477249044,
          0.4969301840916986,
          0.4899485932615491,
          0.12016602987148316,
          0.10149774227162207,
          0.4104327891629038,
          0.4783265022577284,
          0.48187148315387274,
          0.4842945467176102,
          0.46864536297325465,
          0.08238346648141714,
          0.09093990969086488,
          0.41728030566168794,
          0.47790135463702677,
          0.5108891976380687,
          0.5163869399096909,
          0.4886259117749218,
          0.08237165682528656,
          0.082276484890587,
          0.4056693296283432,
          0.5094762070163252,
          0.5263827717957624,
          0.6139145536644669,
          0.48013754775963874,
          0.07190552275095519,
          0.06570197985411601,
          0.38770059048280653,
          0.5403494268843348,
          0.5437561653351858,
          0.5297485237929835,
          0.525567905522751,
          0.12689197638068772,
          0.11249531087183051,
          0.4165883987495658,
          0.4887391455366447,
          0.5039388676623828,
          0.5011066342480027,
          0.4064960055574853,
          0.0984821118443904,
          0.09168947551233066,
          0.41848072247308093,
          0.5055387287252517,
          0.5146314692601598,
          0.5147898575894407,
          0.4792976728030565,
          0.0837471344216742,
          0.08610350816255644,
          0.4104709968739146,
          0.5284640500173671,
          0.5668996179228898,
          0.615650573115665,
          0.5255915248350123,
          0.09098714831538729,
          0.08094546717610282,
          0.3900250086835706,
          0.4450420284821118,
          0.5048878082667592,
          0.5001097603334491,
          0.5080979506773184,
          0.13154220215352555,
          0.10754220215352554,
          0.40955540118096556,
          0.49830982980201466,
          0.49288155609586654,
          0.4784716915595693,
          0.48880236193122606,
          0.0855567905522751,
          0.09841194859326154,
          0.42132546022924616,
          0.4931990274400833,
          0.517478985758944,
          0.5066731503994444,
          0.39979506773185136,
          0.08365613060090311,
          0.0892101424105592,
          0.4389183744355679,
          0.523277526919069,
          0.5686912122264675,
          0.6231844390413338,
          0.48355470649531096,
          0.0731608197290726,
          0.07941646405001737,
          0.4163473428273705,
          0.4552594650920459,
          0.45743660993400476,
          0.41054671761028133,
          0.14507676276484888
         ],
         "yaxis": "y",
         "type": "scattergl"
        },
        {
         "hovertemplate": "variable=Hrs_Dietician<br>WorkDate=%{x}<br>value=%{y}<extra></extra>",
         "legendgroup": "Hrs_Dietician",
         "line": {
          "color": "#FF6692",
          "dash": "solid"
         },
         "marker": {
          "symbol": "circle"
         },
         "mode": "lines",
         "name": "Hrs_Dietician",
         "showlegend": true,
         "x": [
          "2024-03-31T00:00:00",
          "2024-03-30T00:00:00",
          "2024-03-29T00:00:00",
          "2024-03-28T00:00:00",
          "2024-03-27T00:00:00",
          "2024-03-26T00:00:00",
          "2024-03-25T00:00:00",
          "2024-03-24T00:00:00",
          "2024-03-23T00:00:00",
          "2024-03-22T00:00:00",
          "2024-03-21T00:00:00",
          "2024-03-20T00:00:00",
          "2024-03-19T00:00:00",
          "2024-03-18T00:00:00",
          "2024-03-17T00:00:00",
          "2024-03-16T00:00:00",
          "2024-03-15T00:00:00",
          "2024-03-14T00:00:00",
          "2024-03-13T00:00:00",
          "2024-03-12T00:00:00",
          "2024-03-11T00:00:00",
          "2024-03-10T00:00:00",
          "2024-03-09T00:00:00",
          "2024-03-08T00:00:00",
          "2024-03-07T00:00:00",
          "2024-03-06T00:00:00",
          "2024-03-05T00:00:00",
          "2024-03-04T00:00:00",
          "2024-03-03T00:00:00",
          "2024-03-02T00:00:00",
          "2024-03-01T00:00:00",
          "2024-02-29T00:00:00",
          "2024-02-28T00:00:00",
          "2024-02-27T00:00:00",
          "2024-02-26T00:00:00",
          "2024-02-25T00:00:00",
          "2024-02-24T00:00:00",
          "2024-02-23T00:00:00",
          "2024-02-22T00:00:00",
          "2024-02-21T00:00:00",
          "2024-02-20T00:00:00",
          "2024-02-19T00:00:00",
          "2024-02-18T00:00:00",
          "2024-02-17T00:00:00",
          "2024-02-16T00:00:00",
          "2024-02-15T00:00:00",
          "2024-02-14T00:00:00",
          "2024-02-13T00:00:00",
          "2024-02-12T00:00:00",
          "2024-02-11T00:00:00",
          "2024-02-10T00:00:00",
          "2024-02-09T00:00:00",
          "2024-02-08T00:00:00",
          "2024-02-07T00:00:00",
          "2024-02-06T00:00:00",
          "2024-02-05T00:00:00",
          "2024-02-04T00:00:00",
          "2024-02-03T00:00:00",
          "2024-02-02T00:00:00",
          "2024-02-01T00:00:00",
          "2024-01-31T00:00:00",
          "2024-01-30T00:00:00",
          "2024-01-29T00:00:00",
          "2024-01-28T00:00:00",
          "2024-01-27T00:00:00",
          "2024-01-26T00:00:00",
          "2024-01-25T00:00:00",
          "2024-01-24T00:00:00",
          "2024-01-23T00:00:00",
          "2024-01-22T00:00:00",
          "2024-01-21T00:00:00",
          "2024-01-20T00:00:00",
          "2024-01-19T00:00:00",
          "2024-01-18T00:00:00",
          "2024-01-17T00:00:00",
          "2024-01-16T00:00:00",
          "2024-01-15T00:00:00",
          "2024-01-14T00:00:00",
          "2024-01-13T00:00:00",
          "2024-01-12T00:00:00",
          "2024-01-11T00:00:00",
          "2024-01-10T00:00:00",
          "2024-01-09T00:00:00",
          "2024-01-08T00:00:00",
          "2024-01-07T00:00:00",
          "2024-01-06T00:00:00",
          "2024-01-05T00:00:00",
          "2024-01-04T00:00:00",
          "2024-01-03T00:00:00",
          "2024-01-02T00:00:00",
          "2024-01-01T00:00:00"
         ],
         "xaxis": "x",
         "y": [
          0.4004348732198681,
          0.46108093087877733,
          2.4565293504689127,
          3.052035428968392,
          3.0676241750607853,
          3.1238770406391114,
          2.9852184786384166,
          0.44589579715178884,
          0.4581528308440431,
          2.6464744703021883,
          3.1438520319555403,
          3.1375644320944778,
          3.1901889544980895,
          3.0365446335533166,
          0.46393469954845434,
          0.4594706495310871,
          2.6658339701285163,
          3.098900312608544,
          3.1323376172282043,
          3.1628280653004515,
          3.0428711358110454,
          0.4371837443556791,
          0.47282042375824945,
          2.703795762417506,
          3.1654268843348383,
          3.1666752344564086,
          3.174934352205627,
          3.0204411253907604,
          0.435857589440778,
          0.42975269190691207,
          2.6318416116707195,
          3.1945863146926015,
          3.177374088225078,
          3.19453629732546,
          3.075865230982981,
          0.4443376172282042,
          0.4554046543938867,
          2.7029558874609236,
          3.1785057311566516,
          3.1714206321639464,
          3.1933657519972214,
          2.7556721083709625,
          0.4429940951719346,
          0.4613337964571032,
          2.6877339353942347,
          3.1754567558179927,
          3.167295588746092,
          3.131643626259118,
          3.0628252865578327,
          0.4459652657172628,
          0.4566189649183744,
          2.71829593608892,
          3.2057172629385207,
          3.1973212921153187,
          3.2388468218131297,
          3.085949287947204,
          0.4407342827370614,
          0.4655859673497742,
          2.6992365404654395,
          3.157749218478638,
          3.1749558874609236,
          3.2161632511288634,
          3.069887460923932,
          0.4443410906564779,
          0.4935019103855505,
          2.7526259117749228,
          3.1902070163251124,
          3.175255991663771,
          3.2075026050712054,
          3.0546766238277177,
          0.44497047585967353,
          0.4844418200764155,
          2.7254303577631127,
          3.1880875303924983,
          3.2039784647447025,
          3.1237290725946507,
          2.6415567905522743,
          0.44607988885029515,
          0.47088294546717613,
          2.703359499826328,
          3.1829218478638426,
          3.1422952414032648,
          3.143067731851338,
          3.035671413685307,
          0.42278638416116704,
          0.48267245571378964,
          2.7743084404307057,
          3.1610267453977077,
          3.147538034039597,
          3.0448176450156295,
          1.004953108718305
         ],
         "yaxis": "y",
         "type": "scattergl"
        },
        {
         "hovertemplate": "variable=Hrs_FeedAsst<br>WorkDate=%{x}<br>value=%{y}<extra></extra>",
         "legendgroup": "Hrs_FeedAsst",
         "line": {
          "color": "#B6E880",
          "dash": "solid"
         },
         "marker": {
          "symbol": "circle"
         },
         "mode": "lines",
         "name": "Hrs_FeedAsst",
         "showlegend": true,
         "x": [
          "2024-03-31T00:00:00",
          "2024-03-30T00:00:00",
          "2024-03-29T00:00:00",
          "2024-03-28T00:00:00",
          "2024-03-27T00:00:00",
          "2024-03-26T00:00:00",
          "2024-03-25T00:00:00",
          "2024-03-24T00:00:00",
          "2024-03-23T00:00:00",
          "2024-03-22T00:00:00",
          "2024-03-21T00:00:00",
          "2024-03-20T00:00:00",
          "2024-03-19T00:00:00",
          "2024-03-18T00:00:00",
          "2024-03-17T00:00:00",
          "2024-03-16T00:00:00",
          "2024-03-15T00:00:00",
          "2024-03-14T00:00:00",
          "2024-03-13T00:00:00",
          "2024-03-12T00:00:00",
          "2024-03-11T00:00:00",
          "2024-03-10T00:00:00",
          "2024-03-09T00:00:00",
          "2024-03-08T00:00:00",
          "2024-03-07T00:00:00",
          "2024-03-06T00:00:00",
          "2024-03-05T00:00:00",
          "2024-03-04T00:00:00",
          "2024-03-03T00:00:00",
          "2024-03-02T00:00:00",
          "2024-03-01T00:00:00",
          "2024-02-29T00:00:00",
          "2024-02-28T00:00:00",
          "2024-02-27T00:00:00",
          "2024-02-26T00:00:00",
          "2024-02-25T00:00:00",
          "2024-02-24T00:00:00",
          "2024-02-23T00:00:00",
          "2024-02-22T00:00:00",
          "2024-02-21T00:00:00",
          "2024-02-20T00:00:00",
          "2024-02-19T00:00:00",
          "2024-02-18T00:00:00",
          "2024-02-17T00:00:00",
          "2024-02-16T00:00:00",
          "2024-02-15T00:00:00",
          "2024-02-14T00:00:00",
          "2024-02-13T00:00:00",
          "2024-02-12T00:00:00",
          "2024-02-11T00:00:00",
          "2024-02-10T00:00:00",
          "2024-02-09T00:00:00",
          "2024-02-08T00:00:00",
          "2024-02-07T00:00:00",
          "2024-02-06T00:00:00",
          "2024-02-05T00:00:00",
          "2024-02-04T00:00:00",
          "2024-02-03T00:00:00",
          "2024-02-02T00:00:00",
          "2024-02-01T00:00:00",
          "2024-01-31T00:00:00",
          "2024-01-30T00:00:00",
          "2024-01-29T00:00:00",
          "2024-01-28T00:00:00",
          "2024-01-27T00:00:00",
          "2024-01-26T00:00:00",
          "2024-01-25T00:00:00",
          "2024-01-24T00:00:00",
          "2024-01-23T00:00:00",
          "2024-01-22T00:00:00",
          "2024-01-21T00:00:00",
          "2024-01-20T00:00:00",
          "2024-01-19T00:00:00",
          "2024-01-18T00:00:00",
          "2024-01-17T00:00:00",
          "2024-01-16T00:00:00",
          "2024-01-15T00:00:00",
          "2024-01-14T00:00:00",
          "2024-01-13T00:00:00",
          "2024-01-12T00:00:00",
          "2024-01-11T00:00:00",
          "2024-01-10T00:00:00",
          "2024-01-09T00:00:00",
          "2024-01-08T00:00:00",
          "2024-01-07T00:00:00",
          "2024-01-06T00:00:00",
          "2024-01-05T00:00:00",
          "2024-01-04T00:00:00",
          "2024-01-03T00:00:00",
          "2024-01-02T00:00:00",
          "2024-01-01T00:00:00"
         ],
         "xaxis": "x",
         "y": [
          1.916086141021188,
          1.9421799235845778,
          2.2683730461965963,
          2.3424077804793324,
          2.374464744703022,
          2.338352900312609,
          2.2698568947551236,
          1.9732566863494265,
          2.0005849253212924,
          2.320197985411601,
          2.4123799930531438,
          2.40633692254255,
          2.3752455713789513,
          2.32542410559222,
          2.0052031955540115,
          2.0183980548801665,
          2.325428273706148,
          2.389065647794373,
          2.4317790899617924,
          2.3970642584230633,
          2.328649531087183,
          1.9904334838485587,
          2.0188412643278917,
          2.3356179228898926,
          2.4084223688780826,
          2.428593956234803,
          2.409612365404654,
          2.3441695032997565,
          2.026525877040639,
          2.0150906564779434,
          2.3387787426189646,
          2.3861729767280306,
          2.4357207363667945,
          2.3826974643973595,
          2.32402639805488,
          2.0263522056269543,
          2.028595345606113,
          2.3211649878430007,
          2.400704411253907,
          2.4355949982632854,
          2.3963195554011807,
          2.332248697464397,
          2.0355651267801322,
          2.033722820423758,
          2.3485696422368876,
          2.392230635637374,
          2.4143681833970128,
          2.3928398749565822,
          2.357326849600556,
          2.0264154220215356,
          2.0484015283084402,
          2.3682368878082665,
          2.428661340743313,
          2.4397096213963185,
          2.4032122264675237,
          2.369240013893713,
          2.0331670718999653,
          2.031996526571726,
          2.330942688433484,
          2.4282375824939217,
          2.450323028829455,
          2.4304640500173678,
          2.383105939562348,
          2.0539194164640504,
          2.064118096561306,
          2.36048489058701,
          2.4365092045849255,
          2.42812156998958,
          2.4465779784647443,
          2.3553421326849606,
          2.052604376519625,
          2.0657700590482806,
          2.347390065995137,
          2.4249482459187215,
          2.395617228204238,
          2.3327947203890242,
          2.278699548454324,
          1.9997506078499478,
          2.0281840916985066,
          2.3104786384161167,
          2.401134421674192,
          2.3981965960402913,
          2.3319228898923243,
          2.306759986106287,
          2.0056866967697116,
          2.015469260159778,
          2.3385244876693294,
          2.3860236193122613,
          2.373204584925322,
          2.3299597082320247,
          2.1023376172282044
         ],
         "yaxis": "y",
         "type": "scattergl"
        },
        {
         "hovertemplate": "variable=Hrs_OT<br>WorkDate=%{x}<br>value=%{y}<extra></extra>",
         "legendgroup": "Hrs_OT",
         "line": {
          "color": "#FF97FF",
          "dash": "solid"
         },
         "marker": {
          "symbol": "circle"
         },
         "mode": "lines",
         "name": "Hrs_OT",
         "showlegend": true,
         "x": [
          "2024-03-31T00:00:00",
          "2024-03-30T00:00:00",
          "2024-03-29T00:00:00",
          "2024-03-28T00:00:00",
          "2024-03-27T00:00:00",
          "2024-03-26T00:00:00",
          "2024-03-25T00:00:00",
          "2024-03-24T00:00:00",
          "2024-03-23T00:00:00",
          "2024-03-22T00:00:00",
          "2024-03-21T00:00:00",
          "2024-03-20T00:00:00",
          "2024-03-19T00:00:00",
          "2024-03-18T00:00:00",
          "2024-03-17T00:00:00",
          "2024-03-16T00:00:00",
          "2024-03-15T00:00:00",
          "2024-03-14T00:00:00",
          "2024-03-13T00:00:00",
          "2024-03-12T00:00:00",
          "2024-03-11T00:00:00",
          "2024-03-10T00:00:00",
          "2024-03-09T00:00:00",
          "2024-03-08T00:00:00",
          "2024-03-07T00:00:00",
          "2024-03-06T00:00:00",
          "2024-03-05T00:00:00",
          "2024-03-04T00:00:00",
          "2024-03-03T00:00:00",
          "2024-03-02T00:00:00",
          "2024-03-01T00:00:00",
          "2024-02-29T00:00:00",
          "2024-02-28T00:00:00",
          "2024-02-27T00:00:00",
          "2024-02-26T00:00:00",
          "2024-02-25T00:00:00",
          "2024-02-24T00:00:00",
          "2024-02-23T00:00:00",
          "2024-02-22T00:00:00",
          "2024-02-21T00:00:00",
          "2024-02-20T00:00:00",
          "2024-02-19T00:00:00",
          "2024-02-18T00:00:00",
          "2024-02-17T00:00:00",
          "2024-02-16T00:00:00",
          "2024-02-15T00:00:00",
          "2024-02-14T00:00:00",
          "2024-02-13T00:00:00",
          "2024-02-12T00:00:00",
          "2024-02-11T00:00:00",
          "2024-02-10T00:00:00",
          "2024-02-09T00:00:00",
          "2024-02-08T00:00:00",
          "2024-02-07T00:00:00",
          "2024-02-06T00:00:00",
          "2024-02-05T00:00:00",
          "2024-02-04T00:00:00",
          "2024-02-03T00:00:00",
          "2024-02-02T00:00:00",
          "2024-02-01T00:00:00",
          "2024-01-31T00:00:00",
          "2024-01-30T00:00:00",
          "2024-01-29T00:00:00",
          "2024-01-28T00:00:00",
          "2024-01-27T00:00:00",
          "2024-01-26T00:00:00",
          "2024-01-25T00:00:00",
          "2024-01-24T00:00:00",
          "2024-01-23T00:00:00",
          "2024-01-22T00:00:00",
          "2024-01-21T00:00:00",
          "2024-01-20T00:00:00",
          "2024-01-19T00:00:00",
          "2024-01-18T00:00:00",
          "2024-01-17T00:00:00",
          "2024-01-16T00:00:00",
          "2024-01-15T00:00:00",
          "2024-01-14T00:00:00",
          "2024-01-13T00:00:00",
          "2024-01-12T00:00:00",
          "2024-01-11T00:00:00",
          "2024-01-10T00:00:00",
          "2024-01-09T00:00:00",
          "2024-01-08T00:00:00",
          "2024-01-07T00:00:00",
          "2024-01-06T00:00:00",
          "2024-01-05T00:00:00",
          "2024-01-04T00:00:00",
          "2024-01-03T00:00:00",
          "2024-01-02T00:00:00",
          "2024-01-01T00:00:00"
         ],
         "xaxis": "x",
         "y": [
          0.7235310871830495,
          1.4691003820771098,
          6.731645015630427,
          7.431702674539771,
          7.593603334491141,
          7.566991316429317,
          7.2667377561653375,
          1.0938430010420286,
          1.4649301840916986,
          6.928848211184441,
          7.516241750607849,
          7.628369572768323,
          7.67232858631469,
          7.29714692601598,
          1.09715456755818,
          1.465863146926016,
          6.873146231330324,
          7.44225078152136,
          7.596771795762418,
          7.551302535602641,
          7.272425842306357,
          1.106851684612713,
          1.4912983674887113,
          7.036124348732197,
          7.6220826675929185,
          7.704843348384855,
          7.694656477943729,
          7.391300451545677,
          1.1236012504341786,
          1.4803890239666548,
          7.124007641542203,
          7.626614796804449,
          7.699428273706146,
          7.672825286557833,
          7.389658214657866,
          1.078720389023967,
          1.5216783605418547,
          6.983985411601251,
          7.582675929142062,
          7.713276137547759,
          7.622608544633553,
          7.001949982632858,
          1.1695317818687045,
          1.5380569642236885,
          7.083012851684613,
          7.6370496700243145,
          7.590028482111842,
          7.459824244529348,
          7.282484195901355,
          1.0887690170197983,
          1.5224633553317126,
          7.079017714484196,
          7.652258423063564,
          7.717686002084059,
          7.707587356721085,
          7.453268496005558,
          1.1158555053838142,
          1.5199402570336924,
          7.182577283779088,
          7.717601945119833,
          7.786386245224036,
          7.731589440778047,
          7.41551024661341,
          1.076059742966308,
          1.554923931920806,
          7.088680097255994,
          7.606230635637374,
          7.698971865230983,
          7.662423758249393,
          7.24218617575547,
          1.114787078846822,
          1.665335880514067,
          6.929845085098995,
          7.574117401875652,
          7.526955887460925,
          7.260671761028133,
          6.61135811045502,
          1.2189510246613409,
          1.5246655088572423,
          6.871744355679054,
          7.51906773185134,
          7.556213268496006,
          7.403228204237582,
          7.217681833970128,
          0.9972240361236541,
          1.7232323723515104,
          7.046279958318861,
          7.418077110107676,
          7.34250712052796,
          7.093922889892323,
          3.7600562695380333
         ],
         "yaxis": "y",
         "type": "scattergl"
        },
        {
         "hovertemplate": "variable=Hrs_OTasst<br>WorkDate=%{x}<br>value=%{y}<extra></extra>",
         "legendgroup": "Hrs_OTasst",
         "line": {
          "color": "#FECB52",
          "dash": "solid"
         },
         "marker": {
          "symbol": "circle"
         },
         "mode": "lines",
         "name": "Hrs_OTasst",
         "showlegend": true,
         "x": [
          "2024-03-31T00:00:00",
          "2024-03-30T00:00:00",
          "2024-03-29T00:00:00",
          "2024-03-28T00:00:00",
          "2024-03-27T00:00:00",
          "2024-03-26T00:00:00",
          "2024-03-25T00:00:00",
          "2024-03-24T00:00:00",
          "2024-03-23T00:00:00",
          "2024-03-22T00:00:00",
          "2024-03-21T00:00:00",
          "2024-03-20T00:00:00",
          "2024-03-19T00:00:00",
          "2024-03-18T00:00:00",
          "2024-03-17T00:00:00",
          "2024-03-16T00:00:00",
          "2024-03-15T00:00:00",
          "2024-03-14T00:00:00",
          "2024-03-13T00:00:00",
          "2024-03-12T00:00:00",
          "2024-03-11T00:00:00",
          "2024-03-10T00:00:00",
          "2024-03-09T00:00:00",
          "2024-03-08T00:00:00",
          "2024-03-07T00:00:00",
          "2024-03-06T00:00:00",
          "2024-03-05T00:00:00",
          "2024-03-04T00:00:00",
          "2024-03-03T00:00:00",
          "2024-03-02T00:00:00",
          "2024-03-01T00:00:00",
          "2024-02-29T00:00:00",
          "2024-02-28T00:00:00",
          "2024-02-27T00:00:00",
          "2024-02-26T00:00:00",
          "2024-02-25T00:00:00",
          "2024-02-24T00:00:00",
          "2024-02-23T00:00:00",
          "2024-02-22T00:00:00",
          "2024-02-21T00:00:00",
          "2024-02-20T00:00:00",
          "2024-02-19T00:00:00",
          "2024-02-18T00:00:00",
          "2024-02-17T00:00:00",
          "2024-02-16T00:00:00",
          "2024-02-15T00:00:00",
          "2024-02-14T00:00:00",
          "2024-02-13T00:00:00",
          "2024-02-12T00:00:00",
          "2024-02-11T00:00:00",
          "2024-02-10T00:00:00",
          "2024-02-09T00:00:00",
          "2024-02-08T00:00:00",
          "2024-02-07T00:00:00",
          "2024-02-06T00:00:00",
          "2024-02-05T00:00:00",
          "2024-02-04T00:00:00",
          "2024-02-03T00:00:00",
          "2024-02-02T00:00:00",
          "2024-02-01T00:00:00",
          "2024-01-31T00:00:00",
          "2024-01-30T00:00:00",
          "2024-01-29T00:00:00",
          "2024-01-28T00:00:00",
          "2024-01-27T00:00:00",
          "2024-01-26T00:00:00",
          "2024-01-25T00:00:00",
          "2024-01-24T00:00:00",
          "2024-01-23T00:00:00",
          "2024-01-22T00:00:00",
          "2024-01-21T00:00:00",
          "2024-01-20T00:00:00",
          "2024-01-19T00:00:00",
          "2024-01-18T00:00:00",
          "2024-01-17T00:00:00",
          "2024-01-16T00:00:00",
          "2024-01-15T00:00:00",
          "2024-01-14T00:00:00",
          "2024-01-13T00:00:00",
          "2024-01-12T00:00:00",
          "2024-01-11T00:00:00",
          "2024-01-10T00:00:00",
          "2024-01-09T00:00:00",
          "2024-01-08T00:00:00",
          "2024-01-07T00:00:00",
          "2024-01-06T00:00:00",
          "2024-01-05T00:00:00",
          "2024-01-04T00:00:00",
          "2024-01-03T00:00:00",
          "2024-01-02T00:00:00",
          "2024-01-01T00:00:00"
         ],
         "xaxis": "x",
         "y": [
          0.6687704063911081,
          1.4958756512678013,
          7.317957624175061,
          8.259591524835015,
          8.384138937130949,
          8.361171934699549,
          7.925446335533171,
          1.035693643626259,
          1.5178555053838136,
          7.602569642236889,
          8.29099062174366,
          8.434730114623132,
          8.388450156304273,
          7.942503647099691,
          1.0174921847863843,
          1.530344564084752,
          7.585508857242098,
          8.285457450503648,
          8.407036470996873,
          8.369689475512331,
          7.9415699895797145,
          1.0748002778742618,
          1.564728030566169,
          7.692211879124696,
          8.409285863146925,
          8.481809656130602,
          8.416604376519626,
          7.990191038555054,
          0.9816047238624521,
          1.5262882945467175,
          7.725421326849601,
          8.409051059395624,
          8.48478777353248,
          8.465799235845779,
          7.980980896144494,
          1.018384161167072,
          1.5914866273011463,
          7.698050712052797,
          8.362174366099339,
          8.46413337964571,
          8.425404654393885,
          7.736602987148316,
          1.0738985758944077,
          1.6832879472038902,
          7.69143313650573,
          8.368009030913512,
          8.385847169155959,
          8.173373393539423,
          7.891262243834666,
          1.0222632858631469,
          1.604019451198333,
          7.794122264675234,
          8.43505592219521,
          8.528696769711706,
          8.520496700243141,
          8.061139284473773,
          0.9969301840916986,
          1.5983216394581452,
          7.851317124001389,
          8.45755887460924,
          8.502819729072597,
          8.463362278568948,
          7.99789162903786,
          0.9991344216741923,
          1.6810038207711016,
          7.7745189301840885,
          8.34204098645363,
          8.435624175060786,
          8.36377908996179,
          7.7706189649183735,
          1.0320521014241055,
          1.819425494963529,
          7.523938867662383,
          8.274,
          8.219985411601252,
          7.748352205626952,
          7.00706842653699,
          1.2437242097950678,
          1.576238971865231,
          7.463012851684613,
          8.210598124348731,
          8.221246266064604,
          7.9817645015630445,
          7.713174018756516,
          0.845307398402223,
          1.7451003820771096,
          7.572326502257727,
          8.050728725251824,
          8.04257450503647,
          7.7664244529350475,
          4.1839381729767275
         ],
         "yaxis": "y",
         "type": "scattergl"
        },
        {
         "hovertemplate": "variable=Hrs_OTaide<br>WorkDate=%{x}<br>value=%{y}<extra></extra>",
         "legendgroup": "Hrs_OTaide",
         "line": {
          "color": "#636efa",
          "dash": "solid"
         },
         "marker": {
          "symbol": "circle"
         },
         "mode": "lines",
         "name": "Hrs_OTaide",
         "showlegend": true,
         "x": [
          "2024-03-31T00:00:00",
          "2024-03-30T00:00:00",
          "2024-03-29T00:00:00",
          "2024-03-28T00:00:00",
          "2024-03-27T00:00:00",
          "2024-03-26T00:00:00",
          "2024-03-25T00:00:00",
          "2024-03-24T00:00:00",
          "2024-03-23T00:00:00",
          "2024-03-22T00:00:00",
          "2024-03-21T00:00:00",
          "2024-03-20T00:00:00",
          "2024-03-19T00:00:00",
          "2024-03-18T00:00:00",
          "2024-03-17T00:00:00",
          "2024-03-16T00:00:00",
          "2024-03-15T00:00:00",
          "2024-03-14T00:00:00",
          "2024-03-13T00:00:00",
          "2024-03-12T00:00:00",
          "2024-03-11T00:00:00",
          "2024-03-10T00:00:00",
          "2024-03-09T00:00:00",
          "2024-03-08T00:00:00",
          "2024-03-07T00:00:00",
          "2024-03-06T00:00:00",
          "2024-03-05T00:00:00",
          "2024-03-04T00:00:00",
          "2024-03-03T00:00:00",
          "2024-03-02T00:00:00",
          "2024-03-01T00:00:00",
          "2024-02-29T00:00:00",
          "2024-02-28T00:00:00",
          "2024-02-27T00:00:00",
          "2024-02-26T00:00:00",
          "2024-02-25T00:00:00",
          "2024-02-24T00:00:00",
          "2024-02-23T00:00:00",
          "2024-02-22T00:00:00",
          "2024-02-21T00:00:00",
          "2024-02-20T00:00:00",
          "2024-02-19T00:00:00",
          "2024-02-18T00:00:00",
          "2024-02-17T00:00:00",
          "2024-02-16T00:00:00",
          "2024-02-15T00:00:00",
          "2024-02-14T00:00:00",
          "2024-02-13T00:00:00",
          "2024-02-12T00:00:00",
          "2024-02-11T00:00:00",
          "2024-02-10T00:00:00",
          "2024-02-09T00:00:00",
          "2024-02-08T00:00:00",
          "2024-02-07T00:00:00",
          "2024-02-06T00:00:00",
          "2024-02-05T00:00:00",
          "2024-02-04T00:00:00",
          "2024-02-03T00:00:00",
          "2024-02-02T00:00:00",
          "2024-02-01T00:00:00",
          "2024-01-31T00:00:00",
          "2024-01-30T00:00:00",
          "2024-01-29T00:00:00",
          "2024-01-28T00:00:00",
          "2024-01-27T00:00:00",
          "2024-01-26T00:00:00",
          "2024-01-25T00:00:00",
          "2024-01-24T00:00:00",
          "2024-01-23T00:00:00",
          "2024-01-22T00:00:00",
          "2024-01-21T00:00:00",
          "2024-01-20T00:00:00",
          "2024-01-19T00:00:00",
          "2024-01-18T00:00:00",
          "2024-01-17T00:00:00",
          "2024-01-16T00:00:00",
          "2024-01-15T00:00:00",
          "2024-01-14T00:00:00",
          "2024-01-13T00:00:00",
          "2024-01-12T00:00:00",
          "2024-01-11T00:00:00",
          "2024-01-10T00:00:00",
          "2024-01-09T00:00:00",
          "2024-01-08T00:00:00",
          "2024-01-07T00:00:00",
          "2024-01-06T00:00:00",
          "2024-01-05T00:00:00",
          "2024-01-04T00:00:00",
          "2024-01-03T00:00:00",
          "2024-01-02T00:00:00",
          "2024-01-01T00:00:00"
         ],
         "xaxis": "x",
         "y": [
          0.030471691559569292,
          0.0652434873219868,
          0.2758138242445294,
          0.30217367141368523,
          0.3082882945467176,
          0.3165682528655783,
          0.2948148662730115,
          0.03878985758944078,
          0.06514275790204932,
          0.28326641194859326,
          0.30663007988885027,
          0.31082806530045154,
          0.31107398402222985,
          0.28490170197985404,
          0.03780340395970823,
          0.06079958318860715,
          0.27996248697464393,
          0.2952810003473428,
          0.3094088225078152,
          0.3108794720389024,
          0.2987169155956929,
          0.03847030218825981,
          0.07041681139284474,
          0.282480722473081,
          0.30910593956234805,
          0.3101278221604724,
          0.30773671413685305,
          0.30205904828065294,
          0.0348475164987843,
          0.066652309829802,
          0.29750329975685996,
          0.30511497047585967,
          0.3080104202848212,
          0.30906495310871834,
          0.29495727683223333,
          0.038089614449461615,
          0.06810559221952067,
          0.2776526571726293,
          0.29637582493921494,
          0.30100382077110105,
          0.3000361236540465,
          0.274539770753734,
          0.036820423758249385,
          0.07607641542202152,
          0.28529281000347345,
          0.30785550538381384,
          0.30602917679749914,
          0.28563945814518926,
          0.2892948940604377,
          0.03897047585967349,
          0.06721083709621396,
          0.2877888155609587,
          0.306502257728378,
          0.3091142757902049,
          0.30861827023271965,
          0.3009906217436609,
          0.03812851684612713,
          0.07400486279958318,
          0.2854456408475165,
          0.3078596734977423,
          0.31791802709274053,
          0.32326224383466473,
          0.2980521014241056,
          0.0409183744355679,
          0.06808197290725945,
          0.2872045849253213,
          0.3129739492879473,
          0.3106168808614102,
          0.3123751302535603,
          0.2892955887460924,
          0.04259256686349427,
          0.08121778395276139,
          0.2807634595345606,
          0.3112921153178187,
          0.31252587704063917,
          0.28788120875303924,
          0.26998957971517884,
          0.044882945467176104,
          0.0669822855158041,
          0.28563181660298714,
          0.3104008336227857,
          0.31486210489753386,
          0.3031267801319903,
          0.2929010072941994,
          0.035714484195901355,
          0.07303230288294547,
          0.2885425494963529,
          0.3073400486279958,
          0.30939562348037514,
          0.28933379645710317,
          0.14332893365751995
         ],
         "yaxis": "y",
         "type": "scattergl"
        },
        {
         "hovertemplate": "variable=Hrs_PT<br>WorkDate=%{x}<br>value=%{y}<extra></extra>",
         "legendgroup": "Hrs_PT",
         "line": {
          "color": "#EF553B",
          "dash": "solid"
         },
         "marker": {
          "symbol": "circle"
         },
         "mode": "lines",
         "name": "Hrs_PT",
         "showlegend": true,
         "x": [
          "2024-03-31T00:00:00",
          "2024-03-30T00:00:00",
          "2024-03-29T00:00:00",
          "2024-03-28T00:00:00",
          "2024-03-27T00:00:00",
          "2024-03-26T00:00:00",
          "2024-03-25T00:00:00",
          "2024-03-24T00:00:00",
          "2024-03-23T00:00:00",
          "2024-03-22T00:00:00",
          "2024-03-21T00:00:00",
          "2024-03-20T00:00:00",
          "2024-03-19T00:00:00",
          "2024-03-18T00:00:00",
          "2024-03-17T00:00:00",
          "2024-03-16T00:00:00",
          "2024-03-15T00:00:00",
          "2024-03-14T00:00:00",
          "2024-03-13T00:00:00",
          "2024-03-12T00:00:00",
          "2024-03-11T00:00:00",
          "2024-03-10T00:00:00",
          "2024-03-09T00:00:00",
          "2024-03-08T00:00:00",
          "2024-03-07T00:00:00",
          "2024-03-06T00:00:00",
          "2024-03-05T00:00:00",
          "2024-03-04T00:00:00",
          "2024-03-03T00:00:00",
          "2024-03-02T00:00:00",
          "2024-03-01T00:00:00",
          "2024-02-29T00:00:00",
          "2024-02-28T00:00:00",
          "2024-02-27T00:00:00",
          "2024-02-26T00:00:00",
          "2024-02-25T00:00:00",
          "2024-02-24T00:00:00",
          "2024-02-23T00:00:00",
          "2024-02-22T00:00:00",
          "2024-02-21T00:00:00",
          "2024-02-20T00:00:00",
          "2024-02-19T00:00:00",
          "2024-02-18T00:00:00",
          "2024-02-17T00:00:00",
          "2024-02-16T00:00:00",
          "2024-02-15T00:00:00",
          "2024-02-14T00:00:00",
          "2024-02-13T00:00:00",
          "2024-02-12T00:00:00",
          "2024-02-11T00:00:00",
          "2024-02-10T00:00:00",
          "2024-02-09T00:00:00",
          "2024-02-08T00:00:00",
          "2024-02-07T00:00:00",
          "2024-02-06T00:00:00",
          "2024-02-05T00:00:00",
          "2024-02-04T00:00:00",
          "2024-02-03T00:00:00",
          "2024-02-02T00:00:00",
          "2024-02-01T00:00:00",
          "2024-01-31T00:00:00",
          "2024-01-30T00:00:00",
          "2024-01-29T00:00:00",
          "2024-01-28T00:00:00",
          "2024-01-27T00:00:00",
          "2024-01-26T00:00:00",
          "2024-01-25T00:00:00",
          "2024-01-24T00:00:00",
          "2024-01-23T00:00:00",
          "2024-01-22T00:00:00",
          "2024-01-21T00:00:00",
          "2024-01-20T00:00:00",
          "2024-01-19T00:00:00",
          "2024-01-18T00:00:00",
          "2024-01-17T00:00:00",
          "2024-01-16T00:00:00",
          "2024-01-15T00:00:00",
          "2024-01-14T00:00:00",
          "2024-01-13T00:00:00",
          "2024-01-12T00:00:00",
          "2024-01-11T00:00:00",
          "2024-01-10T00:00:00",
          "2024-01-09T00:00:00",
          "2024-01-08T00:00:00",
          "2024-01-07T00:00:00",
          "2024-01-06T00:00:00",
          "2024-01-05T00:00:00",
          "2024-01-04T00:00:00",
          "2024-01-03T00:00:00",
          "2024-01-02T00:00:00",
          "2024-01-01T00:00:00"
         ],
         "xaxis": "x",
         "y": [
          0.8082744008336227,
          1.6996818339701287,
          6.590207711010768,
          7.3555463702674535,
          7.566225078152134,
          7.518073636679404,
          7.2241611670719,
          1.1847995831886071,
          1.7448280653004513,
          6.993726293852035,
          7.527576241750609,
          7.643052448766932,
          7.620976033344909,
          7.347627648489057,
          1.135140673845085,
          1.712914901007294,
          7.0018061827023255,
          7.456532823897185,
          7.629764501563042,
          7.591017019798542,
          7.321520666898228,
          1.128131990274401,
          1.7452733588051403,
          7.129547759638765,
          7.619986106286906,
          7.727007294199373,
          7.686310524487669,
          7.431610281347688,
          1.1163237235151093,
          1.7213344911427577,
          7.232148662730116,
          7.668764848905868,
          7.738489753386593,
          7.732343174713441,
          7.428358457797844,
          1.105768669676971,
          1.794267453977075,
          7.076627995831885,
          7.577597082320248,
          7.6954116012504326,
          7.6057665856200085,
          6.932235498436957,
          1.138252865578326,
          1.7929281000347344,
          7.072413337964571,
          7.611629732546022,
          7.6263216394581415,
          7.476755817992358,
          7.344616186175754,
          1.1232768322334146,
          1.7522222994095171,
          7.168989927058007,
          7.586327196943382,
          7.717608891976381,
          7.7383494268843345,
          7.425738103508161,
          1.1331080236193123,
          1.7470107676276492,
          7.211245571378951,
          7.705874261896492,
          7.750869051754082,
          7.709849253212923,
          7.4340277874261895,
          1.1103605418548106,
          1.7932997568600209,
          7.234159777700591,
          7.59388120875304,
          7.6621806182702334,
          7.653306009030915,
          7.302257033692253,
          1.0999638763459534,
          1.8798520319555398,
          7.095911774921847,
          7.593260159777701,
          7.598543244182006,
          7.283856894755122,
          6.597422716220911,
          1.2092282042375821,
          1.7646891281695034,
          6.973130253560264,
          7.525845779784645,
          7.54830774574505,
          7.368075026050715,
          7.196748871135812,
          1.0230976033344912,
          1.9221062869051755,
          7.0668315387287235,
          7.345635984716914,
          7.28671552622438,
          7.02205418548107,
          3.6219360889197634
         ],
         "yaxis": "y",
         "type": "scattergl"
        },
        {
         "hovertemplate": "variable=Hrs_PTasst<br>WorkDate=%{x}<br>value=%{y}<extra></extra>",
         "legendgroup": "Hrs_PTasst",
         "line": {
          "color": "#00cc96",
          "dash": "solid"
         },
         "marker": {
          "symbol": "circle"
         },
         "mode": "lines",
         "name": "Hrs_PTasst",
         "showlegend": true,
         "x": [
          "2024-03-31T00:00:00",
          "2024-03-30T00:00:00",
          "2024-03-29T00:00:00",
          "2024-03-28T00:00:00",
          "2024-03-27T00:00:00",
          "2024-03-26T00:00:00",
          "2024-03-25T00:00:00",
          "2024-03-24T00:00:00",
          "2024-03-23T00:00:00",
          "2024-03-22T00:00:00",
          "2024-03-21T00:00:00",
          "2024-03-20T00:00:00",
          "2024-03-19T00:00:00",
          "2024-03-18T00:00:00",
          "2024-03-17T00:00:00",
          "2024-03-16T00:00:00",
          "2024-03-15T00:00:00",
          "2024-03-14T00:00:00",
          "2024-03-13T00:00:00",
          "2024-03-12T00:00:00",
          "2024-03-11T00:00:00",
          "2024-03-10T00:00:00",
          "2024-03-09T00:00:00",
          "2024-03-08T00:00:00",
          "2024-03-07T00:00:00",
          "2024-03-06T00:00:00",
          "2024-03-05T00:00:00",
          "2024-03-04T00:00:00",
          "2024-03-03T00:00:00",
          "2024-03-02T00:00:00",
          "2024-03-01T00:00:00",
          "2024-02-29T00:00:00",
          "2024-02-28T00:00:00",
          "2024-02-27T00:00:00",
          "2024-02-26T00:00:00",
          "2024-02-25T00:00:00",
          "2024-02-24T00:00:00",
          "2024-02-23T00:00:00",
          "2024-02-22T00:00:00",
          "2024-02-21T00:00:00",
          "2024-02-20T00:00:00",
          "2024-02-19T00:00:00",
          "2024-02-18T00:00:00",
          "2024-02-17T00:00:00",
          "2024-02-16T00:00:00",
          "2024-02-15T00:00:00",
          "2024-02-14T00:00:00",
          "2024-02-13T00:00:00",
          "2024-02-12T00:00:00",
          "2024-02-11T00:00:00",
          "2024-02-10T00:00:00",
          "2024-02-09T00:00:00",
          "2024-02-08T00:00:00",
          "2024-02-07T00:00:00",
          "2024-02-06T00:00:00",
          "2024-02-05T00:00:00",
          "2024-02-04T00:00:00",
          "2024-02-03T00:00:00",
          "2024-02-02T00:00:00",
          "2024-02-01T00:00:00",
          "2024-01-31T00:00:00",
          "2024-01-30T00:00:00",
          "2024-01-29T00:00:00",
          "2024-01-28T00:00:00",
          "2024-01-27T00:00:00",
          "2024-01-26T00:00:00",
          "2024-01-25T00:00:00",
          "2024-01-24T00:00:00",
          "2024-01-23T00:00:00",
          "2024-01-22T00:00:00",
          "2024-01-21T00:00:00",
          "2024-01-20T00:00:00",
          "2024-01-19T00:00:00",
          "2024-01-18T00:00:00",
          "2024-01-17T00:00:00",
          "2024-01-16T00:00:00",
          "2024-01-15T00:00:00",
          "2024-01-14T00:00:00",
          "2024-01-13T00:00:00",
          "2024-01-12T00:00:00",
          "2024-01-11T00:00:00",
          "2024-01-10T00:00:00",
          "2024-01-09T00:00:00",
          "2024-01-08T00:00:00",
          "2024-01-07T00:00:00",
          "2024-01-06T00:00:00",
          "2024-01-05T00:00:00",
          "2024-01-04T00:00:00",
          "2024-01-03T00:00:00",
          "2024-01-02T00:00:00",
          "2024-01-01T00:00:00"
         ],
         "xaxis": "x",
         "y": [
          0.8287502605071205,
          1.8789808961444945,
          8.591902744008339,
          9.547982632858632,
          9.725904133379649,
          9.731549149010073,
          9.281769364362628,
          1.2334789857589443,
          1.910363320597429,
          8.903383813824242,
          9.625035776311222,
          9.80492879472039,
          9.797815213615838,
          9.306753733935397,
          1.2068829454671757,
          1.9025897881208755,
          8.881971517888154,
          9.602903786036817,
          9.77236609934005,
          9.767779089961794,
          9.29771865230983,
          1.2036915595692947,
          1.9092261201806182,
          9.039193469954848,
          9.739412990621743,
          9.875885376866968,
          9.813592914206321,
          9.409586662035428,
          1.1529572768322336,
          1.8576568252865577,
          9.0754796804446,
          9.718625911774922,
          9.845477596387637,
          9.805241403265022,
          9.336716220910038,
          1.1949496352900313,
          1.9543876345953457,
          9.047676276484893,
          9.684428621048976,
          9.854075026050712,
          9.818850295241404,
          9.076366099340047,
          1.260841959013546,
          1.9905390760680792,
          9.021691559569295,
          9.705054532823898,
          9.746210489753386,
          9.606748871135808,
          9.276102813476902,
          1.185688780826676,
          1.9658082667592913,
          9.089083709621397,
          9.795358805140676,
          9.883444946161863,
          9.88619520666898,
          9.491084404307049,
          1.1928822507815213,
          1.9783570684265368,
          9.182472386245227,
          9.78536992011115,
          9.831747134421674,
          9.808703716568253,
          9.365118443904136,
          1.1615922195206672,
          2.0389711705453277,
          9.02673845085099,
          9.670071552622439,
          9.782714831538728,
          9.700327891629039,
          9.086335533171237,
          1.208056269538034,
          2.1499187217783957,
          8.794961444946164,
          9.56357068426537,
          9.58055505383814,
          9.152510593956233,
          8.342792636332062,
          1.395299756860021,
          1.9164577978464747,
          8.762009030913513,
          9.560100729419936,
          9.577986106286902,
          9.297081625564433,
          9.048022229940951,
          1.0290718999652655,
          2.110582146578673,
          8.833756165335188,
          9.354616186175756,
          9.341529697811739,
          9.097777700590484,
          4.886597429663078
         ],
         "yaxis": "y",
         "type": "scattergl"
        },
        {
         "hovertemplate": "variable=Hrs_PTaide<br>WorkDate=%{x}<br>value=%{y}<extra></extra>",
         "legendgroup": "Hrs_PTaide",
         "line": {
          "color": "#ab63fa",
          "dash": "solid"
         },
         "marker": {
          "symbol": "circle"
         },
         "mode": "lines",
         "name": "Hrs_PTaide",
         "showlegend": true,
         "x": [
          "2024-03-31T00:00:00",
          "2024-03-30T00:00:00",
          "2024-03-29T00:00:00",
          "2024-03-28T00:00:00",
          "2024-03-27T00:00:00",
          "2024-03-26T00:00:00",
          "2024-03-25T00:00:00",
          "2024-03-24T00:00:00",
          "2024-03-23T00:00:00",
          "2024-03-22T00:00:00",
          "2024-03-21T00:00:00",
          "2024-03-20T00:00:00",
          "2024-03-19T00:00:00",
          "2024-03-18T00:00:00",
          "2024-03-17T00:00:00",
          "2024-03-16T00:00:00",
          "2024-03-15T00:00:00",
          "2024-03-14T00:00:00",
          "2024-03-13T00:00:00",
          "2024-03-12T00:00:00",
          "2024-03-11T00:00:00",
          "2024-03-10T00:00:00",
          "2024-03-09T00:00:00",
          "2024-03-08T00:00:00",
          "2024-03-07T00:00:00",
          "2024-03-06T00:00:00",
          "2024-03-05T00:00:00",
          "2024-03-04T00:00:00",
          "2024-03-03T00:00:00",
          "2024-03-02T00:00:00",
          "2024-03-01T00:00:00",
          "2024-02-29T00:00:00",
          "2024-02-28T00:00:00",
          "2024-02-27T00:00:00",
          "2024-02-26T00:00:00",
          "2024-02-25T00:00:00",
          "2024-02-24T00:00:00",
          "2024-02-23T00:00:00",
          "2024-02-22T00:00:00",
          "2024-02-21T00:00:00",
          "2024-02-20T00:00:00",
          "2024-02-19T00:00:00",
          "2024-02-18T00:00:00",
          "2024-02-17T00:00:00",
          "2024-02-16T00:00:00",
          "2024-02-15T00:00:00",
          "2024-02-14T00:00:00",
          "2024-02-13T00:00:00",
          "2024-02-12T00:00:00",
          "2024-02-11T00:00:00",
          "2024-02-10T00:00:00",
          "2024-02-09T00:00:00",
          "2024-02-08T00:00:00",
          "2024-02-07T00:00:00",
          "2024-02-06T00:00:00",
          "2024-02-05T00:00:00",
          "2024-02-04T00:00:00",
          "2024-02-03T00:00:00",
          "2024-02-02T00:00:00",
          "2024-02-01T00:00:00",
          "2024-01-31T00:00:00",
          "2024-01-30T00:00:00",
          "2024-01-29T00:00:00",
          "2024-01-28T00:00:00",
          "2024-01-27T00:00:00",
          "2024-01-26T00:00:00",
          "2024-01-25T00:00:00",
          "2024-01-24T00:00:00",
          "2024-01-23T00:00:00",
          "2024-01-22T00:00:00",
          "2024-01-21T00:00:00",
          "2024-01-20T00:00:00",
          "2024-01-19T00:00:00",
          "2024-01-18T00:00:00",
          "2024-01-17T00:00:00",
          "2024-01-16T00:00:00",
          "2024-01-15T00:00:00",
          "2024-01-14T00:00:00",
          "2024-01-13T00:00:00",
          "2024-01-12T00:00:00",
          "2024-01-11T00:00:00",
          "2024-01-10T00:00:00",
          "2024-01-09T00:00:00",
          "2024-01-08T00:00:00",
          "2024-01-07T00:00:00",
          "2024-01-06T00:00:00",
          "2024-01-05T00:00:00",
          "2024-01-04T00:00:00",
          "2024-01-03T00:00:00",
          "2024-01-02T00:00:00",
          "2024-01-01T00:00:00"
         ],
         "xaxis": "x",
         "y": [
          0.05036679402570337,
          0.12566446682876,
          0.739121917332407,
          0.8344703021882597,
          0.860732893365752,
          0.8371330323028828,
          0.8236943383119137,
          0.06173324070857938,
          0.12540604376519623,
          0.7910218825981243,
          0.8355408127822159,
          0.8466307745745049,
          0.8321521361583883,
          0.8108169503299758,
          0.06547134421674193,
          0.12984716915595693,
          0.7873907606807918,
          0.8131976380687739,
          0.8484605765890935,
          0.8343119138589788,
          0.8216366794025705,
          0.06230010420284821,
          0.12345189301840917,
          0.7851128864188954,
          0.8282000694685655,
          0.842923931920806,
          0.8293657519972213,
          0.8188044459881904,
          0.05997846474470301,
          0.12530323028829454,
          0.7730441125390759,
          0.8285189301840917,
          0.8368718304967,
          0.8378047933310175,
          0.8192997568600208,
          0.05763876345953458,
          0.1226516151441473,
          0.7719993053143452,
          0.8220486279958319,
          0.8395067731851339,
          0.8298291073289339,
          0.7816436262591178,
          0.06286766238277179,
          0.1251476207016325,
          0.7632789162903787,
          0.8180764154220215,
          0.8275019103855507,
          0.7898742618964918,
          0.8058270232719695,
          0.05972143105244875,
          0.1239631816602987,
          0.7910607849947897,
          0.8419666550885725,
          0.8434588398749568,
          0.8405258770406391,
          0.8147669329628344,
          0.06316498784300104,
          0.1296193122612018,
          0.7916262591177494,
          0.8387801319902743,
          0.8370316081972907,
          0.8341771448419592,
          0.8244105592219519,
          0.0645140673845085,
          0.11657658909343523,
          0.8038846821813128,
          0.8285675581799236,
          0.8461437999305313,
          0.833603334491143,
          0.8063327544286213,
          0.07063772143105243,
          0.1462716220910038,
          0.7619965265717263,
          0.8242382771795761,
          0.8287891629037861,
          0.7642938520319555,
          0.7057561653351858,
          0.06883501215699896,
          0.12081139284473777,
          0.7658687044112541,
          0.8260305661688085,
          0.8366495310871833,
          0.8081472733588053,
          0.7941299062174367,
          0.055097603334491145,
          0.13887044112539076,
          0.7943251128864189,
          0.8299340048627997,
          0.8424911427579019,
          0.7966022924626606,
          0.3610191038555054
         ],
         "yaxis": "y",
         "type": "scattergl"
        },
        {
         "hovertemplate": "variable=Hrs_RespTher<br>WorkDate=%{x}<br>value=%{y}<extra></extra>",
         "legendgroup": "Hrs_RespTher",
         "line": {
          "color": "#FFA15A",
          "dash": "solid"
         },
         "marker": {
          "symbol": "circle"
         },
         "mode": "lines",
         "name": "Hrs_RespTher",
         "showlegend": true,
         "x": [
          "2024-03-31T00:00:00",
          "2024-03-30T00:00:00",
          "2024-03-29T00:00:00",
          "2024-03-28T00:00:00",
          "2024-03-27T00:00:00",
          "2024-03-26T00:00:00",
          "2024-03-25T00:00:00",
          "2024-03-24T00:00:00",
          "2024-03-23T00:00:00",
          "2024-03-22T00:00:00",
          "2024-03-21T00:00:00",
          "2024-03-20T00:00:00",
          "2024-03-19T00:00:00",
          "2024-03-18T00:00:00",
          "2024-03-17T00:00:00",
          "2024-03-16T00:00:00",
          "2024-03-15T00:00:00",
          "2024-03-14T00:00:00",
          "2024-03-13T00:00:00",
          "2024-03-12T00:00:00",
          "2024-03-11T00:00:00",
          "2024-03-10T00:00:00",
          "2024-03-09T00:00:00",
          "2024-03-08T00:00:00",
          "2024-03-07T00:00:00",
          "2024-03-06T00:00:00",
          "2024-03-05T00:00:00",
          "2024-03-04T00:00:00",
          "2024-03-03T00:00:00",
          "2024-03-02T00:00:00",
          "2024-03-01T00:00:00",
          "2024-02-29T00:00:00",
          "2024-02-28T00:00:00",
          "2024-02-27T00:00:00",
          "2024-02-26T00:00:00",
          "2024-02-25T00:00:00",
          "2024-02-24T00:00:00",
          "2024-02-23T00:00:00",
          "2024-02-22T00:00:00",
          "2024-02-21T00:00:00",
          "2024-02-20T00:00:00",
          "2024-02-19T00:00:00",
          "2024-02-18T00:00:00",
          "2024-02-17T00:00:00",
          "2024-02-16T00:00:00",
          "2024-02-15T00:00:00",
          "2024-02-14T00:00:00",
          "2024-02-13T00:00:00",
          "2024-02-12T00:00:00",
          "2024-02-11T00:00:00",
          "2024-02-10T00:00:00",
          "2024-02-09T00:00:00",
          "2024-02-08T00:00:00",
          "2024-02-07T00:00:00",
          "2024-02-06T00:00:00",
          "2024-02-05T00:00:00",
          "2024-02-04T00:00:00",
          "2024-02-03T00:00:00",
          "2024-02-02T00:00:00",
          "2024-02-01T00:00:00",
          "2024-01-31T00:00:00",
          "2024-01-30T00:00:00",
          "2024-01-29T00:00:00",
          "2024-01-28T00:00:00",
          "2024-01-27T00:00:00",
          "2024-01-26T00:00:00",
          "2024-01-25T00:00:00",
          "2024-01-24T00:00:00",
          "2024-01-23T00:00:00",
          "2024-01-22T00:00:00",
          "2024-01-21T00:00:00",
          "2024-01-20T00:00:00",
          "2024-01-19T00:00:00",
          "2024-01-18T00:00:00",
          "2024-01-17T00:00:00",
          "2024-01-16T00:00:00",
          "2024-01-15T00:00:00",
          "2024-01-14T00:00:00",
          "2024-01-13T00:00:00",
          "2024-01-12T00:00:00",
          "2024-01-11T00:00:00",
          "2024-01-10T00:00:00",
          "2024-01-09T00:00:00",
          "2024-01-08T00:00:00",
          "2024-01-07T00:00:00",
          "2024-01-06T00:00:00",
          "2024-01-05T00:00:00",
          "2024-01-04T00:00:00",
          "2024-01-03T00:00:00",
          "2024-01-02T00:00:00",
          "2024-01-01T00:00:00"
         ],
         "xaxis": "x",
         "y": [
          1.4276616880861412,
          1.465484543244182,
          1.7767877735324769,
          1.8368815560958667,
          1.8688864188954497,
          1.8534324418200765,
          1.8254157693643631,
          1.4655435915248347,
          1.4852261201806183,
          1.8161021187912472,
          1.863581104550191,
          1.8900854463355328,
          1.8679527613754776,
          1.85628134769017,
          1.4645536644668284,
          1.4861257381035087,
          1.7974122959360892,
          1.880563390065995,
          1.8860187565126778,
          1.872634942688433,
          1.8285356026398047,
          1.4440361236540464,
          1.5001236540465437,
          1.8157228204237583,
          1.867694338311914,
          1.8764835012157002,
          1.8363681833970127,
          1.8133726988537682,
          1.452287599861063,
          1.4710461965960402,
          1.8138124348732203,
          1.8389927058006257,
          1.8624730809308785,
          1.8295998610628692,
          1.7872935046891283,
          1.4460479333101772,
          1.4705626953803403,
          1.787205974296631,
          1.819162209100382,
          1.842989927058006,
          1.837601945119833,
          1.763751302535602,
          1.4404709968739144,
          1.462889197638069,
          1.7736193122612016,
          1.818152830844043,
          1.8030941299062175,
          1.8142160472386244,
          1.778235498436957,
          1.421770753733935,
          1.4541250434178534,
          1.7746279958318858,
          1.8382632858631471,
          1.8831837443556791,
          1.8525710316081971,
          1.7983244182007645,
          1.4459617922889891,
          1.458499478985759,
          1.780066689822855,
          1.8429544980896144,
          1.8939256686349428,
          1.863122612018062,
          1.815573463007989,
          1.4618645362973257,
          1.478418895449809,
          1.7965474122959366,
          1.850711358110455,
          1.8566078499478982,
          1.85802639805488,
          1.7992156998957967,
          1.4446314692601596,
          1.4607189996526573,
          1.751970823202501,
          1.8294373046196601,
          1.8494088225078154,
          1.7945640847516495,
          1.7461368530739843,
          1.4533011462313303,
          1.473943730461966,
          1.7593720041681142,
          1.8472525182354984,
          1.8416540465439388,
          1.8354227162209102,
          1.8036332059742965,
          1.4428162556443207,
          1.4421701979854116,
          1.7581382424452936,
          1.8252004168113927,
          1.8246787078846824,
          1.7580472386245225,
          1.4778291073289336
         ],
         "yaxis": "y",
         "type": "scattergl"
        },
        {
         "hovertemplate": "variable=Hrs_RespTech<br>WorkDate=%{x}<br>value=%{y}<extra></extra>",
         "legendgroup": "Hrs_RespTech",
         "line": {
          "color": "#19d3f3",
          "dash": "solid"
         },
         "marker": {
          "symbol": "circle"
         },
         "mode": "lines",
         "name": "Hrs_RespTech",
         "showlegend": true,
         "x": [
          "2024-03-31T00:00:00",
          "2024-03-30T00:00:00",
          "2024-03-29T00:00:00",
          "2024-03-28T00:00:00",
          "2024-03-27T00:00:00",
          "2024-03-26T00:00:00",
          "2024-03-25T00:00:00",
          "2024-03-24T00:00:00",
          "2024-03-23T00:00:00",
          "2024-03-22T00:00:00",
          "2024-03-21T00:00:00",
          "2024-03-20T00:00:00",
          "2024-03-19T00:00:00",
          "2024-03-18T00:00:00",
          "2024-03-17T00:00:00",
          "2024-03-16T00:00:00",
          "2024-03-15T00:00:00",
          "2024-03-14T00:00:00",
          "2024-03-13T00:00:00",
          "2024-03-12T00:00:00",
          "2024-03-11T00:00:00",
          "2024-03-10T00:00:00",
          "2024-03-09T00:00:00",
          "2024-03-08T00:00:00",
          "2024-03-07T00:00:00",
          "2024-03-06T00:00:00",
          "2024-03-05T00:00:00",
          "2024-03-04T00:00:00",
          "2024-03-03T00:00:00",
          "2024-03-02T00:00:00",
          "2024-03-01T00:00:00",
          "2024-02-29T00:00:00",
          "2024-02-28T00:00:00",
          "2024-02-27T00:00:00",
          "2024-02-26T00:00:00",
          "2024-02-25T00:00:00",
          "2024-02-24T00:00:00",
          "2024-02-23T00:00:00",
          "2024-02-22T00:00:00",
          "2024-02-21T00:00:00",
          "2024-02-20T00:00:00",
          "2024-02-19T00:00:00",
          "2024-02-18T00:00:00",
          "2024-02-17T00:00:00",
          "2024-02-16T00:00:00",
          "2024-02-15T00:00:00",
          "2024-02-14T00:00:00",
          "2024-02-13T00:00:00",
          "2024-02-12T00:00:00",
          "2024-02-11T00:00:00",
          "2024-02-10T00:00:00",
          "2024-02-09T00:00:00",
          "2024-02-08T00:00:00",
          "2024-02-07T00:00:00",
          "2024-02-06T00:00:00",
          "2024-02-05T00:00:00",
          "2024-02-04T00:00:00",
          "2024-02-03T00:00:00",
          "2024-02-02T00:00:00",
          "2024-02-01T00:00:00",
          "2024-01-31T00:00:00",
          "2024-01-30T00:00:00",
          "2024-01-29T00:00:00",
          "2024-01-28T00:00:00",
          "2024-01-27T00:00:00",
          "2024-01-26T00:00:00",
          "2024-01-25T00:00:00",
          "2024-01-24T00:00:00",
          "2024-01-23T00:00:00",
          "2024-01-22T00:00:00",
          "2024-01-21T00:00:00",
          "2024-01-20T00:00:00",
          "2024-01-19T00:00:00",
          "2024-01-18T00:00:00",
          "2024-01-17T00:00:00",
          "2024-01-16T00:00:00",
          "2024-01-15T00:00:00",
          "2024-01-14T00:00:00",
          "2024-01-13T00:00:00",
          "2024-01-12T00:00:00",
          "2024-01-11T00:00:00",
          "2024-01-10T00:00:00",
          "2024-01-09T00:00:00",
          "2024-01-08T00:00:00",
          "2024-01-07T00:00:00",
          "2024-01-06T00:00:00",
          "2024-01-05T00:00:00",
          "2024-01-04T00:00:00",
          "2024-01-03T00:00:00",
          "2024-01-02T00:00:00",
          "2024-01-01T00:00:00"
         ],
         "xaxis": "x",
         "y": [
          0.07812434873219867,
          0.08558179923584579,
          0.0963202500868357,
          0.09897672803056615,
          0.09670163251128865,
          0.09847169155956932,
          0.09692462660646058,
          0.0803959708232025,
          0.09268704411253907,
          0.09957624175060785,
          0.09803265022577284,
          0.10495310871830497,
          0.09877387981938171,
          0.09331781868704411,
          0.08329142063216394,
          0.08412365404654394,
          0.10423271969433831,
          0.09711149704758595,
          0.10303508162556443,
          0.09758944077804793,
          0.09894129906217435,
          0.07956304272316775,
          0.08683987495658214,
          0.1017117054532824,
          0.10189093435220561,
          0.09579367836054185,
          0.10667384508509899,
          0.10217714484195901,
          0.08472386245224035,
          0.08315039944425148,
          0.10570475859673498,
          0.1004230635637374,
          0.09471483153872873,
          0.09735255296978118,
          0.09899131642931575,
          0.08703369225425495,
          0.08486141021187912,
          0.09782841264327892,
          0.10109968739145536,
          0.10294129906217438,
          0.10846543938867662,
          0.09540951719346995,
          0.085484543244182,
          0.08584508509899269,
          0.10173879819381727,
          0.0982681486627301,
          0.09970545328238971,
          0.09772143105244877,
          0.10186175755470649,
          0.0878381382424453,
          0.08649392150052101,
          0.09534977422716222,
          0.1021535255296978,
          0.09798402222994096,
          0.10001597777005906,
          0.09447794373046198,
          0.08450573115665162,
          0.08827162209100381,
          0.09890448072247307,
          0.10040708579367834,
          0.10138867662382772,
          0.09869746439736021,
          0.09652657172629386,
          0.08439597082320249,
          0.08644598819034384,
          0.09549774227162208,
          0.10234595345606111,
          0.09922264675234456,
          0.10491351163598472,
          0.09675303924973949,
          0.09009934004862798,
          0.08832094477249046,
          0.0947280305661688,
          0.09437999305314344,
          0.0944598819034387,
          0.0908238971865231,
          0.09257589440778047,
          0.08588120875303924,
          0.08939909690864885,
          0.09766863494268843,
          0.10006391108023618,
          0.10258492532129211,
          0.10532823897186525,
          0.09540604376519624,
          0.08594650920458492,
          0.08850503647099686,
          0.09977839527613755,
          0.10030427231677666,
          0.09805904828065301,
          0.09806946856547409,
          0.077661688086141
         ],
         "yaxis": "y",
         "type": "scattergl"
        },
        {
         "hovertemplate": "variable=Hrs_SpcLangPath<br>WorkDate=%{x}<br>value=%{y}<extra></extra>",
         "legendgroup": "Hrs_SpcLangPath",
         "line": {
          "color": "#FF6692",
          "dash": "solid"
         },
         "marker": {
          "symbol": "circle"
         },
         "mode": "lines",
         "name": "Hrs_SpcLangPath",
         "showlegend": true,
         "x": [
          "2024-03-31T00:00:00",
          "2024-03-30T00:00:00",
          "2024-03-29T00:00:00",
          "2024-03-28T00:00:00",
          "2024-03-27T00:00:00",
          "2024-03-26T00:00:00",
          "2024-03-25T00:00:00",
          "2024-03-24T00:00:00",
          "2024-03-23T00:00:00",
          "2024-03-22T00:00:00",
          "2024-03-21T00:00:00",
          "2024-03-20T00:00:00",
          "2024-03-19T00:00:00",
          "2024-03-18T00:00:00",
          "2024-03-17T00:00:00",
          "2024-03-16T00:00:00",
          "2024-03-15T00:00:00",
          "2024-03-14T00:00:00",
          "2024-03-13T00:00:00",
          "2024-03-12T00:00:00",
          "2024-03-11T00:00:00",
          "2024-03-10T00:00:00",
          "2024-03-09T00:00:00",
          "2024-03-08T00:00:00",
          "2024-03-07T00:00:00",
          "2024-03-06T00:00:00",
          "2024-03-05T00:00:00",
          "2024-03-04T00:00:00",
          "2024-03-03T00:00:00",
          "2024-03-02T00:00:00",
          "2024-03-01T00:00:00",
          "2024-02-29T00:00:00",
          "2024-02-28T00:00:00",
          "2024-02-27T00:00:00",
          "2024-02-26T00:00:00",
          "2024-02-25T00:00:00",
          "2024-02-24T00:00:00",
          "2024-02-23T00:00:00",
          "2024-02-22T00:00:00",
          "2024-02-21T00:00:00",
          "2024-02-20T00:00:00",
          "2024-02-19T00:00:00",
          "2024-02-18T00:00:00",
          "2024-02-17T00:00:00",
          "2024-02-16T00:00:00",
          "2024-02-15T00:00:00",
          "2024-02-14T00:00:00",
          "2024-02-13T00:00:00",
          "2024-02-12T00:00:00",
          "2024-02-11T00:00:00",
          "2024-02-10T00:00:00",
          "2024-02-09T00:00:00",
          "2024-02-08T00:00:00",
          "2024-02-07T00:00:00",
          "2024-02-06T00:00:00",
          "2024-02-05T00:00:00",
          "2024-02-04T00:00:00",
          "2024-02-03T00:00:00",
          "2024-02-02T00:00:00",
          "2024-02-01T00:00:00",
          "2024-01-31T00:00:00",
          "2024-01-30T00:00:00",
          "2024-01-29T00:00:00",
          "2024-01-28T00:00:00",
          "2024-01-27T00:00:00",
          "2024-01-26T00:00:00",
          "2024-01-25T00:00:00",
          "2024-01-24T00:00:00",
          "2024-01-23T00:00:00",
          "2024-01-22T00:00:00",
          "2024-01-21T00:00:00",
          "2024-01-20T00:00:00",
          "2024-01-19T00:00:00",
          "2024-01-18T00:00:00",
          "2024-01-17T00:00:00",
          "2024-01-16T00:00:00",
          "2024-01-15T00:00:00",
          "2024-01-14T00:00:00",
          "2024-01-13T00:00:00",
          "2024-01-12T00:00:00",
          "2024-01-11T00:00:00",
          "2024-01-10T00:00:00",
          "2024-01-09T00:00:00",
          "2024-01-08T00:00:00",
          "2024-01-07T00:00:00",
          "2024-01-06T00:00:00",
          "2024-01-05T00:00:00",
          "2024-01-04T00:00:00",
          "2024-01-03T00:00:00",
          "2024-01-02T00:00:00",
          "2024-01-01T00:00:00"
         ],
         "xaxis": "x",
         "y": [
          0.2955192775269191,
          0.5911198332754427,
          4.04673706147968,
          4.721527613754776,
          4.858043070510593,
          4.845040639110803,
          4.666909343522055,
          0.5237506078499479,
          0.6113428273706147,
          4.224250086835707,
          4.781327544286209,
          4.903908996179228,
          4.883449808961443,
          4.686904480722474,
          0.4887148315387287,
          0.6233331017714485,
          4.219463702674539,
          4.746392497394927,
          4.862357068426537,
          4.880484195901355,
          4.715474122959361,
          0.5087780479333102,
          0.6341285168461273,
          4.316616186175756,
          4.858703716568254,
          4.932713442167421,
          4.894961444946163,
          4.749325460229246,
          0.5126571726293851,
          0.6088252865578325,
          4.398017367141368,
          4.835887460923932,
          4.914203542896838,
          4.876747481764501,
          4.733833970128515,
          0.5105842306356374,
          0.6402841264327891,
          4.305920805835361,
          4.825226814866273,
          4.901890239666551,
          4.873549149010072,
          4.527117054532824,
          0.5420743313650573,
          0.6820215352552971,
          4.317156651615145,
          4.8405779784647445,
          4.866503647099688,
          4.703633900659952,
          4.690244529350469,
          0.5163258075720737,
          0.6191226120180618,
          4.324546022924626,
          4.872944772490448,
          4.973033692254255,
          4.9400611323376165,
          4.790921153178187,
          0.49763529003126095,
          0.6255644320944771,
          4.403529003126086,
          4.915097603334491,
          4.979159430357764,
          4.952335533171239,
          4.770291767974991,
          0.4902292462660646,
          0.6439444251476206,
          4.381098992705802,
          4.8626009030913515,
          4.952707884682181,
          4.887383813824244,
          4.6726759291420645,
          0.5037895102466133,
          0.8310274400833622,
          4.287158735672108,
          4.8349676971170545,
          4.83049392150052,
          4.483577631121916,
          4.1341820076415425,
          0.643788120875304,
          0.6432636332059744,
          4.225937478291074,
          4.839668634942687,
          4.855385897881208,
          4.6840923931920795,
          4.6634463355331714,
          0.43801528308440435,
          0.7705446335533173,
          4.392839874956581,
          4.75802222994095,
          4.740195901354637,
          4.505706147968044,
          2.1903417853421323
         ],
         "yaxis": "y",
         "type": "scattergl"
        },
        {
         "hovertemplate": "variable=Hrs_TherRecSpec<br>WorkDate=%{x}<br>value=%{y}<extra></extra>",
         "legendgroup": "Hrs_TherRecSpec",
         "line": {
          "color": "#B6E880",
          "dash": "solid"
         },
         "marker": {
          "symbol": "circle"
         },
         "mode": "lines",
         "name": "Hrs_TherRecSpec",
         "showlegend": true,
         "x": [
          "2024-03-31T00:00:00",
          "2024-03-30T00:00:00",
          "2024-03-29T00:00:00",
          "2024-03-28T00:00:00",
          "2024-03-27T00:00:00",
          "2024-03-26T00:00:00",
          "2024-03-25T00:00:00",
          "2024-03-24T00:00:00",
          "2024-03-23T00:00:00",
          "2024-03-22T00:00:00",
          "2024-03-21T00:00:00",
          "2024-03-20T00:00:00",
          "2024-03-19T00:00:00",
          "2024-03-18T00:00:00",
          "2024-03-17T00:00:00",
          "2024-03-16T00:00:00",
          "2024-03-15T00:00:00",
          "2024-03-14T00:00:00",
          "2024-03-13T00:00:00",
          "2024-03-12T00:00:00",
          "2024-03-11T00:00:00",
          "2024-03-10T00:00:00",
          "2024-03-09T00:00:00",
          "2024-03-08T00:00:00",
          "2024-03-07T00:00:00",
          "2024-03-06T00:00:00",
          "2024-03-05T00:00:00",
          "2024-03-04T00:00:00",
          "2024-03-03T00:00:00",
          "2024-03-02T00:00:00",
          "2024-03-01T00:00:00",
          "2024-02-29T00:00:00",
          "2024-02-28T00:00:00",
          "2024-02-27T00:00:00",
          "2024-02-26T00:00:00",
          "2024-02-25T00:00:00",
          "2024-02-24T00:00:00",
          "2024-02-23T00:00:00",
          "2024-02-22T00:00:00",
          "2024-02-21T00:00:00",
          "2024-02-20T00:00:00",
          "2024-02-19T00:00:00",
          "2024-02-18T00:00:00",
          "2024-02-17T00:00:00",
          "2024-02-16T00:00:00",
          "2024-02-15T00:00:00",
          "2024-02-14T00:00:00",
          "2024-02-13T00:00:00",
          "2024-02-12T00:00:00",
          "2024-02-11T00:00:00",
          "2024-02-10T00:00:00",
          "2024-02-09T00:00:00",
          "2024-02-08T00:00:00",
          "2024-02-07T00:00:00",
          "2024-02-06T00:00:00",
          "2024-02-05T00:00:00",
          "2024-02-04T00:00:00",
          "2024-02-03T00:00:00",
          "2024-02-02T00:00:00",
          "2024-02-01T00:00:00",
          "2024-01-31T00:00:00",
          "2024-01-30T00:00:00",
          "2024-01-29T00:00:00",
          "2024-01-28T00:00:00",
          "2024-01-27T00:00:00",
          "2024-01-26T00:00:00",
          "2024-01-25T00:00:00",
          "2024-01-24T00:00:00",
          "2024-01-23T00:00:00",
          "2024-01-22T00:00:00",
          "2024-01-21T00:00:00",
          "2024-01-20T00:00:00",
          "2024-01-19T00:00:00",
          "2024-01-18T00:00:00",
          "2024-01-17T00:00:00",
          "2024-01-16T00:00:00",
          "2024-01-15T00:00:00",
          "2024-01-14T00:00:00",
          "2024-01-13T00:00:00",
          "2024-01-12T00:00:00",
          "2024-01-11T00:00:00",
          "2024-01-10T00:00:00",
          "2024-01-09T00:00:00",
          "2024-01-08T00:00:00",
          "2024-01-07T00:00:00",
          "2024-01-06T00:00:00",
          "2024-01-05T00:00:00",
          "2024-01-04T00:00:00",
          "2024-01-03T00:00:00",
          "2024-01-02T00:00:00",
          "2024-01-01T00:00:00"
         ],
         "xaxis": "x",
         "y": [
          0.1294171587356721,
          0.15125599166377213,
          0.5341563042723168,
          0.655999305314345,
          0.6626418895449807,
          0.6573970128516846,
          0.5894866273011463,
          0.1374796804445988,
          0.14177561653351858,
          0.5720604376519625,
          0.6432844737756165,
          0.6661785342132684,
          0.6608405696422368,
          0.6039152483501214,
          0.127288641889545,
          0.13491629037860367,
          0.5827023271969434,
          0.6650399444251478,
          0.6770184091698506,
          0.6668273706147968,
          0.594190343869399,
          0.1378047933310177,
          0.14422091003820775,
          0.5757374088225079,
          0.6555720736366794,
          0.6751184439041333,
          0.6557818687044114,
          0.6007579020493227,
          0.13381382424452934,
          0.14275790204932268,
          0.5748002778742619,
          0.6670670371656825,
          0.6620965613060091,
          0.661283084404307,
          0.6066974643973602,
          0.13760055574852378,
          0.14739353942341088,
          0.5723716568252865,
          0.6554463355331712,
          0.6656887808266759,
          0.6470142410559222,
          0.4975512330670372,
          0.13273358805140675,
          0.13818131295588743,
          0.5517144841959014,
          0.6524897533865925,
          0.6811121917332408,
          0.6277526919069123,
          0.5954762070163252,
          0.15983813824244525,
          0.14538450850989926,
          0.5853643626259118,
          0.6480840569642238,
          0.6675866620354288,
          0.6589399096908649,
          0.6049454671761028,
          0.12783119138589788,
          0.1443230288294547,
          0.5772559916637722,
          0.6540951719346997,
          0.6697651962486975,
          0.667027440083362,
          0.5970795415074678,
          0.13038624522403613,
          0.1408843348384856,
          0.5816616880861409,
          0.6562375824939214,
          0.6633879819381729,
          0.6691330323028829,
          0.6099333101771448,
          0.125624175060785,
          0.1374692601597777,
          0.5635456755817991,
          0.6447780479333102,
          0.6605335185828414,
          0.6146946856547413,
          0.4857068426536992,
          0.13369920111149705,
          0.14555401180965616,
          0.5718916290378603,
          0.6435519277526917,
          0.6540798888502952,
          0.6404619659604028,
          0.5886675929142062,
          0.11830913511635983,
          0.13499756860020842,
          0.5678186870441124,
          0.6266648141715874,
          0.6404445988190345,
          0.6029378256339009,
          0.21845779784647443
         ],
         "yaxis": "y",
         "type": "scattergl"
        },
        {
         "hovertemplate": "variable=Hrs_QualActvProf<br>WorkDate=%{x}<br>value=%{y}<extra></extra>",
         "legendgroup": "Hrs_QualActvProf",
         "line": {
          "color": "#FF97FF",
          "dash": "solid"
         },
         "marker": {
          "symbol": "circle"
         },
         "mode": "lines",
         "name": "Hrs_QualActvProf",
         "showlegend": true,
         "x": [
          "2024-03-31T00:00:00",
          "2024-03-30T00:00:00",
          "2024-03-29T00:00:00",
          "2024-03-28T00:00:00",
          "2024-03-27T00:00:00",
          "2024-03-26T00:00:00",
          "2024-03-25T00:00:00",
          "2024-03-24T00:00:00",
          "2024-03-23T00:00:00",
          "2024-03-22T00:00:00",
          "2024-03-21T00:00:00",
          "2024-03-20T00:00:00",
          "2024-03-19T00:00:00",
          "2024-03-18T00:00:00",
          "2024-03-17T00:00:00",
          "2024-03-16T00:00:00",
          "2024-03-15T00:00:00",
          "2024-03-14T00:00:00",
          "2024-03-13T00:00:00",
          "2024-03-12T00:00:00",
          "2024-03-11T00:00:00",
          "2024-03-10T00:00:00",
          "2024-03-09T00:00:00",
          "2024-03-08T00:00:00",
          "2024-03-07T00:00:00",
          "2024-03-06T00:00:00",
          "2024-03-05T00:00:00",
          "2024-03-04T00:00:00",
          "2024-03-03T00:00:00",
          "2024-03-02T00:00:00",
          "2024-03-01T00:00:00",
          "2024-02-29T00:00:00",
          "2024-02-28T00:00:00",
          "2024-02-27T00:00:00",
          "2024-02-26T00:00:00",
          "2024-02-25T00:00:00",
          "2024-02-24T00:00:00",
          "2024-02-23T00:00:00",
          "2024-02-22T00:00:00",
          "2024-02-21T00:00:00",
          "2024-02-20T00:00:00",
          "2024-02-19T00:00:00",
          "2024-02-18T00:00:00",
          "2024-02-17T00:00:00",
          "2024-02-16T00:00:00",
          "2024-02-15T00:00:00",
          "2024-02-14T00:00:00",
          "2024-02-13T00:00:00",
          "2024-02-12T00:00:00",
          "2024-02-11T00:00:00",
          "2024-02-10T00:00:00",
          "2024-02-09T00:00:00",
          "2024-02-08T00:00:00",
          "2024-02-07T00:00:00",
          "2024-02-06T00:00:00",
          "2024-02-05T00:00:00",
          "2024-02-04T00:00:00",
          "2024-02-03T00:00:00",
          "2024-02-02T00:00:00",
          "2024-02-01T00:00:00",
          "2024-01-31T00:00:00",
          "2024-01-30T00:00:00",
          "2024-01-29T00:00:00",
          "2024-01-28T00:00:00",
          "2024-01-27T00:00:00",
          "2024-01-26T00:00:00",
          "2024-01-25T00:00:00",
          "2024-01-24T00:00:00",
          "2024-01-23T00:00:00",
          "2024-01-22T00:00:00",
          "2024-01-21T00:00:00",
          "2024-01-20T00:00:00",
          "2024-01-19T00:00:00",
          "2024-01-18T00:00:00",
          "2024-01-17T00:00:00",
          "2024-01-16T00:00:00",
          "2024-01-15T00:00:00",
          "2024-01-14T00:00:00",
          "2024-01-13T00:00:00",
          "2024-01-12T00:00:00",
          "2024-01-11T00:00:00",
          "2024-01-10T00:00:00",
          "2024-01-09T00:00:00",
          "2024-01-08T00:00:00",
          "2024-01-07T00:00:00",
          "2024-01-06T00:00:00",
          "2024-01-05T00:00:00",
          "2024-01-04T00:00:00",
          "2024-01-03T00:00:00",
          "2024-01-02T00:00:00",
          "2024-01-01T00:00:00"
         ],
         "xaxis": "x",
         "y": [
          0.9200680791941647,
          0.9878221604723865,
          5.208211879124697,
          5.9319103855505375,
          5.996956582146578,
          5.978989927058007,
          5.6655706842653695,
          0.8027711010767626,
          0.9497339353942341,
          5.362803751302534,
          5.919265022577284,
          5.966353594998264,
          6.024694685654742,
          5.65946370267454,
          0.9299833275442859,
          0.9230149357415771,
          5.482071552622437,
          5.898198680097257,
          5.989894407780479,
          5.9850781521361585,
          5.657482459187216,
          0.7916464050017369,
          0.8815894407780479,
          5.420583535949982,
          5.941729072594651,
          6.030113233761724,
          6.02861827023272,
          5.754522403612365,
          0.803347690170198,
          0.9130927405349083,
          5.525553317124002,
          6.0470441125390755,
          6.060267453977074,
          6.00331434525877,
          5.6963049670024315,
          0.8036109760333447,
          0.8782938520319554,
          5.380100729419937,
          5.97402361931226,
          6.012448766932963,
          6.015844390413339,
          5.35031816602987,
          0.7842910732893367,
          0.8673754775963876,
          5.3600472386245235,
          5.913564432094479,
          6.230980896144494,
          6.101888155609586,
          5.659046891281696,
          1.1895741576936438,
          0.9182563390065994,
          5.571876345953456,
          6.04713858978812,
          6.125122612018063,
          6.108810003473427,
          5.811640847516499,
          0.7874303577631123,
          0.8948975338659256,
          5.591861757554706,
          6.067044112539075,
          6.140623133032304,
          6.124914206321639,
          5.817547064953109,
          0.796252170892671,
          0.8953421326849601,
          5.589449808961445,
          6.072040291767975,
          6.128989927058007,
          6.077470649531086,
          5.674799583188608,
          0.7872233414379992,
          0.8969753386592568,
          5.372841264327893,
          5.920078499478986,
          5.953760333449114,
          5.7746106286905174,
          5.08500798888503,
          0.8080041681139284,
          0.8892886418895448,
          5.34899478985759,
          5.9908065300451545,
          5.986430010420283,
          5.9005856200069475,
          5.74001319902744,
          0.7816359847169156,
          0.8981278221604724,
          5.485037860368182,
          5.9222591177492205,
          5.9657811740187565,
          5.69882945467176,
          1.9976776658561999
         ],
         "yaxis": "y",
         "type": "scattergl"
        },
        {
         "hovertemplate": "variable=Hrs_OthActv<br>WorkDate=%{x}<br>value=%{y}<extra></extra>",
         "legendgroup": "Hrs_OthActv",
         "line": {
          "color": "#FECB52",
          "dash": "solid"
         },
         "marker": {
          "symbol": "circle"
         },
         "mode": "lines",
         "name": "Hrs_OthActv",
         "showlegend": true,
         "x": [
          "2024-03-31T00:00:00",
          "2024-03-30T00:00:00",
          "2024-03-29T00:00:00",
          "2024-03-28T00:00:00",
          "2024-03-27T00:00:00",
          "2024-03-26T00:00:00",
          "2024-03-25T00:00:00",
          "2024-03-24T00:00:00",
          "2024-03-23T00:00:00",
          "2024-03-22T00:00:00",
          "2024-03-21T00:00:00",
          "2024-03-20T00:00:00",
          "2024-03-19T00:00:00",
          "2024-03-18T00:00:00",
          "2024-03-17T00:00:00",
          "2024-03-16T00:00:00",
          "2024-03-15T00:00:00",
          "2024-03-14T00:00:00",
          "2024-03-13T00:00:00",
          "2024-03-12T00:00:00",
          "2024-03-11T00:00:00",
          "2024-03-10T00:00:00",
          "2024-03-09T00:00:00",
          "2024-03-08T00:00:00",
          "2024-03-07T00:00:00",
          "2024-03-06T00:00:00",
          "2024-03-05T00:00:00",
          "2024-03-04T00:00:00",
          "2024-03-03T00:00:00",
          "2024-03-02T00:00:00",
          "2024-03-01T00:00:00",
          "2024-02-29T00:00:00",
          "2024-02-28T00:00:00",
          "2024-02-27T00:00:00",
          "2024-02-26T00:00:00",
          "2024-02-25T00:00:00",
          "2024-02-24T00:00:00",
          "2024-02-23T00:00:00",
          "2024-02-22T00:00:00",
          "2024-02-21T00:00:00",
          "2024-02-20T00:00:00",
          "2024-02-19T00:00:00",
          "2024-02-18T00:00:00",
          "2024-02-17T00:00:00",
          "2024-02-16T00:00:00",
          "2024-02-15T00:00:00",
          "2024-02-14T00:00:00",
          "2024-02-13T00:00:00",
          "2024-02-12T00:00:00",
          "2024-02-11T00:00:00",
          "2024-02-10T00:00:00",
          "2024-02-09T00:00:00",
          "2024-02-08T00:00:00",
          "2024-02-07T00:00:00",
          "2024-02-06T00:00:00",
          "2024-02-05T00:00:00",
          "2024-02-04T00:00:00",
          "2024-02-03T00:00:00",
          "2024-02-02T00:00:00",
          "2024-02-01T00:00:00",
          "2024-01-31T00:00:00",
          "2024-01-30T00:00:00",
          "2024-01-29T00:00:00",
          "2024-01-28T00:00:00",
          "2024-01-27T00:00:00",
          "2024-01-26T00:00:00",
          "2024-01-25T00:00:00",
          "2024-01-24T00:00:00",
          "2024-01-23T00:00:00",
          "2024-01-22T00:00:00",
          "2024-01-21T00:00:00",
          "2024-01-20T00:00:00",
          "2024-01-19T00:00:00",
          "2024-01-18T00:00:00",
          "2024-01-17T00:00:00",
          "2024-01-16T00:00:00",
          "2024-01-15T00:00:00",
          "2024-01-14T00:00:00",
          "2024-01-13T00:00:00",
          "2024-01-12T00:00:00",
          "2024-01-11T00:00:00",
          "2024-01-10T00:00:00",
          "2024-01-09T00:00:00",
          "2024-01-08T00:00:00",
          "2024-01-07T00:00:00",
          "2024-01-06T00:00:00",
          "2024-01-05T00:00:00",
          "2024-01-04T00:00:00",
          "2024-01-03T00:00:00",
          "2024-01-02T00:00:00",
          "2024-01-01T00:00:00"
         ],
         "xaxis": "x",
         "y": [
          5.036409864536297,
          5.759427579020492,
          9.872960055574856,
          10.989691559569296,
          11.183204584925322,
          10.941076762764848,
          9.77584925321292,
          5.2001174018756515,
          5.742430010420285,
          9.962027092740538,
          10.969051754081278,
          11.13321292115318,
          10.910749565821465,
          9.773991663772144,
          5.256436957276833,
          5.642524487669328,
          10.007137895102467,
          10.873609586662036,
          11.072880861410214,
          10.85970823202501,
          9.731545675581799,
          5.158635637374088,
          5.660510593956234,
          9.893893713094828,
          10.932474470302186,
          11.130171587356722,
          10.869888155609587,
          9.768780131990276,
          5.120556443209448,
          5.570635637374087,
          9.89077387981938,
          10.974894060437652,
          11.090207711010768,
          10.84345328238972,
          9.767583188607155,
          5.104263980548802,
          5.5956366794025705,
          9.835909690864884,
          10.905691559569295,
          11.035754775963877,
          10.788167419242791,
          9.456052101424106,
          5.130173671413686,
          5.5511087183049685,
          9.703542202153526,
          10.676233414379995,
          11.332064605765892,
          10.59821674192428,
          9.617593608891976,
          5.496939215005209,
          5.641261549149012,
          9.891592914206324,
          10.87112330670372,
          10.993934004862801,
          10.815933310177146,
          9.674671066342484,
          5.085588746092394,
          5.592525182354983,
          9.83694338311914,
          10.863614449461616,
          11.071304619659601,
          10.850273706147968,
          9.69462730114623,
          5.098189649183744,
          5.604971865230985,
          9.894192427926363,
          10.927030913511636,
          11.014659256686349,
          10.736634942688433,
          9.465484543244184,
          5.085490795415074,
          5.547625564432095,
          9.390066689822858,
          10.686302882945471,
          10.695941646404998,
          10.098143799930531,
          8.924043070510594,
          4.927131642931573,
          5.426539770753735,
          9.40519277526919,
          10.806048627995837,
          10.81670927405349,
          10.380050712052798,
          9.5036776658562,
          4.887592219520667,
          5.512666203542898,
          9.70080444598819,
          10.722659951372007,
          10.760928794720389,
          10.299752691906914,
          6.290013199027442
         ],
         "yaxis": "y",
         "type": "scattergl"
        },
        {
         "hovertemplate": "variable=Hrs_QualSocWrk<br>WorkDate=%{x}<br>value=%{y}<extra></extra>",
         "legendgroup": "Hrs_QualSocWrk",
         "line": {
          "color": "#636efa",
          "dash": "solid"
         },
         "marker": {
          "symbol": "circle"
         },
         "mode": "lines",
         "name": "Hrs_QualSocWrk",
         "showlegend": true,
         "x": [
          "2024-03-31T00:00:00",
          "2024-03-30T00:00:00",
          "2024-03-29T00:00:00",
          "2024-03-28T00:00:00",
          "2024-03-27T00:00:00",
          "2024-03-26T00:00:00",
          "2024-03-25T00:00:00",
          "2024-03-24T00:00:00",
          "2024-03-23T00:00:00",
          "2024-03-22T00:00:00",
          "2024-03-21T00:00:00",
          "2024-03-20T00:00:00",
          "2024-03-19T00:00:00",
          "2024-03-18T00:00:00",
          "2024-03-17T00:00:00",
          "2024-03-16T00:00:00",
          "2024-03-15T00:00:00",
          "2024-03-14T00:00:00",
          "2024-03-13T00:00:00",
          "2024-03-12T00:00:00",
          "2024-03-11T00:00:00",
          "2024-03-10T00:00:00",
          "2024-03-09T00:00:00",
          "2024-03-08T00:00:00",
          "2024-03-07T00:00:00",
          "2024-03-06T00:00:00",
          "2024-03-05T00:00:00",
          "2024-03-04T00:00:00",
          "2024-03-03T00:00:00",
          "2024-03-02T00:00:00",
          "2024-03-01T00:00:00",
          "2024-02-29T00:00:00",
          "2024-02-28T00:00:00",
          "2024-02-27T00:00:00",
          "2024-02-26T00:00:00",
          "2024-02-25T00:00:00",
          "2024-02-24T00:00:00",
          "2024-02-23T00:00:00",
          "2024-02-22T00:00:00",
          "2024-02-21T00:00:00",
          "2024-02-20T00:00:00",
          "2024-02-19T00:00:00",
          "2024-02-18T00:00:00",
          "2024-02-17T00:00:00",
          "2024-02-16T00:00:00",
          "2024-02-15T00:00:00",
          "2024-02-14T00:00:00",
          "2024-02-13T00:00:00",
          "2024-02-12T00:00:00",
          "2024-02-11T00:00:00",
          "2024-02-10T00:00:00",
          "2024-02-09T00:00:00",
          "2024-02-08T00:00:00",
          "2024-02-07T00:00:00",
          "2024-02-06T00:00:00",
          "2024-02-05T00:00:00",
          "2024-02-04T00:00:00",
          "2024-02-03T00:00:00",
          "2024-02-02T00:00:00",
          "2024-02-01T00:00:00",
          "2024-01-31T00:00:00",
          "2024-01-30T00:00:00",
          "2024-01-29T00:00:00",
          "2024-01-28T00:00:00",
          "2024-01-27T00:00:00",
          "2024-01-26T00:00:00",
          "2024-01-25T00:00:00",
          "2024-01-24T00:00:00",
          "2024-01-23T00:00:00",
          "2024-01-22T00:00:00",
          "2024-01-21T00:00:00",
          "2024-01-20T00:00:00",
          "2024-01-19T00:00:00",
          "2024-01-18T00:00:00",
          "2024-01-17T00:00:00",
          "2024-01-16T00:00:00",
          "2024-01-15T00:00:00",
          "2024-01-14T00:00:00",
          "2024-01-13T00:00:00",
          "2024-01-12T00:00:00",
          "2024-01-11T00:00:00",
          "2024-01-10T00:00:00",
          "2024-01-09T00:00:00",
          "2024-01-08T00:00:00",
          "2024-01-07T00:00:00",
          "2024-01-06T00:00:00",
          "2024-01-05T00:00:00",
          "2024-01-04T00:00:00",
          "2024-01-03T00:00:00",
          "2024-01-02T00:00:00",
          "2024-01-01T00:00:00"
         ],
         "xaxis": "x",
         "y": [
          0.19272594650920455,
          0.25771934699548454,
          5.269357415769364,
          6.202986453629732,
          6.300171587356721,
          6.317053143452588,
          6.111630427231678,
          0.23529072594650918,
          0.26694338311913857,
          5.786580757207365,
          6.266814171587355,
          6.313262938520318,
          6.30995623480375,
          6.0954505036471,
          0.23238832928100034,
          0.24967766585620008,
          5.7676200069468555,
          6.225872177839528,
          6.267370614796804,
          6.305035776311221,
          6.088030566168808,
          0.25159569294894063,
          0.2748016672455713,
          5.82811601250434,
          6.291187912469608,
          6.348006946856548,
          6.345358805140673,
          6.140345258770406,
          0.25027092740534906,
          0.2680750260507121,
          5.833096908648837,
          6.321154567558181,
          6.339890934352208,
          6.375276832233413,
          6.149204584925321,
          0.25303647099687393,
          0.2723133032302883,
          5.811199722125739,
          6.25510038207711,
          6.315221952066689,
          6.307773532476553,
          5.462979506773186,
          0.23438624522403614,
          0.2736651615144147,
          5.814543244182007,
          6.287237929836748,
          6.296994095171933,
          6.204989927058007,
          6.1034921847863846,
          0.24485654741229593,
          0.2799145536644668,
          5.8860277874261895,
          6.341860368183395,
          6.378837790899619,
          6.412522403612365,
          6.2339604029176785,
          0.24692532129211536,
          0.2876880861410212,
          5.936208405696421,
          6.331885376866968,
          6.371467870788468,
          6.377637374088224,
          6.21821813129559,
          0.23220423758249392,
          0.28214032650225773,
          5.9198054880166735,
          6.361055227509551,
          6.368478638416117,
          6.3958728725251826,
          6.1558388329281,
          0.23772698853768673,
          0.2884445988190344,
          5.851929142063216,
          6.300405696422371,
          6.288184091698506,
          6.109610281347691,
          5.15522056269538,
          0.2373970128516846,
          0.2745849253212921,
          5.810734282737061,
          6.324650920458492,
          6.34221396318166,
          6.252482806530047,
          6.120925321292115,
          0.21956304272316773,
          0.2881563042723168,
          5.925602639805488,
          6.268424452935047,
          6.261360889197638,
          5.985840222299409,
          1.216091003820771
         ],
         "yaxis": "y",
         "type": "scattergl"
        },
        {
         "hovertemplate": "variable=Hrs_OthSocWrk<br>WorkDate=%{x}<br>value=%{y}<extra></extra>",
         "legendgroup": "Hrs_OthSocWrk",
         "line": {
          "color": "#EF553B",
          "dash": "solid"
         },
         "marker": {
          "symbol": "circle"
         },
         "mode": "lines",
         "name": "Hrs_OthSocWrk",
         "showlegend": true,
         "x": [
          "2024-03-31T00:00:00",
          "2024-03-30T00:00:00",
          "2024-03-29T00:00:00",
          "2024-03-28T00:00:00",
          "2024-03-27T00:00:00",
          "2024-03-26T00:00:00",
          "2024-03-25T00:00:00",
          "2024-03-24T00:00:00",
          "2024-03-23T00:00:00",
          "2024-03-22T00:00:00",
          "2024-03-21T00:00:00",
          "2024-03-20T00:00:00",
          "2024-03-19T00:00:00",
          "2024-03-18T00:00:00",
          "2024-03-17T00:00:00",
          "2024-03-16T00:00:00",
          "2024-03-15T00:00:00",
          "2024-03-14T00:00:00",
          "2024-03-13T00:00:00",
          "2024-03-12T00:00:00",
          "2024-03-11T00:00:00",
          "2024-03-10T00:00:00",
          "2024-03-09T00:00:00",
          "2024-03-08T00:00:00",
          "2024-03-07T00:00:00",
          "2024-03-06T00:00:00",
          "2024-03-05T00:00:00",
          "2024-03-04T00:00:00",
          "2024-03-03T00:00:00",
          "2024-03-02T00:00:00",
          "2024-03-01T00:00:00",
          "2024-02-29T00:00:00",
          "2024-02-28T00:00:00",
          "2024-02-27T00:00:00",
          "2024-02-26T00:00:00",
          "2024-02-25T00:00:00",
          "2024-02-24T00:00:00",
          "2024-02-23T00:00:00",
          "2024-02-22T00:00:00",
          "2024-02-21T00:00:00",
          "2024-02-20T00:00:00",
          "2024-02-19T00:00:00",
          "2024-02-18T00:00:00",
          "2024-02-17T00:00:00",
          "2024-02-16T00:00:00",
          "2024-02-15T00:00:00",
          "2024-02-14T00:00:00",
          "2024-02-13T00:00:00",
          "2024-02-12T00:00:00",
          "2024-02-11T00:00:00",
          "2024-02-10T00:00:00",
          "2024-02-09T00:00:00",
          "2024-02-08T00:00:00",
          "2024-02-07T00:00:00",
          "2024-02-06T00:00:00",
          "2024-02-05T00:00:00",
          "2024-02-04T00:00:00",
          "2024-02-03T00:00:00",
          "2024-02-02T00:00:00",
          "2024-02-01T00:00:00",
          "2024-01-31T00:00:00",
          "2024-01-30T00:00:00",
          "2024-01-29T00:00:00",
          "2024-01-28T00:00:00",
          "2024-01-27T00:00:00",
          "2024-01-26T00:00:00",
          "2024-01-25T00:00:00",
          "2024-01-24T00:00:00",
          "2024-01-23T00:00:00",
          "2024-01-22T00:00:00",
          "2024-01-21T00:00:00",
          "2024-01-20T00:00:00",
          "2024-01-19T00:00:00",
          "2024-01-18T00:00:00",
          "2024-01-17T00:00:00",
          "2024-01-16T00:00:00",
          "2024-01-15T00:00:00",
          "2024-01-14T00:00:00",
          "2024-01-13T00:00:00",
          "2024-01-12T00:00:00",
          "2024-01-11T00:00:00",
          "2024-01-10T00:00:00",
          "2024-01-09T00:00:00",
          "2024-01-08T00:00:00",
          "2024-01-07T00:00:00",
          "2024-01-06T00:00:00",
          "2024-01-05T00:00:00",
          "2024-01-04T00:00:00",
          "2024-01-03T00:00:00",
          "2024-01-02T00:00:00",
          "2024-01-01T00:00:00"
         ],
         "xaxis": "x",
         "y": [
          0.28627231677665865,
          0.38429524140326493,
          3.770445293504689,
          4.309469954845432,
          4.39508301493574,
          4.337616533518583,
          4.203442167419244,
          0.32961097603334494,
          0.38014796804445977,
          4.022590482806531,
          4.352198680097256,
          4.396450850989927,
          4.396788468218132,
          4.2304320944772495,
          0.33299340048628,
          0.373511635984717,
          4.062560611323377,
          4.332282042375825,
          4.390184091698506,
          4.373852031955541,
          4.225795762417506,
          0.3442000694685654,
          0.3866634248002779,
          4.098720389023967,
          4.382748176450156,
          4.415274053490794,
          4.416759986106286,
          4.263135116359846,
          0.3376505731156652,
          0.3629510246613407,
          4.088490448072248,
          4.400193122612017,
          4.431217089267108,
          4.402664119485931,
          4.258459187217784,
          0.33649531087183043,
          0.38832650225772847,
          4.09226675929142,
          4.374770406391107,
          4.409091351163599,
          4.388925321292114,
          3.925324070857936,
          0.32535741576936433,
          0.36559152483501217,
          4.061610976033346,
          4.381558874609238,
          4.384329281000348,
          4.3491483153872865,
          4.193213615838834,
          0.33256477943730467,
          0.38919694338311905,
          4.101475512330671,
          4.394066689822856,
          4.416235498436957,
          4.41993122612018,
          4.245174713442169,
          0.3326912122264675,
          0.384633553317124,
          4.1215824939215,
          4.414069468565475,
          4.458020145883987,
          4.442422368878082,
          4.271974296630774,
          0.33091837443556793,
          0.38481347690170187,
          4.173708926710664,
          4.408962139631817,
          4.446667592914205,
          4.421262243834664,
          4.20318513372699,
          0.3459777700590483,
          0.4204300104202848,
          4.090258423063563,
          4.4003647099687395,
          4.39916637721431,
          4.279444251476208,
          3.736204237582494,
          0.3282104897533866,
          0.3864946161861758,
          4.0312233414379985,
          4.390554359152484,
          4.408973254602293,
          4.310998957971517,
          4.244118791246961,
          0.3371288641889545,
          0.3876769711705453,
          4.142847516498785,
          4.379443556790552,
          4.373335880514067,
          4.158093782563391,
          1.1858089614449463
         ],
         "yaxis": "y",
         "type": "scattergl"
        },
        {
         "hovertemplate": "variable=Hrs_MHSvc<br>WorkDate=%{x}<br>value=%{y}<extra></extra>",
         "legendgroup": "Hrs_MHSvc",
         "line": {
          "color": "#00cc96",
          "dash": "solid"
         },
         "marker": {
          "symbol": "circle"
         },
         "mode": "lines",
         "name": "Hrs_MHSvc",
         "showlegend": true,
         "x": [
          "2024-03-31T00:00:00",
          "2024-03-30T00:00:00",
          "2024-03-29T00:00:00",
          "2024-03-28T00:00:00",
          "2024-03-27T00:00:00",
          "2024-03-26T00:00:00",
          "2024-03-25T00:00:00",
          "2024-03-24T00:00:00",
          "2024-03-23T00:00:00",
          "2024-03-22T00:00:00",
          "2024-03-21T00:00:00",
          "2024-03-20T00:00:00",
          "2024-03-19T00:00:00",
          "2024-03-18T00:00:00",
          "2024-03-17T00:00:00",
          "2024-03-16T00:00:00",
          "2024-03-15T00:00:00",
          "2024-03-14T00:00:00",
          "2024-03-13T00:00:00",
          "2024-03-12T00:00:00",
          "2024-03-11T00:00:00",
          "2024-03-10T00:00:00",
          "2024-03-09T00:00:00",
          "2024-03-08T00:00:00",
          "2024-03-07T00:00:00",
          "2024-03-06T00:00:00",
          "2024-03-05T00:00:00",
          "2024-03-04T00:00:00",
          "2024-03-03T00:00:00",
          "2024-03-02T00:00:00",
          "2024-03-01T00:00:00",
          "2024-02-29T00:00:00",
          "2024-02-28T00:00:00",
          "2024-02-27T00:00:00",
          "2024-02-26T00:00:00",
          "2024-02-25T00:00:00",
          "2024-02-24T00:00:00",
          "2024-02-23T00:00:00",
          "2024-02-22T00:00:00",
          "2024-02-21T00:00:00",
          "2024-02-20T00:00:00",
          "2024-02-19T00:00:00",
          "2024-02-18T00:00:00",
          "2024-02-17T00:00:00",
          "2024-02-16T00:00:00",
          "2024-02-15T00:00:00",
          "2024-02-14T00:00:00",
          "2024-02-13T00:00:00",
          "2024-02-12T00:00:00",
          "2024-02-11T00:00:00",
          "2024-02-10T00:00:00",
          "2024-02-09T00:00:00",
          "2024-02-08T00:00:00",
          "2024-02-07T00:00:00",
          "2024-02-06T00:00:00",
          "2024-02-05T00:00:00",
          "2024-02-04T00:00:00",
          "2024-02-03T00:00:00",
          "2024-02-02T00:00:00",
          "2024-02-01T00:00:00",
          "2024-01-31T00:00:00",
          "2024-01-30T00:00:00",
          "2024-01-29T00:00:00",
          "2024-01-28T00:00:00",
          "2024-01-27T00:00:00",
          "2024-01-26T00:00:00",
          "2024-01-25T00:00:00",
          "2024-01-24T00:00:00",
          "2024-01-23T00:00:00",
          "2024-01-22T00:00:00",
          "2024-01-21T00:00:00",
          "2024-01-20T00:00:00",
          "2024-01-19T00:00:00",
          "2024-01-18T00:00:00",
          "2024-01-17T00:00:00",
          "2024-01-16T00:00:00",
          "2024-01-15T00:00:00",
          "2024-01-14T00:00:00",
          "2024-01-13T00:00:00",
          "2024-01-12T00:00:00",
          "2024-01-11T00:00:00",
          "2024-01-10T00:00:00",
          "2024-01-09T00:00:00",
          "2024-01-08T00:00:00",
          "2024-01-07T00:00:00",
          "2024-01-06T00:00:00",
          "2024-01-05T00:00:00",
          "2024-01-04T00:00:00",
          "2024-01-03T00:00:00",
          "2024-01-02T00:00:00",
          "2024-01-01T00:00:00"
         ],
         "xaxis": "x",
         "y": [
          0.10184577978464744,
          0.11835637374088227,
          0.2605800625217089,
          0.2873331017714484,
          0.2915762417506078,
          0.30184230635637377,
          0.2756526571726294,
          0.1101840916985064,
          0.12078777353247655,
          0.26635706842653695,
          0.29145397707537335,
          0.3027210837096214,
          0.29447516498784293,
          0.26595276137547763,
          0.11231608197290725,
          0.12106703716568253,
          0.268120875303925,
          0.291385203195554,
          0.2960479333101772,
          0.30367558179923587,
          0.2731872177839527,
          0.10880444598819035,
          0.12105036470996876,
          0.25577005904828065,
          0.28323306703716566,
          0.2966009030913511,
          0.29825356026398053,
          0.2751156651615144,
          0.10235637374088224,
          0.11174435567905522,
          0.2493018409169851,
          0.2817165682528656,
          0.2921938172976728,
          0.2921437999305314,
          0.2699902744008337,
          0.11061549149010072,
          0.11819868009725601,
          0.2540166724557138,
          0.28434317471344217,
          0.294015977770059,
          0.3028808614102118,
          0.25186662035428975,
          0.11185967349774227,
          0.11362139631816602,
          0.2566273011462313,
          0.28419590135463707,
          0.28577978464744697,
          0.29016255644320943,
          0.263879124696075,
          0.10550746787078848,
          0.11458214657867315,
          0.2558784300104203,
          0.2905119833275443,
          0.29609934004862787,
          0.2963438693990969,
          0.26542410559221946,
          0.1068440430705106,
          0.1123876345953456,
          0.2677950677318513,
          0.2901500521014241,
          0.28921361583883287,
          0.29384300104202843,
          0.2644501563042723,
          0.1098923237235151,
          0.10751858284126432,
          0.259981243487322,
          0.2784244529350469,
          0.2953685307398402,
          0.2937401875651269,
          0.26058284126432785,
          0.10946161861757556,
          0.10855783258075721,
          0.2537915943035776,
          0.28248002778742615,
          0.28687599861062874,
          0.28418964918374434,
          0.24942896839180265,
          0.10038902396665508,
          0.10640291767974992,
          0.24063146926015977,
          0.2876957276832233,
          0.2901118443904134,
          0.2894699548454324,
          0.25955401180965615,
          0.1110600903091351,
          0.10616672455713792,
          0.2536922542549496,
          0.2773456061132338,
          0.2776887808266759,
          0.2808801667245571,
          0.14416255644320947
         ],
         "yaxis": "y",
         "type": "scattergl"
        }
       ],
       "layout": {
        "template": {
         "data": {
          "histogram2dcontour": [
           {
            "type": "histogram2dcontour",
            "colorbar": {
             "outlinewidth": 0,
             "ticks": ""
            },
            "colorscale": [
             [
              0.0,
              "#0d0887"
             ],
             [
              0.1111111111111111,
              "#46039f"
             ],
             [
              0.2222222222222222,
              "#7201a8"
             ],
             [
              0.3333333333333333,
              "#9c179e"
             ],
             [
              0.4444444444444444,
              "#bd3786"
             ],
             [
              0.5555555555555556,
              "#d8576b"
             ],
             [
              0.6666666666666666,
              "#ed7953"
             ],
             [
              0.7777777777777778,
              "#fb9f3a"
             ],
             [
              0.8888888888888888,
              "#fdca26"
             ],
             [
              1.0,
              "#f0f921"
             ]
            ]
           }
          ],
          "choropleth": [
           {
            "type": "choropleth",
            "colorbar": {
             "outlinewidth": 0,
             "ticks": ""
            }
           }
          ],
          "histogram2d": [
           {
            "type": "histogram2d",
            "colorbar": {
             "outlinewidth": 0,
             "ticks": ""
            },
            "colorscale": [
             [
              0.0,
              "#0d0887"
             ],
             [
              0.1111111111111111,
              "#46039f"
             ],
             [
              0.2222222222222222,
              "#7201a8"
             ],
             [
              0.3333333333333333,
              "#9c179e"
             ],
             [
              0.4444444444444444,
              "#bd3786"
             ],
             [
              0.5555555555555556,
              "#d8576b"
             ],
             [
              0.6666666666666666,
              "#ed7953"
             ],
             [
              0.7777777777777778,
              "#fb9f3a"
             ],
             [
              0.8888888888888888,
              "#fdca26"
             ],
             [
              1.0,
              "#f0f921"
             ]
            ]
           }
          ],
          "heatmap": [
           {
            "type": "heatmap",
            "colorbar": {
             "outlinewidth": 0,
             "ticks": ""
            },
            "colorscale": [
             [
              0.0,
              "#0d0887"
             ],
             [
              0.1111111111111111,
              "#46039f"
             ],
             [
              0.2222222222222222,
              "#7201a8"
             ],
             [
              0.3333333333333333,
              "#9c179e"
             ],
             [
              0.4444444444444444,
              "#bd3786"
             ],
             [
              0.5555555555555556,
              "#d8576b"
             ],
             [
              0.6666666666666666,
              "#ed7953"
             ],
             [
              0.7777777777777778,
              "#fb9f3a"
             ],
             [
              0.8888888888888888,
              "#fdca26"
             ],
             [
              1.0,
              "#f0f921"
             ]
            ]
           }
          ],
          "heatmapgl": [
           {
            "type": "heatmapgl",
            "colorbar": {
             "outlinewidth": 0,
             "ticks": ""
            },
            "colorscale": [
             [
              0.0,
              "#0d0887"
             ],
             [
              0.1111111111111111,
              "#46039f"
             ],
             [
              0.2222222222222222,
              "#7201a8"
             ],
             [
              0.3333333333333333,
              "#9c179e"
             ],
             [
              0.4444444444444444,
              "#bd3786"
             ],
             [
              0.5555555555555556,
              "#d8576b"
             ],
             [
              0.6666666666666666,
              "#ed7953"
             ],
             [
              0.7777777777777778,
              "#fb9f3a"
             ],
             [
              0.8888888888888888,
              "#fdca26"
             ],
             [
              1.0,
              "#f0f921"
             ]
            ]
           }
          ],
          "contourcarpet": [
           {
            "type": "contourcarpet",
            "colorbar": {
             "outlinewidth": 0,
             "ticks": ""
            }
           }
          ],
          "contour": [
           {
            "type": "contour",
            "colorbar": {
             "outlinewidth": 0,
             "ticks": ""
            },
            "colorscale": [
             [
              0.0,
              "#0d0887"
             ],
             [
              0.1111111111111111,
              "#46039f"
             ],
             [
              0.2222222222222222,
              "#7201a8"
             ],
             [
              0.3333333333333333,
              "#9c179e"
             ],
             [
              0.4444444444444444,
              "#bd3786"
             ],
             [
              0.5555555555555556,
              "#d8576b"
             ],
             [
              0.6666666666666666,
              "#ed7953"
             ],
             [
              0.7777777777777778,
              "#fb9f3a"
             ],
             [
              0.8888888888888888,
              "#fdca26"
             ],
             [
              1.0,
              "#f0f921"
             ]
            ]
           }
          ],
          "surface": [
           {
            "type": "surface",
            "colorbar": {
             "outlinewidth": 0,
             "ticks": ""
            },
            "colorscale": [
             [
              0.0,
              "#0d0887"
             ],
             [
              0.1111111111111111,
              "#46039f"
             ],
             [
              0.2222222222222222,
              "#7201a8"
             ],
             [
              0.3333333333333333,
              "#9c179e"
             ],
             [
              0.4444444444444444,
              "#bd3786"
             ],
             [
              0.5555555555555556,
              "#d8576b"
             ],
             [
              0.6666666666666666,
              "#ed7953"
             ],
             [
              0.7777777777777778,
              "#fb9f3a"
             ],
             [
              0.8888888888888888,
              "#fdca26"
             ],
             [
              1.0,
              "#f0f921"
             ]
            ]
           }
          ],
          "mesh3d": [
           {
            "type": "mesh3d",
            "colorbar": {
             "outlinewidth": 0,
             "ticks": ""
            }
           }
          ],
          "scatter": [
           {
            "marker": {
             "line": {
              "color": "#283442"
             }
            },
            "type": "scatter"
           }
          ],
          "parcoords": [
           {
            "type": "parcoords",
            "line": {
             "colorbar": {
              "outlinewidth": 0,
              "ticks": ""
             }
            }
           }
          ],
          "scatterpolargl": [
           {
            "type": "scatterpolargl",
            "marker": {
             "colorbar": {
              "outlinewidth": 0,
              "ticks": ""
             }
            }
           }
          ],
          "bar": [
           {
            "error_x": {
             "color": "#f2f5fa"
            },
            "error_y": {
             "color": "#f2f5fa"
            },
            "marker": {
             "line": {
              "color": "rgb(17,17,17)",
              "width": 0.5
             },
             "pattern": {
              "fillmode": "overlay",
              "size": 10,
              "solidity": 0.2
             }
            },
            "type": "bar"
           }
          ],
          "scattergeo": [
           {
            "type": "scattergeo",
            "marker": {
             "colorbar": {
              "outlinewidth": 0,
              "ticks": ""
             }
            }
           }
          ],
          "scatterpolar": [
           {
            "type": "scatterpolar",
            "marker": {
             "colorbar": {
              "outlinewidth": 0,
              "ticks": ""
             }
            }
           }
          ],
          "histogram": [
           {
            "marker": {
             "pattern": {
              "fillmode": "overlay",
              "size": 10,
              "solidity": 0.2
             }
            },
            "type": "histogram"
           }
          ],
          "scattergl": [
           {
            "marker": {
             "line": {
              "color": "#283442"
             }
            },
            "type": "scattergl"
           }
          ],
          "scatter3d": [
           {
            "type": "scatter3d",
            "line": {
             "colorbar": {
              "outlinewidth": 0,
              "ticks": ""
             }
            },
            "marker": {
             "colorbar": {
              "outlinewidth": 0,
              "ticks": ""
             }
            }
           }
          ],
          "scattermapbox": [
           {
            "type": "scattermapbox",
            "marker": {
             "colorbar": {
              "outlinewidth": 0,
              "ticks": ""
             }
            }
           }
          ],
          "scatterternary": [
           {
            "type": "scatterternary",
            "marker": {
             "colorbar": {
              "outlinewidth": 0,
              "ticks": ""
             }
            }
           }
          ],
          "scattercarpet": [
           {
            "type": "scattercarpet",
            "marker": {
             "colorbar": {
              "outlinewidth": 0,
              "ticks": ""
             }
            }
           }
          ],
          "carpet": [
           {
            "aaxis": {
             "endlinecolor": "#A2B1C6",
             "gridcolor": "#506784",
             "linecolor": "#506784",
             "minorgridcolor": "#506784",
             "startlinecolor": "#A2B1C6"
            },
            "baxis": {
             "endlinecolor": "#A2B1C6",
             "gridcolor": "#506784",
             "linecolor": "#506784",
             "minorgridcolor": "#506784",
             "startlinecolor": "#A2B1C6"
            },
            "type": "carpet"
           }
          ],
          "table": [
           {
            "cells": {
             "fill": {
              "color": "#506784"
             },
             "line": {
              "color": "rgb(17,17,17)"
             }
            },
            "header": {
             "fill": {
              "color": "#2a3f5f"
             },
             "line": {
              "color": "rgb(17,17,17)"
             }
            },
            "type": "table"
           }
          ],
          "barpolar": [
           {
            "marker": {
             "line": {
              "color": "rgb(17,17,17)",
              "width": 0.5
             },
             "pattern": {
              "fillmode": "overlay",
              "size": 10,
              "solidity": 0.2
             }
            },
            "type": "barpolar"
           }
          ],
          "pie": [
           {
            "automargin": true,
            "type": "pie"
           }
          ]
         },
         "layout": {
          "autotypenumbers": "strict",
          "colorway": [
           "#636efa",
           "#EF553B",
           "#00cc96",
           "#ab63fa",
           "#FFA15A",
           "#19d3f3",
           "#FF6692",
           "#B6E880",
           "#FF97FF",
           "#FECB52"
          ],
          "font": {
           "color": "#f2f5fa"
          },
          "hovermode": "closest",
          "hoverlabel": {
           "align": "left"
          },
          "paper_bgcolor": "rgb(17,17,17)",
          "plot_bgcolor": "rgb(17,17,17)",
          "polar": {
           "bgcolor": "rgb(17,17,17)",
           "angularaxis": {
            "gridcolor": "#506784",
            "linecolor": "#506784",
            "ticks": ""
           },
           "radialaxis": {
            "gridcolor": "#506784",
            "linecolor": "#506784",
            "ticks": ""
           }
          },
          "ternary": {
           "bgcolor": "rgb(17,17,17)",
           "aaxis": {
            "gridcolor": "#506784",
            "linecolor": "#506784",
            "ticks": ""
           },
           "baxis": {
            "gridcolor": "#506784",
            "linecolor": "#506784",
            "ticks": ""
           },
           "caxis": {
            "gridcolor": "#506784",
            "linecolor": "#506784",
            "ticks": ""
           }
          },
          "coloraxis": {
           "colorbar": {
            "outlinewidth": 0,
            "ticks": ""
           }
          },
          "colorscale": {
           "sequential": [
            [
             0.0,
             "#0d0887"
            ],
            [
             0.1111111111111111,
             "#46039f"
            ],
            [
             0.2222222222222222,
             "#7201a8"
            ],
            [
             0.3333333333333333,
             "#9c179e"
            ],
            [
             0.4444444444444444,
             "#bd3786"
            ],
            [
             0.5555555555555556,
             "#d8576b"
            ],
            [
             0.6666666666666666,
             "#ed7953"
            ],
            [
             0.7777777777777778,
             "#fb9f3a"
            ],
            [
             0.8888888888888888,
             "#fdca26"
            ],
            [
             1.0,
             "#f0f921"
            ]
           ],
           "sequentialminus": [
            [
             0.0,
             "#0d0887"
            ],
            [
             0.1111111111111111,
             "#46039f"
            ],
            [
             0.2222222222222222,
             "#7201a8"
            ],
            [
             0.3333333333333333,
             "#9c179e"
            ],
            [
             0.4444444444444444,
             "#bd3786"
            ],
            [
             0.5555555555555556,
             "#d8576b"
            ],
            [
             0.6666666666666666,
             "#ed7953"
            ],
            [
             0.7777777777777778,
             "#fb9f3a"
            ],
            [
             0.8888888888888888,
             "#fdca26"
            ],
            [
             1.0,
             "#f0f921"
            ]
           ],
           "diverging": [
            [
             0,
             "#8e0152"
            ],
            [
             0.1,
             "#c51b7d"
            ],
            [
             0.2,
             "#de77ae"
            ],
            [
             0.3,
             "#f1b6da"
            ],
            [
             0.4,
             "#fde0ef"
            ],
            [
             0.5,
             "#f7f7f7"
            ],
            [
             0.6,
             "#e6f5d0"
            ],
            [
             0.7,
             "#b8e186"
            ],
            [
             0.8,
             "#7fbc41"
            ],
            [
             0.9,
             "#4d9221"
            ],
            [
             1,
             "#276419"
            ]
           ]
          },
          "xaxis": {
           "gridcolor": "#283442",
           "linecolor": "#506784",
           "ticks": "",
           "title": {
            "standoff": 15
           },
           "zerolinecolor": "#283442",
           "automargin": true,
           "zerolinewidth": 2
          },
          "yaxis": {
           "gridcolor": "#283442",
           "linecolor": "#506784",
           "ticks": "",
           "title": {
            "standoff": 15
           },
           "zerolinecolor": "#283442",
           "automargin": true,
           "zerolinewidth": 2
          },
          "scene": {
           "xaxis": {
            "backgroundcolor": "rgb(17,17,17)",
            "gridcolor": "#506784",
            "linecolor": "#506784",
            "showbackground": true,
            "ticks": "",
            "zerolinecolor": "#C8D4E3",
            "gridwidth": 2
           },
           "yaxis": {
            "backgroundcolor": "rgb(17,17,17)",
            "gridcolor": "#506784",
            "linecolor": "#506784",
            "showbackground": true,
            "ticks": "",
            "zerolinecolor": "#C8D4E3",
            "gridwidth": 2
           },
           "zaxis": {
            "backgroundcolor": "rgb(17,17,17)",
            "gridcolor": "#506784",
            "linecolor": "#506784",
            "showbackground": true,
            "ticks": "",
            "zerolinecolor": "#C8D4E3",
            "gridwidth": 2
           }
          },
          "shapedefaults": {
           "line": {
            "color": "#f2f5fa"
           }
          },
          "annotationdefaults": {
           "arrowcolor": "#f2f5fa",
           "arrowhead": 0,
           "arrowwidth": 1
          },
          "geo": {
           "bgcolor": "rgb(17,17,17)",
           "landcolor": "rgb(17,17,17)",
           "subunitcolor": "#506784",
           "showland": true,
           "showlakes": true,
           "lakecolor": "rgb(17,17,17)"
          },
          "title": {
           "x": 0.05
          },
          "updatemenudefaults": {
           "bgcolor": "#506784",
           "borderwidth": 0
          },
          "sliderdefaults": {
           "bgcolor": "#C8D4E3",
           "borderwidth": 1,
           "bordercolor": "rgb(17,17,17)",
           "tickwidth": 0
          },
          "mapbox": {
           "style": "dark"
          }
         }
        },
        "xaxis": {
         "anchor": "y",
         "domain": [
          0.0,
          1.0
         ],
         "title": {
          "text": "WorkDate"
         }
        },
        "yaxis": {
         "anchor": "x",
         "domain": [
          0.0,
          1.0
         ],
         "title": {
          "text": "value"
         }
        },
        "legend": {
         "title": {
          "text": "variable"
         },
         "tracegroupgap": 0
        },
        "title": {
         "text": "Non-Nurses"
        }
       },
       "config": {
        "plotlyServerURL": "https://plot.ly"
       }
      },
      "text/html": [
       "<div>                            <div id=\"367f5cb7-0173-44e2-ac14-3830f22b57a6\" class=\"plotly-graph-div\" style=\"height:525px; width:100%;\"></div>            <script type=\"text/javascript\">                require([\"plotly\"], function(Plotly) {                    window.PLOTLYENV=window.PLOTLYENV || {};                                    if (document.getElementById(\"367f5cb7-0173-44e2-ac14-3830f22b57a6\")) {                    Plotly.newPlot(                        \"367f5cb7-0173-44e2-ac14-3830f22b57a6\",                        [{\"hovertemplate\":\"variable=Hrs_MedDir\\u003cbr\\u003eWorkDate=%{x}\\u003cbr\\u003evalue=%{y}\\u003cextra\\u003e\\u003c\\u002fextra\\u003e\",\"legendgroup\":\"Hrs_MedDir\",\"line\":{\"color\":\"#636efa\",\"dash\":\"solid\"},\"marker\":{\"symbol\":\"circle\"},\"mode\":\"lines\",\"name\":\"Hrs_MedDir\",\"showlegend\":true,\"x\":[\"2024-03-31T00:00:00\",\"2024-03-30T00:00:00\",\"2024-03-29T00:00:00\",\"2024-03-28T00:00:00\",\"2024-03-27T00:00:00\",\"2024-03-26T00:00:00\",\"2024-03-25T00:00:00\",\"2024-03-24T00:00:00\",\"2024-03-23T00:00:00\",\"2024-03-22T00:00:00\",\"2024-03-21T00:00:00\",\"2024-03-20T00:00:00\",\"2024-03-19T00:00:00\",\"2024-03-18T00:00:00\",\"2024-03-17T00:00:00\",\"2024-03-16T00:00:00\",\"2024-03-15T00:00:00\",\"2024-03-14T00:00:00\",\"2024-03-13T00:00:00\",\"2024-03-12T00:00:00\",\"2024-03-11T00:00:00\",\"2024-03-10T00:00:00\",\"2024-03-09T00:00:00\",\"2024-03-08T00:00:00\",\"2024-03-07T00:00:00\",\"2024-03-06T00:00:00\",\"2024-03-05T00:00:00\",\"2024-03-04T00:00:00\",\"2024-03-03T00:00:00\",\"2024-03-02T00:00:00\",\"2024-03-01T00:00:00\",\"2024-02-29T00:00:00\",\"2024-02-28T00:00:00\",\"2024-02-27T00:00:00\",\"2024-02-26T00:00:00\",\"2024-02-25T00:00:00\",\"2024-02-24T00:00:00\",\"2024-02-23T00:00:00\",\"2024-02-22T00:00:00\",\"2024-02-21T00:00:00\",\"2024-02-20T00:00:00\",\"2024-02-19T00:00:00\",\"2024-02-18T00:00:00\",\"2024-02-17T00:00:00\",\"2024-02-16T00:00:00\",\"2024-02-15T00:00:00\",\"2024-02-14T00:00:00\",\"2024-02-13T00:00:00\",\"2024-02-12T00:00:00\",\"2024-02-11T00:00:00\",\"2024-02-10T00:00:00\",\"2024-02-09T00:00:00\",\"2024-02-08T00:00:00\",\"2024-02-07T00:00:00\",\"2024-02-06T00:00:00\",\"2024-02-05T00:00:00\",\"2024-02-04T00:00:00\",\"2024-02-03T00:00:00\",\"2024-02-02T00:00:00\",\"2024-02-01T00:00:00\",\"2024-01-31T00:00:00\",\"2024-01-30T00:00:00\",\"2024-01-29T00:00:00\",\"2024-01-28T00:00:00\",\"2024-01-27T00:00:00\",\"2024-01-26T00:00:00\",\"2024-01-25T00:00:00\",\"2024-01-24T00:00:00\",\"2024-01-23T00:00:00\",\"2024-01-22T00:00:00\",\"2024-01-21T00:00:00\",\"2024-01-20T00:00:00\",\"2024-01-19T00:00:00\",\"2024-01-18T00:00:00\",\"2024-01-17T00:00:00\",\"2024-01-16T00:00:00\",\"2024-01-15T00:00:00\",\"2024-01-14T00:00:00\",\"2024-01-13T00:00:00\",\"2024-01-12T00:00:00\",\"2024-01-11T00:00:00\",\"2024-01-10T00:00:00\",\"2024-01-09T00:00:00\",\"2024-01-08T00:00:00\",\"2024-01-07T00:00:00\",\"2024-01-06T00:00:00\",\"2024-01-05T00:00:00\",\"2024-01-04T00:00:00\",\"2024-01-03T00:00:00\",\"2024-01-02T00:00:00\",\"2024-01-01T00:00:00\"],\"xaxis\":\"x\",\"y\":[0.1530816255644321,0.0641500521014241,0.4087315039944427,0.43621187912469606,0.5034421674192427,0.4552587704063911,0.4459847169155956,0.0631205279610976,0.05893365751997221,0.4119562348037512,0.4739902744008336,0.5345189301840919,0.47915526224383465,0.45325321292115317,0.05448350121569989,0.05849392150052101,0.4163202500868359,0.44724557137895105,0.5211781868704412,0.47685168461271277,0.429524835012157,0.05554984369572769,0.05435498436957276,0.40158318860715525,0.4534421674192428,0.5577513025356028,0.7067342827370616,0.481121917332407,0.0590142410559222,0.06536575199722125,0.6562396665508856,0.5666710663424801,0.5182681486627301,0.4510656477943731,0.4319645710316081,0.05948245918721778,0.059051754081278225,0.4169253212921153,0.46612712747481766,0.5150197985411602,0.47222785689475516,0.40738103508162554,0.05033831191385897,0.05667801319902743,0.4038874609239319,0.4823806877387983,0.5251906912122264,0.45850364709968744,0.43773324070857944,0.053671413685307395,0.06011601250434178,0.4004577978464745,0.4680875303924974,0.5277742271622091,0.5092004168113927,0.49253907606807923,0.05857658909343524,0.06190552275095519,0.4633469954845433,0.884222994095172,0.6100097255991666,0.4488829454671761,0.4215665161514415,0.05246474470302189,0.0537672803056617,0.4106543938867662,0.48138520319555395,0.5122097950677319,0.4569753386592566,0.4259173324070858,0.05221257381035082,0.061093435220562695,0.41337061479680454,0.47464466828759994,0.5375873567210836,0.47383674887113575,0.4057860368183397,0.04694755123306705,0.051128169503299764,0.40091281695033,0.46053490795415086,0.5343091351163599,0.49244251476207024,0.45894477249044807,0.04925668634942689,0.0609065647794373,0.46142618964918386,0.6876568252865579,0.516343869399097,0.5089510246613407,0.4669892323723515],\"yaxis\":\"y\",\"type\":\"scattergl\"},{\"hovertemplate\":\"variable=Hrs_OthMD\\u003cbr\\u003eWorkDate=%{x}\\u003cbr\\u003evalue=%{y}\\u003cextra\\u003e\\u003c\\u002fextra\\u003e\",\"legendgroup\":\"Hrs_OthMD\",\"line\":{\"color\":\"#EF553B\",\"dash\":\"solid\"},\"marker\":{\"symbol\":\"circle\"},\"mode\":\"lines\",\"name\":\"Hrs_OthMD\",\"showlegend\":true,\"x\":[\"2024-03-31T00:00:00\",\"2024-03-30T00:00:00\",\"2024-03-29T00:00:00\",\"2024-03-28T00:00:00\",\"2024-03-27T00:00:00\",\"2024-03-26T00:00:00\",\"2024-03-25T00:00:00\",\"2024-03-24T00:00:00\",\"2024-03-23T00:00:00\",\"2024-03-22T00:00:00\",\"2024-03-21T00:00:00\",\"2024-03-20T00:00:00\",\"2024-03-19T00:00:00\",\"2024-03-18T00:00:00\",\"2024-03-17T00:00:00\",\"2024-03-16T00:00:00\",\"2024-03-15T00:00:00\",\"2024-03-14T00:00:00\",\"2024-03-13T00:00:00\",\"2024-03-12T00:00:00\",\"2024-03-11T00:00:00\",\"2024-03-10T00:00:00\",\"2024-03-09T00:00:00\",\"2024-03-08T00:00:00\",\"2024-03-07T00:00:00\",\"2024-03-06T00:00:00\",\"2024-03-05T00:00:00\",\"2024-03-04T00:00:00\",\"2024-03-03T00:00:00\",\"2024-03-02T00:00:00\",\"2024-03-01T00:00:00\",\"2024-02-29T00:00:00\",\"2024-02-28T00:00:00\",\"2024-02-27T00:00:00\",\"2024-02-26T00:00:00\",\"2024-02-25T00:00:00\",\"2024-02-24T00:00:00\",\"2024-02-23T00:00:00\",\"2024-02-22T00:00:00\",\"2024-02-21T00:00:00\",\"2024-02-20T00:00:00\",\"2024-02-19T00:00:00\",\"2024-02-18T00:00:00\",\"2024-02-17T00:00:00\",\"2024-02-16T00:00:00\",\"2024-02-15T00:00:00\",\"2024-02-14T00:00:00\",\"2024-02-13T00:00:00\",\"2024-02-12T00:00:00\",\"2024-02-11T00:00:00\",\"2024-02-10T00:00:00\",\"2024-02-09T00:00:00\",\"2024-02-08T00:00:00\",\"2024-02-07T00:00:00\",\"2024-02-06T00:00:00\",\"2024-02-05T00:00:00\",\"2024-02-04T00:00:00\",\"2024-02-03T00:00:00\",\"2024-02-02T00:00:00\",\"2024-02-01T00:00:00\",\"2024-01-31T00:00:00\",\"2024-01-30T00:00:00\",\"2024-01-29T00:00:00\",\"2024-01-28T00:00:00\",\"2024-01-27T00:00:00\",\"2024-01-26T00:00:00\",\"2024-01-25T00:00:00\",\"2024-01-24T00:00:00\",\"2024-01-23T00:00:00\",\"2024-01-22T00:00:00\",\"2024-01-21T00:00:00\",\"2024-01-20T00:00:00\",\"2024-01-19T00:00:00\",\"2024-01-18T00:00:00\",\"2024-01-17T00:00:00\",\"2024-01-16T00:00:00\",\"2024-01-15T00:00:00\",\"2024-01-14T00:00:00\",\"2024-01-13T00:00:00\",\"2024-01-12T00:00:00\",\"2024-01-11T00:00:00\",\"2024-01-10T00:00:00\",\"2024-01-09T00:00:00\",\"2024-01-08T00:00:00\",\"2024-01-07T00:00:00\",\"2024-01-06T00:00:00\",\"2024-01-05T00:00:00\",\"2024-01-04T00:00:00\",\"2024-01-03T00:00:00\",\"2024-01-02T00:00:00\",\"2024-01-01T00:00:00\"],\"xaxis\":\"x\",\"y\":[0.028770406391108023,0.0295130253560264,0.163624175060785,0.17508440430705108,0.20636193122612023,0.1903223341437999,0.18703369225425492,0.03213824244529351,0.031770059048280654,0.1757499131642931,0.18281069815908302,0.20708926710663425,0.19482320250086835,0.19082459187217787,0.03092601597777006,0.03633344911427579,0.16885515804098647,0.17739006599513718,0.19883153872872525,0.19503924973949288,0.18637721431052445,0.038252170892671064,0.03332407085793678,0.17523376172282043,0.17931156651615143,0.20071622091003827,0.23798402222994097,0.18999166377214313,0.031642931573463005,0.04409030913511636,0.2055769364362626,0.1877617228204237,0.2107384508509899,0.18886210489753383,0.18737130948245923,0.030860715526224384,0.03419451198332755,0.168061827023272,0.1819527613754776,0.20452309829802012,0.1917770059048281,0.15302882945467175,0.029811740187565126,0.03049044807224731,0.17511844390413334,0.18656894755123304,0.19373115665161514,0.18848350121569987,0.18847169155956928,0.034662035428968396,0.03619103855505384,0.1776005557485238,0.19515456755817992,0.20161375477596385,0.1980798888502953,0.19288364015283083,0.03501215699895797,0.032439736019451194,0.19175547064953113,0.25970684265369914,0.19498298020145885,0.19252587704063906,0.18941021187912468,0.03448280653004516,0.04046752344564085,0.17807849947898577,0.1877506078499479,0.20958805140673842,0.20061340743313646,0.19353108718304962,0.030873914553664464,0.037627648489058696,0.17750816255644317,0.19413476901701981,0.20487113581104552,0.19140534907954146,0.14896005557485237,0.03421257381035082,0.03840430705105939,0.1763535949982633,0.18948732198680093,0.2041889544980896,0.21016602987148314,0.1946481417158736,0.031189301840916984,0.035498436957276835,0.1831767974991316,0.22055852726641195,0.19370962139631817,0.1862459187217784,0.12599930531434525],\"yaxis\":\"y\",\"type\":\"scattergl\"},{\"hovertemplate\":\"variable=Hrs_PA\\u003cbr\\u003eWorkDate=%{x}\\u003cbr\\u003evalue=%{y}\\u003cextra\\u003e\\u003c\\u002fextra\\u003e\",\"legendgroup\":\"Hrs_PA\",\"line\":{\"color\":\"#00cc96\",\"dash\":\"solid\"},\"marker\":{\"symbol\":\"circle\"},\"mode\":\"lines\",\"name\":\"Hrs_PA\",\"showlegend\":true,\"x\":[\"2024-03-31T00:00:00\",\"2024-03-30T00:00:00\",\"2024-03-29T00:00:00\",\"2024-03-28T00:00:00\",\"2024-03-27T00:00:00\",\"2024-03-26T00:00:00\",\"2024-03-25T00:00:00\",\"2024-03-24T00:00:00\",\"2024-03-23T00:00:00\",\"2024-03-22T00:00:00\",\"2024-03-21T00:00:00\",\"2024-03-20T00:00:00\",\"2024-03-19T00:00:00\",\"2024-03-18T00:00:00\",\"2024-03-17T00:00:00\",\"2024-03-16T00:00:00\",\"2024-03-15T00:00:00\",\"2024-03-14T00:00:00\",\"2024-03-13T00:00:00\",\"2024-03-12T00:00:00\",\"2024-03-11T00:00:00\",\"2024-03-10T00:00:00\",\"2024-03-09T00:00:00\",\"2024-03-08T00:00:00\",\"2024-03-07T00:00:00\",\"2024-03-06T00:00:00\",\"2024-03-05T00:00:00\",\"2024-03-04T00:00:00\",\"2024-03-03T00:00:00\",\"2024-03-02T00:00:00\",\"2024-03-01T00:00:00\",\"2024-02-29T00:00:00\",\"2024-02-28T00:00:00\",\"2024-02-27T00:00:00\",\"2024-02-26T00:00:00\",\"2024-02-25T00:00:00\",\"2024-02-24T00:00:00\",\"2024-02-23T00:00:00\",\"2024-02-22T00:00:00\",\"2024-02-21T00:00:00\",\"2024-02-20T00:00:00\",\"2024-02-19T00:00:00\",\"2024-02-18T00:00:00\",\"2024-02-17T00:00:00\",\"2024-02-16T00:00:00\",\"2024-02-15T00:00:00\",\"2024-02-14T00:00:00\",\"2024-02-13T00:00:00\",\"2024-02-12T00:00:00\",\"2024-02-11T00:00:00\",\"2024-02-10T00:00:00\",\"2024-02-09T00:00:00\",\"2024-02-08T00:00:00\",\"2024-02-07T00:00:00\",\"2024-02-06T00:00:00\",\"2024-02-05T00:00:00\",\"2024-02-04T00:00:00\",\"2024-02-03T00:00:00\",\"2024-02-02T00:00:00\",\"2024-02-01T00:00:00\",\"2024-01-31T00:00:00\",\"2024-01-30T00:00:00\",\"2024-01-29T00:00:00\",\"2024-01-28T00:00:00\",\"2024-01-27T00:00:00\",\"2024-01-26T00:00:00\",\"2024-01-25T00:00:00\",\"2024-01-24T00:00:00\",\"2024-01-23T00:00:00\",\"2024-01-22T00:00:00\",\"2024-01-21T00:00:00\",\"2024-01-20T00:00:00\",\"2024-01-19T00:00:00\",\"2024-01-18T00:00:00\",\"2024-01-17T00:00:00\",\"2024-01-16T00:00:00\",\"2024-01-15T00:00:00\",\"2024-01-14T00:00:00\",\"2024-01-13T00:00:00\",\"2024-01-12T00:00:00\",\"2024-01-11T00:00:00\",\"2024-01-10T00:00:00\",\"2024-01-09T00:00:00\",\"2024-01-08T00:00:00\",\"2024-01-07T00:00:00\",\"2024-01-06T00:00:00\",\"2024-01-05T00:00:00\",\"2024-01-04T00:00:00\",\"2024-01-03T00:00:00\",\"2024-01-02T00:00:00\",\"2024-01-01T00:00:00\"],\"xaxis\":\"x\",\"y\":[0.00396053362979433,0.0077115464776990415,0.03709632516703786,0.04329968673860077,0.036216743279008215,0.04205542403564963,0.03873214907697666,0.006531860190396776,0.006810284920083391,0.03563722419433424,0.041785639668500595,0.04198871944850637,0.04371432549074203,0.04457445326647165,0.003681833970128517,0.006045865184155664,0.03556514476614699,0.047771587743732594,0.04372954529628856,0.04310284799108697,0.042705865960707814,0.005558643690939411,0.006808865420690613,0.045236272531143436,0.048318596393511104,0.04331476323119777,0.045732980648754,0.04590095423835063,0.003473669584549118,0.005489160644802668,0.03910653399206736,0.04699575297639769,0.040114214081760566,0.043148444568167584,0.04624599526396434,0.003682089759622065,0.0059747116854244825,0.036121937639198215,0.048597089744482354,0.04158250330849063,0.04344193817878028,0.040314719398412475,0.004724518863336344,0.005696818118660553,0.03722257009670911,0.046561804008908685,0.042963581923264396,0.04477404080495787,0.04542604333588797,0.004377127770443966,0.006393773021057752,0.039743857451103225,0.04756598648930984,0.04353883664228492,0.045236272531143436,0.04590415157425467,0.004933296275708727,0.007575231079296685,0.03821257047400292,0.048994362864499964,0.04472309299895507,0.046017822333611805,0.04805683242791475,0.0030568292344032235,0.005559416261292564,0.03904781791605763,0.04826577517760134,0.047164553434582694,0.05059503096944812,0.04285714285714286,0.0036126163679310822,0.005628126737076153,0.04107776926825872,0.04548303963223515,0.04130101685471514,0.04635300668151448,0.03760183831209526,0.005002431737650246,0.006183991106170094,0.04517296582445883,0.04694247109625296,0.04720790976187161,0.04491017964071856,0.04610027855153204,0.004515770459913853,0.006461923290717065,0.04501809073197885,0.0476124182096617,0.03859013652828086,0.03711440707471624,0.014188343302267353],\"yaxis\":\"y\",\"type\":\"scattergl\"},{\"hovertemplate\":\"variable=Hrs_NP\\u003cbr\\u003eWorkDate=%{x}\\u003cbr\\u003evalue=%{y}\\u003cextra\\u003e\\u003c\\u002fextra\\u003e\",\"legendgroup\":\"Hrs_NP\",\"line\":{\"color\":\"#ab63fa\",\"dash\":\"solid\"},\"marker\":{\"symbol\":\"circle\"},\"mode\":\"lines\",\"name\":\"Hrs_NP\",\"showlegend\":true,\"x\":[\"2024-03-31T00:00:00\",\"2024-03-30T00:00:00\",\"2024-03-29T00:00:00\",\"2024-03-28T00:00:00\",\"2024-03-27T00:00:00\",\"2024-03-26T00:00:00\",\"2024-03-25T00:00:00\",\"2024-03-24T00:00:00\",\"2024-03-23T00:00:00\",\"2024-03-22T00:00:00\",\"2024-03-21T00:00:00\",\"2024-03-20T00:00:00\",\"2024-03-19T00:00:00\",\"2024-03-18T00:00:00\",\"2024-03-17T00:00:00\",\"2024-03-16T00:00:00\",\"2024-03-15T00:00:00\",\"2024-03-14T00:00:00\",\"2024-03-13T00:00:00\",\"2024-03-12T00:00:00\",\"2024-03-11T00:00:00\",\"2024-03-10T00:00:00\",\"2024-03-09T00:00:00\",\"2024-03-08T00:00:00\",\"2024-03-07T00:00:00\",\"2024-03-06T00:00:00\",\"2024-03-05T00:00:00\",\"2024-03-04T00:00:00\",\"2024-03-03T00:00:00\",\"2024-03-02T00:00:00\",\"2024-03-01T00:00:00\",\"2024-02-29T00:00:00\",\"2024-02-28T00:00:00\",\"2024-02-27T00:00:00\",\"2024-02-26T00:00:00\",\"2024-02-25T00:00:00\",\"2024-02-24T00:00:00\",\"2024-02-23T00:00:00\",\"2024-02-22T00:00:00\",\"2024-02-21T00:00:00\",\"2024-02-20T00:00:00\",\"2024-02-19T00:00:00\",\"2024-02-18T00:00:00\",\"2024-02-17T00:00:00\",\"2024-02-16T00:00:00\",\"2024-02-15T00:00:00\",\"2024-02-14T00:00:00\",\"2024-02-13T00:00:00\",\"2024-02-12T00:00:00\",\"2024-02-11T00:00:00\",\"2024-02-10T00:00:00\",\"2024-02-09T00:00:00\",\"2024-02-08T00:00:00\",\"2024-02-07T00:00:00\",\"2024-02-06T00:00:00\",\"2024-02-05T00:00:00\",\"2024-02-04T00:00:00\",\"2024-02-03T00:00:00\",\"2024-02-02T00:00:00\",\"2024-02-01T00:00:00\",\"2024-01-31T00:00:00\",\"2024-01-30T00:00:00\",\"2024-01-29T00:00:00\",\"2024-01-28T00:00:00\",\"2024-01-27T00:00:00\",\"2024-01-26T00:00:00\",\"2024-01-25T00:00:00\",\"2024-01-24T00:00:00\",\"2024-01-23T00:00:00\",\"2024-01-22T00:00:00\",\"2024-01-21T00:00:00\",\"2024-01-20T00:00:00\",\"2024-01-19T00:00:00\",\"2024-01-18T00:00:00\",\"2024-01-17T00:00:00\",\"2024-01-16T00:00:00\",\"2024-01-15T00:00:00\",\"2024-01-14T00:00:00\",\"2024-01-13T00:00:00\",\"2024-01-12T00:00:00\",\"2024-01-11T00:00:00\",\"2024-01-10T00:00:00\",\"2024-01-09T00:00:00\",\"2024-01-08T00:00:00\",\"2024-01-07T00:00:00\",\"2024-01-06T00:00:00\",\"2024-01-05T00:00:00\",\"2024-01-04T00:00:00\",\"2024-01-03T00:00:00\",\"2024-01-02T00:00:00\",\"2024-01-01T00:00:00\"],\"xaxis\":\"x\",\"y\":[0.02606668982285516,0.03369017019798541,0.3386273011462312,0.3835977770059049,0.378056269538034,0.40544564084751644,0.3957881208753039,0.029749218478638418,0.03504828065300451,0.36094546717610276,0.3893622785689476,0.39317749218478637,0.41620006946856547,0.40800277874261903,0.029738798193817296,0.036720389023966654,0.3618944077804794,0.38636123654046545,0.39334491142757905,0.39817922889892315,0.4066745397707538,0.031332407085793684,0.03543660993400487,0.36311010767627644,0.39287183049670027,0.3963105244876693,0.4051927752691907,0.40826120180618264,0.028951719346995485,0.03413199027440083,0.35874609239319205,0.3882368878082667,0.4061486627301147,0.4084307051059396,0.41560750260507123,0.030964223688780827,0.040546022924626605,0.3623258075720736,0.3889496352900313,0.3951372004168114,0.41070718999652667,0.3635158040986453,0.031574852379298364,0.034357763112191735,0.3617645015630427,0.3992129211531782,0.3970163251128864,0.3944932268148663,0.4193511635984716,0.030129211531781868,0.03674678707884682,0.3747801319902744,0.3993977075373394,0.405366446682876,0.4070941299062174,0.4209656130600903,0.03630010420284822,0.03624383466481417,0.374813476901702,0.3941354637026746,0.3853337964571032,0.3902195206668983,0.4088739145536645,0.03417436609934005,0.03771448419590135,0.3713657519972213,0.4013185133726988,0.3939228898923237,0.4085258770406391,0.41937686696769716,0.030980896144494615,0.03761167071899966,0.36949774227162213,0.3998853768669677,0.38952483501215707,0.39353803403959703,0.3453157346300798,0.031244876693296286,0.03129558874609239,0.36124696075026047,0.3984036123654046,0.39143799930531425,0.39882320250086845,0.40799652657172636,0.03194373046196596,0.03451545675581799,0.3755484543244182,0.4002862104897534,0.3944765543591525,0.39732615491490103,0.13444251476207017],\"yaxis\":\"y\",\"type\":\"scattergl\"},{\"hovertemplate\":\"variable=Hrs_ClinNrsSpec\\u003cbr\\u003eWorkDate=%{x}\\u003cbr\\u003evalue=%{y}\\u003cextra\\u003e\\u003c\\u002fextra\\u003e\",\"legendgroup\":\"Hrs_ClinNrsSpec\",\"line\":{\"color\":\"#FFA15A\",\"dash\":\"solid\"},\"marker\":{\"symbol\":\"circle\"},\"mode\":\"lines\",\"name\":\"Hrs_ClinNrsSpec\",\"showlegend\":true,\"x\":[\"2024-03-31T00:00:00\",\"2024-03-30T00:00:00\",\"2024-03-29T00:00:00\",\"2024-03-28T00:00:00\",\"2024-03-27T00:00:00\",\"2024-03-26T00:00:00\",\"2024-03-25T00:00:00\",\"2024-03-24T00:00:00\",\"2024-03-23T00:00:00\",\"2024-03-22T00:00:00\",\"2024-03-21T00:00:00\",\"2024-03-20T00:00:00\",\"2024-03-19T00:00:00\",\"2024-03-18T00:00:00\",\"2024-03-17T00:00:00\",\"2024-03-16T00:00:00\",\"2024-03-15T00:00:00\",\"2024-03-14T00:00:00\",\"2024-03-13T00:00:00\",\"2024-03-12T00:00:00\",\"2024-03-11T00:00:00\",\"2024-03-10T00:00:00\",\"2024-03-09T00:00:00\",\"2024-03-08T00:00:00\",\"2024-03-07T00:00:00\",\"2024-03-06T00:00:00\",\"2024-03-05T00:00:00\",\"2024-03-04T00:00:00\",\"2024-03-03T00:00:00\",\"2024-03-02T00:00:00\",\"2024-03-01T00:00:00\",\"2024-02-29T00:00:00\",\"2024-02-28T00:00:00\",\"2024-02-27T00:00:00\",\"2024-02-26T00:00:00\",\"2024-02-25T00:00:00\",\"2024-02-24T00:00:00\",\"2024-02-23T00:00:00\",\"2024-02-22T00:00:00\",\"2024-02-21T00:00:00\",\"2024-02-20T00:00:00\",\"2024-02-19T00:00:00\",\"2024-02-18T00:00:00\",\"2024-02-17T00:00:00\",\"2024-02-16T00:00:00\",\"2024-02-15T00:00:00\",\"2024-02-14T00:00:00\",\"2024-02-13T00:00:00\",\"2024-02-12T00:00:00\",\"2024-02-11T00:00:00\",\"2024-02-10T00:00:00\",\"2024-02-09T00:00:00\",\"2024-02-08T00:00:00\",\"2024-02-07T00:00:00\",\"2024-02-06T00:00:00\",\"2024-02-05T00:00:00\",\"2024-02-04T00:00:00\",\"2024-02-03T00:00:00\",\"2024-02-02T00:00:00\",\"2024-02-01T00:00:00\",\"2024-01-31T00:00:00\",\"2024-01-30T00:00:00\",\"2024-01-29T00:00:00\",\"2024-01-28T00:00:00\",\"2024-01-27T00:00:00\",\"2024-01-26T00:00:00\",\"2024-01-25T00:00:00\",\"2024-01-24T00:00:00\",\"2024-01-23T00:00:00\",\"2024-01-22T00:00:00\",\"2024-01-21T00:00:00\",\"2024-01-20T00:00:00\",\"2024-01-19T00:00:00\",\"2024-01-18T00:00:00\",\"2024-01-17T00:00:00\",\"2024-01-16T00:00:00\",\"2024-01-15T00:00:00\",\"2024-01-14T00:00:00\",\"2024-01-13T00:00:00\",\"2024-01-12T00:00:00\",\"2024-01-11T00:00:00\",\"2024-01-10T00:00:00\",\"2024-01-09T00:00:00\",\"2024-01-08T00:00:00\",\"2024-01-07T00:00:00\",\"2024-01-06T00:00:00\",\"2024-01-05T00:00:00\",\"2024-01-04T00:00:00\",\"2024-01-03T00:00:00\",\"2024-01-02T00:00:00\",\"2024-01-01T00:00:00\"],\"xaxis\":\"x\",\"y\":[0.014593956234803751,0.015065647794373044,0.04529489406043765,0.05751024661340742,0.05996526571726294,0.055283084404307056,0.05792705800625217,0.005618617575547064,0.0064452935046891285,0.05104063911080235,0.06515387287252518,0.060416811392844744,0.06362278568947552,0.06379923584577979,0.01495380340395971,0.012294546717610282,0.056753039249739484,0.06427856894755123,0.06217228204237582,0.06346717610281347,0.060196596040291775,0.004509899270580063,0.009076762764848905,0.05230218825981243,0.0628711358110455,0.059604029176797496,0.05848350121569989,0.06281625564432093,0.014369572768322333,0.012985758944077806,0.055681139284473775,0.05827856894755122,0.0614136853073984,0.05778325807572073,0.060274400833622774,0.008595345606113235,0.008259812434873219,0.052903091351163604,0.056984369572768326,0.06098923237235151,0.05878291073289337,0.057203890239666544,0.01161097603334491,0.016483501215699897,0.05363390065995137,0.05856894755123306,0.06089822855158041,0.053583883292810004,0.05543313650573116,0.009171934699548455,0.00974643973601945,0.0495637374088225,0.061025356026398046,0.05460437651962487,0.05525807572073636,0.058213963181660305,0.01464327891629038,0.013643626259117747,0.05204098645362974,0.06015977770059049,0.056198680097255996,0.05889128169503299,0.059090656477943725,0.006814171587356721,0.0058846821813129556,0.0538131295588746,0.061292810003473426,0.06303924973949288,0.05690378603681833,0.057844390413337964,0.013608197290725946,0.010701632511288642,0.050063911080236195,0.057028134769017025,0.05732684960055575,0.05744772490448072,0.05405001736714136,0.007860368183397014,0.008207711010767628,0.05264536297325459,0.06169989579715179,0.05814449461618617,0.0529079541507468,0.057527613754775955,0.012671066342480027,0.013021187912469607,0.052123654046543934,0.059635290031260856,0.0564550191038555,0.05728100034734281,0.017816602987148312],\"yaxis\":\"y\",\"type\":\"scattergl\"},{\"hovertemplate\":\"variable=Hrs_Pharmacist\\u003cbr\\u003eWorkDate=%{x}\\u003cbr\\u003evalue=%{y}\\u003cextra\\u003e\\u003c\\u002fextra\\u003e\",\"legendgroup\":\"Hrs_Pharmacist\",\"line\":{\"color\":\"#19d3f3\",\"dash\":\"solid\"},\"marker\":{\"symbol\":\"circle\"},\"mode\":\"lines\",\"name\":\"Hrs_Pharmacist\",\"showlegend\":true,\"x\":[\"2024-03-31T00:00:00\",\"2024-03-30T00:00:00\",\"2024-03-29T00:00:00\",\"2024-03-28T00:00:00\",\"2024-03-27T00:00:00\",\"2024-03-26T00:00:00\",\"2024-03-25T00:00:00\",\"2024-03-24T00:00:00\",\"2024-03-23T00:00:00\",\"2024-03-22T00:00:00\",\"2024-03-21T00:00:00\",\"2024-03-20T00:00:00\",\"2024-03-19T00:00:00\",\"2024-03-18T00:00:00\",\"2024-03-17T00:00:00\",\"2024-03-16T00:00:00\",\"2024-03-15T00:00:00\",\"2024-03-14T00:00:00\",\"2024-03-13T00:00:00\",\"2024-03-12T00:00:00\",\"2024-03-11T00:00:00\",\"2024-03-10T00:00:00\",\"2024-03-09T00:00:00\",\"2024-03-08T00:00:00\",\"2024-03-07T00:00:00\",\"2024-03-06T00:00:00\",\"2024-03-05T00:00:00\",\"2024-03-04T00:00:00\",\"2024-03-03T00:00:00\",\"2024-03-02T00:00:00\",\"2024-03-01T00:00:00\",\"2024-02-29T00:00:00\",\"2024-02-28T00:00:00\",\"2024-02-27T00:00:00\",\"2024-02-26T00:00:00\",\"2024-02-25T00:00:00\",\"2024-02-24T00:00:00\",\"2024-02-23T00:00:00\",\"2024-02-22T00:00:00\",\"2024-02-21T00:00:00\",\"2024-02-20T00:00:00\",\"2024-02-19T00:00:00\",\"2024-02-18T00:00:00\",\"2024-02-17T00:00:00\",\"2024-02-16T00:00:00\",\"2024-02-15T00:00:00\",\"2024-02-14T00:00:00\",\"2024-02-13T00:00:00\",\"2024-02-12T00:00:00\",\"2024-02-11T00:00:00\",\"2024-02-10T00:00:00\",\"2024-02-09T00:00:00\",\"2024-02-08T00:00:00\",\"2024-02-07T00:00:00\",\"2024-02-06T00:00:00\",\"2024-02-05T00:00:00\",\"2024-02-04T00:00:00\",\"2024-02-03T00:00:00\",\"2024-02-02T00:00:00\",\"2024-02-01T00:00:00\",\"2024-01-31T00:00:00\",\"2024-01-30T00:00:00\",\"2024-01-29T00:00:00\",\"2024-01-28T00:00:00\",\"2024-01-27T00:00:00\",\"2024-01-26T00:00:00\",\"2024-01-25T00:00:00\",\"2024-01-24T00:00:00\",\"2024-01-23T00:00:00\",\"2024-01-22T00:00:00\",\"2024-01-21T00:00:00\",\"2024-01-20T00:00:00\",\"2024-01-19T00:00:00\",\"2024-01-18T00:00:00\",\"2024-01-17T00:00:00\",\"2024-01-16T00:00:00\",\"2024-01-15T00:00:00\",\"2024-01-14T00:00:00\",\"2024-01-13T00:00:00\",\"2024-01-12T00:00:00\",\"2024-01-11T00:00:00\",\"2024-01-10T00:00:00\",\"2024-01-09T00:00:00\",\"2024-01-08T00:00:00\",\"2024-01-07T00:00:00\",\"2024-01-06T00:00:00\",\"2024-01-05T00:00:00\",\"2024-01-04T00:00:00\",\"2024-01-03T00:00:00\",\"2024-01-02T00:00:00\",\"2024-01-01T00:00:00\"],\"xaxis\":\"x\",\"y\":[0.15584855852726642,0.11976102813476902,0.3838645362973254,0.47417922889892333,0.5032094477249044,0.4969301840916986,0.4899485932615491,0.12016602987148316,0.10149774227162207,0.4104327891629038,0.4783265022577284,0.48187148315387274,0.4842945467176102,0.46864536297325465,0.08238346648141714,0.09093990969086488,0.41728030566168794,0.47790135463702677,0.5108891976380687,0.5163869399096909,0.4886259117749218,0.08237165682528656,0.082276484890587,0.4056693296283432,0.5094762070163252,0.5263827717957624,0.6139145536644669,0.48013754775963874,0.07190552275095519,0.06570197985411601,0.38770059048280653,0.5403494268843348,0.5437561653351858,0.5297485237929835,0.525567905522751,0.12689197638068772,0.11249531087183051,0.4165883987495658,0.4887391455366447,0.5039388676623828,0.5011066342480027,0.4064960055574853,0.0984821118443904,0.09168947551233066,0.41848072247308093,0.5055387287252517,0.5146314692601598,0.5147898575894407,0.4792976728030565,0.0837471344216742,0.08610350816255644,0.4104709968739146,0.5284640500173671,0.5668996179228898,0.615650573115665,0.5255915248350123,0.09098714831538729,0.08094546717610282,0.3900250086835706,0.4450420284821118,0.5048878082667592,0.5001097603334491,0.5080979506773184,0.13154220215352555,0.10754220215352554,0.40955540118096556,0.49830982980201466,0.49288155609586654,0.4784716915595693,0.48880236193122606,0.0855567905522751,0.09841194859326154,0.42132546022924616,0.4931990274400833,0.517478985758944,0.5066731503994444,0.39979506773185136,0.08365613060090311,0.0892101424105592,0.4389183744355679,0.523277526919069,0.5686912122264675,0.6231844390413338,0.48355470649531096,0.0731608197290726,0.07941646405001737,0.4163473428273705,0.4552594650920459,0.45743660993400476,0.41054671761028133,0.14507676276484888],\"yaxis\":\"y\",\"type\":\"scattergl\"},{\"hovertemplate\":\"variable=Hrs_Dietician\\u003cbr\\u003eWorkDate=%{x}\\u003cbr\\u003evalue=%{y}\\u003cextra\\u003e\\u003c\\u002fextra\\u003e\",\"legendgroup\":\"Hrs_Dietician\",\"line\":{\"color\":\"#FF6692\",\"dash\":\"solid\"},\"marker\":{\"symbol\":\"circle\"},\"mode\":\"lines\",\"name\":\"Hrs_Dietician\",\"showlegend\":true,\"x\":[\"2024-03-31T00:00:00\",\"2024-03-30T00:00:00\",\"2024-03-29T00:00:00\",\"2024-03-28T00:00:00\",\"2024-03-27T00:00:00\",\"2024-03-26T00:00:00\",\"2024-03-25T00:00:00\",\"2024-03-24T00:00:00\",\"2024-03-23T00:00:00\",\"2024-03-22T00:00:00\",\"2024-03-21T00:00:00\",\"2024-03-20T00:00:00\",\"2024-03-19T00:00:00\",\"2024-03-18T00:00:00\",\"2024-03-17T00:00:00\",\"2024-03-16T00:00:00\",\"2024-03-15T00:00:00\",\"2024-03-14T00:00:00\",\"2024-03-13T00:00:00\",\"2024-03-12T00:00:00\",\"2024-03-11T00:00:00\",\"2024-03-10T00:00:00\",\"2024-03-09T00:00:00\",\"2024-03-08T00:00:00\",\"2024-03-07T00:00:00\",\"2024-03-06T00:00:00\",\"2024-03-05T00:00:00\",\"2024-03-04T00:00:00\",\"2024-03-03T00:00:00\",\"2024-03-02T00:00:00\",\"2024-03-01T00:00:00\",\"2024-02-29T00:00:00\",\"2024-02-28T00:00:00\",\"2024-02-27T00:00:00\",\"2024-02-26T00:00:00\",\"2024-02-25T00:00:00\",\"2024-02-24T00:00:00\",\"2024-02-23T00:00:00\",\"2024-02-22T00:00:00\",\"2024-02-21T00:00:00\",\"2024-02-20T00:00:00\",\"2024-02-19T00:00:00\",\"2024-02-18T00:00:00\",\"2024-02-17T00:00:00\",\"2024-02-16T00:00:00\",\"2024-02-15T00:00:00\",\"2024-02-14T00:00:00\",\"2024-02-13T00:00:00\",\"2024-02-12T00:00:00\",\"2024-02-11T00:00:00\",\"2024-02-10T00:00:00\",\"2024-02-09T00:00:00\",\"2024-02-08T00:00:00\",\"2024-02-07T00:00:00\",\"2024-02-06T00:00:00\",\"2024-02-05T00:00:00\",\"2024-02-04T00:00:00\",\"2024-02-03T00:00:00\",\"2024-02-02T00:00:00\",\"2024-02-01T00:00:00\",\"2024-01-31T00:00:00\",\"2024-01-30T00:00:00\",\"2024-01-29T00:00:00\",\"2024-01-28T00:00:00\",\"2024-01-27T00:00:00\",\"2024-01-26T00:00:00\",\"2024-01-25T00:00:00\",\"2024-01-24T00:00:00\",\"2024-01-23T00:00:00\",\"2024-01-22T00:00:00\",\"2024-01-21T00:00:00\",\"2024-01-20T00:00:00\",\"2024-01-19T00:00:00\",\"2024-01-18T00:00:00\",\"2024-01-17T00:00:00\",\"2024-01-16T00:00:00\",\"2024-01-15T00:00:00\",\"2024-01-14T00:00:00\",\"2024-01-13T00:00:00\",\"2024-01-12T00:00:00\",\"2024-01-11T00:00:00\",\"2024-01-10T00:00:00\",\"2024-01-09T00:00:00\",\"2024-01-08T00:00:00\",\"2024-01-07T00:00:00\",\"2024-01-06T00:00:00\",\"2024-01-05T00:00:00\",\"2024-01-04T00:00:00\",\"2024-01-03T00:00:00\",\"2024-01-02T00:00:00\",\"2024-01-01T00:00:00\"],\"xaxis\":\"x\",\"y\":[0.4004348732198681,0.46108093087877733,2.4565293504689127,3.052035428968392,3.0676241750607853,3.1238770406391114,2.9852184786384166,0.44589579715178884,0.4581528308440431,2.6464744703021883,3.1438520319555403,3.1375644320944778,3.1901889544980895,3.0365446335533166,0.46393469954845434,0.4594706495310871,2.6658339701285163,3.098900312608544,3.1323376172282043,3.1628280653004515,3.0428711358110454,0.4371837443556791,0.47282042375824945,2.703795762417506,3.1654268843348383,3.1666752344564086,3.174934352205627,3.0204411253907604,0.435857589440778,0.42975269190691207,2.6318416116707195,3.1945863146926015,3.177374088225078,3.19453629732546,3.075865230982981,0.4443376172282042,0.4554046543938867,2.7029558874609236,3.1785057311566516,3.1714206321639464,3.1933657519972214,2.7556721083709625,0.4429940951719346,0.4613337964571032,2.6877339353942347,3.1754567558179927,3.167295588746092,3.131643626259118,3.0628252865578327,0.4459652657172628,0.4566189649183744,2.71829593608892,3.2057172629385207,3.1973212921153187,3.2388468218131297,3.085949287947204,0.4407342827370614,0.4655859673497742,2.6992365404654395,3.157749218478638,3.1749558874609236,3.2161632511288634,3.069887460923932,0.4443410906564779,0.4935019103855505,2.7526259117749228,3.1902070163251124,3.175255991663771,3.2075026050712054,3.0546766238277177,0.44497047585967353,0.4844418200764155,2.7254303577631127,3.1880875303924983,3.2039784647447025,3.1237290725946507,2.6415567905522743,0.44607988885029515,0.47088294546717613,2.703359499826328,3.1829218478638426,3.1422952414032648,3.143067731851338,3.035671413685307,0.42278638416116704,0.48267245571378964,2.7743084404307057,3.1610267453977077,3.147538034039597,3.0448176450156295,1.004953108718305],\"yaxis\":\"y\",\"type\":\"scattergl\"},{\"hovertemplate\":\"variable=Hrs_FeedAsst\\u003cbr\\u003eWorkDate=%{x}\\u003cbr\\u003evalue=%{y}\\u003cextra\\u003e\\u003c\\u002fextra\\u003e\",\"legendgroup\":\"Hrs_FeedAsst\",\"line\":{\"color\":\"#B6E880\",\"dash\":\"solid\"},\"marker\":{\"symbol\":\"circle\"},\"mode\":\"lines\",\"name\":\"Hrs_FeedAsst\",\"showlegend\":true,\"x\":[\"2024-03-31T00:00:00\",\"2024-03-30T00:00:00\",\"2024-03-29T00:00:00\",\"2024-03-28T00:00:00\",\"2024-03-27T00:00:00\",\"2024-03-26T00:00:00\",\"2024-03-25T00:00:00\",\"2024-03-24T00:00:00\",\"2024-03-23T00:00:00\",\"2024-03-22T00:00:00\",\"2024-03-21T00:00:00\",\"2024-03-20T00:00:00\",\"2024-03-19T00:00:00\",\"2024-03-18T00:00:00\",\"2024-03-17T00:00:00\",\"2024-03-16T00:00:00\",\"2024-03-15T00:00:00\",\"2024-03-14T00:00:00\",\"2024-03-13T00:00:00\",\"2024-03-12T00:00:00\",\"2024-03-11T00:00:00\",\"2024-03-10T00:00:00\",\"2024-03-09T00:00:00\",\"2024-03-08T00:00:00\",\"2024-03-07T00:00:00\",\"2024-03-06T00:00:00\",\"2024-03-05T00:00:00\",\"2024-03-04T00:00:00\",\"2024-03-03T00:00:00\",\"2024-03-02T00:00:00\",\"2024-03-01T00:00:00\",\"2024-02-29T00:00:00\",\"2024-02-28T00:00:00\",\"2024-02-27T00:00:00\",\"2024-02-26T00:00:00\",\"2024-02-25T00:00:00\",\"2024-02-24T00:00:00\",\"2024-02-23T00:00:00\",\"2024-02-22T00:00:00\",\"2024-02-21T00:00:00\",\"2024-02-20T00:00:00\",\"2024-02-19T00:00:00\",\"2024-02-18T00:00:00\",\"2024-02-17T00:00:00\",\"2024-02-16T00:00:00\",\"2024-02-15T00:00:00\",\"2024-02-14T00:00:00\",\"2024-02-13T00:00:00\",\"2024-02-12T00:00:00\",\"2024-02-11T00:00:00\",\"2024-02-10T00:00:00\",\"2024-02-09T00:00:00\",\"2024-02-08T00:00:00\",\"2024-02-07T00:00:00\",\"2024-02-06T00:00:00\",\"2024-02-05T00:00:00\",\"2024-02-04T00:00:00\",\"2024-02-03T00:00:00\",\"2024-02-02T00:00:00\",\"2024-02-01T00:00:00\",\"2024-01-31T00:00:00\",\"2024-01-30T00:00:00\",\"2024-01-29T00:00:00\",\"2024-01-28T00:00:00\",\"2024-01-27T00:00:00\",\"2024-01-26T00:00:00\",\"2024-01-25T00:00:00\",\"2024-01-24T00:00:00\",\"2024-01-23T00:00:00\",\"2024-01-22T00:00:00\",\"2024-01-21T00:00:00\",\"2024-01-20T00:00:00\",\"2024-01-19T00:00:00\",\"2024-01-18T00:00:00\",\"2024-01-17T00:00:00\",\"2024-01-16T00:00:00\",\"2024-01-15T00:00:00\",\"2024-01-14T00:00:00\",\"2024-01-13T00:00:00\",\"2024-01-12T00:00:00\",\"2024-01-11T00:00:00\",\"2024-01-10T00:00:00\",\"2024-01-09T00:00:00\",\"2024-01-08T00:00:00\",\"2024-01-07T00:00:00\",\"2024-01-06T00:00:00\",\"2024-01-05T00:00:00\",\"2024-01-04T00:00:00\",\"2024-01-03T00:00:00\",\"2024-01-02T00:00:00\",\"2024-01-01T00:00:00\"],\"xaxis\":\"x\",\"y\":[1.916086141021188,1.9421799235845778,2.2683730461965963,2.3424077804793324,2.374464744703022,2.338352900312609,2.2698568947551236,1.9732566863494265,2.0005849253212924,2.320197985411601,2.4123799930531438,2.40633692254255,2.3752455713789513,2.32542410559222,2.0052031955540115,2.0183980548801665,2.325428273706148,2.389065647794373,2.4317790899617924,2.3970642584230633,2.328649531087183,1.9904334838485587,2.0188412643278917,2.3356179228898926,2.4084223688780826,2.428593956234803,2.409612365404654,2.3441695032997565,2.026525877040639,2.0150906564779434,2.3387787426189646,2.3861729767280306,2.4357207363667945,2.3826974643973595,2.32402639805488,2.0263522056269543,2.028595345606113,2.3211649878430007,2.400704411253907,2.4355949982632854,2.3963195554011807,2.332248697464397,2.0355651267801322,2.033722820423758,2.3485696422368876,2.392230635637374,2.4143681833970128,2.3928398749565822,2.357326849600556,2.0264154220215356,2.0484015283084402,2.3682368878082665,2.428661340743313,2.4397096213963185,2.4032122264675237,2.369240013893713,2.0331670718999653,2.031996526571726,2.330942688433484,2.4282375824939217,2.450323028829455,2.4304640500173678,2.383105939562348,2.0539194164640504,2.064118096561306,2.36048489058701,2.4365092045849255,2.42812156998958,2.4465779784647443,2.3553421326849606,2.052604376519625,2.0657700590482806,2.347390065995137,2.4249482459187215,2.395617228204238,2.3327947203890242,2.278699548454324,1.9997506078499478,2.0281840916985066,2.3104786384161167,2.401134421674192,2.3981965960402913,2.3319228898923243,2.306759986106287,2.0056866967697116,2.015469260159778,2.3385244876693294,2.3860236193122613,2.373204584925322,2.3299597082320247,2.1023376172282044],\"yaxis\":\"y\",\"type\":\"scattergl\"},{\"hovertemplate\":\"variable=Hrs_OT\\u003cbr\\u003eWorkDate=%{x}\\u003cbr\\u003evalue=%{y}\\u003cextra\\u003e\\u003c\\u002fextra\\u003e\",\"legendgroup\":\"Hrs_OT\",\"line\":{\"color\":\"#FF97FF\",\"dash\":\"solid\"},\"marker\":{\"symbol\":\"circle\"},\"mode\":\"lines\",\"name\":\"Hrs_OT\",\"showlegend\":true,\"x\":[\"2024-03-31T00:00:00\",\"2024-03-30T00:00:00\",\"2024-03-29T00:00:00\",\"2024-03-28T00:00:00\",\"2024-03-27T00:00:00\",\"2024-03-26T00:00:00\",\"2024-03-25T00:00:00\",\"2024-03-24T00:00:00\",\"2024-03-23T00:00:00\",\"2024-03-22T00:00:00\",\"2024-03-21T00:00:00\",\"2024-03-20T00:00:00\",\"2024-03-19T00:00:00\",\"2024-03-18T00:00:00\",\"2024-03-17T00:00:00\",\"2024-03-16T00:00:00\",\"2024-03-15T00:00:00\",\"2024-03-14T00:00:00\",\"2024-03-13T00:00:00\",\"2024-03-12T00:00:00\",\"2024-03-11T00:00:00\",\"2024-03-10T00:00:00\",\"2024-03-09T00:00:00\",\"2024-03-08T00:00:00\",\"2024-03-07T00:00:00\",\"2024-03-06T00:00:00\",\"2024-03-05T00:00:00\",\"2024-03-04T00:00:00\",\"2024-03-03T00:00:00\",\"2024-03-02T00:00:00\",\"2024-03-01T00:00:00\",\"2024-02-29T00:00:00\",\"2024-02-28T00:00:00\",\"2024-02-27T00:00:00\",\"2024-02-26T00:00:00\",\"2024-02-25T00:00:00\",\"2024-02-24T00:00:00\",\"2024-02-23T00:00:00\",\"2024-02-22T00:00:00\",\"2024-02-21T00:00:00\",\"2024-02-20T00:00:00\",\"2024-02-19T00:00:00\",\"2024-02-18T00:00:00\",\"2024-02-17T00:00:00\",\"2024-02-16T00:00:00\",\"2024-02-15T00:00:00\",\"2024-02-14T00:00:00\",\"2024-02-13T00:00:00\",\"2024-02-12T00:00:00\",\"2024-02-11T00:00:00\",\"2024-02-10T00:00:00\",\"2024-02-09T00:00:00\",\"2024-02-08T00:00:00\",\"2024-02-07T00:00:00\",\"2024-02-06T00:00:00\",\"2024-02-05T00:00:00\",\"2024-02-04T00:00:00\",\"2024-02-03T00:00:00\",\"2024-02-02T00:00:00\",\"2024-02-01T00:00:00\",\"2024-01-31T00:00:00\",\"2024-01-30T00:00:00\",\"2024-01-29T00:00:00\",\"2024-01-28T00:00:00\",\"2024-01-27T00:00:00\",\"2024-01-26T00:00:00\",\"2024-01-25T00:00:00\",\"2024-01-24T00:00:00\",\"2024-01-23T00:00:00\",\"2024-01-22T00:00:00\",\"2024-01-21T00:00:00\",\"2024-01-20T00:00:00\",\"2024-01-19T00:00:00\",\"2024-01-18T00:00:00\",\"2024-01-17T00:00:00\",\"2024-01-16T00:00:00\",\"2024-01-15T00:00:00\",\"2024-01-14T00:00:00\",\"2024-01-13T00:00:00\",\"2024-01-12T00:00:00\",\"2024-01-11T00:00:00\",\"2024-01-10T00:00:00\",\"2024-01-09T00:00:00\",\"2024-01-08T00:00:00\",\"2024-01-07T00:00:00\",\"2024-01-06T00:00:00\",\"2024-01-05T00:00:00\",\"2024-01-04T00:00:00\",\"2024-01-03T00:00:00\",\"2024-01-02T00:00:00\",\"2024-01-01T00:00:00\"],\"xaxis\":\"x\",\"y\":[0.7235310871830495,1.4691003820771098,6.731645015630427,7.431702674539771,7.593603334491141,7.566991316429317,7.2667377561653375,1.0938430010420286,1.4649301840916986,6.928848211184441,7.516241750607849,7.628369572768323,7.67232858631469,7.29714692601598,1.09715456755818,1.465863146926016,6.873146231330324,7.44225078152136,7.596771795762418,7.551302535602641,7.272425842306357,1.106851684612713,1.4912983674887113,7.036124348732197,7.6220826675929185,7.704843348384855,7.694656477943729,7.391300451545677,1.1236012504341786,1.4803890239666548,7.124007641542203,7.626614796804449,7.699428273706146,7.672825286557833,7.389658214657866,1.078720389023967,1.5216783605418547,6.983985411601251,7.582675929142062,7.713276137547759,7.622608544633553,7.001949982632858,1.1695317818687045,1.5380569642236885,7.083012851684613,7.6370496700243145,7.590028482111842,7.459824244529348,7.282484195901355,1.0887690170197983,1.5224633553317126,7.079017714484196,7.652258423063564,7.717686002084059,7.707587356721085,7.453268496005558,1.1158555053838142,1.5199402570336924,7.182577283779088,7.717601945119833,7.786386245224036,7.731589440778047,7.41551024661341,1.076059742966308,1.554923931920806,7.088680097255994,7.606230635637374,7.698971865230983,7.662423758249393,7.24218617575547,1.114787078846822,1.665335880514067,6.929845085098995,7.574117401875652,7.526955887460925,7.260671761028133,6.61135811045502,1.2189510246613409,1.5246655088572423,6.871744355679054,7.51906773185134,7.556213268496006,7.403228204237582,7.217681833970128,0.9972240361236541,1.7232323723515104,7.046279958318861,7.418077110107676,7.34250712052796,7.093922889892323,3.7600562695380333],\"yaxis\":\"y\",\"type\":\"scattergl\"},{\"hovertemplate\":\"variable=Hrs_OTasst\\u003cbr\\u003eWorkDate=%{x}\\u003cbr\\u003evalue=%{y}\\u003cextra\\u003e\\u003c\\u002fextra\\u003e\",\"legendgroup\":\"Hrs_OTasst\",\"line\":{\"color\":\"#FECB52\",\"dash\":\"solid\"},\"marker\":{\"symbol\":\"circle\"},\"mode\":\"lines\",\"name\":\"Hrs_OTasst\",\"showlegend\":true,\"x\":[\"2024-03-31T00:00:00\",\"2024-03-30T00:00:00\",\"2024-03-29T00:00:00\",\"2024-03-28T00:00:00\",\"2024-03-27T00:00:00\",\"2024-03-26T00:00:00\",\"2024-03-25T00:00:00\",\"2024-03-24T00:00:00\",\"2024-03-23T00:00:00\",\"2024-03-22T00:00:00\",\"2024-03-21T00:00:00\",\"2024-03-20T00:00:00\",\"2024-03-19T00:00:00\",\"2024-03-18T00:00:00\",\"2024-03-17T00:00:00\",\"2024-03-16T00:00:00\",\"2024-03-15T00:00:00\",\"2024-03-14T00:00:00\",\"2024-03-13T00:00:00\",\"2024-03-12T00:00:00\",\"2024-03-11T00:00:00\",\"2024-03-10T00:00:00\",\"2024-03-09T00:00:00\",\"2024-03-08T00:00:00\",\"2024-03-07T00:00:00\",\"2024-03-06T00:00:00\",\"2024-03-05T00:00:00\",\"2024-03-04T00:00:00\",\"2024-03-03T00:00:00\",\"2024-03-02T00:00:00\",\"2024-03-01T00:00:00\",\"2024-02-29T00:00:00\",\"2024-02-28T00:00:00\",\"2024-02-27T00:00:00\",\"2024-02-26T00:00:00\",\"2024-02-25T00:00:00\",\"2024-02-24T00:00:00\",\"2024-02-23T00:00:00\",\"2024-02-22T00:00:00\",\"2024-02-21T00:00:00\",\"2024-02-20T00:00:00\",\"2024-02-19T00:00:00\",\"2024-02-18T00:00:00\",\"2024-02-17T00:00:00\",\"2024-02-16T00:00:00\",\"2024-02-15T00:00:00\",\"2024-02-14T00:00:00\",\"2024-02-13T00:00:00\",\"2024-02-12T00:00:00\",\"2024-02-11T00:00:00\",\"2024-02-10T00:00:00\",\"2024-02-09T00:00:00\",\"2024-02-08T00:00:00\",\"2024-02-07T00:00:00\",\"2024-02-06T00:00:00\",\"2024-02-05T00:00:00\",\"2024-02-04T00:00:00\",\"2024-02-03T00:00:00\",\"2024-02-02T00:00:00\",\"2024-02-01T00:00:00\",\"2024-01-31T00:00:00\",\"2024-01-30T00:00:00\",\"2024-01-29T00:00:00\",\"2024-01-28T00:00:00\",\"2024-01-27T00:00:00\",\"2024-01-26T00:00:00\",\"2024-01-25T00:00:00\",\"2024-01-24T00:00:00\",\"2024-01-23T00:00:00\",\"2024-01-22T00:00:00\",\"2024-01-21T00:00:00\",\"2024-01-20T00:00:00\",\"2024-01-19T00:00:00\",\"2024-01-18T00:00:00\",\"2024-01-17T00:00:00\",\"2024-01-16T00:00:00\",\"2024-01-15T00:00:00\",\"2024-01-14T00:00:00\",\"2024-01-13T00:00:00\",\"2024-01-12T00:00:00\",\"2024-01-11T00:00:00\",\"2024-01-10T00:00:00\",\"2024-01-09T00:00:00\",\"2024-01-08T00:00:00\",\"2024-01-07T00:00:00\",\"2024-01-06T00:00:00\",\"2024-01-05T00:00:00\",\"2024-01-04T00:00:00\",\"2024-01-03T00:00:00\",\"2024-01-02T00:00:00\",\"2024-01-01T00:00:00\"],\"xaxis\":\"x\",\"y\":[0.6687704063911081,1.4958756512678013,7.317957624175061,8.259591524835015,8.384138937130949,8.361171934699549,7.925446335533171,1.035693643626259,1.5178555053838136,7.602569642236889,8.29099062174366,8.434730114623132,8.388450156304273,7.942503647099691,1.0174921847863843,1.530344564084752,7.585508857242098,8.285457450503648,8.407036470996873,8.369689475512331,7.9415699895797145,1.0748002778742618,1.564728030566169,7.692211879124696,8.409285863146925,8.481809656130602,8.416604376519626,7.990191038555054,0.9816047238624521,1.5262882945467175,7.725421326849601,8.409051059395624,8.48478777353248,8.465799235845779,7.980980896144494,1.018384161167072,1.5914866273011463,7.698050712052797,8.362174366099339,8.46413337964571,8.425404654393885,7.736602987148316,1.0738985758944077,1.6832879472038902,7.69143313650573,8.368009030913512,8.385847169155959,8.173373393539423,7.891262243834666,1.0222632858631469,1.604019451198333,7.794122264675234,8.43505592219521,8.528696769711706,8.520496700243141,8.061139284473773,0.9969301840916986,1.5983216394581452,7.851317124001389,8.45755887460924,8.502819729072597,8.463362278568948,7.99789162903786,0.9991344216741923,1.6810038207711016,7.7745189301840885,8.34204098645363,8.435624175060786,8.36377908996179,7.7706189649183735,1.0320521014241055,1.819425494963529,7.523938867662383,8.274,8.219985411601252,7.748352205626952,7.00706842653699,1.2437242097950678,1.576238971865231,7.463012851684613,8.210598124348731,8.221246266064604,7.9817645015630445,7.713174018756516,0.845307398402223,1.7451003820771096,7.572326502257727,8.050728725251824,8.04257450503647,7.7664244529350475,4.1839381729767275],\"yaxis\":\"y\",\"type\":\"scattergl\"},{\"hovertemplate\":\"variable=Hrs_OTaide\\u003cbr\\u003eWorkDate=%{x}\\u003cbr\\u003evalue=%{y}\\u003cextra\\u003e\\u003c\\u002fextra\\u003e\",\"legendgroup\":\"Hrs_OTaide\",\"line\":{\"color\":\"#636efa\",\"dash\":\"solid\"},\"marker\":{\"symbol\":\"circle\"},\"mode\":\"lines\",\"name\":\"Hrs_OTaide\",\"showlegend\":true,\"x\":[\"2024-03-31T00:00:00\",\"2024-03-30T00:00:00\",\"2024-03-29T00:00:00\",\"2024-03-28T00:00:00\",\"2024-03-27T00:00:00\",\"2024-03-26T00:00:00\",\"2024-03-25T00:00:00\",\"2024-03-24T00:00:00\",\"2024-03-23T00:00:00\",\"2024-03-22T00:00:00\",\"2024-03-21T00:00:00\",\"2024-03-20T00:00:00\",\"2024-03-19T00:00:00\",\"2024-03-18T00:00:00\",\"2024-03-17T00:00:00\",\"2024-03-16T00:00:00\",\"2024-03-15T00:00:00\",\"2024-03-14T00:00:00\",\"2024-03-13T00:00:00\",\"2024-03-12T00:00:00\",\"2024-03-11T00:00:00\",\"2024-03-10T00:00:00\",\"2024-03-09T00:00:00\",\"2024-03-08T00:00:00\",\"2024-03-07T00:00:00\",\"2024-03-06T00:00:00\",\"2024-03-05T00:00:00\",\"2024-03-04T00:00:00\",\"2024-03-03T00:00:00\",\"2024-03-02T00:00:00\",\"2024-03-01T00:00:00\",\"2024-02-29T00:00:00\",\"2024-02-28T00:00:00\",\"2024-02-27T00:00:00\",\"2024-02-26T00:00:00\",\"2024-02-25T00:00:00\",\"2024-02-24T00:00:00\",\"2024-02-23T00:00:00\",\"2024-02-22T00:00:00\",\"2024-02-21T00:00:00\",\"2024-02-20T00:00:00\",\"2024-02-19T00:00:00\",\"2024-02-18T00:00:00\",\"2024-02-17T00:00:00\",\"2024-02-16T00:00:00\",\"2024-02-15T00:00:00\",\"2024-02-14T00:00:00\",\"2024-02-13T00:00:00\",\"2024-02-12T00:00:00\",\"2024-02-11T00:00:00\",\"2024-02-10T00:00:00\",\"2024-02-09T00:00:00\",\"2024-02-08T00:00:00\",\"2024-02-07T00:00:00\",\"2024-02-06T00:00:00\",\"2024-02-05T00:00:00\",\"2024-02-04T00:00:00\",\"2024-02-03T00:00:00\",\"2024-02-02T00:00:00\",\"2024-02-01T00:00:00\",\"2024-01-31T00:00:00\",\"2024-01-30T00:00:00\",\"2024-01-29T00:00:00\",\"2024-01-28T00:00:00\",\"2024-01-27T00:00:00\",\"2024-01-26T00:00:00\",\"2024-01-25T00:00:00\",\"2024-01-24T00:00:00\",\"2024-01-23T00:00:00\",\"2024-01-22T00:00:00\",\"2024-01-21T00:00:00\",\"2024-01-20T00:00:00\",\"2024-01-19T00:00:00\",\"2024-01-18T00:00:00\",\"2024-01-17T00:00:00\",\"2024-01-16T00:00:00\",\"2024-01-15T00:00:00\",\"2024-01-14T00:00:00\",\"2024-01-13T00:00:00\",\"2024-01-12T00:00:00\",\"2024-01-11T00:00:00\",\"2024-01-10T00:00:00\",\"2024-01-09T00:00:00\",\"2024-01-08T00:00:00\",\"2024-01-07T00:00:00\",\"2024-01-06T00:00:00\",\"2024-01-05T00:00:00\",\"2024-01-04T00:00:00\",\"2024-01-03T00:00:00\",\"2024-01-02T00:00:00\",\"2024-01-01T00:00:00\"],\"xaxis\":\"x\",\"y\":[0.030471691559569292,0.0652434873219868,0.2758138242445294,0.30217367141368523,0.3082882945467176,0.3165682528655783,0.2948148662730115,0.03878985758944078,0.06514275790204932,0.28326641194859326,0.30663007988885027,0.31082806530045154,0.31107398402222985,0.28490170197985404,0.03780340395970823,0.06079958318860715,0.27996248697464393,0.2952810003473428,0.3094088225078152,0.3108794720389024,0.2987169155956929,0.03847030218825981,0.07041681139284474,0.282480722473081,0.30910593956234805,0.3101278221604724,0.30773671413685305,0.30205904828065294,0.0348475164987843,0.066652309829802,0.29750329975685996,0.30511497047585967,0.3080104202848212,0.30906495310871834,0.29495727683223333,0.038089614449461615,0.06810559221952067,0.2776526571726293,0.29637582493921494,0.30100382077110105,0.3000361236540465,0.274539770753734,0.036820423758249385,0.07607641542202152,0.28529281000347345,0.30785550538381384,0.30602917679749914,0.28563945814518926,0.2892948940604377,0.03897047585967349,0.06721083709621396,0.2877888155609587,0.306502257728378,0.3091142757902049,0.30861827023271965,0.3009906217436609,0.03812851684612713,0.07400486279958318,0.2854456408475165,0.3078596734977423,0.31791802709274053,0.32326224383466473,0.2980521014241056,0.0409183744355679,0.06808197290725945,0.2872045849253213,0.3129739492879473,0.3106168808614102,0.3123751302535603,0.2892955887460924,0.04259256686349427,0.08121778395276139,0.2807634595345606,0.3112921153178187,0.31252587704063917,0.28788120875303924,0.26998957971517884,0.044882945467176104,0.0669822855158041,0.28563181660298714,0.3104008336227857,0.31486210489753386,0.3031267801319903,0.2929010072941994,0.035714484195901355,0.07303230288294547,0.2885425494963529,0.3073400486279958,0.30939562348037514,0.28933379645710317,0.14332893365751995],\"yaxis\":\"y\",\"type\":\"scattergl\"},{\"hovertemplate\":\"variable=Hrs_PT\\u003cbr\\u003eWorkDate=%{x}\\u003cbr\\u003evalue=%{y}\\u003cextra\\u003e\\u003c\\u002fextra\\u003e\",\"legendgroup\":\"Hrs_PT\",\"line\":{\"color\":\"#EF553B\",\"dash\":\"solid\"},\"marker\":{\"symbol\":\"circle\"},\"mode\":\"lines\",\"name\":\"Hrs_PT\",\"showlegend\":true,\"x\":[\"2024-03-31T00:00:00\",\"2024-03-30T00:00:00\",\"2024-03-29T00:00:00\",\"2024-03-28T00:00:00\",\"2024-03-27T00:00:00\",\"2024-03-26T00:00:00\",\"2024-03-25T00:00:00\",\"2024-03-24T00:00:00\",\"2024-03-23T00:00:00\",\"2024-03-22T00:00:00\",\"2024-03-21T00:00:00\",\"2024-03-20T00:00:00\",\"2024-03-19T00:00:00\",\"2024-03-18T00:00:00\",\"2024-03-17T00:00:00\",\"2024-03-16T00:00:00\",\"2024-03-15T00:00:00\",\"2024-03-14T00:00:00\",\"2024-03-13T00:00:00\",\"2024-03-12T00:00:00\",\"2024-03-11T00:00:00\",\"2024-03-10T00:00:00\",\"2024-03-09T00:00:00\",\"2024-03-08T00:00:00\",\"2024-03-07T00:00:00\",\"2024-03-06T00:00:00\",\"2024-03-05T00:00:00\",\"2024-03-04T00:00:00\",\"2024-03-03T00:00:00\",\"2024-03-02T00:00:00\",\"2024-03-01T00:00:00\",\"2024-02-29T00:00:00\",\"2024-02-28T00:00:00\",\"2024-02-27T00:00:00\",\"2024-02-26T00:00:00\",\"2024-02-25T00:00:00\",\"2024-02-24T00:00:00\",\"2024-02-23T00:00:00\",\"2024-02-22T00:00:00\",\"2024-02-21T00:00:00\",\"2024-02-20T00:00:00\",\"2024-02-19T00:00:00\",\"2024-02-18T00:00:00\",\"2024-02-17T00:00:00\",\"2024-02-16T00:00:00\",\"2024-02-15T00:00:00\",\"2024-02-14T00:00:00\",\"2024-02-13T00:00:00\",\"2024-02-12T00:00:00\",\"2024-02-11T00:00:00\",\"2024-02-10T00:00:00\",\"2024-02-09T00:00:00\",\"2024-02-08T00:00:00\",\"2024-02-07T00:00:00\",\"2024-02-06T00:00:00\",\"2024-02-05T00:00:00\",\"2024-02-04T00:00:00\",\"2024-02-03T00:00:00\",\"2024-02-02T00:00:00\",\"2024-02-01T00:00:00\",\"2024-01-31T00:00:00\",\"2024-01-30T00:00:00\",\"2024-01-29T00:00:00\",\"2024-01-28T00:00:00\",\"2024-01-27T00:00:00\",\"2024-01-26T00:00:00\",\"2024-01-25T00:00:00\",\"2024-01-24T00:00:00\",\"2024-01-23T00:00:00\",\"2024-01-22T00:00:00\",\"2024-01-21T00:00:00\",\"2024-01-20T00:00:00\",\"2024-01-19T00:00:00\",\"2024-01-18T00:00:00\",\"2024-01-17T00:00:00\",\"2024-01-16T00:00:00\",\"2024-01-15T00:00:00\",\"2024-01-14T00:00:00\",\"2024-01-13T00:00:00\",\"2024-01-12T00:00:00\",\"2024-01-11T00:00:00\",\"2024-01-10T00:00:00\",\"2024-01-09T00:00:00\",\"2024-01-08T00:00:00\",\"2024-01-07T00:00:00\",\"2024-01-06T00:00:00\",\"2024-01-05T00:00:00\",\"2024-01-04T00:00:00\",\"2024-01-03T00:00:00\",\"2024-01-02T00:00:00\",\"2024-01-01T00:00:00\"],\"xaxis\":\"x\",\"y\":[0.8082744008336227,1.6996818339701287,6.590207711010768,7.3555463702674535,7.566225078152134,7.518073636679404,7.2241611670719,1.1847995831886071,1.7448280653004513,6.993726293852035,7.527576241750609,7.643052448766932,7.620976033344909,7.347627648489057,1.135140673845085,1.712914901007294,7.0018061827023255,7.456532823897185,7.629764501563042,7.591017019798542,7.321520666898228,1.128131990274401,1.7452733588051403,7.129547759638765,7.619986106286906,7.727007294199373,7.686310524487669,7.431610281347688,1.1163237235151093,1.7213344911427577,7.232148662730116,7.668764848905868,7.738489753386593,7.732343174713441,7.428358457797844,1.105768669676971,1.794267453977075,7.076627995831885,7.577597082320248,7.6954116012504326,7.6057665856200085,6.932235498436957,1.138252865578326,1.7929281000347344,7.072413337964571,7.611629732546022,7.6263216394581415,7.476755817992358,7.344616186175754,1.1232768322334146,1.7522222994095171,7.168989927058007,7.586327196943382,7.717608891976381,7.7383494268843345,7.425738103508161,1.1331080236193123,1.7470107676276492,7.211245571378951,7.705874261896492,7.750869051754082,7.709849253212923,7.4340277874261895,1.1103605418548106,1.7932997568600209,7.234159777700591,7.59388120875304,7.6621806182702334,7.653306009030915,7.302257033692253,1.0999638763459534,1.8798520319555398,7.095911774921847,7.593260159777701,7.598543244182006,7.283856894755122,6.597422716220911,1.2092282042375821,1.7646891281695034,6.973130253560264,7.525845779784645,7.54830774574505,7.368075026050715,7.196748871135812,1.0230976033344912,1.9221062869051755,7.0668315387287235,7.345635984716914,7.28671552622438,7.02205418548107,3.6219360889197634],\"yaxis\":\"y\",\"type\":\"scattergl\"},{\"hovertemplate\":\"variable=Hrs_PTasst\\u003cbr\\u003eWorkDate=%{x}\\u003cbr\\u003evalue=%{y}\\u003cextra\\u003e\\u003c\\u002fextra\\u003e\",\"legendgroup\":\"Hrs_PTasst\",\"line\":{\"color\":\"#00cc96\",\"dash\":\"solid\"},\"marker\":{\"symbol\":\"circle\"},\"mode\":\"lines\",\"name\":\"Hrs_PTasst\",\"showlegend\":true,\"x\":[\"2024-03-31T00:00:00\",\"2024-03-30T00:00:00\",\"2024-03-29T00:00:00\",\"2024-03-28T00:00:00\",\"2024-03-27T00:00:00\",\"2024-03-26T00:00:00\",\"2024-03-25T00:00:00\",\"2024-03-24T00:00:00\",\"2024-03-23T00:00:00\",\"2024-03-22T00:00:00\",\"2024-03-21T00:00:00\",\"2024-03-20T00:00:00\",\"2024-03-19T00:00:00\",\"2024-03-18T00:00:00\",\"2024-03-17T00:00:00\",\"2024-03-16T00:00:00\",\"2024-03-15T00:00:00\",\"2024-03-14T00:00:00\",\"2024-03-13T00:00:00\",\"2024-03-12T00:00:00\",\"2024-03-11T00:00:00\",\"2024-03-10T00:00:00\",\"2024-03-09T00:00:00\",\"2024-03-08T00:00:00\",\"2024-03-07T00:00:00\",\"2024-03-06T00:00:00\",\"2024-03-05T00:00:00\",\"2024-03-04T00:00:00\",\"2024-03-03T00:00:00\",\"2024-03-02T00:00:00\",\"2024-03-01T00:00:00\",\"2024-02-29T00:00:00\",\"2024-02-28T00:00:00\",\"2024-02-27T00:00:00\",\"2024-02-26T00:00:00\",\"2024-02-25T00:00:00\",\"2024-02-24T00:00:00\",\"2024-02-23T00:00:00\",\"2024-02-22T00:00:00\",\"2024-02-21T00:00:00\",\"2024-02-20T00:00:00\",\"2024-02-19T00:00:00\",\"2024-02-18T00:00:00\",\"2024-02-17T00:00:00\",\"2024-02-16T00:00:00\",\"2024-02-15T00:00:00\",\"2024-02-14T00:00:00\",\"2024-02-13T00:00:00\",\"2024-02-12T00:00:00\",\"2024-02-11T00:00:00\",\"2024-02-10T00:00:00\",\"2024-02-09T00:00:00\",\"2024-02-08T00:00:00\",\"2024-02-07T00:00:00\",\"2024-02-06T00:00:00\",\"2024-02-05T00:00:00\",\"2024-02-04T00:00:00\",\"2024-02-03T00:00:00\",\"2024-02-02T00:00:00\",\"2024-02-01T00:00:00\",\"2024-01-31T00:00:00\",\"2024-01-30T00:00:00\",\"2024-01-29T00:00:00\",\"2024-01-28T00:00:00\",\"2024-01-27T00:00:00\",\"2024-01-26T00:00:00\",\"2024-01-25T00:00:00\",\"2024-01-24T00:00:00\",\"2024-01-23T00:00:00\",\"2024-01-22T00:00:00\",\"2024-01-21T00:00:00\",\"2024-01-20T00:00:00\",\"2024-01-19T00:00:00\",\"2024-01-18T00:00:00\",\"2024-01-17T00:00:00\",\"2024-01-16T00:00:00\",\"2024-01-15T00:00:00\",\"2024-01-14T00:00:00\",\"2024-01-13T00:00:00\",\"2024-01-12T00:00:00\",\"2024-01-11T00:00:00\",\"2024-01-10T00:00:00\",\"2024-01-09T00:00:00\",\"2024-01-08T00:00:00\",\"2024-01-07T00:00:00\",\"2024-01-06T00:00:00\",\"2024-01-05T00:00:00\",\"2024-01-04T00:00:00\",\"2024-01-03T00:00:00\",\"2024-01-02T00:00:00\",\"2024-01-01T00:00:00\"],\"xaxis\":\"x\",\"y\":[0.8287502605071205,1.8789808961444945,8.591902744008339,9.547982632858632,9.725904133379649,9.731549149010073,9.281769364362628,1.2334789857589443,1.910363320597429,8.903383813824242,9.625035776311222,9.80492879472039,9.797815213615838,9.306753733935397,1.2068829454671757,1.9025897881208755,8.881971517888154,9.602903786036817,9.77236609934005,9.767779089961794,9.29771865230983,1.2036915595692947,1.9092261201806182,9.039193469954848,9.739412990621743,9.875885376866968,9.813592914206321,9.409586662035428,1.1529572768322336,1.8576568252865577,9.0754796804446,9.718625911774922,9.845477596387637,9.805241403265022,9.336716220910038,1.1949496352900313,1.9543876345953457,9.047676276484893,9.684428621048976,9.854075026050712,9.818850295241404,9.076366099340047,1.260841959013546,1.9905390760680792,9.021691559569295,9.705054532823898,9.746210489753386,9.606748871135808,9.276102813476902,1.185688780826676,1.9658082667592913,9.089083709621397,9.795358805140676,9.883444946161863,9.88619520666898,9.491084404307049,1.1928822507815213,1.9783570684265368,9.182472386245227,9.78536992011115,9.831747134421674,9.808703716568253,9.365118443904136,1.1615922195206672,2.0389711705453277,9.02673845085099,9.670071552622439,9.782714831538728,9.700327891629039,9.086335533171237,1.208056269538034,2.1499187217783957,8.794961444946164,9.56357068426537,9.58055505383814,9.152510593956233,8.342792636332062,1.395299756860021,1.9164577978464747,8.762009030913513,9.560100729419936,9.577986106286902,9.297081625564433,9.048022229940951,1.0290718999652655,2.110582146578673,8.833756165335188,9.354616186175756,9.341529697811739,9.097777700590484,4.886597429663078],\"yaxis\":\"y\",\"type\":\"scattergl\"},{\"hovertemplate\":\"variable=Hrs_PTaide\\u003cbr\\u003eWorkDate=%{x}\\u003cbr\\u003evalue=%{y}\\u003cextra\\u003e\\u003c\\u002fextra\\u003e\",\"legendgroup\":\"Hrs_PTaide\",\"line\":{\"color\":\"#ab63fa\",\"dash\":\"solid\"},\"marker\":{\"symbol\":\"circle\"},\"mode\":\"lines\",\"name\":\"Hrs_PTaide\",\"showlegend\":true,\"x\":[\"2024-03-31T00:00:00\",\"2024-03-30T00:00:00\",\"2024-03-29T00:00:00\",\"2024-03-28T00:00:00\",\"2024-03-27T00:00:00\",\"2024-03-26T00:00:00\",\"2024-03-25T00:00:00\",\"2024-03-24T00:00:00\",\"2024-03-23T00:00:00\",\"2024-03-22T00:00:00\",\"2024-03-21T00:00:00\",\"2024-03-20T00:00:00\",\"2024-03-19T00:00:00\",\"2024-03-18T00:00:00\",\"2024-03-17T00:00:00\",\"2024-03-16T00:00:00\",\"2024-03-15T00:00:00\",\"2024-03-14T00:00:00\",\"2024-03-13T00:00:00\",\"2024-03-12T00:00:00\",\"2024-03-11T00:00:00\",\"2024-03-10T00:00:00\",\"2024-03-09T00:00:00\",\"2024-03-08T00:00:00\",\"2024-03-07T00:00:00\",\"2024-03-06T00:00:00\",\"2024-03-05T00:00:00\",\"2024-03-04T00:00:00\",\"2024-03-03T00:00:00\",\"2024-03-02T00:00:00\",\"2024-03-01T00:00:00\",\"2024-02-29T00:00:00\",\"2024-02-28T00:00:00\",\"2024-02-27T00:00:00\",\"2024-02-26T00:00:00\",\"2024-02-25T00:00:00\",\"2024-02-24T00:00:00\",\"2024-02-23T00:00:00\",\"2024-02-22T00:00:00\",\"2024-02-21T00:00:00\",\"2024-02-20T00:00:00\",\"2024-02-19T00:00:00\",\"2024-02-18T00:00:00\",\"2024-02-17T00:00:00\",\"2024-02-16T00:00:00\",\"2024-02-15T00:00:00\",\"2024-02-14T00:00:00\",\"2024-02-13T00:00:00\",\"2024-02-12T00:00:00\",\"2024-02-11T00:00:00\",\"2024-02-10T00:00:00\",\"2024-02-09T00:00:00\",\"2024-02-08T00:00:00\",\"2024-02-07T00:00:00\",\"2024-02-06T00:00:00\",\"2024-02-05T00:00:00\",\"2024-02-04T00:00:00\",\"2024-02-03T00:00:00\",\"2024-02-02T00:00:00\",\"2024-02-01T00:00:00\",\"2024-01-31T00:00:00\",\"2024-01-30T00:00:00\",\"2024-01-29T00:00:00\",\"2024-01-28T00:00:00\",\"2024-01-27T00:00:00\",\"2024-01-26T00:00:00\",\"2024-01-25T00:00:00\",\"2024-01-24T00:00:00\",\"2024-01-23T00:00:00\",\"2024-01-22T00:00:00\",\"2024-01-21T00:00:00\",\"2024-01-20T00:00:00\",\"2024-01-19T00:00:00\",\"2024-01-18T00:00:00\",\"2024-01-17T00:00:00\",\"2024-01-16T00:00:00\",\"2024-01-15T00:00:00\",\"2024-01-14T00:00:00\",\"2024-01-13T00:00:00\",\"2024-01-12T00:00:00\",\"2024-01-11T00:00:00\",\"2024-01-10T00:00:00\",\"2024-01-09T00:00:00\",\"2024-01-08T00:00:00\",\"2024-01-07T00:00:00\",\"2024-01-06T00:00:00\",\"2024-01-05T00:00:00\",\"2024-01-04T00:00:00\",\"2024-01-03T00:00:00\",\"2024-01-02T00:00:00\",\"2024-01-01T00:00:00\"],\"xaxis\":\"x\",\"y\":[0.05036679402570337,0.12566446682876,0.739121917332407,0.8344703021882597,0.860732893365752,0.8371330323028828,0.8236943383119137,0.06173324070857938,0.12540604376519623,0.7910218825981243,0.8355408127822159,0.8466307745745049,0.8321521361583883,0.8108169503299758,0.06547134421674193,0.12984716915595693,0.7873907606807918,0.8131976380687739,0.8484605765890935,0.8343119138589788,0.8216366794025705,0.06230010420284821,0.12345189301840917,0.7851128864188954,0.8282000694685655,0.842923931920806,0.8293657519972213,0.8188044459881904,0.05997846474470301,0.12530323028829454,0.7730441125390759,0.8285189301840917,0.8368718304967,0.8378047933310175,0.8192997568600208,0.05763876345953458,0.1226516151441473,0.7719993053143452,0.8220486279958319,0.8395067731851339,0.8298291073289339,0.7816436262591178,0.06286766238277179,0.1251476207016325,0.7632789162903787,0.8180764154220215,0.8275019103855507,0.7898742618964918,0.8058270232719695,0.05972143105244875,0.1239631816602987,0.7910607849947897,0.8419666550885725,0.8434588398749568,0.8405258770406391,0.8147669329628344,0.06316498784300104,0.1296193122612018,0.7916262591177494,0.8387801319902743,0.8370316081972907,0.8341771448419592,0.8244105592219519,0.0645140673845085,0.11657658909343523,0.8038846821813128,0.8285675581799236,0.8461437999305313,0.833603334491143,0.8063327544286213,0.07063772143105243,0.1462716220910038,0.7619965265717263,0.8242382771795761,0.8287891629037861,0.7642938520319555,0.7057561653351858,0.06883501215699896,0.12081139284473777,0.7658687044112541,0.8260305661688085,0.8366495310871833,0.8081472733588053,0.7941299062174367,0.055097603334491145,0.13887044112539076,0.7943251128864189,0.8299340048627997,0.8424911427579019,0.7966022924626606,0.3610191038555054],\"yaxis\":\"y\",\"type\":\"scattergl\"},{\"hovertemplate\":\"variable=Hrs_RespTher\\u003cbr\\u003eWorkDate=%{x}\\u003cbr\\u003evalue=%{y}\\u003cextra\\u003e\\u003c\\u002fextra\\u003e\",\"legendgroup\":\"Hrs_RespTher\",\"line\":{\"color\":\"#FFA15A\",\"dash\":\"solid\"},\"marker\":{\"symbol\":\"circle\"},\"mode\":\"lines\",\"name\":\"Hrs_RespTher\",\"showlegend\":true,\"x\":[\"2024-03-31T00:00:00\",\"2024-03-30T00:00:00\",\"2024-03-29T00:00:00\",\"2024-03-28T00:00:00\",\"2024-03-27T00:00:00\",\"2024-03-26T00:00:00\",\"2024-03-25T00:00:00\",\"2024-03-24T00:00:00\",\"2024-03-23T00:00:00\",\"2024-03-22T00:00:00\",\"2024-03-21T00:00:00\",\"2024-03-20T00:00:00\",\"2024-03-19T00:00:00\",\"2024-03-18T00:00:00\",\"2024-03-17T00:00:00\",\"2024-03-16T00:00:00\",\"2024-03-15T00:00:00\",\"2024-03-14T00:00:00\",\"2024-03-13T00:00:00\",\"2024-03-12T00:00:00\",\"2024-03-11T00:00:00\",\"2024-03-10T00:00:00\",\"2024-03-09T00:00:00\",\"2024-03-08T00:00:00\",\"2024-03-07T00:00:00\",\"2024-03-06T00:00:00\",\"2024-03-05T00:00:00\",\"2024-03-04T00:00:00\",\"2024-03-03T00:00:00\",\"2024-03-02T00:00:00\",\"2024-03-01T00:00:00\",\"2024-02-29T00:00:00\",\"2024-02-28T00:00:00\",\"2024-02-27T00:00:00\",\"2024-02-26T00:00:00\",\"2024-02-25T00:00:00\",\"2024-02-24T00:00:00\",\"2024-02-23T00:00:00\",\"2024-02-22T00:00:00\",\"2024-02-21T00:00:00\",\"2024-02-20T00:00:00\",\"2024-02-19T00:00:00\",\"2024-02-18T00:00:00\",\"2024-02-17T00:00:00\",\"2024-02-16T00:00:00\",\"2024-02-15T00:00:00\",\"2024-02-14T00:00:00\",\"2024-02-13T00:00:00\",\"2024-02-12T00:00:00\",\"2024-02-11T00:00:00\",\"2024-02-10T00:00:00\",\"2024-02-09T00:00:00\",\"2024-02-08T00:00:00\",\"2024-02-07T00:00:00\",\"2024-02-06T00:00:00\",\"2024-02-05T00:00:00\",\"2024-02-04T00:00:00\",\"2024-02-03T00:00:00\",\"2024-02-02T00:00:00\",\"2024-02-01T00:00:00\",\"2024-01-31T00:00:00\",\"2024-01-30T00:00:00\",\"2024-01-29T00:00:00\",\"2024-01-28T00:00:00\",\"2024-01-27T00:00:00\",\"2024-01-26T00:00:00\",\"2024-01-25T00:00:00\",\"2024-01-24T00:00:00\",\"2024-01-23T00:00:00\",\"2024-01-22T00:00:00\",\"2024-01-21T00:00:00\",\"2024-01-20T00:00:00\",\"2024-01-19T00:00:00\",\"2024-01-18T00:00:00\",\"2024-01-17T00:00:00\",\"2024-01-16T00:00:00\",\"2024-01-15T00:00:00\",\"2024-01-14T00:00:00\",\"2024-01-13T00:00:00\",\"2024-01-12T00:00:00\",\"2024-01-11T00:00:00\",\"2024-01-10T00:00:00\",\"2024-01-09T00:00:00\",\"2024-01-08T00:00:00\",\"2024-01-07T00:00:00\",\"2024-01-06T00:00:00\",\"2024-01-05T00:00:00\",\"2024-01-04T00:00:00\",\"2024-01-03T00:00:00\",\"2024-01-02T00:00:00\",\"2024-01-01T00:00:00\"],\"xaxis\":\"x\",\"y\":[1.4276616880861412,1.465484543244182,1.7767877735324769,1.8368815560958667,1.8688864188954497,1.8534324418200765,1.8254157693643631,1.4655435915248347,1.4852261201806183,1.8161021187912472,1.863581104550191,1.8900854463355328,1.8679527613754776,1.85628134769017,1.4645536644668284,1.4861257381035087,1.7974122959360892,1.880563390065995,1.8860187565126778,1.872634942688433,1.8285356026398047,1.4440361236540464,1.5001236540465437,1.8157228204237583,1.867694338311914,1.8764835012157002,1.8363681833970127,1.8133726988537682,1.452287599861063,1.4710461965960402,1.8138124348732203,1.8389927058006257,1.8624730809308785,1.8295998610628692,1.7872935046891283,1.4460479333101772,1.4705626953803403,1.787205974296631,1.819162209100382,1.842989927058006,1.837601945119833,1.763751302535602,1.4404709968739144,1.462889197638069,1.7736193122612016,1.818152830844043,1.8030941299062175,1.8142160472386244,1.778235498436957,1.421770753733935,1.4541250434178534,1.7746279958318858,1.8382632858631471,1.8831837443556791,1.8525710316081971,1.7983244182007645,1.4459617922889891,1.458499478985759,1.780066689822855,1.8429544980896144,1.8939256686349428,1.863122612018062,1.815573463007989,1.4618645362973257,1.478418895449809,1.7965474122959366,1.850711358110455,1.8566078499478982,1.85802639805488,1.7992156998957967,1.4446314692601596,1.4607189996526573,1.751970823202501,1.8294373046196601,1.8494088225078154,1.7945640847516495,1.7461368530739843,1.4533011462313303,1.473943730461966,1.7593720041681142,1.8472525182354984,1.8416540465439388,1.8354227162209102,1.8036332059742965,1.4428162556443207,1.4421701979854116,1.7581382424452936,1.8252004168113927,1.8246787078846824,1.7580472386245225,1.4778291073289336],\"yaxis\":\"y\",\"type\":\"scattergl\"},{\"hovertemplate\":\"variable=Hrs_RespTech\\u003cbr\\u003eWorkDate=%{x}\\u003cbr\\u003evalue=%{y}\\u003cextra\\u003e\\u003c\\u002fextra\\u003e\",\"legendgroup\":\"Hrs_RespTech\",\"line\":{\"color\":\"#19d3f3\",\"dash\":\"solid\"},\"marker\":{\"symbol\":\"circle\"},\"mode\":\"lines\",\"name\":\"Hrs_RespTech\",\"showlegend\":true,\"x\":[\"2024-03-31T00:00:00\",\"2024-03-30T00:00:00\",\"2024-03-29T00:00:00\",\"2024-03-28T00:00:00\",\"2024-03-27T00:00:00\",\"2024-03-26T00:00:00\",\"2024-03-25T00:00:00\",\"2024-03-24T00:00:00\",\"2024-03-23T00:00:00\",\"2024-03-22T00:00:00\",\"2024-03-21T00:00:00\",\"2024-03-20T00:00:00\",\"2024-03-19T00:00:00\",\"2024-03-18T00:00:00\",\"2024-03-17T00:00:00\",\"2024-03-16T00:00:00\",\"2024-03-15T00:00:00\",\"2024-03-14T00:00:00\",\"2024-03-13T00:00:00\",\"2024-03-12T00:00:00\",\"2024-03-11T00:00:00\",\"2024-03-10T00:00:00\",\"2024-03-09T00:00:00\",\"2024-03-08T00:00:00\",\"2024-03-07T00:00:00\",\"2024-03-06T00:00:00\",\"2024-03-05T00:00:00\",\"2024-03-04T00:00:00\",\"2024-03-03T00:00:00\",\"2024-03-02T00:00:00\",\"2024-03-01T00:00:00\",\"2024-02-29T00:00:00\",\"2024-02-28T00:00:00\",\"2024-02-27T00:00:00\",\"2024-02-26T00:00:00\",\"2024-02-25T00:00:00\",\"2024-02-24T00:00:00\",\"2024-02-23T00:00:00\",\"2024-02-22T00:00:00\",\"2024-02-21T00:00:00\",\"2024-02-20T00:00:00\",\"2024-02-19T00:00:00\",\"2024-02-18T00:00:00\",\"2024-02-17T00:00:00\",\"2024-02-16T00:00:00\",\"2024-02-15T00:00:00\",\"2024-02-14T00:00:00\",\"2024-02-13T00:00:00\",\"2024-02-12T00:00:00\",\"2024-02-11T00:00:00\",\"2024-02-10T00:00:00\",\"2024-02-09T00:00:00\",\"2024-02-08T00:00:00\",\"2024-02-07T00:00:00\",\"2024-02-06T00:00:00\",\"2024-02-05T00:00:00\",\"2024-02-04T00:00:00\",\"2024-02-03T00:00:00\",\"2024-02-02T00:00:00\",\"2024-02-01T00:00:00\",\"2024-01-31T00:00:00\",\"2024-01-30T00:00:00\",\"2024-01-29T00:00:00\",\"2024-01-28T00:00:00\",\"2024-01-27T00:00:00\",\"2024-01-26T00:00:00\",\"2024-01-25T00:00:00\",\"2024-01-24T00:00:00\",\"2024-01-23T00:00:00\",\"2024-01-22T00:00:00\",\"2024-01-21T00:00:00\",\"2024-01-20T00:00:00\",\"2024-01-19T00:00:00\",\"2024-01-18T00:00:00\",\"2024-01-17T00:00:00\",\"2024-01-16T00:00:00\",\"2024-01-15T00:00:00\",\"2024-01-14T00:00:00\",\"2024-01-13T00:00:00\",\"2024-01-12T00:00:00\",\"2024-01-11T00:00:00\",\"2024-01-10T00:00:00\",\"2024-01-09T00:00:00\",\"2024-01-08T00:00:00\",\"2024-01-07T00:00:00\",\"2024-01-06T00:00:00\",\"2024-01-05T00:00:00\",\"2024-01-04T00:00:00\",\"2024-01-03T00:00:00\",\"2024-01-02T00:00:00\",\"2024-01-01T00:00:00\"],\"xaxis\":\"x\",\"y\":[0.07812434873219867,0.08558179923584579,0.0963202500868357,0.09897672803056615,0.09670163251128865,0.09847169155956932,0.09692462660646058,0.0803959708232025,0.09268704411253907,0.09957624175060785,0.09803265022577284,0.10495310871830497,0.09877387981938171,0.09331781868704411,0.08329142063216394,0.08412365404654394,0.10423271969433831,0.09711149704758595,0.10303508162556443,0.09758944077804793,0.09894129906217435,0.07956304272316775,0.08683987495658214,0.1017117054532824,0.10189093435220561,0.09579367836054185,0.10667384508509899,0.10217714484195901,0.08472386245224035,0.08315039944425148,0.10570475859673498,0.1004230635637374,0.09471483153872873,0.09735255296978118,0.09899131642931575,0.08703369225425495,0.08486141021187912,0.09782841264327892,0.10109968739145536,0.10294129906217438,0.10846543938867662,0.09540951719346995,0.085484543244182,0.08584508509899269,0.10173879819381727,0.0982681486627301,0.09970545328238971,0.09772143105244877,0.10186175755470649,0.0878381382424453,0.08649392150052101,0.09534977422716222,0.1021535255296978,0.09798402222994096,0.10001597777005906,0.09447794373046198,0.08450573115665162,0.08827162209100381,0.09890448072247307,0.10040708579367834,0.10138867662382772,0.09869746439736021,0.09652657172629386,0.08439597082320249,0.08644598819034384,0.09549774227162208,0.10234595345606111,0.09922264675234456,0.10491351163598472,0.09675303924973949,0.09009934004862798,0.08832094477249046,0.0947280305661688,0.09437999305314344,0.0944598819034387,0.0908238971865231,0.09257589440778047,0.08588120875303924,0.08939909690864885,0.09766863494268843,0.10006391108023618,0.10258492532129211,0.10532823897186525,0.09540604376519624,0.08594650920458492,0.08850503647099686,0.09977839527613755,0.10030427231677666,0.09805904828065301,0.09806946856547409,0.077661688086141],\"yaxis\":\"y\",\"type\":\"scattergl\"},{\"hovertemplate\":\"variable=Hrs_SpcLangPath\\u003cbr\\u003eWorkDate=%{x}\\u003cbr\\u003evalue=%{y}\\u003cextra\\u003e\\u003c\\u002fextra\\u003e\",\"legendgroup\":\"Hrs_SpcLangPath\",\"line\":{\"color\":\"#FF6692\",\"dash\":\"solid\"},\"marker\":{\"symbol\":\"circle\"},\"mode\":\"lines\",\"name\":\"Hrs_SpcLangPath\",\"showlegend\":true,\"x\":[\"2024-03-31T00:00:00\",\"2024-03-30T00:00:00\",\"2024-03-29T00:00:00\",\"2024-03-28T00:00:00\",\"2024-03-27T00:00:00\",\"2024-03-26T00:00:00\",\"2024-03-25T00:00:00\",\"2024-03-24T00:00:00\",\"2024-03-23T00:00:00\",\"2024-03-22T00:00:00\",\"2024-03-21T00:00:00\",\"2024-03-20T00:00:00\",\"2024-03-19T00:00:00\",\"2024-03-18T00:00:00\",\"2024-03-17T00:00:00\",\"2024-03-16T00:00:00\",\"2024-03-15T00:00:00\",\"2024-03-14T00:00:00\",\"2024-03-13T00:00:00\",\"2024-03-12T00:00:00\",\"2024-03-11T00:00:00\",\"2024-03-10T00:00:00\",\"2024-03-09T00:00:00\",\"2024-03-08T00:00:00\",\"2024-03-07T00:00:00\",\"2024-03-06T00:00:00\",\"2024-03-05T00:00:00\",\"2024-03-04T00:00:00\",\"2024-03-03T00:00:00\",\"2024-03-02T00:00:00\",\"2024-03-01T00:00:00\",\"2024-02-29T00:00:00\",\"2024-02-28T00:00:00\",\"2024-02-27T00:00:00\",\"2024-02-26T00:00:00\",\"2024-02-25T00:00:00\",\"2024-02-24T00:00:00\",\"2024-02-23T00:00:00\",\"2024-02-22T00:00:00\",\"2024-02-21T00:00:00\",\"2024-02-20T00:00:00\",\"2024-02-19T00:00:00\",\"2024-02-18T00:00:00\",\"2024-02-17T00:00:00\",\"2024-02-16T00:00:00\",\"2024-02-15T00:00:00\",\"2024-02-14T00:00:00\",\"2024-02-13T00:00:00\",\"2024-02-12T00:00:00\",\"2024-02-11T00:00:00\",\"2024-02-10T00:00:00\",\"2024-02-09T00:00:00\",\"2024-02-08T00:00:00\",\"2024-02-07T00:00:00\",\"2024-02-06T00:00:00\",\"2024-02-05T00:00:00\",\"2024-02-04T00:00:00\",\"2024-02-03T00:00:00\",\"2024-02-02T00:00:00\",\"2024-02-01T00:00:00\",\"2024-01-31T00:00:00\",\"2024-01-30T00:00:00\",\"2024-01-29T00:00:00\",\"2024-01-28T00:00:00\",\"2024-01-27T00:00:00\",\"2024-01-26T00:00:00\",\"2024-01-25T00:00:00\",\"2024-01-24T00:00:00\",\"2024-01-23T00:00:00\",\"2024-01-22T00:00:00\",\"2024-01-21T00:00:00\",\"2024-01-20T00:00:00\",\"2024-01-19T00:00:00\",\"2024-01-18T00:00:00\",\"2024-01-17T00:00:00\",\"2024-01-16T00:00:00\",\"2024-01-15T00:00:00\",\"2024-01-14T00:00:00\",\"2024-01-13T00:00:00\",\"2024-01-12T00:00:00\",\"2024-01-11T00:00:00\",\"2024-01-10T00:00:00\",\"2024-01-09T00:00:00\",\"2024-01-08T00:00:00\",\"2024-01-07T00:00:00\",\"2024-01-06T00:00:00\",\"2024-01-05T00:00:00\",\"2024-01-04T00:00:00\",\"2024-01-03T00:00:00\",\"2024-01-02T00:00:00\",\"2024-01-01T00:00:00\"],\"xaxis\":\"x\",\"y\":[0.2955192775269191,0.5911198332754427,4.04673706147968,4.721527613754776,4.858043070510593,4.845040639110803,4.666909343522055,0.5237506078499479,0.6113428273706147,4.224250086835707,4.781327544286209,4.903908996179228,4.883449808961443,4.686904480722474,0.4887148315387287,0.6233331017714485,4.219463702674539,4.746392497394927,4.862357068426537,4.880484195901355,4.715474122959361,0.5087780479333102,0.6341285168461273,4.316616186175756,4.858703716568254,4.932713442167421,4.894961444946163,4.749325460229246,0.5126571726293851,0.6088252865578325,4.398017367141368,4.835887460923932,4.914203542896838,4.876747481764501,4.733833970128515,0.5105842306356374,0.6402841264327891,4.305920805835361,4.825226814866273,4.901890239666551,4.873549149010072,4.527117054532824,0.5420743313650573,0.6820215352552971,4.317156651615145,4.8405779784647445,4.866503647099688,4.703633900659952,4.690244529350469,0.5163258075720737,0.6191226120180618,4.324546022924626,4.872944772490448,4.973033692254255,4.9400611323376165,4.790921153178187,0.49763529003126095,0.6255644320944771,4.403529003126086,4.915097603334491,4.979159430357764,4.952335533171239,4.770291767974991,0.4902292462660646,0.6439444251476206,4.381098992705802,4.8626009030913515,4.952707884682181,4.887383813824244,4.6726759291420645,0.5037895102466133,0.8310274400833622,4.287158735672108,4.8349676971170545,4.83049392150052,4.483577631121916,4.1341820076415425,0.643788120875304,0.6432636332059744,4.225937478291074,4.839668634942687,4.855385897881208,4.6840923931920795,4.6634463355331714,0.43801528308440435,0.7705446335533173,4.392839874956581,4.75802222994095,4.740195901354637,4.505706147968044,2.1903417853421323],\"yaxis\":\"y\",\"type\":\"scattergl\"},{\"hovertemplate\":\"variable=Hrs_TherRecSpec\\u003cbr\\u003eWorkDate=%{x}\\u003cbr\\u003evalue=%{y}\\u003cextra\\u003e\\u003c\\u002fextra\\u003e\",\"legendgroup\":\"Hrs_TherRecSpec\",\"line\":{\"color\":\"#B6E880\",\"dash\":\"solid\"},\"marker\":{\"symbol\":\"circle\"},\"mode\":\"lines\",\"name\":\"Hrs_TherRecSpec\",\"showlegend\":true,\"x\":[\"2024-03-31T00:00:00\",\"2024-03-30T00:00:00\",\"2024-03-29T00:00:00\",\"2024-03-28T00:00:00\",\"2024-03-27T00:00:00\",\"2024-03-26T00:00:00\",\"2024-03-25T00:00:00\",\"2024-03-24T00:00:00\",\"2024-03-23T00:00:00\",\"2024-03-22T00:00:00\",\"2024-03-21T00:00:00\",\"2024-03-20T00:00:00\",\"2024-03-19T00:00:00\",\"2024-03-18T00:00:00\",\"2024-03-17T00:00:00\",\"2024-03-16T00:00:00\",\"2024-03-15T00:00:00\",\"2024-03-14T00:00:00\",\"2024-03-13T00:00:00\",\"2024-03-12T00:00:00\",\"2024-03-11T00:00:00\",\"2024-03-10T00:00:00\",\"2024-03-09T00:00:00\",\"2024-03-08T00:00:00\",\"2024-03-07T00:00:00\",\"2024-03-06T00:00:00\",\"2024-03-05T00:00:00\",\"2024-03-04T00:00:00\",\"2024-03-03T00:00:00\",\"2024-03-02T00:00:00\",\"2024-03-01T00:00:00\",\"2024-02-29T00:00:00\",\"2024-02-28T00:00:00\",\"2024-02-27T00:00:00\",\"2024-02-26T00:00:00\",\"2024-02-25T00:00:00\",\"2024-02-24T00:00:00\",\"2024-02-23T00:00:00\",\"2024-02-22T00:00:00\",\"2024-02-21T00:00:00\",\"2024-02-20T00:00:00\",\"2024-02-19T00:00:00\",\"2024-02-18T00:00:00\",\"2024-02-17T00:00:00\",\"2024-02-16T00:00:00\",\"2024-02-15T00:00:00\",\"2024-02-14T00:00:00\",\"2024-02-13T00:00:00\",\"2024-02-12T00:00:00\",\"2024-02-11T00:00:00\",\"2024-02-10T00:00:00\",\"2024-02-09T00:00:00\",\"2024-02-08T00:00:00\",\"2024-02-07T00:00:00\",\"2024-02-06T00:00:00\",\"2024-02-05T00:00:00\",\"2024-02-04T00:00:00\",\"2024-02-03T00:00:00\",\"2024-02-02T00:00:00\",\"2024-02-01T00:00:00\",\"2024-01-31T00:00:00\",\"2024-01-30T00:00:00\",\"2024-01-29T00:00:00\",\"2024-01-28T00:00:00\",\"2024-01-27T00:00:00\",\"2024-01-26T00:00:00\",\"2024-01-25T00:00:00\",\"2024-01-24T00:00:00\",\"2024-01-23T00:00:00\",\"2024-01-22T00:00:00\",\"2024-01-21T00:00:00\",\"2024-01-20T00:00:00\",\"2024-01-19T00:00:00\",\"2024-01-18T00:00:00\",\"2024-01-17T00:00:00\",\"2024-01-16T00:00:00\",\"2024-01-15T00:00:00\",\"2024-01-14T00:00:00\",\"2024-01-13T00:00:00\",\"2024-01-12T00:00:00\",\"2024-01-11T00:00:00\",\"2024-01-10T00:00:00\",\"2024-01-09T00:00:00\",\"2024-01-08T00:00:00\",\"2024-01-07T00:00:00\",\"2024-01-06T00:00:00\",\"2024-01-05T00:00:00\",\"2024-01-04T00:00:00\",\"2024-01-03T00:00:00\",\"2024-01-02T00:00:00\",\"2024-01-01T00:00:00\"],\"xaxis\":\"x\",\"y\":[0.1294171587356721,0.15125599166377213,0.5341563042723168,0.655999305314345,0.6626418895449807,0.6573970128516846,0.5894866273011463,0.1374796804445988,0.14177561653351858,0.5720604376519625,0.6432844737756165,0.6661785342132684,0.6608405696422368,0.6039152483501214,0.127288641889545,0.13491629037860367,0.5827023271969434,0.6650399444251478,0.6770184091698506,0.6668273706147968,0.594190343869399,0.1378047933310177,0.14422091003820775,0.5757374088225079,0.6555720736366794,0.6751184439041333,0.6557818687044114,0.6007579020493227,0.13381382424452934,0.14275790204932268,0.5748002778742619,0.6670670371656825,0.6620965613060091,0.661283084404307,0.6066974643973602,0.13760055574852378,0.14739353942341088,0.5723716568252865,0.6554463355331712,0.6656887808266759,0.6470142410559222,0.4975512330670372,0.13273358805140675,0.13818131295588743,0.5517144841959014,0.6524897533865925,0.6811121917332408,0.6277526919069123,0.5954762070163252,0.15983813824244525,0.14538450850989926,0.5853643626259118,0.6480840569642238,0.6675866620354288,0.6589399096908649,0.6049454671761028,0.12783119138589788,0.1443230288294547,0.5772559916637722,0.6540951719346997,0.6697651962486975,0.667027440083362,0.5970795415074678,0.13038624522403613,0.1408843348384856,0.5816616880861409,0.6562375824939214,0.6633879819381729,0.6691330323028829,0.6099333101771448,0.125624175060785,0.1374692601597777,0.5635456755817991,0.6447780479333102,0.6605335185828414,0.6146946856547413,0.4857068426536992,0.13369920111149705,0.14555401180965616,0.5718916290378603,0.6435519277526917,0.6540798888502952,0.6404619659604028,0.5886675929142062,0.11830913511635983,0.13499756860020842,0.5678186870441124,0.6266648141715874,0.6404445988190345,0.6029378256339009,0.21845779784647443],\"yaxis\":\"y\",\"type\":\"scattergl\"},{\"hovertemplate\":\"variable=Hrs_QualActvProf\\u003cbr\\u003eWorkDate=%{x}\\u003cbr\\u003evalue=%{y}\\u003cextra\\u003e\\u003c\\u002fextra\\u003e\",\"legendgroup\":\"Hrs_QualActvProf\",\"line\":{\"color\":\"#FF97FF\",\"dash\":\"solid\"},\"marker\":{\"symbol\":\"circle\"},\"mode\":\"lines\",\"name\":\"Hrs_QualActvProf\",\"showlegend\":true,\"x\":[\"2024-03-31T00:00:00\",\"2024-03-30T00:00:00\",\"2024-03-29T00:00:00\",\"2024-03-28T00:00:00\",\"2024-03-27T00:00:00\",\"2024-03-26T00:00:00\",\"2024-03-25T00:00:00\",\"2024-03-24T00:00:00\",\"2024-03-23T00:00:00\",\"2024-03-22T00:00:00\",\"2024-03-21T00:00:00\",\"2024-03-20T00:00:00\",\"2024-03-19T00:00:00\",\"2024-03-18T00:00:00\",\"2024-03-17T00:00:00\",\"2024-03-16T00:00:00\",\"2024-03-15T00:00:00\",\"2024-03-14T00:00:00\",\"2024-03-13T00:00:00\",\"2024-03-12T00:00:00\",\"2024-03-11T00:00:00\",\"2024-03-10T00:00:00\",\"2024-03-09T00:00:00\",\"2024-03-08T00:00:00\",\"2024-03-07T00:00:00\",\"2024-03-06T00:00:00\",\"2024-03-05T00:00:00\",\"2024-03-04T00:00:00\",\"2024-03-03T00:00:00\",\"2024-03-02T00:00:00\",\"2024-03-01T00:00:00\",\"2024-02-29T00:00:00\",\"2024-02-28T00:00:00\",\"2024-02-27T00:00:00\",\"2024-02-26T00:00:00\",\"2024-02-25T00:00:00\",\"2024-02-24T00:00:00\",\"2024-02-23T00:00:00\",\"2024-02-22T00:00:00\",\"2024-02-21T00:00:00\",\"2024-02-20T00:00:00\",\"2024-02-19T00:00:00\",\"2024-02-18T00:00:00\",\"2024-02-17T00:00:00\",\"2024-02-16T00:00:00\",\"2024-02-15T00:00:00\",\"2024-02-14T00:00:00\",\"2024-02-13T00:00:00\",\"2024-02-12T00:00:00\",\"2024-02-11T00:00:00\",\"2024-02-10T00:00:00\",\"2024-02-09T00:00:00\",\"2024-02-08T00:00:00\",\"2024-02-07T00:00:00\",\"2024-02-06T00:00:00\",\"2024-02-05T00:00:00\",\"2024-02-04T00:00:00\",\"2024-02-03T00:00:00\",\"2024-02-02T00:00:00\",\"2024-02-01T00:00:00\",\"2024-01-31T00:00:00\",\"2024-01-30T00:00:00\",\"2024-01-29T00:00:00\",\"2024-01-28T00:00:00\",\"2024-01-27T00:00:00\",\"2024-01-26T00:00:00\",\"2024-01-25T00:00:00\",\"2024-01-24T00:00:00\",\"2024-01-23T00:00:00\",\"2024-01-22T00:00:00\",\"2024-01-21T00:00:00\",\"2024-01-20T00:00:00\",\"2024-01-19T00:00:00\",\"2024-01-18T00:00:00\",\"2024-01-17T00:00:00\",\"2024-01-16T00:00:00\",\"2024-01-15T00:00:00\",\"2024-01-14T00:00:00\",\"2024-01-13T00:00:00\",\"2024-01-12T00:00:00\",\"2024-01-11T00:00:00\",\"2024-01-10T00:00:00\",\"2024-01-09T00:00:00\",\"2024-01-08T00:00:00\",\"2024-01-07T00:00:00\",\"2024-01-06T00:00:00\",\"2024-01-05T00:00:00\",\"2024-01-04T00:00:00\",\"2024-01-03T00:00:00\",\"2024-01-02T00:00:00\",\"2024-01-01T00:00:00\"],\"xaxis\":\"x\",\"y\":[0.9200680791941647,0.9878221604723865,5.208211879124697,5.9319103855505375,5.996956582146578,5.978989927058007,5.6655706842653695,0.8027711010767626,0.9497339353942341,5.362803751302534,5.919265022577284,5.966353594998264,6.024694685654742,5.65946370267454,0.9299833275442859,0.9230149357415771,5.482071552622437,5.898198680097257,5.989894407780479,5.9850781521361585,5.657482459187216,0.7916464050017369,0.8815894407780479,5.420583535949982,5.941729072594651,6.030113233761724,6.02861827023272,5.754522403612365,0.803347690170198,0.9130927405349083,5.525553317124002,6.0470441125390755,6.060267453977074,6.00331434525877,5.6963049670024315,0.8036109760333447,0.8782938520319554,5.380100729419937,5.97402361931226,6.012448766932963,6.015844390413339,5.35031816602987,0.7842910732893367,0.8673754775963876,5.3600472386245235,5.913564432094479,6.230980896144494,6.101888155609586,5.659046891281696,1.1895741576936438,0.9182563390065994,5.571876345953456,6.04713858978812,6.125122612018063,6.108810003473427,5.811640847516499,0.7874303577631123,0.8948975338659256,5.591861757554706,6.067044112539075,6.140623133032304,6.124914206321639,5.817547064953109,0.796252170892671,0.8953421326849601,5.589449808961445,6.072040291767975,6.128989927058007,6.077470649531086,5.674799583188608,0.7872233414379992,0.8969753386592568,5.372841264327893,5.920078499478986,5.953760333449114,5.7746106286905174,5.08500798888503,0.8080041681139284,0.8892886418895448,5.34899478985759,5.9908065300451545,5.986430010420283,5.9005856200069475,5.74001319902744,0.7816359847169156,0.8981278221604724,5.485037860368182,5.9222591177492205,5.9657811740187565,5.69882945467176,1.9976776658561999],\"yaxis\":\"y\",\"type\":\"scattergl\"},{\"hovertemplate\":\"variable=Hrs_OthActv\\u003cbr\\u003eWorkDate=%{x}\\u003cbr\\u003evalue=%{y}\\u003cextra\\u003e\\u003c\\u002fextra\\u003e\",\"legendgroup\":\"Hrs_OthActv\",\"line\":{\"color\":\"#FECB52\",\"dash\":\"solid\"},\"marker\":{\"symbol\":\"circle\"},\"mode\":\"lines\",\"name\":\"Hrs_OthActv\",\"showlegend\":true,\"x\":[\"2024-03-31T00:00:00\",\"2024-03-30T00:00:00\",\"2024-03-29T00:00:00\",\"2024-03-28T00:00:00\",\"2024-03-27T00:00:00\",\"2024-03-26T00:00:00\",\"2024-03-25T00:00:00\",\"2024-03-24T00:00:00\",\"2024-03-23T00:00:00\",\"2024-03-22T00:00:00\",\"2024-03-21T00:00:00\",\"2024-03-20T00:00:00\",\"2024-03-19T00:00:00\",\"2024-03-18T00:00:00\",\"2024-03-17T00:00:00\",\"2024-03-16T00:00:00\",\"2024-03-15T00:00:00\",\"2024-03-14T00:00:00\",\"2024-03-13T00:00:00\",\"2024-03-12T00:00:00\",\"2024-03-11T00:00:00\",\"2024-03-10T00:00:00\",\"2024-03-09T00:00:00\",\"2024-03-08T00:00:00\",\"2024-03-07T00:00:00\",\"2024-03-06T00:00:00\",\"2024-03-05T00:00:00\",\"2024-03-04T00:00:00\",\"2024-03-03T00:00:00\",\"2024-03-02T00:00:00\",\"2024-03-01T00:00:00\",\"2024-02-29T00:00:00\",\"2024-02-28T00:00:00\",\"2024-02-27T00:00:00\",\"2024-02-26T00:00:00\",\"2024-02-25T00:00:00\",\"2024-02-24T00:00:00\",\"2024-02-23T00:00:00\",\"2024-02-22T00:00:00\",\"2024-02-21T00:00:00\",\"2024-02-20T00:00:00\",\"2024-02-19T00:00:00\",\"2024-02-18T00:00:00\",\"2024-02-17T00:00:00\",\"2024-02-16T00:00:00\",\"2024-02-15T00:00:00\",\"2024-02-14T00:00:00\",\"2024-02-13T00:00:00\",\"2024-02-12T00:00:00\",\"2024-02-11T00:00:00\",\"2024-02-10T00:00:00\",\"2024-02-09T00:00:00\",\"2024-02-08T00:00:00\",\"2024-02-07T00:00:00\",\"2024-02-06T00:00:00\",\"2024-02-05T00:00:00\",\"2024-02-04T00:00:00\",\"2024-02-03T00:00:00\",\"2024-02-02T00:00:00\",\"2024-02-01T00:00:00\",\"2024-01-31T00:00:00\",\"2024-01-30T00:00:00\",\"2024-01-29T00:00:00\",\"2024-01-28T00:00:00\",\"2024-01-27T00:00:00\",\"2024-01-26T00:00:00\",\"2024-01-25T00:00:00\",\"2024-01-24T00:00:00\",\"2024-01-23T00:00:00\",\"2024-01-22T00:00:00\",\"2024-01-21T00:00:00\",\"2024-01-20T00:00:00\",\"2024-01-19T00:00:00\",\"2024-01-18T00:00:00\",\"2024-01-17T00:00:00\",\"2024-01-16T00:00:00\",\"2024-01-15T00:00:00\",\"2024-01-14T00:00:00\",\"2024-01-13T00:00:00\",\"2024-01-12T00:00:00\",\"2024-01-11T00:00:00\",\"2024-01-10T00:00:00\",\"2024-01-09T00:00:00\",\"2024-01-08T00:00:00\",\"2024-01-07T00:00:00\",\"2024-01-06T00:00:00\",\"2024-01-05T00:00:00\",\"2024-01-04T00:00:00\",\"2024-01-03T00:00:00\",\"2024-01-02T00:00:00\",\"2024-01-01T00:00:00\"],\"xaxis\":\"x\",\"y\":[5.036409864536297,5.759427579020492,9.872960055574856,10.989691559569296,11.183204584925322,10.941076762764848,9.77584925321292,5.2001174018756515,5.742430010420285,9.962027092740538,10.969051754081278,11.13321292115318,10.910749565821465,9.773991663772144,5.256436957276833,5.642524487669328,10.007137895102467,10.873609586662036,11.072880861410214,10.85970823202501,9.731545675581799,5.158635637374088,5.660510593956234,9.893893713094828,10.932474470302186,11.130171587356722,10.869888155609587,9.768780131990276,5.120556443209448,5.570635637374087,9.89077387981938,10.974894060437652,11.090207711010768,10.84345328238972,9.767583188607155,5.104263980548802,5.5956366794025705,9.835909690864884,10.905691559569295,11.035754775963877,10.788167419242791,9.456052101424106,5.130173671413686,5.5511087183049685,9.703542202153526,10.676233414379995,11.332064605765892,10.59821674192428,9.617593608891976,5.496939215005209,5.641261549149012,9.891592914206324,10.87112330670372,10.993934004862801,10.815933310177146,9.674671066342484,5.085588746092394,5.592525182354983,9.83694338311914,10.863614449461616,11.071304619659601,10.850273706147968,9.69462730114623,5.098189649183744,5.604971865230985,9.894192427926363,10.927030913511636,11.014659256686349,10.736634942688433,9.465484543244184,5.085490795415074,5.547625564432095,9.390066689822858,10.686302882945471,10.695941646404998,10.098143799930531,8.924043070510594,4.927131642931573,5.426539770753735,9.40519277526919,10.806048627995837,10.81670927405349,10.380050712052798,9.5036776658562,4.887592219520667,5.512666203542898,9.70080444598819,10.722659951372007,10.760928794720389,10.299752691906914,6.290013199027442],\"yaxis\":\"y\",\"type\":\"scattergl\"},{\"hovertemplate\":\"variable=Hrs_QualSocWrk\\u003cbr\\u003eWorkDate=%{x}\\u003cbr\\u003evalue=%{y}\\u003cextra\\u003e\\u003c\\u002fextra\\u003e\",\"legendgroup\":\"Hrs_QualSocWrk\",\"line\":{\"color\":\"#636efa\",\"dash\":\"solid\"},\"marker\":{\"symbol\":\"circle\"},\"mode\":\"lines\",\"name\":\"Hrs_QualSocWrk\",\"showlegend\":true,\"x\":[\"2024-03-31T00:00:00\",\"2024-03-30T00:00:00\",\"2024-03-29T00:00:00\",\"2024-03-28T00:00:00\",\"2024-03-27T00:00:00\",\"2024-03-26T00:00:00\",\"2024-03-25T00:00:00\",\"2024-03-24T00:00:00\",\"2024-03-23T00:00:00\",\"2024-03-22T00:00:00\",\"2024-03-21T00:00:00\",\"2024-03-20T00:00:00\",\"2024-03-19T00:00:00\",\"2024-03-18T00:00:00\",\"2024-03-17T00:00:00\",\"2024-03-16T00:00:00\",\"2024-03-15T00:00:00\",\"2024-03-14T00:00:00\",\"2024-03-13T00:00:00\",\"2024-03-12T00:00:00\",\"2024-03-11T00:00:00\",\"2024-03-10T00:00:00\",\"2024-03-09T00:00:00\",\"2024-03-08T00:00:00\",\"2024-03-07T00:00:00\",\"2024-03-06T00:00:00\",\"2024-03-05T00:00:00\",\"2024-03-04T00:00:00\",\"2024-03-03T00:00:00\",\"2024-03-02T00:00:00\",\"2024-03-01T00:00:00\",\"2024-02-29T00:00:00\",\"2024-02-28T00:00:00\",\"2024-02-27T00:00:00\",\"2024-02-26T00:00:00\",\"2024-02-25T00:00:00\",\"2024-02-24T00:00:00\",\"2024-02-23T00:00:00\",\"2024-02-22T00:00:00\",\"2024-02-21T00:00:00\",\"2024-02-20T00:00:00\",\"2024-02-19T00:00:00\",\"2024-02-18T00:00:00\",\"2024-02-17T00:00:00\",\"2024-02-16T00:00:00\",\"2024-02-15T00:00:00\",\"2024-02-14T00:00:00\",\"2024-02-13T00:00:00\",\"2024-02-12T00:00:00\",\"2024-02-11T00:00:00\",\"2024-02-10T00:00:00\",\"2024-02-09T00:00:00\",\"2024-02-08T00:00:00\",\"2024-02-07T00:00:00\",\"2024-02-06T00:00:00\",\"2024-02-05T00:00:00\",\"2024-02-04T00:00:00\",\"2024-02-03T00:00:00\",\"2024-02-02T00:00:00\",\"2024-02-01T00:00:00\",\"2024-01-31T00:00:00\",\"2024-01-30T00:00:00\",\"2024-01-29T00:00:00\",\"2024-01-28T00:00:00\",\"2024-01-27T00:00:00\",\"2024-01-26T00:00:00\",\"2024-01-25T00:00:00\",\"2024-01-24T00:00:00\",\"2024-01-23T00:00:00\",\"2024-01-22T00:00:00\",\"2024-01-21T00:00:00\",\"2024-01-20T00:00:00\",\"2024-01-19T00:00:00\",\"2024-01-18T00:00:00\",\"2024-01-17T00:00:00\",\"2024-01-16T00:00:00\",\"2024-01-15T00:00:00\",\"2024-01-14T00:00:00\",\"2024-01-13T00:00:00\",\"2024-01-12T00:00:00\",\"2024-01-11T00:00:00\",\"2024-01-10T00:00:00\",\"2024-01-09T00:00:00\",\"2024-01-08T00:00:00\",\"2024-01-07T00:00:00\",\"2024-01-06T00:00:00\",\"2024-01-05T00:00:00\",\"2024-01-04T00:00:00\",\"2024-01-03T00:00:00\",\"2024-01-02T00:00:00\",\"2024-01-01T00:00:00\"],\"xaxis\":\"x\",\"y\":[0.19272594650920455,0.25771934699548454,5.269357415769364,6.202986453629732,6.300171587356721,6.317053143452588,6.111630427231678,0.23529072594650918,0.26694338311913857,5.786580757207365,6.266814171587355,6.313262938520318,6.30995623480375,6.0954505036471,0.23238832928100034,0.24967766585620008,5.7676200069468555,6.225872177839528,6.267370614796804,6.305035776311221,6.088030566168808,0.25159569294894063,0.2748016672455713,5.82811601250434,6.291187912469608,6.348006946856548,6.345358805140673,6.140345258770406,0.25027092740534906,0.2680750260507121,5.833096908648837,6.321154567558181,6.339890934352208,6.375276832233413,6.149204584925321,0.25303647099687393,0.2723133032302883,5.811199722125739,6.25510038207711,6.315221952066689,6.307773532476553,5.462979506773186,0.23438624522403614,0.2736651615144147,5.814543244182007,6.287237929836748,6.296994095171933,6.204989927058007,6.1034921847863846,0.24485654741229593,0.2799145536644668,5.8860277874261895,6.341860368183395,6.378837790899619,6.412522403612365,6.2339604029176785,0.24692532129211536,0.2876880861410212,5.936208405696421,6.331885376866968,6.371467870788468,6.377637374088224,6.21821813129559,0.23220423758249392,0.28214032650225773,5.9198054880166735,6.361055227509551,6.368478638416117,6.3958728725251826,6.1558388329281,0.23772698853768673,0.2884445988190344,5.851929142063216,6.300405696422371,6.288184091698506,6.109610281347691,5.15522056269538,0.2373970128516846,0.2745849253212921,5.810734282737061,6.324650920458492,6.34221396318166,6.252482806530047,6.120925321292115,0.21956304272316773,0.2881563042723168,5.925602639805488,6.268424452935047,6.261360889197638,5.985840222299409,1.216091003820771],\"yaxis\":\"y\",\"type\":\"scattergl\"},{\"hovertemplate\":\"variable=Hrs_OthSocWrk\\u003cbr\\u003eWorkDate=%{x}\\u003cbr\\u003evalue=%{y}\\u003cextra\\u003e\\u003c\\u002fextra\\u003e\",\"legendgroup\":\"Hrs_OthSocWrk\",\"line\":{\"color\":\"#EF553B\",\"dash\":\"solid\"},\"marker\":{\"symbol\":\"circle\"},\"mode\":\"lines\",\"name\":\"Hrs_OthSocWrk\",\"showlegend\":true,\"x\":[\"2024-03-31T00:00:00\",\"2024-03-30T00:00:00\",\"2024-03-29T00:00:00\",\"2024-03-28T00:00:00\",\"2024-03-27T00:00:00\",\"2024-03-26T00:00:00\",\"2024-03-25T00:00:00\",\"2024-03-24T00:00:00\",\"2024-03-23T00:00:00\",\"2024-03-22T00:00:00\",\"2024-03-21T00:00:00\",\"2024-03-20T00:00:00\",\"2024-03-19T00:00:00\",\"2024-03-18T00:00:00\",\"2024-03-17T00:00:00\",\"2024-03-16T00:00:00\",\"2024-03-15T00:00:00\",\"2024-03-14T00:00:00\",\"2024-03-13T00:00:00\",\"2024-03-12T00:00:00\",\"2024-03-11T00:00:00\",\"2024-03-10T00:00:00\",\"2024-03-09T00:00:00\",\"2024-03-08T00:00:00\",\"2024-03-07T00:00:00\",\"2024-03-06T00:00:00\",\"2024-03-05T00:00:00\",\"2024-03-04T00:00:00\",\"2024-03-03T00:00:00\",\"2024-03-02T00:00:00\",\"2024-03-01T00:00:00\",\"2024-02-29T00:00:00\",\"2024-02-28T00:00:00\",\"2024-02-27T00:00:00\",\"2024-02-26T00:00:00\",\"2024-02-25T00:00:00\",\"2024-02-24T00:00:00\",\"2024-02-23T00:00:00\",\"2024-02-22T00:00:00\",\"2024-02-21T00:00:00\",\"2024-02-20T00:00:00\",\"2024-02-19T00:00:00\",\"2024-02-18T00:00:00\",\"2024-02-17T00:00:00\",\"2024-02-16T00:00:00\",\"2024-02-15T00:00:00\",\"2024-02-14T00:00:00\",\"2024-02-13T00:00:00\",\"2024-02-12T00:00:00\",\"2024-02-11T00:00:00\",\"2024-02-10T00:00:00\",\"2024-02-09T00:00:00\",\"2024-02-08T00:00:00\",\"2024-02-07T00:00:00\",\"2024-02-06T00:00:00\",\"2024-02-05T00:00:00\",\"2024-02-04T00:00:00\",\"2024-02-03T00:00:00\",\"2024-02-02T00:00:00\",\"2024-02-01T00:00:00\",\"2024-01-31T00:00:00\",\"2024-01-30T00:00:00\",\"2024-01-29T00:00:00\",\"2024-01-28T00:00:00\",\"2024-01-27T00:00:00\",\"2024-01-26T00:00:00\",\"2024-01-25T00:00:00\",\"2024-01-24T00:00:00\",\"2024-01-23T00:00:00\",\"2024-01-22T00:00:00\",\"2024-01-21T00:00:00\",\"2024-01-20T00:00:00\",\"2024-01-19T00:00:00\",\"2024-01-18T00:00:00\",\"2024-01-17T00:00:00\",\"2024-01-16T00:00:00\",\"2024-01-15T00:00:00\",\"2024-01-14T00:00:00\",\"2024-01-13T00:00:00\",\"2024-01-12T00:00:00\",\"2024-01-11T00:00:00\",\"2024-01-10T00:00:00\",\"2024-01-09T00:00:00\",\"2024-01-08T00:00:00\",\"2024-01-07T00:00:00\",\"2024-01-06T00:00:00\",\"2024-01-05T00:00:00\",\"2024-01-04T00:00:00\",\"2024-01-03T00:00:00\",\"2024-01-02T00:00:00\",\"2024-01-01T00:00:00\"],\"xaxis\":\"x\",\"y\":[0.28627231677665865,0.38429524140326493,3.770445293504689,4.309469954845432,4.39508301493574,4.337616533518583,4.203442167419244,0.32961097603334494,0.38014796804445977,4.022590482806531,4.352198680097256,4.396450850989927,4.396788468218132,4.2304320944772495,0.33299340048628,0.373511635984717,4.062560611323377,4.332282042375825,4.390184091698506,4.373852031955541,4.225795762417506,0.3442000694685654,0.3866634248002779,4.098720389023967,4.382748176450156,4.415274053490794,4.416759986106286,4.263135116359846,0.3376505731156652,0.3629510246613407,4.088490448072248,4.400193122612017,4.431217089267108,4.402664119485931,4.258459187217784,0.33649531087183043,0.38832650225772847,4.09226675929142,4.374770406391107,4.409091351163599,4.388925321292114,3.925324070857936,0.32535741576936433,0.36559152483501217,4.061610976033346,4.381558874609238,4.384329281000348,4.3491483153872865,4.193213615838834,0.33256477943730467,0.38919694338311905,4.101475512330671,4.394066689822856,4.416235498436957,4.41993122612018,4.245174713442169,0.3326912122264675,0.384633553317124,4.1215824939215,4.414069468565475,4.458020145883987,4.442422368878082,4.271974296630774,0.33091837443556793,0.38481347690170187,4.173708926710664,4.408962139631817,4.446667592914205,4.421262243834664,4.20318513372699,0.3459777700590483,0.4204300104202848,4.090258423063563,4.4003647099687395,4.39916637721431,4.279444251476208,3.736204237582494,0.3282104897533866,0.3864946161861758,4.0312233414379985,4.390554359152484,4.408973254602293,4.310998957971517,4.244118791246961,0.3371288641889545,0.3876769711705453,4.142847516498785,4.379443556790552,4.373335880514067,4.158093782563391,1.1858089614449463],\"yaxis\":\"y\",\"type\":\"scattergl\"},{\"hovertemplate\":\"variable=Hrs_MHSvc\\u003cbr\\u003eWorkDate=%{x}\\u003cbr\\u003evalue=%{y}\\u003cextra\\u003e\\u003c\\u002fextra\\u003e\",\"legendgroup\":\"Hrs_MHSvc\",\"line\":{\"color\":\"#00cc96\",\"dash\":\"solid\"},\"marker\":{\"symbol\":\"circle\"},\"mode\":\"lines\",\"name\":\"Hrs_MHSvc\",\"showlegend\":true,\"x\":[\"2024-03-31T00:00:00\",\"2024-03-30T00:00:00\",\"2024-03-29T00:00:00\",\"2024-03-28T00:00:00\",\"2024-03-27T00:00:00\",\"2024-03-26T00:00:00\",\"2024-03-25T00:00:00\",\"2024-03-24T00:00:00\",\"2024-03-23T00:00:00\",\"2024-03-22T00:00:00\",\"2024-03-21T00:00:00\",\"2024-03-20T00:00:00\",\"2024-03-19T00:00:00\",\"2024-03-18T00:00:00\",\"2024-03-17T00:00:00\",\"2024-03-16T00:00:00\",\"2024-03-15T00:00:00\",\"2024-03-14T00:00:00\",\"2024-03-13T00:00:00\",\"2024-03-12T00:00:00\",\"2024-03-11T00:00:00\",\"2024-03-10T00:00:00\",\"2024-03-09T00:00:00\",\"2024-03-08T00:00:00\",\"2024-03-07T00:00:00\",\"2024-03-06T00:00:00\",\"2024-03-05T00:00:00\",\"2024-03-04T00:00:00\",\"2024-03-03T00:00:00\",\"2024-03-02T00:00:00\",\"2024-03-01T00:00:00\",\"2024-02-29T00:00:00\",\"2024-02-28T00:00:00\",\"2024-02-27T00:00:00\",\"2024-02-26T00:00:00\",\"2024-02-25T00:00:00\",\"2024-02-24T00:00:00\",\"2024-02-23T00:00:00\",\"2024-02-22T00:00:00\",\"2024-02-21T00:00:00\",\"2024-02-20T00:00:00\",\"2024-02-19T00:00:00\",\"2024-02-18T00:00:00\",\"2024-02-17T00:00:00\",\"2024-02-16T00:00:00\",\"2024-02-15T00:00:00\",\"2024-02-14T00:00:00\",\"2024-02-13T00:00:00\",\"2024-02-12T00:00:00\",\"2024-02-11T00:00:00\",\"2024-02-10T00:00:00\",\"2024-02-09T00:00:00\",\"2024-02-08T00:00:00\",\"2024-02-07T00:00:00\",\"2024-02-06T00:00:00\",\"2024-02-05T00:00:00\",\"2024-02-04T00:00:00\",\"2024-02-03T00:00:00\",\"2024-02-02T00:00:00\",\"2024-02-01T00:00:00\",\"2024-01-31T00:00:00\",\"2024-01-30T00:00:00\",\"2024-01-29T00:00:00\",\"2024-01-28T00:00:00\",\"2024-01-27T00:00:00\",\"2024-01-26T00:00:00\",\"2024-01-25T00:00:00\",\"2024-01-24T00:00:00\",\"2024-01-23T00:00:00\",\"2024-01-22T00:00:00\",\"2024-01-21T00:00:00\",\"2024-01-20T00:00:00\",\"2024-01-19T00:00:00\",\"2024-01-18T00:00:00\",\"2024-01-17T00:00:00\",\"2024-01-16T00:00:00\",\"2024-01-15T00:00:00\",\"2024-01-14T00:00:00\",\"2024-01-13T00:00:00\",\"2024-01-12T00:00:00\",\"2024-01-11T00:00:00\",\"2024-01-10T00:00:00\",\"2024-01-09T00:00:00\",\"2024-01-08T00:00:00\",\"2024-01-07T00:00:00\",\"2024-01-06T00:00:00\",\"2024-01-05T00:00:00\",\"2024-01-04T00:00:00\",\"2024-01-03T00:00:00\",\"2024-01-02T00:00:00\",\"2024-01-01T00:00:00\"],\"xaxis\":\"x\",\"y\":[0.10184577978464744,0.11835637374088227,0.2605800625217089,0.2873331017714484,0.2915762417506078,0.30184230635637377,0.2756526571726294,0.1101840916985064,0.12078777353247655,0.26635706842653695,0.29145397707537335,0.3027210837096214,0.29447516498784293,0.26595276137547763,0.11231608197290725,0.12106703716568253,0.268120875303925,0.291385203195554,0.2960479333101772,0.30367558179923587,0.2731872177839527,0.10880444598819035,0.12105036470996876,0.25577005904828065,0.28323306703716566,0.2966009030913511,0.29825356026398053,0.2751156651615144,0.10235637374088224,0.11174435567905522,0.2493018409169851,0.2817165682528656,0.2921938172976728,0.2921437999305314,0.2699902744008337,0.11061549149010072,0.11819868009725601,0.2540166724557138,0.28434317471344217,0.294015977770059,0.3028808614102118,0.25186662035428975,0.11185967349774227,0.11362139631816602,0.2566273011462313,0.28419590135463707,0.28577978464744697,0.29016255644320943,0.263879124696075,0.10550746787078848,0.11458214657867315,0.2558784300104203,0.2905119833275443,0.29609934004862787,0.2963438693990969,0.26542410559221946,0.1068440430705106,0.1123876345953456,0.2677950677318513,0.2901500521014241,0.28921361583883287,0.29384300104202843,0.2644501563042723,0.1098923237235151,0.10751858284126432,0.259981243487322,0.2784244529350469,0.2953685307398402,0.2937401875651269,0.26058284126432785,0.10946161861757556,0.10855783258075721,0.2537915943035776,0.28248002778742615,0.28687599861062874,0.28418964918374434,0.24942896839180265,0.10038902396665508,0.10640291767974992,0.24063146926015977,0.2876957276832233,0.2901118443904134,0.2894699548454324,0.25955401180965615,0.1110600903091351,0.10616672455713792,0.2536922542549496,0.2773456061132338,0.2776887808266759,0.2808801667245571,0.14416255644320947],\"yaxis\":\"y\",\"type\":\"scattergl\"}],                        {\"template\":{\"data\":{\"histogram2dcontour\":[{\"type\":\"histogram2dcontour\",\"colorbar\":{\"outlinewidth\":0,\"ticks\":\"\"},\"colorscale\":[[0.0,\"#0d0887\"],[0.1111111111111111,\"#46039f\"],[0.2222222222222222,\"#7201a8\"],[0.3333333333333333,\"#9c179e\"],[0.4444444444444444,\"#bd3786\"],[0.5555555555555556,\"#d8576b\"],[0.6666666666666666,\"#ed7953\"],[0.7777777777777778,\"#fb9f3a\"],[0.8888888888888888,\"#fdca26\"],[1.0,\"#f0f921\"]]}],\"choropleth\":[{\"type\":\"choropleth\",\"colorbar\":{\"outlinewidth\":0,\"ticks\":\"\"}}],\"histogram2d\":[{\"type\":\"histogram2d\",\"colorbar\":{\"outlinewidth\":0,\"ticks\":\"\"},\"colorscale\":[[0.0,\"#0d0887\"],[0.1111111111111111,\"#46039f\"],[0.2222222222222222,\"#7201a8\"],[0.3333333333333333,\"#9c179e\"],[0.4444444444444444,\"#bd3786\"],[0.5555555555555556,\"#d8576b\"],[0.6666666666666666,\"#ed7953\"],[0.7777777777777778,\"#fb9f3a\"],[0.8888888888888888,\"#fdca26\"],[1.0,\"#f0f921\"]]}],\"heatmap\":[{\"type\":\"heatmap\",\"colorbar\":{\"outlinewidth\":0,\"ticks\":\"\"},\"colorscale\":[[0.0,\"#0d0887\"],[0.1111111111111111,\"#46039f\"],[0.2222222222222222,\"#7201a8\"],[0.3333333333333333,\"#9c179e\"],[0.4444444444444444,\"#bd3786\"],[0.5555555555555556,\"#d8576b\"],[0.6666666666666666,\"#ed7953\"],[0.7777777777777778,\"#fb9f3a\"],[0.8888888888888888,\"#fdca26\"],[1.0,\"#f0f921\"]]}],\"heatmapgl\":[{\"type\":\"heatmapgl\",\"colorbar\":{\"outlinewidth\":0,\"ticks\":\"\"},\"colorscale\":[[0.0,\"#0d0887\"],[0.1111111111111111,\"#46039f\"],[0.2222222222222222,\"#7201a8\"],[0.3333333333333333,\"#9c179e\"],[0.4444444444444444,\"#bd3786\"],[0.5555555555555556,\"#d8576b\"],[0.6666666666666666,\"#ed7953\"],[0.7777777777777778,\"#fb9f3a\"],[0.8888888888888888,\"#fdca26\"],[1.0,\"#f0f921\"]]}],\"contourcarpet\":[{\"type\":\"contourcarpet\",\"colorbar\":{\"outlinewidth\":0,\"ticks\":\"\"}}],\"contour\":[{\"type\":\"contour\",\"colorbar\":{\"outlinewidth\":0,\"ticks\":\"\"},\"colorscale\":[[0.0,\"#0d0887\"],[0.1111111111111111,\"#46039f\"],[0.2222222222222222,\"#7201a8\"],[0.3333333333333333,\"#9c179e\"],[0.4444444444444444,\"#bd3786\"],[0.5555555555555556,\"#d8576b\"],[0.6666666666666666,\"#ed7953\"],[0.7777777777777778,\"#fb9f3a\"],[0.8888888888888888,\"#fdca26\"],[1.0,\"#f0f921\"]]}],\"surface\":[{\"type\":\"surface\",\"colorbar\":{\"outlinewidth\":0,\"ticks\":\"\"},\"colorscale\":[[0.0,\"#0d0887\"],[0.1111111111111111,\"#46039f\"],[0.2222222222222222,\"#7201a8\"],[0.3333333333333333,\"#9c179e\"],[0.4444444444444444,\"#bd3786\"],[0.5555555555555556,\"#d8576b\"],[0.6666666666666666,\"#ed7953\"],[0.7777777777777778,\"#fb9f3a\"],[0.8888888888888888,\"#fdca26\"],[1.0,\"#f0f921\"]]}],\"mesh3d\":[{\"type\":\"mesh3d\",\"colorbar\":{\"outlinewidth\":0,\"ticks\":\"\"}}],\"scatter\":[{\"marker\":{\"line\":{\"color\":\"#283442\"}},\"type\":\"scatter\"}],\"parcoords\":[{\"type\":\"parcoords\",\"line\":{\"colorbar\":{\"outlinewidth\":0,\"ticks\":\"\"}}}],\"scatterpolargl\":[{\"type\":\"scatterpolargl\",\"marker\":{\"colorbar\":{\"outlinewidth\":0,\"ticks\":\"\"}}}],\"bar\":[{\"error_x\":{\"color\":\"#f2f5fa\"},\"error_y\":{\"color\":\"#f2f5fa\"},\"marker\":{\"line\":{\"color\":\"rgb(17,17,17)\",\"width\":0.5},\"pattern\":{\"fillmode\":\"overlay\",\"size\":10,\"solidity\":0.2}},\"type\":\"bar\"}],\"scattergeo\":[{\"type\":\"scattergeo\",\"marker\":{\"colorbar\":{\"outlinewidth\":0,\"ticks\":\"\"}}}],\"scatterpolar\":[{\"type\":\"scatterpolar\",\"marker\":{\"colorbar\":{\"outlinewidth\":0,\"ticks\":\"\"}}}],\"histogram\":[{\"marker\":{\"pattern\":{\"fillmode\":\"overlay\",\"size\":10,\"solidity\":0.2}},\"type\":\"histogram\"}],\"scattergl\":[{\"marker\":{\"line\":{\"color\":\"#283442\"}},\"type\":\"scattergl\"}],\"scatter3d\":[{\"type\":\"scatter3d\",\"line\":{\"colorbar\":{\"outlinewidth\":0,\"ticks\":\"\"}},\"marker\":{\"colorbar\":{\"outlinewidth\":0,\"ticks\":\"\"}}}],\"scattermapbox\":[{\"type\":\"scattermapbox\",\"marker\":{\"colorbar\":{\"outlinewidth\":0,\"ticks\":\"\"}}}],\"scatterternary\":[{\"type\":\"scatterternary\",\"marker\":{\"colorbar\":{\"outlinewidth\":0,\"ticks\":\"\"}}}],\"scattercarpet\":[{\"type\":\"scattercarpet\",\"marker\":{\"colorbar\":{\"outlinewidth\":0,\"ticks\":\"\"}}}],\"carpet\":[{\"aaxis\":{\"endlinecolor\":\"#A2B1C6\",\"gridcolor\":\"#506784\",\"linecolor\":\"#506784\",\"minorgridcolor\":\"#506784\",\"startlinecolor\":\"#A2B1C6\"},\"baxis\":{\"endlinecolor\":\"#A2B1C6\",\"gridcolor\":\"#506784\",\"linecolor\":\"#506784\",\"minorgridcolor\":\"#506784\",\"startlinecolor\":\"#A2B1C6\"},\"type\":\"carpet\"}],\"table\":[{\"cells\":{\"fill\":{\"color\":\"#506784\"},\"line\":{\"color\":\"rgb(17,17,17)\"}},\"header\":{\"fill\":{\"color\":\"#2a3f5f\"},\"line\":{\"color\":\"rgb(17,17,17)\"}},\"type\":\"table\"}],\"barpolar\":[{\"marker\":{\"line\":{\"color\":\"rgb(17,17,17)\",\"width\":0.5},\"pattern\":{\"fillmode\":\"overlay\",\"size\":10,\"solidity\":0.2}},\"type\":\"barpolar\"}],\"pie\":[{\"automargin\":true,\"type\":\"pie\"}]},\"layout\":{\"autotypenumbers\":\"strict\",\"colorway\":[\"#636efa\",\"#EF553B\",\"#00cc96\",\"#ab63fa\",\"#FFA15A\",\"#19d3f3\",\"#FF6692\",\"#B6E880\",\"#FF97FF\",\"#FECB52\"],\"font\":{\"color\":\"#f2f5fa\"},\"hovermode\":\"closest\",\"hoverlabel\":{\"align\":\"left\"},\"paper_bgcolor\":\"rgb(17,17,17)\",\"plot_bgcolor\":\"rgb(17,17,17)\",\"polar\":{\"bgcolor\":\"rgb(17,17,17)\",\"angularaxis\":{\"gridcolor\":\"#506784\",\"linecolor\":\"#506784\",\"ticks\":\"\"},\"radialaxis\":{\"gridcolor\":\"#506784\",\"linecolor\":\"#506784\",\"ticks\":\"\"}},\"ternary\":{\"bgcolor\":\"rgb(17,17,17)\",\"aaxis\":{\"gridcolor\":\"#506784\",\"linecolor\":\"#506784\",\"ticks\":\"\"},\"baxis\":{\"gridcolor\":\"#506784\",\"linecolor\":\"#506784\",\"ticks\":\"\"},\"caxis\":{\"gridcolor\":\"#506784\",\"linecolor\":\"#506784\",\"ticks\":\"\"}},\"coloraxis\":{\"colorbar\":{\"outlinewidth\":0,\"ticks\":\"\"}},\"colorscale\":{\"sequential\":[[0.0,\"#0d0887\"],[0.1111111111111111,\"#46039f\"],[0.2222222222222222,\"#7201a8\"],[0.3333333333333333,\"#9c179e\"],[0.4444444444444444,\"#bd3786\"],[0.5555555555555556,\"#d8576b\"],[0.6666666666666666,\"#ed7953\"],[0.7777777777777778,\"#fb9f3a\"],[0.8888888888888888,\"#fdca26\"],[1.0,\"#f0f921\"]],\"sequentialminus\":[[0.0,\"#0d0887\"],[0.1111111111111111,\"#46039f\"],[0.2222222222222222,\"#7201a8\"],[0.3333333333333333,\"#9c179e\"],[0.4444444444444444,\"#bd3786\"],[0.5555555555555556,\"#d8576b\"],[0.6666666666666666,\"#ed7953\"],[0.7777777777777778,\"#fb9f3a\"],[0.8888888888888888,\"#fdca26\"],[1.0,\"#f0f921\"]],\"diverging\":[[0,\"#8e0152\"],[0.1,\"#c51b7d\"],[0.2,\"#de77ae\"],[0.3,\"#f1b6da\"],[0.4,\"#fde0ef\"],[0.5,\"#f7f7f7\"],[0.6,\"#e6f5d0\"],[0.7,\"#b8e186\"],[0.8,\"#7fbc41\"],[0.9,\"#4d9221\"],[1,\"#276419\"]]},\"xaxis\":{\"gridcolor\":\"#283442\",\"linecolor\":\"#506784\",\"ticks\":\"\",\"title\":{\"standoff\":15},\"zerolinecolor\":\"#283442\",\"automargin\":true,\"zerolinewidth\":2},\"yaxis\":{\"gridcolor\":\"#283442\",\"linecolor\":\"#506784\",\"ticks\":\"\",\"title\":{\"standoff\":15},\"zerolinecolor\":\"#283442\",\"automargin\":true,\"zerolinewidth\":2},\"scene\":{\"xaxis\":{\"backgroundcolor\":\"rgb(17,17,17)\",\"gridcolor\":\"#506784\",\"linecolor\":\"#506784\",\"showbackground\":true,\"ticks\":\"\",\"zerolinecolor\":\"#C8D4E3\",\"gridwidth\":2},\"yaxis\":{\"backgroundcolor\":\"rgb(17,17,17)\",\"gridcolor\":\"#506784\",\"linecolor\":\"#506784\",\"showbackground\":true,\"ticks\":\"\",\"zerolinecolor\":\"#C8D4E3\",\"gridwidth\":2},\"zaxis\":{\"backgroundcolor\":\"rgb(17,17,17)\",\"gridcolor\":\"#506784\",\"linecolor\":\"#506784\",\"showbackground\":true,\"ticks\":\"\",\"zerolinecolor\":\"#C8D4E3\",\"gridwidth\":2}},\"shapedefaults\":{\"line\":{\"color\":\"#f2f5fa\"}},\"annotationdefaults\":{\"arrowcolor\":\"#f2f5fa\",\"arrowhead\":0,\"arrowwidth\":1},\"geo\":{\"bgcolor\":\"rgb(17,17,17)\",\"landcolor\":\"rgb(17,17,17)\",\"subunitcolor\":\"#506784\",\"showland\":true,\"showlakes\":true,\"lakecolor\":\"rgb(17,17,17)\"},\"title\":{\"x\":0.05},\"updatemenudefaults\":{\"bgcolor\":\"#506784\",\"borderwidth\":0},\"sliderdefaults\":{\"bgcolor\":\"#C8D4E3\",\"borderwidth\":1,\"bordercolor\":\"rgb(17,17,17)\",\"tickwidth\":0},\"mapbox\":{\"style\":\"dark\"}}},\"xaxis\":{\"anchor\":\"y\",\"domain\":[0.0,1.0],\"title\":{\"text\":\"WorkDate\"}},\"yaxis\":{\"anchor\":\"x\",\"domain\":[0.0,1.0],\"title\":{\"text\":\"value\"}},\"legend\":{\"title\":{\"text\":\"variable\"},\"tracegroupgap\":0},\"title\":{\"text\":\"Non-Nurses\"}},                        {\"responsive\": true}                    ).then(function(){\n",
       "                            \n",
       "var gd = document.getElementById('367f5cb7-0173-44e2-ac14-3830f22b57a6');\n",
       "var x = new MutationObserver(function (mutations, observer) {{\n",
       "        var display = window.getComputedStyle(gd).display;\n",
       "        if (!display || display === 'none') {{\n",
       "            console.log([gd, 'removed!']);\n",
       "            Plotly.purge(gd);\n",
       "            observer.disconnect();\n",
       "        }}\n",
       "}});\n",
       "\n",
       "// Listen for the removal of the full notebook cells\n",
       "var notebookContainer = gd.closest('#notebook-container');\n",
       "if (notebookContainer) {{\n",
       "    x.observe(notebookContainer, {childList: true});\n",
       "}}\n",
       "\n",
       "// Listen for the clearing of the current output cell\n",
       "var outputEl = gd.closest('.output');\n",
       "if (outputEl) {{\n",
       "    x.observe(outputEl, {childList: true});\n",
       "}}\n",
       "\n",
       "                        })                };                });            </script>        </div>"
      ]
     },
     "metadata": {},
     "output_type": "display_data"
    },
    {
     "name": "stdout",
     "output_type": "stream",
     "text": [
      "All other roles work an order of magnitude less than Nurses\n",
      "Learning how much Nurses work compared to everyone else at nursing homes, I am curious what % of them are employed or work on contract\n"
     ]
    }
   ],
   "execution_count": 391
  },
  {
   "metadata": {},
   "cell_type": "markdown",
   "source": "# Preprocess the data - section 1",
   "id": "8c53fb5460a463ba"
  },
  {
   "metadata": {
    "ExecuteTime": {
     "end_time": "2025-04-16T19:02:51.293003Z",
     "start_time": "2025-04-16T19:02:51.089425Z"
    }
   },
   "cell_type": "code",
   "source": [
    "################################################## Pre Process ##################################################\n",
    "#2. Build a Simple Model  \n",
    "# • Choose a modeling goal: e.g., user segmentation, outcome prediction, or recommendation. \n",
    "# • Select and justify a model (logistic regression, decision trees, simple neural net, etc.). \n",
    "# • Train and validate (simple train/test split is fine). \n",
    "\n",
    "# 1. Preprocessing data\n",
    "#   • Load data from previous step\n",
    "#   • set keys to a list 'potent' (potential), and comment them in and out of the model\n",
    "#   • select only these keys, and format them into number representations\n",
    "#       Other transformations could have been utilized, but for now this is fine, \n",
    "#          handles potent strings, bools, and imputes values (mean) of floats for none data\n",
    "#   • Create homogeneous data representation, use random selection of employee samples, given very small set of 700 contractor\n",
    "# 2. Stack vertically\n",
    "# 3. save output\n",
    "################################################## Pre Process ##################################################\n",
    "from sklearn.preprocessing import OneHotEncoder\n",
    "import os\n",
    "\n",
    "#creating instance of one hot encoder\n",
    "ohe = OneHotEncoder()\n",
    "################################################################################################################ 1\n",
    "# load data\n",
    "base_dir = os.getcwd() + \"\\\\data\\\\\"\n",
    "provider_info = pl.read_csv(base_dir + \"output.tsv\", separator=\"\\t\",infer_schema_length=10000)\n",
    "pin = provider_info.with_columns(pl.col(\"ML_Label\").cast(pl.String).alias(\"ML_Label\"))\n",
    "\n",
    "# select keys\n",
    "potent=[\n",
    "    \"Ownership Type\",\n",
    "    \"Number of Certified Beds\",\n",
    "    \"Average Number of Residents per Day\",\n",
    "    \"Provider Type\",\n",
    "    \"Provider Resides in Hospital\",\n",
    "    \"Continuing Care Retirement Community\",\n",
    "    \"Special Focus Status\",\n",
    "    \"Abuse Icon\",\n",
    "    \"Provider Changed Ownership in Last 12 Months\",\n",
    "    \"Overall Rating\",\n",
    "    \"Health Inspection Rating\",\n",
    "    \"QM Rating\",\n",
    "    \"Long-Stay QM Rating\",\n",
    "    \"Short-Stay QM Rating\",\n",
    "    \"Total nursing staff turnover\",\n",
    "    \"Registered Nurse turnover\",\n",
    "    \"Number of administrators who have left the nursing home\",\n",
    "    \"Adjusted Nurse Aide Staffing Hours per Resident per Day\",\n",
    "    \"Adjusted LPN Staffing Hours per Resident per Day\",\n",
    "    \"Adjusted RN Staffing Hours per Resident per Day\",\n",
    "    \"Adjusted Total Nurse Staffing Hours per Resident per Day\",\n",
    "    \"Adjusted Weekend Total Nurse Staffing Hours per Resident per Day\",\n",
    "    \"Rating Cycle 1 Number of Standard Health Deficiencies\",\n",
    "    \"Case-Mix Nurse Aide Staffing Hours per Resident per Day\",\n",
    "    \"Case-Mix LPN Staffing Hours per Resident per Day\",\n",
    "    \"Case-Mix RN Staffing Hours per Resident per Day\",\n",
    "    \"Case-Mix Total Nurse Staffing Hours per Resident per Day\",\n",
    "    \"Rating Cycle 1 Total Health Score\",\n",
    "    \"Rating Cycle 2 Total Number of Health Deficiencies\",\n",
    "    \"Rating Cycle 2 Total Health Score\",\n",
    "    \"Rating Cycle 3 Total Number of Health Deficiencies\",\n",
    "    \"Rating Cycle 3 Total Health Score\",\n",
    "    \"Total Weighted Health Survey Score\",\n",
    "    \"Number of Facility Reported Incidents\",\n",
    "    \"Number of Substantiated Complaints\",\n",
    "    \"Number of Citations from Infection Control Inspections\",\n",
    "    \"Number of Fines\",\n",
    "    \"Number of Payment Denials\",\n",
    "    \"Total Number of Penalties\",\n",
    "    \"ML_Label\"\n",
    "]\n",
    "\n",
    "pin = pin[potent]\n",
    "\n",
    "# translate to numbers, impute values\n",
    "for item in potent:\n",
    "    if pin[item].dtype == pl.String:\n",
    "        pin = pin.with_columns(pl.col(item).cast(pl.Categorical).to_physical().alias(item))\n",
    "    if pin[item].dtype == pl.Boolean:\n",
    "        # I will assume false\n",
    "        pin = pin.with_columns(pl.col(item).fill_null(False))\n",
    "        pin = pin.with_columns(pl.col(item).cast(pl.String).alias(item))\n",
    "        pin = pin.with_columns(pl.col(item).cast(pl.Categorical).to_physical().alias(item))\n",
    "    else:\n",
    "        #pin = pin.drop_nulls(item)\n",
    "        val = round(pin[item].fill_nan(None).mean(),1)\n",
    "        pin = pin.with_columns(pl.col(item).fill_nan(val))\n",
    "        pin = pin.with_columns(pl.col(item).fill_null(val))\n",
    "\n",
    "# I need to get the number of samples that are \"0\" Contractor\n",
    "num_ctr = pin.filter((pl.col(\"ML_Label\") == 0))\n",
    "_pin = pin.filter((pl.col(\"ML_Label\") == 1))\n",
    "\n",
    "# get random sample of n contractor samples\n",
    "num_emp = _pin.sample(n=len(num_ctr), seed=7)\n",
    "\n",
    "################################################################################################################ 2\n",
    "# stack\n",
    "pin = num_emp.vstack(num_ctr)\n",
    "\n",
    "################################################################################################################ 3\n",
    "# write to file\n",
    "pin.write_parquet(\"parquet/data_ml.parquet\")\n"
   ],
   "id": "b16aa3281c2a5627",
   "outputs": [],
   "execution_count": 368
  },
  {
   "metadata": {},
   "cell_type": "markdown",
   "source": [
    "# Perform Logistic Regression with LDA\n",
    "Report Precision, Recall, F1, Accuracy and Confusion Matrix"
   ],
   "id": "59282863c823e36a"
  },
  {
   "metadata": {
    "ExecuteTime": {
     "end_time": "2025-04-16T20:16:51.747541Z",
     "start_time": "2025-04-16T20:16:51.616640Z"
    }
   },
   "cell_type": "code",
   "source": [
    "############################################### Machine Learning ###############################################\n",
    "#2. Build a Simple Model  \n",
    "# • Choose a modeling goal: e.g., user segmentation, outcome prediction, or recommendation. \n",
    "# • Select and justify a model (logistic regression, decision trees, simple neural net, etc.). \n",
    "# • Train and validate (simple train/test split is fine). \n",
    "\n",
    "# 1. I want to classify a provider as being either a contractor of nurses or employer of nurses \n",
    "#    • This is to recommend to a traveling nurse, a place to apply to live\n",
    "#    • Binary nature and small dataset size suggests a binary model - Logistic regression \n",
    "# 2. I split using train_test from sklearn\n",
    "# 3. I use a standard scalar with LDA to improve performance\n",
    "# 4. I calculate precision, recall, f1, confusion matrix w/ chart, and overall accuracy\n",
    "############################################### Machine Learning ###############################################\n",
    "################################################################################################################ 1\n",
    "# Logistic Regression w/ lda\n",
    "import numpy as np\n",
    "import pandas as pd\n",
    "import matplotlib.pyplot as plt\n",
    "from sklearn.preprocessing import StandardScaler, RobustScaler\n",
    "from sklearn.discriminant_analysis import LinearDiscriminantAnalysis\n",
    "from sklearn.linear_model import LogisticRegression\n",
    "from sklearn.model_selection import train_test_split\n",
    "from sklearn.metrics import precision_score,recall_score,f1_score,confusion_matrix, roc_auc_score,accuracy_score\n",
    "from sklearn.metrics import accuracy_score\n",
    "\n",
    "base_dir = os.getcwd() + \"\\\\parquet\\\\\"\n",
    "pin = pl.read_parquet(base_dir + \"data_ml.parquet\")\n",
    "\n",
    "# Separate features and target variable\n",
    "other=True\n",
    "\n",
    "X = pin.drop('ML_Label')\n",
    "y = pin['ML_Label']\n",
    "\n",
    "################################################################################################################ 2\n",
    "# Split data into training and testing sets\n",
    "X_train, X_test, y_train, y_test = train_test_split(X, y, test_size=0.2, random_state=42)\n",
    "\n",
    "################################################################################################################ 3\n",
    "# Standardize the features\n",
    "scaler = StandardScaler()\n",
    "X_train_scaled = scaler.fit_transform(X_train)\n",
    "X_test_scaled = scaler.transform(X_test)\n",
    "\n",
    "# Apply LDA for dimensionality reduction\n",
    "lda = LinearDiscriminantAnalysis(n_components=1)\n",
    "X_train_lda = lda.fit_transform(X_train_scaled, y_train)\n",
    "X_test_lda = lda.transform(X_test_scaled)\n",
    "\n",
    "# Train logistic regression model\n",
    "logistic_model = LogisticRegression(random_state=32)\n",
    "logistic_model.fit(X_train_lda, y_train)\n",
    "\n",
    "# Make predictions\n",
    "y_pred_lda = logistic_model.predict(X_test_lda)\n",
    "\n",
    "################################################################################################################ 4\n",
    "# Evaluate the model with lda\n",
    "precision = precision_score(y_test, y_pred_lda)\n",
    "print(f'Precision: {precision}')\n",
    "\n",
    "recall = recall_score(y_test, y_pred_lda)\n",
    "print(f'Recall: {recall}')\n",
    "\n",
    "f1 = f1_score(y_test, y_pred_lda)\n",
    "print(f'F1 Score: {f1}')\n",
    "\n",
    "classes = np.unique(np.concatenate((y_test, y_pred_lda)))\n",
    "conf_matrix = confusion_matrix(y_test, y_pred_lda, labels=classes)\n",
    "print(f'Confusion Matrix:\\n{conf_matrix}')\n",
    "\n",
    "roc_auc = roc_auc_score(y_test, y_pred_lda)\n",
    "print(f'ROC AUC: {roc_auc}')\n",
    "\n",
    "# Evaluate the model\n",
    "accuracy_lda = accuracy_score(y_test, y_pred_lda)\n",
    "print(f\"Accuracy with lda: {accuracy_lda}\")\n",
    "\n",
    "show = False\n",
    "if show:\n",
    "    plt.figure(figsize=(30,20)) \n",
    "    sns.heatmap(pin.corr(), annot=True)\n",
    "    plt.figure(figsize=(30,20))\n",
    "    sns.pairplot(pin.to_pandas(), hue='ML_Label', vars=potent)\n",
    "    plt.figure(figsize=(30,20))\n",
    "    sns.countplot(pin.to_pandas()['ML_Label'], label = \"ML_Label\")\n",
    "    \n",
    "show = True\n",
    "if show:\n",
    "    plt.figure(figsize=(8, 6))\n",
    "    sns.heatmap(conf_matrix, annot=True, fmt='d', cmap='Blues', xticklabels=classes, yticklabels=classes)\n",
    "    plt.xlabel('Predicted Label')\n",
    "    plt.ylabel('True Label')\n",
    "    plt.title('Confusion Matrix')\n",
    "    plt.show()\n",
    "\n",
    "    \n"
   ],
   "id": "1645c23ced61c705",
   "outputs": [
    {
     "name": "stdout",
     "output_type": "stream",
     "text": [
      "Precision: 0.7291666666666666\n",
      "Recall: 0.75\n",
      "F1 Score: 0.7394366197183099\n",
      "Confusion Matrix:\n",
      "[[101  39]\n",
      " [ 35 105]]\n",
      "ROC AUC: 0.7357142857142857\n",
      "Accuracy with lda: 0.7357142857142858\n"
     ]
    },
    {
     "data": {
      "text/plain": [
       "<Figure size 800x600 with 2 Axes>"
      ],
      "image/png": "[encoded data removed]"
     },
     "metadata": {},
     "output_type": "display_data"
    }
   ],
   "execution_count": 379
  },
  {
   "metadata": {},
   "cell_type": "markdown",
   "source": [
    "# Perform a MultiLayer Perceptron Neural Network\n",
    "Report Precision, Recall, F1, Accuracy and Confusion Matrix"
   ],
   "id": "c13cd77199836591"
  },
  {
   "metadata": {
    "ExecuteTime": {
     "end_time": "2025-04-16T20:17:30.102971Z",
     "start_time": "2025-04-16T20:17:26.278444Z"
    }
   },
   "cell_type": "code",
   "source": [
    "############################################### Machine Learning ###############################################\n",
    "# Logistic Regression with LDA is perfectly fine to use\n",
    "# I wanted to test this out\n",
    "############################################### Machine Learning ###############################################\n",
    "import polars as pl\n",
    "from sklearn.preprocessing import StandardScaler, RobustScaler, MinMaxScaler, normalize\n",
    "from sklearn.discriminant_analysis import LinearDiscriminantAnalysis\n",
    "from sklearn.neural_network import MLPClassifier\n",
    "from sklearn.model_selection import train_test_split\n",
    "from sklearn.metrics import precision_score,recall_score,f1_score,confusion_matrix, roc_auc_score,accuracy_score\n",
    "import matplotlib.pyplot as plt\n",
    "\n",
    "# Get Data\n",
    "base_dir = os.getcwd() + \"\\\\parquet\\\\\"\n",
    "pin = pl.read_parquet(base_dir + \"data_ml.parquet\")\n",
    "\n",
    "\n",
    "# create df X, without the label\n",
    "X = pin.drop(\"ML_Label\")\n",
    "\n",
    "# create df y, of label\n",
    "y = pin[\"ML_Label\"]\n",
    "\n",
    "# 1008 training, 252 testing, 140 val\n",
    "# split training and testing data\n",
    "X_train, X_test, y_train, y_test = train_test_split(X, y, test_size=0.2, random_state=777, shuffle=True)\n",
    "\n",
    "# normalize the data using a scaler (balance)\n",
    "scaler = StandardScaler()\n",
    "X_train_scaled = scaler.fit_transform(X_train)\n",
    "X_test_scaled = scaler.transform(X_test)\n",
    "\n",
    "show=False\n",
    "\n",
    "# Apply LDA for dimensionality reduction\n",
    "lda = LinearDiscriminantAnalysis(n_components=1)\n",
    "X_train_lda = lda.fit_transform(X_train_scaled, y_train)\n",
    "X_test_lda = lda.transform(X_test_scaled)\n",
    "\n",
    "# solver      adam lbfgs sgd\n",
    "# learning    {'adaptive', 'constant', 'invscaling'}.\n",
    "# \n",
    "mlp = MLPClassifier(\n",
    "    hidden_layer_sizes=(1 ),\n",
    "    learning_rate='constant', \n",
    "    momentum=0.0009,\n",
    "    tol=.00001,\n",
    "    max_iter=5000, \n",
    "    random_state=7,\n",
    "    solver='sgd',\n",
    "    activation='logistic',\n",
    "    alpha=0.0001,\n",
    "    batch_size='auto',\n",
    "    learning_rate_init=0.055,\n",
    "    power_t=0.5,\n",
    "    shuffle=True, \n",
    "    warm_start=False,\n",
    "    nesterovs_momentum=True, \n",
    "    early_stopping=False,\n",
    "    validation_fraction=0.1, \n",
    "    beta_1=0.9,\n",
    "    beta_2=0.999, \n",
    "    epsilon=1e-08, \n",
    "    n_iter_no_change=30, \n",
    "    max_fun=15000,\n",
    "    verbose=False,\n",
    ")\n",
    "\n",
    "mlp.fit(X_train_lda, y_train)\n",
    "y_pred_lda = mlp.predict(X_test_lda)\n",
    "\n",
    "mlp.fit(X_train_scaled, y_train)\n",
    "y_pred_scaled = mlp.predict(X_test_scaled)\n",
    "\n",
    "# Evaluate the model with lda\n",
    "precision = precision_score(y_test, y_pred_lda)\n",
    "print(f'Precision: {precision}')\n",
    "\n",
    "recall = recall_score(y_test, y_pred_lda)\n",
    "print(f'Recall: {recall}')\n",
    "\n",
    "f1 = f1_score(y_test, y_pred_lda)\n",
    "print(f'F1 Score: {f1}')\n",
    "\n",
    "classes = np.unique(np.concatenate((y_test, y_pred_lda)))\n",
    "conf_matrix = confusion_matrix(y_test, y_pred_lda, labels=classes)\n",
    "print(f'Confusion Matrix:\\n{conf_matrix}')\n",
    "\n",
    "roc_auc = roc_auc_score(y_test, y_pred_lda)\n",
    "print(f'ROC AUC: {roc_auc}')\n",
    "show=True\n",
    "if show:\n",
    "    plt.figure(figsize=(8, 6))\n",
    "    sns.heatmap(conf_matrix, annot=True, fmt='d', cmap='Blues', xticklabels=classes, yticklabels=classes)\n",
    "    plt.xlabel('Predicted Label')\n",
    "    plt.ylabel('True Label')\n",
    "    plt.title('Confusion Matrix')\n",
    "    plt.show()\n",
    "\n",
    "\n",
    "accuracy_lda = accuracy_score(y_test, y_pred_lda)\n",
    "print(f\"Accuracy with lda: {accuracy_lda}\")\n",
    "        \n"
   ],
   "id": "ba782fe4351825e9",
   "outputs": [
    {
     "name": "stdout",
     "output_type": "stream",
     "text": [
      "Precision: 0.7152317880794702\n",
      "Recall: 0.8\n",
      "F1 Score: 0.7552447552447552\n",
      "Confusion Matrix:\n",
      "[[102  43]\n",
      " [ 27 108]]\n",
      "ROC AUC: 0.7517241379310347\n"
     ]
    },
    {
     "data": {
      "text/plain": [
       "<Figure size 800x600 with 2 Axes>"
      ],
      "image/png": "[encoded data removed]"
     },
     "metadata": {},
     "output_type": "display_data"
    },
    {
     "name": "stdout",
     "output_type": "stream",
     "text": [
      "Accuracy with lda: 0.75\n"
     ]
    }
   ],
   "execution_count": 381
  }
 ],
 "metadata": {
  "kernelspec": {
   "display_name": "Python 3",
   "language": "python",
   "name": "python3"
  },
  "language_info": {
   "codemirror_mode": {
    "name": "ipython",
    "version": 2
   },
   "file_extension": ".py",
   "mimetype": "text/x-python",
   "name": "python",
   "nbconvert_exporter": "python",
   "pygments_lexer": "ipython2",
   "version": "2.7.6"
  }
 },
 "nbformat": 4,
 "nbformat_minor": 5
}
